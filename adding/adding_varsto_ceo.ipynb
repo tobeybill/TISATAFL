{
 "cells": [
  {
   "cell_type": "code",
   "execution_count": 1,
   "id": "dba69120-edae-4742-99ef-683b96fc4b7a",
   "metadata": {},
   "outputs": [],
   "source": [
    "import pandas as pd\n",
    "import numpy as np"
   ]
  },
  {
   "cell_type": "code",
   "execution_count": 2,
   "id": "f23a8bd2-1708-4619-9cb8-41c9cc5b0109",
   "metadata": {},
   "outputs": [],
   "source": [
    "CEO_DF = pd.read_csv('../outputs/CEO_DF.csv', index_col=False)"
   ]
  },
  {
   "cell_type": "code",
   "execution_count": 3,
   "id": "a071cc4a-9d23-4612-8534-8c0a967a717a",
   "metadata": {},
   "outputs": [],
   "source": [
    "BOD_DF = pd.read_csv('../outputs/BOD_DF.csv', index_col=False)"
   ]
  },
  {
   "cell_type": "code",
   "execution_count": 4,
   "id": "fa5b4c53-ca6d-4078-97b5-0e3d1063d366",
   "metadata": {},
   "outputs": [],
   "source": [
    "CEO_DF['BECAMECEO'] = CEO_DF['BECAMECEO'].astype('datetime64[ns]')"
   ]
  },
  {
   "cell_type": "code",
   "execution_count": 5,
   "id": "18a90f09-5a09-4226-93a2-70882fbe3c5e",
   "metadata": {},
   "outputs": [],
   "source": [
    "x = CEO_DF['TDC1'].quantile([0.01]).values[0]\n",
    "CEO_DF = CEO_DF[CEO_DF['TDC1'] >= x]"
   ]
  },
  {
   "cell_type": "code",
   "execution_count": 6,
   "id": "cc1af416-93bf-408f-a753-75c3023b4e54",
   "metadata": {},
   "outputs": [],
   "source": [
    "inner_merge_df = CEO_DF.merge(BOD_DF, how = 'inner',\n",
    "                              on = ['TICKER', 'YEAR']).reset_index(drop=True)"
   ]
  },
  {
   "cell_type": "code",
   "execution_count": 7,
   "id": "b538efdc-c5c3-4538-a1ee-47e0cfa4a280",
   "metadata": {},
   "outputs": [],
   "source": [
    "inner_merge_df = inner_merge_df.drop(['Unnamed: 0_x','Unnamed: 0_y'], axis = 1)"
   ]
  },
  {
   "cell_type": "markdown",
   "id": "b9a6a911-e55a-4cf5-b558-0713aadab43e",
   "metadata": {},
   "source": [
    "# Determining ownership power"
   ]
  },
  {
   "cell_type": "code",
   "execution_count": 8,
   "id": "4d791264-5b81-4196-ac7b-eafeb498d54b",
   "metadata": {},
   "outputs": [
    {
     "name": "stderr",
     "output_type": "stream",
     "text": [
      "/var/folders/1t/r9hnt1ws3bg9x2szpm5f0ywm0000gn/T/ipykernel_11519/812312777.py:4: SettingWithCopyWarning: \n",
      "A value is trying to be set on a copy of a slice from a DataFrame\n",
      "\n",
      "See the caveats in the documentation: https://pandas.pydata.org/pandas-docs/stable/user_guide/indexing.html#returning-a-view-versus-a-copy\n",
      "  inner_merge_df.ownershipPower[inner_merge_df.ownershipRatio > median] = 1\n"
     ]
    },
    {
     "data": {
      "text/plain": [
       "0       2003.0\n",
       "1       2003.0\n",
       "2       2011.0\n",
       "3       2011.0\n",
       "4       2013.0\n",
       "         ...  \n",
       "4693    2013.0\n",
       "4694    2013.0\n",
       "4695    2013.0\n",
       "4696    2013.0\n",
       "4697    2013.0\n",
       "Name: BECAMECEO, Length: 4698, dtype: float64"
      ]
     },
     "execution_count": 8,
     "metadata": {},
     "output_type": "execute_result"
    }
   ],
   "source": [
    "inner_merge_df['ownershipRatio'] = inner_merge_df['STOCK_AWARDS_x'] / inner_merge_df['total_STOCK_AWARDS']\n",
    "median = inner_merge_df['ownershipRatio'].median()\n",
    "inner_merge_df['ownershipPower'] = 0\n",
    "inner_merge_df.ownershipPower[inner_merge_df.ownershipRatio > median] = 1\n",
    "inner_merge_df['BECAMECEO'].dt.year"
   ]
  },
  {
   "cell_type": "markdown",
   "id": "86031dd0-8d2c-42d6-914d-382a0bfd156a",
   "metadata": {},
   "source": [
    "# Creating variables for Expert powers"
   ]
  },
  {
   "cell_type": "code",
   "execution_count": 9,
   "id": "fff09522-9976-46da-b482-3e7338c00bc9",
   "metadata": {},
   "outputs": [
    {
     "name": "stderr",
     "output_type": "stream",
     "text": [
      "/var/folders/1t/r9hnt1ws3bg9x2szpm5f0ywm0000gn/T/ipykernel_11519/3078248038.py:3: SettingWithCopyWarning: \n",
      "A value is trying to be set on a copy of a slice from a DataFrame\n",
      "\n",
      "See the caveats in the documentation: https://pandas.pydata.org/pandas-docs/stable/user_guide/indexing.html#returning-a-view-versus-a-copy\n",
      "  inner_merge_df.prestiegePower[inner_merge_df.yearServed > median] = 1\n"
     ]
    }
   ],
   "source": [
    "inner_merge_df['yearServed'] =  inner_merge_df['YEAR'] - inner_merge_df['BECAMECEO'].dt.year\n",
    "inner_merge_df['prestiegePower'] = 0\n",
    "inner_merge_df.prestiegePower[inner_merge_df.yearServed > median] = 1\n"
   ]
  },
  {
   "cell_type": "code",
   "execution_count": 10,
   "id": "072f0e6a-fe51-4f16-b7bc-9400ba15e99c",
   "metadata": {},
   "outputs": [],
   "source": [
    "final_df = inner_merge_df[['GVKEY_x', 'TICKER','AGE', 'TDC1', 'YEAR','BECAMECEO',\n",
    "                         'STOCK_AWARDS_x', 'STOCK_AWARDS_y', 'ownershipRatio',\n",
    "                        'ownershipPower', 'yearServed', 'prestiegePower',\n",
    "                          'size_category_x', 'MKVALT_x']]"
   ]
  },
  {
   "cell_type": "markdown",
   "id": "d72a1778-aa36-4ae6-aa52-c61efe113a2b",
   "metadata": {
    "tags": []
   },
   "source": [
    "# Exporting merged df"
   ]
  },
  {
   "cell_type": "code",
   "execution_count": 11,
   "id": "b770f992-cc9c-49b5-b68b-d63f5dc5558d",
   "metadata": {},
   "outputs": [],
   "source": [
    "final_df.to_csv('../outputs/CEO_BOD_Merged.csv')"
   ]
  },
  {
   "cell_type": "code",
   "execution_count": null,
   "id": "a2b285e1-0d3b-4324-8f58-3273e3135b47",
   "metadata": {},
   "outputs": [],
   "source": []
  }
 ],
 "metadata": {
  "kernelspec": {
   "display_name": "Python 3 (ipykernel)",
   "language": "python",
   "name": "python3"
  },
  "language_info": {
   "codemirror_mode": {
    "name": "ipython",
    "version": 3
   },
   "file_extension": ".py",
   "mimetype": "text/x-python",
   "name": "python",
   "nbconvert_exporter": "python",
   "pygments_lexer": "ipython3",
   "version": "3.9.12"
  }
 },
 "nbformat": 4,
 "nbformat_minor": 5
}
