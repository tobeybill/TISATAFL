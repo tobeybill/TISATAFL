{
 "cells": [
  {
   "cell_type": "code",
   "execution_count": 12,
   "id": "d06f6abd-b23f-438e-bcf1-097e1a6eebfc",
   "metadata": {},
   "outputs": [],
   "source": [
    "from ydata_profiling import ProfileReport\n",
    "import pandas as pd\n",
    "import numpy as np\n",
    "import pandas_datareader as pdr  # to install: !pip install pandas_datareader\n",
    "from datetime import datetime\n",
    "url = 'https://github.com/LeDataSciFi/data/raw/main/Firm%20Year%20Datasets%20(Compustat)/firms2020.csv'\n",
    "firms_df = pd.read_csv(url).drop_duplicates('tic')\n",
    "\n",
    "bod_df = pd.read_csv('./Input_data/BOD_Comp_Company_Fin.csv')\n",
    "ceo_df = pd.read_csv('./Input_data/CEO_Comp_Fin.csv')\n",
    "sp500_tickers = pd.read_csv('./Input_data/sp500_2022.csv')['Symbol'].tolist()\n"
   ]
  },
  {
   "cell_type": "code",
   "execution_count": 21,
   "id": "d15f54fe-5c67-4209-9241-5f5094385cf7",
   "metadata": {},
   "outputs": [
    {
     "name": "stdout",
     "output_type": "stream",
     "text": [
      "<class 'pandas.core.frame.DataFrame'>\n",
      "RangeIndex: 7000 entries, 0 to 6999\n",
      "Data columns (total 45 columns):\n",
      " #   Column         Non-Null Count  Dtype  \n",
      "---  ------         --------------  -----  \n",
      " 0   PDIRPENSN      7000 non-null   int64  \n",
      " 1   ANNDIRRET      4530 non-null   float64\n",
      " 2   DIRMTGFEE      4530 non-null   float64\n",
      " 3   NUMMTGS        4424 non-null   float64\n",
      " 4   DIRSTK         4530 non-null   float64\n",
      " 5   DIRSTKAD       4530 non-null   float64\n",
      " 6   DIROPT         2278 non-null   float64\n",
      " 7   DIROPTAD       4530 non-null   float64\n",
      " 8   SALES          5207 non-null   float64\n",
      " 9   SALECHG        5052 non-null   float64\n",
      " 10  OIBD           4938 non-null   float64\n",
      " 11  PRETAX         5207 non-null   float64\n",
      " 12  NIBEX          5207 non-null   float64\n",
      " 13  NI             5207 non-null   float64\n",
      " 14  NICHG          4266 non-null   float64\n",
      " 15  NIAC           5207 non-null   float64\n",
      " 16  EPSIN          5200 non-null   float64\n",
      " 17  EPSINCHG       4251 non-null   float64\n",
      " 18  COMMEQ         5209 non-null   float64\n",
      " 19  SEQ            5210 non-null   float64\n",
      " 20  ROEPER         5111 non-null   float64\n",
      " 21  ROEAVG         4967 non-null   float64\n",
      " 22  ASSETS         5210 non-null   float64\n",
      " 23  ASSETCHG       5056 non-null   float64\n",
      " 24  ROA            5207 non-null   float64\n",
      " 25  MKTVAL         5212 non-null   float64\n",
      " 26  DIVYIELD       5218 non-null   float64\n",
      " 27  PRCCF          5218 non-null   float64\n",
      " 28  PRCC           5220 non-null   float64\n",
      " 29  SHRSOUT        5374 non-null   float64\n",
      " 30  TRS1YR         5055 non-null   float64\n",
      " 31  TRS3YR         4748 non-null   float64\n",
      " 32  TRS5YR         4447 non-null   float64\n",
      " 33  EMPL           5222 non-null   float64\n",
      " 34  AJEX           5449 non-null   float64\n",
      " 35  BS_VOLATILITY  4594 non-null   float64\n",
      " 36  BS_YIELD       4594 non-null   float64\n",
      " 37  SRCDATE        4656 non-null   object \n",
      " 38  GVKEY          7000 non-null   int64  \n",
      " 39  YEAR           7000 non-null   int64  \n",
      " 40  FYR            5449 non-null   float64\n",
      " 41  CONAME         7000 non-null   object \n",
      " 42  CUSIP          7000 non-null   object \n",
      " 43  TICKER         7000 non-null   object \n",
      " 44  SIC            7000 non-null   int64  \n",
      "dtypes: float64(37), int64(4), object(4)\n",
      "memory usage: 2.4+ MB\n"
     ]
    }
   ],
   "source": [
    "# bod_df = bod_df.drop(['NAICS', 'PCOMMFEES', 'PEXECDIRPD', 'EPSEX', 'EPSEXCHG', 'EPSEX3LS', 'EPSEX5LS', 'OIBD3LS'], axis=1)\n",
    "# bod_df = bod_df.drop(['OIBDCHG', 'OIBD5LS', 'SALE3LS', 'SALE5LS', 'NI3LS', 'NI5LS'], axis=1)\n",
    "\n",
    "bod_df.info()"
   ]
  },
  {
   "cell_type": "code",
   "execution_count": 11,
   "id": "8e50931c-a00a-432d-9592-58844e1589f4",
   "metadata": {},
   "outputs": [
    {
     "name": "stdout",
     "output_type": "stream",
     "text": [
      "<class 'pandas.core.frame.DataFrame'>\n",
      "RangeIndex: 28953 entries, 0 to 28952\n",
      "Data columns (total 38 columns):\n",
      " #   Column          Non-Null Count  Dtype  \n",
      "---  ------          --------------  -----  \n",
      " 0   EXECDIR         28953 non-null  int64  \n",
      " 1   REPRICE         28953 non-null  int64  \n",
      " 2   EXECRANK        206 non-null    float64\n",
      " 3   CO_PER_ROL      28953 non-null  int64  \n",
      " 4   CONAME          28953 non-null  object \n",
      " 5   CEOANN          4268 non-null   object \n",
      " 6   SALARY          28953 non-null  float64\n",
      " 7   BONUS           28953 non-null  float64\n",
      " 8   TOTAL_CURR      28953 non-null  float64\n",
      " 9   AGE             10245 non-null  float64\n",
      " 10  EXECRANKANN     21859 non-null  float64\n",
      " 11  TDC1            24152 non-null  float64\n",
      " 12  ALLOTHTOT       28953 non-null  float64\n",
      " 13  ALLOTHPD        28953 non-null  float64\n",
      " 14  SAL_PCT         23665 non-null  float64\n",
      " 15  TOTAL_CURR_PCT  23670 non-null  float64\n",
      " 16  TDC1_PCT        18369 non-null  float64\n",
      " 17  COMMENT         2175 non-null   object \n",
      " 18  GVKEY           28953 non-null  int64  \n",
      " 19  EXECID          28953 non-null  int64  \n",
      " 20  YEAR            28953 non-null  int64  \n",
      " 21  BECAMECEO       7974 non-null   object \n",
      " 22  JOINED_CO       9617 non-null   object \n",
      " 23  REJOIN          166 non-null    object \n",
      " 24  LEFTOFC         7330 non-null   object \n",
      " 25  LEFTCO          8871 non-null   object \n",
      " 26  RELEFT          70 non-null     object \n",
      " 27  PCEO            668 non-null    object \n",
      " 28  PCFO            95 non-null     object \n",
      " 29  TITLE           28948 non-null  object \n",
      " 30  REASON          8812 non-null   object \n",
      " 31  EXEC_LNAME      28947 non-null  object \n",
      " 32  EXEC_FNAME      28947 non-null  object \n",
      " 33  GENDER          28953 non-null  object \n",
      " 34  PAGE            21462 non-null  float64\n",
      " 35  CUSIP           28953 non-null  object \n",
      " 36  TICKER          28953 non-null  object \n",
      " 37  NAICS           28953 non-null  int64  \n",
      "dtypes: float64(13), int64(7), object(18)\n",
      "memory usage: 8.4+ MB\n"
     ]
    }
   ],
   "source": [
    "# ceo_df = ceo_df.drop(['CFOANN', 'PENSION_CHG', 'TOTAL_SEC', 'CHG_CTRL_PYMT', 'TOTAL_SEC_PCT'], axis=1)\n",
    "ceo_df.info()\n"
   ]
  },
  {
   "cell_type": "code",
   "execution_count": 22,
   "id": "a9883316-e954-40bd-93dd-b3a19b5a53c7",
   "metadata": {},
   "outputs": [],
   "source": [
    "# profile report for training data Note: only need to run once\n",
    "profile = ProfileReport(bod_df, \n",
    "                        title='Profiling Report',\n",
    "                        html={'style':{'full_width':True}})"
   ]
  },
  {
   "cell_type": "code",
   "execution_count": 23,
   "id": "ec6e27a4-2a27-4488-b507-617093475a60",
   "metadata": {},
   "outputs": [
    {
     "data": {
      "application/vnd.jupyter.widget-view+json": {
       "model_id": "fd1c873ae1fe4454b5f5605c5f5a675a",
       "version_major": 2,
       "version_minor": 0
      },
      "text/plain": [
       "Summarize dataset:   0%|          | 0/5 [00:00<?, ?it/s]"
      ]
     },
     "metadata": {},
     "output_type": "display_data"
    },
    {
     "data": {
      "application/vnd.jupyter.widget-view+json": {
       "model_id": "b14048cc5f11457493b8e812e5d01080",
       "version_major": 2,
       "version_minor": 0
      },
      "text/plain": [
       "Generate report structure:   0%|          | 0/1 [00:00<?, ?it/s]"
      ]
     },
     "metadata": {},
     "output_type": "display_data"
    },
    {
     "data": {
      "application/vnd.jupyter.widget-view+json": {
       "model_id": "4114667420ef48bc8d61f9de7f4d82d7",
       "version_major": 2,
       "version_minor": 0
      },
      "text/plain": [
       "Render HTML:   0%|          | 0/1 [00:00<?, ?it/s]"
      ]
     },
     "metadata": {},
     "output_type": "display_data"
    },
    {
     "data": {
      "application/vnd.jupyter.widget-view+json": {
       "model_id": "ea1418313d26430c8cabc90c76159bab",
       "version_major": 2,
       "version_minor": 0
      },
      "text/plain": [
       "Export report to file:   0%|          | 0/1 [00:00<?, ?it/s]"
      ]
     },
     "metadata": {},
     "output_type": "display_data"
    }
   ],
   "source": [
    "profile.to_file(\"./data_description/EDA_training.html\")"
   ]
  },
  {
   "cell_type": "code",
   "execution_count": 25,
   "id": "11495eb3-5a1a-4111-b4d5-a89060ed4811",
   "metadata": {},
   "outputs": [],
   "source": [
    "# profile report for training data Note: only need to run once\n",
    "profile = ProfileReport(ceo_df, \n",
    "                        title='Profiling Report',\n",
    "                        html={'style':{'full_width':True}})"
   ]
  },
  {
   "cell_type": "code",
   "execution_count": 26,
   "id": "7d6f6119-e4e2-43f1-8fed-e9b6b9b55e56",
   "metadata": {},
   "outputs": [
    {
     "data": {
      "application/vnd.jupyter.widget-view+json": {
       "model_id": "967a3b47b7ad4ae4ad495f52f81b5b9d",
       "version_major": 2,
       "version_minor": 0
      },
      "text/plain": [
       "Summarize dataset:   0%|          | 0/5 [00:00<?, ?it/s]"
      ]
     },
     "metadata": {},
     "output_type": "display_data"
    },
    {
     "name": "stderr",
     "output_type": "stream",
     "text": [
      "/Users/annaharv46/opt/anaconda3/lib/python3.9/site-packages/ydata_profiling/model/correlations.py:67: UserWarning: There was an attempt to calculate the auto correlation, but this failed.\n",
      "To hide this warning, disable the calculation\n",
      "(using `df.profile_report(correlations={\"auto\": {\"calculate\": False}})`\n",
      "If this is problematic for your use case, please report this as an issue:\n",
      "https://github.com/ydataai/ydata-profiling/issues\n",
      "(include the error message: 'No data; `observed` has size 0.')\n",
      "  warnings.warn(\n"
     ]
    },
    {
     "data": {
      "application/vnd.jupyter.widget-view+json": {
       "model_id": "bdc595955be748ffacc05814e1277e71",
       "version_major": 2,
       "version_minor": 0
      },
      "text/plain": [
       "Generate report structure:   0%|          | 0/1 [00:00<?, ?it/s]"
      ]
     },
     "metadata": {},
     "output_type": "display_data"
    },
    {
     "data": {
      "application/vnd.jupyter.widget-view+json": {
       "model_id": "af822b90dde341d198f34155fe7d8465",
       "version_major": 2,
       "version_minor": 0
      },
      "text/plain": [
       "Render HTML:   0%|          | 0/1 [00:00<?, ?it/s]"
      ]
     },
     "metadata": {},
     "output_type": "display_data"
    },
    {
     "data": {
      "application/vnd.jupyter.widget-view+json": {
       "model_id": "374448b3e55c47cfb70d96c57a595b50",
       "version_major": 2,
       "version_minor": 0
      },
      "text/plain": [
       "Export report to file:   0%|          | 0/1 [00:00<?, ?it/s]"
      ]
     },
     "metadata": {},
     "output_type": "display_data"
    }
   ],
   "source": [
    "profile.to_file(\"./data_description/BOD_training.html\")"
   ]
  }
 ],
 "metadata": {
  "kernelspec": {
   "display_name": "Python 3 (ipykernel)",
   "language": "python",
   "name": "python3"
  },
  "language_info": {
   "codemirror_mode": {
    "name": "ipython",
    "version": 3
   },
   "file_extension": ".py",
   "mimetype": "text/x-python",
   "name": "python",
   "nbconvert_exporter": "python",
   "pygments_lexer": "ipython3",
   "version": "3.9.13"
  }
 },
 "nbformat": 4,
 "nbformat_minor": 5
}
