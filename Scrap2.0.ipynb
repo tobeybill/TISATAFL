{
 "cells": [
  {
   "cell_type": "code",
   "execution_count": 1,
   "id": "d06f6abd-b23f-438e-bcf1-097e1a6eebfc",
   "metadata": {},
   "outputs": [
    {
     "name": "stderr",
     "output_type": "stream",
     "text": [
      "/var/folders/29/vl12lkgs28xgjpc6t0_jg9040000gn/T/ipykernel_1875/3821301156.py:13: DtypeWarning: Columns (80,96) have mixed types. Specify dtype option on import or set low_memory=False.\n",
      "  df = pd.read_csv('./Input_data/ExecuComp_data.csv')\n"
     ]
    }
   ],
   "source": [
    "from ydata_profiling import ProfileReport\n",
    "import pandas as pd\n",
    "import numpy as np\n",
    "import pandas_datareader as pdr  # to install: !pip install pandas_datareader\n",
    "from datetime import datetime\n",
    "url = 'https://github.com/LeDataSciFi/data/raw/main/Firm%20Year%20Datasets%20(Compustat)/firms2020.csv'\n",
    "firms_df = pd.read_csv(url).drop_duplicates('tic')\n",
    "\n",
    "bod_df = pd.read_csv('./Input_data/BOD_Comp_Company_Fin.csv')\n",
    "ceo_df = pd.read_csv('./Input_data/CEO_Comp_Fin.csv')\n",
    "sp500_tickers = pd.read_csv('./Input_data/sp500_2022.csv')['Symbol'].tolist()\n",
    "test_df = pd.read_csv('./Input_data/directorstest.csv')\n",
    "df = pd.read_csv('./Input_data/ExecuComp_data.csv')"
   ]
  },
  {
   "cell_type": "code",
   "execution_count": 2,
   "id": "d15f54fe-5c67-4209-9241-5f5094385cf7",
   "metadata": {
    "tags": []
   },
   "outputs": [
    {
     "name": "stdout",
     "output_type": "stream",
     "text": [
      "<class 'pandas.core.frame.DataFrame'>\n",
      "RangeIndex: 7000 entries, 0 to 6999\n",
      "Data columns (total 16 columns):\n",
      " #   Column     Non-Null Count  Dtype  \n",
      "---  ------     --------------  -----  \n",
      " 0   GVKEY      7000 non-null   int64  \n",
      " 1   YEAR       7000 non-null   int64  \n",
      " 2   CUSIP      7000 non-null   object \n",
      " 3   TICKER     7000 non-null   object \n",
      " 4   SIC        7000 non-null   int64  \n",
      " 5   ANNDIRRET  4530 non-null   float64\n",
      " 6   DIRMTGFEE  4530 non-null   float64\n",
      " 7   DIROPT     2278 non-null   float64\n",
      " 8   DIROPTAD   4530 non-null   float64\n",
      " 9   DIRSTK     4530 non-null   float64\n",
      " 10  DIRSTKAD   4530 non-null   float64\n",
      " 11  PDIRPENSN  7000 non-null   int64  \n",
      " 12  OIBD       4938 non-null   float64\n",
      " 13  PRETAX     5207 non-null   float64\n",
      " 14  NIBEX      5207 non-null   float64\n",
      " 15  MKTVAL     5212 non-null   float64\n",
      "dtypes: float64(10), int64(4), object(2)\n",
      "memory usage: 875.1+ KB\n"
     ]
    }
   ],
   "source": [
    "# bod_df = bod_df.drop(['NAICS', 'PCOMMFEES', 'PEXECDIRPD', 'EPSEX', 'EPSEXCHG', 'EPSEX3LS', 'EPSEX5LS', 'OIBD3LS'], axis=1)\n",
    "# bod_df = bod_df.drop(['OIBDCHG', 'OIBD5LS', 'SALE3LS', 'SALE5LS', 'NI3LS', 'NI5LS', 'PDIRPENSN'], axis=1)\n",
    "# bod_df = bod_df.drop(['NUMMTGS', 'TRS1YR', 'TRS3YR', 'TRS5YR', 'AJEX', 'BS_YIELD', 'BS_VOLATILITY'], axis=1)\n",
    "\n",
    "BOD_df = bod_df[['GVKEY', 'YEAR', 'CUSIP', 'TICKER', 'SIC', 'ANNDIRRET', \n",
    "       'DIRMTGFEE', 'DIROPT', 'DIROPTAD', 'DIRSTK', 'DIRSTKAD', \n",
    "       'PDIRPENSN', 'OIBD', 'PRETAX', 'NIBEX', 'MKTVAL']]\n",
    "\n",
    "BOD_df.info()"
   ]
  },
  {
   "cell_type": "code",
   "execution_count": 3,
   "id": "8e50931c-a00a-432d-9592-58844e1589f4",
   "metadata": {},
   "outputs": [],
   "source": [
    "ceo_df = ceo_df.drop(['CFOANN', 'PENSION_CHG', 'TOTAL_SEC', 'CHG_CTRL_PYMT', 'TOTAL_SEC_PCT', 'REPRICE', 'PCFO', 'EXECRANK'], axis=1)\n",
    "ceo_df = ceo_df[ceo_df['CEOANN'].notnull()]\n",
    "BOTH_df = ceo_df.merge(BOD_df, on = 'TICKER', how = 'left')"
   ]
  },
  {
   "cell_type": "code",
   "execution_count": 14,
   "id": "7b64e992-70c9-4a3a-9ec6-04b11c6efff9",
   "metadata": {},
   "outputs": [
    {
     "name": "stdout",
     "output_type": "stream",
     "text": [
      "<class 'pandas.core.frame.DataFrame'>\n",
      "Int64Index: 59752 entries, 0 to 59751\n",
      "Data columns (total 50 columns):\n",
      " #   Column          Non-Null Count  Dtype  \n",
      "---  ------          --------------  -----  \n",
      " 0   EXECDIR         59752 non-null  int64  \n",
      " 1   CO_PER_ROL      59752 non-null  int64  \n",
      " 2   CONAME          59752 non-null  object \n",
      " 3   CEOANN          59752 non-null  object \n",
      " 4   SALARY          59752 non-null  float64\n",
      " 5   BONUS           59752 non-null  float64\n",
      " 6   TOTAL_CURR      59752 non-null  float64\n",
      " 7   AGE             55482 non-null  float64\n",
      " 8   EXECRANKANN     59640 non-null  float64\n",
      " 9   TDC1            59276 non-null  float64\n",
      " 10  ALLOTHTOT       59752 non-null  float64\n",
      " 11  ALLOTHPD        59752 non-null  float64\n",
      " 12  SAL_PCT         56700 non-null  float64\n",
      " 13  TOTAL_CURR_PCT  56686 non-null  float64\n",
      " 14  TDC1_PCT        55566 non-null  float64\n",
      " 15  COMMENT         5530 non-null   object \n",
      " 16  GVKEY_x         59752 non-null  int64  \n",
      " 17  EXECID          59752 non-null  int64  \n",
      " 18  YEAR_x          59752 non-null  int64  \n",
      " 19  BECAMECEO       58660 non-null  object \n",
      " 20  JOINED_CO       37408 non-null  object \n",
      " 21  REJOIN          742 non-null    object \n",
      " 22  LEFTOFC         54530 non-null  object \n",
      " 23  LEFTCO          24514 non-null  object \n",
      " 24  RELEFT          392 non-null    object \n",
      " 25  PCEO            3080 non-null   object \n",
      " 26  TITLE           59752 non-null  object \n",
      " 27  REASON          24920 non-null  object \n",
      " 28  EXEC_LNAME      59752 non-null  object \n",
      " 29  EXEC_FNAME      59752 non-null  object \n",
      " 30  GENDER          59752 non-null  object \n",
      " 31  PAGE            59598 non-null  float64\n",
      " 32  CUSIP_x         59752 non-null  object \n",
      " 33  TICKER          59752 non-null  object \n",
      " 34  NAICS           59752 non-null  int64  \n",
      " 35  GVKEY_y         59752 non-null  int64  \n",
      " 36  YEAR_y          59752 non-null  int64  \n",
      " 37  CUSIP_y         59752 non-null  object \n",
      " 38  SIC             59752 non-null  int64  \n",
      " 39  ANNDIRRET       55087 non-null  float64\n",
      " 40  DIRMTGFEE       55087 non-null  float64\n",
      " 41  DIROPT          26514 non-null  float64\n",
      " 42  DIROPTAD        55087 non-null  float64\n",
      " 43  DIRSTK          55087 non-null  float64\n",
      " 44  DIRSTKAD        55087 non-null  float64\n",
      " 45  PDIRPENSN       59752 non-null  int64  \n",
      " 46  OIBD            56161 non-null  float64\n",
      " 47  PRETAX          57219 non-null  float64\n",
      " 48  NIBEX           57219 non-null  float64\n",
      " 49  MKTVAL          57252 non-null  float64\n",
      "dtypes: float64(22), int64(10), object(18)\n",
      "memory usage: 23.2+ MB\n"
     ]
    }
   ],
   "source": [
    "BOTH_df.info()"
   ]
  },
  {
   "cell_type": "code",
   "execution_count": 4,
   "id": "a9883316-e954-40bd-93dd-b3a19b5a53c7",
   "metadata": {},
   "outputs": [],
   "source": [
    "# # profile report for training data Note: only need to run once\n",
    "# profile = ProfileReport(bod_df, \n",
    "#                         title='Profiling Report',\n",
    "#                         html={'style':{'full_width':True}})"
   ]
  },
  {
   "cell_type": "code",
   "execution_count": 5,
   "id": "ec6e27a4-2a27-4488-b507-617093475a60",
   "metadata": {},
   "outputs": [],
   "source": [
    "# profile.to_file(\"./data_description/BOD_training.html\")"
   ]
  },
  {
   "cell_type": "code",
   "execution_count": 6,
   "id": "11495eb3-5a1a-4111-b4d5-a89060ed4811",
   "metadata": {},
   "outputs": [],
   "source": [
    "# # profile report for training data Note: only need to run once\n",
    "# profile = ProfileReport(ceo_df, \n",
    "#                         title='Profiling Report',\n",
    "#                         html={'style':{'full_width':True}})"
   ]
  },
  {
   "cell_type": "code",
   "execution_count": 7,
   "id": "7d6f6119-e4e2-43f1-8fed-e9b6b9b55e56",
   "metadata": {},
   "outputs": [],
   "source": [
    "# profile.to_file(\"./data_description/CEO_training.html\")"
   ]
  },
  {
   "cell_type": "code",
   "execution_count": 8,
   "id": "fcae0ce6-770f-4590-a247-f8c17eaaa511",
   "metadata": {},
   "outputs": [
    {
     "data": {
      "text/html": [
       "<div>\n",
       "<style scoped>\n",
       "    .dataframe tbody tr th:only-of-type {\n",
       "        vertical-align: middle;\n",
       "    }\n",
       "\n",
       "    .dataframe tbody tr th {\n",
       "        vertical-align: top;\n",
       "    }\n",
       "\n",
       "    .dataframe thead th {\n",
       "        text-align: right;\n",
       "    }\n",
       "</style>\n",
       "<table border=\"1\" class=\"dataframe\">\n",
       "  <thead>\n",
       "    <tr style=\"text-align: right;\">\n",
       "      <th></th>\n",
       "      <th>EXECDIR</th>\n",
       "      <th>CO_PER_ROL</th>\n",
       "      <th>CONAME</th>\n",
       "      <th>CEOANN</th>\n",
       "      <th>SALARY</th>\n",
       "      <th>BONUS</th>\n",
       "      <th>TOTAL_CURR</th>\n",
       "      <th>AGE</th>\n",
       "      <th>EXECRANKANN</th>\n",
       "      <th>TDC1</th>\n",
       "      <th>...</th>\n",
       "      <th>PCEO</th>\n",
       "      <th>TITLE</th>\n",
       "      <th>REASON</th>\n",
       "      <th>EXEC_LNAME</th>\n",
       "      <th>EXEC_FNAME</th>\n",
       "      <th>GENDER</th>\n",
       "      <th>PAGE</th>\n",
       "      <th>CUSIP</th>\n",
       "      <th>TICKER</th>\n",
       "      <th>NAICS</th>\n",
       "    </tr>\n",
       "  </thead>\n",
       "  <tbody>\n",
       "    <tr>\n",
       "      <th>0</th>\n",
       "      <td>1</td>\n",
       "      <td>1</td>\n",
       "      <td>AMERICAN AIRLINES GROUP INC</td>\n",
       "      <td>CEO</td>\n",
       "      <td>600.0</td>\n",
       "      <td>0.00</td>\n",
       "      <td>600.00</td>\n",
       "      <td>NaN</td>\n",
       "      <td>1.0</td>\n",
       "      <td>1013.471</td>\n",
       "      <td>...</td>\n",
       "      <td>NaN</td>\n",
       "      <td>chmn., pres. &amp; CEO</td>\n",
       "      <td>RETIRED</td>\n",
       "      <td>Crandall</td>\n",
       "      <td>Robert</td>\n",
       "      <td>MALE</td>\n",
       "      <td>87.0</td>\n",
       "      <td>02376R10</td>\n",
       "      <td>AAL</td>\n",
       "      <td>481111</td>\n",
       "    </tr>\n",
       "    <tr>\n",
       "      <th>5</th>\n",
       "      <td>1</td>\n",
       "      <td>1</td>\n",
       "      <td>AMERICAN AIRLINES GROUP INC</td>\n",
       "      <td>CEO</td>\n",
       "      <td>600.0</td>\n",
       "      <td>0.00</td>\n",
       "      <td>600.00</td>\n",
       "      <td>58.0</td>\n",
       "      <td>1.0</td>\n",
       "      <td>1003.974</td>\n",
       "      <td>...</td>\n",
       "      <td>NaN</td>\n",
       "      <td>chmn., pres. &amp; CEO</td>\n",
       "      <td>RETIRED</td>\n",
       "      <td>Crandall</td>\n",
       "      <td>Robert</td>\n",
       "      <td>MALE</td>\n",
       "      <td>87.0</td>\n",
       "      <td>02376R10</td>\n",
       "      <td>AAL</td>\n",
       "      <td>481111</td>\n",
       "    </tr>\n",
       "    <tr>\n",
       "      <th>11</th>\n",
       "      <td>1</td>\n",
       "      <td>1</td>\n",
       "      <td>AMERICAN AIRLINES GROUP INC</td>\n",
       "      <td>CEO</td>\n",
       "      <td>600.0</td>\n",
       "      <td>395.00</td>\n",
       "      <td>995.00</td>\n",
       "      <td>59.0</td>\n",
       "      <td>1.0</td>\n",
       "      <td>1410.361</td>\n",
       "      <td>...</td>\n",
       "      <td>NaN</td>\n",
       "      <td>chmn., pres. &amp; CEO</td>\n",
       "      <td>RETIRED</td>\n",
       "      <td>Crandall</td>\n",
       "      <td>Robert</td>\n",
       "      <td>MALE</td>\n",
       "      <td>87.0</td>\n",
       "      <td>02376R10</td>\n",
       "      <td>AAL</td>\n",
       "      <td>481111</td>\n",
       "    </tr>\n",
       "    <tr>\n",
       "      <th>17</th>\n",
       "      <td>1</td>\n",
       "      <td>1</td>\n",
       "      <td>AMERICAN AIRLINES GROUP INC</td>\n",
       "      <td>CEO</td>\n",
       "      <td>662.5</td>\n",
       "      <td>678.40</td>\n",
       "      <td>1340.90</td>\n",
       "      <td>60.0</td>\n",
       "      <td>1.0</td>\n",
       "      <td>4741.184</td>\n",
       "      <td>...</td>\n",
       "      <td>NaN</td>\n",
       "      <td>chmn., pres. &amp; CEO</td>\n",
       "      <td>RETIRED</td>\n",
       "      <td>Crandall</td>\n",
       "      <td>Robert</td>\n",
       "      <td>MALE</td>\n",
       "      <td>87.0</td>\n",
       "      <td>02376R10</td>\n",
       "      <td>AAL</td>\n",
       "      <td>481111</td>\n",
       "    </tr>\n",
       "    <tr>\n",
       "      <th>23</th>\n",
       "      <td>1</td>\n",
       "      <td>1</td>\n",
       "      <td>AMERICAN AIRLINES GROUP INC</td>\n",
       "      <td>CEO</td>\n",
       "      <td>750.0</td>\n",
       "      <td>851.25</td>\n",
       "      <td>1601.25</td>\n",
       "      <td>61.0</td>\n",
       "      <td>1.0</td>\n",
       "      <td>5894.280</td>\n",
       "      <td>...</td>\n",
       "      <td>NaN</td>\n",
       "      <td>chmn., pres. &amp; CEO</td>\n",
       "      <td>RETIRED</td>\n",
       "      <td>Crandall</td>\n",
       "      <td>Robert</td>\n",
       "      <td>MALE</td>\n",
       "      <td>87.0</td>\n",
       "      <td>02376R10</td>\n",
       "      <td>AAL</td>\n",
       "      <td>481111</td>\n",
       "    </tr>\n",
       "  </tbody>\n",
       "</table>\n",
       "<p>5 rows × 35 columns</p>\n",
       "</div>"
      ],
      "text/plain": [
       "    EXECDIR  CO_PER_ROL                       CONAME CEOANN  SALARY   BONUS  \\\n",
       "0         1           1  AMERICAN AIRLINES GROUP INC    CEO   600.0    0.00   \n",
       "5         1           1  AMERICAN AIRLINES GROUP INC    CEO   600.0    0.00   \n",
       "11        1           1  AMERICAN AIRLINES GROUP INC    CEO   600.0  395.00   \n",
       "17        1           1  AMERICAN AIRLINES GROUP INC    CEO   662.5  678.40   \n",
       "23        1           1  AMERICAN AIRLINES GROUP INC    CEO   750.0  851.25   \n",
       "\n",
       "    TOTAL_CURR   AGE  EXECRANKANN      TDC1  ...  PCEO               TITLE  \\\n",
       "0       600.00   NaN          1.0  1013.471  ...   NaN  chmn., pres. & CEO   \n",
       "5       600.00  58.0          1.0  1003.974  ...   NaN  chmn., pres. & CEO   \n",
       "11      995.00  59.0          1.0  1410.361  ...   NaN  chmn., pres. & CEO   \n",
       "17     1340.90  60.0          1.0  4741.184  ...   NaN  chmn., pres. & CEO   \n",
       "23     1601.25  61.0          1.0  5894.280  ...   NaN  chmn., pres. & CEO   \n",
       "\n",
       "     REASON  EXEC_LNAME  EXEC_FNAME GENDER  PAGE     CUSIP  TICKER   NAICS  \n",
       "0   RETIRED    Crandall      Robert   MALE  87.0  02376R10     AAL  481111  \n",
       "5   RETIRED    Crandall      Robert   MALE  87.0  02376R10     AAL  481111  \n",
       "11  RETIRED    Crandall      Robert   MALE  87.0  02376R10     AAL  481111  \n",
       "17  RETIRED    Crandall      Robert   MALE  87.0  02376R10     AAL  481111  \n",
       "23  RETIRED    Crandall      Robert   MALE  87.0  02376R10     AAL  481111  \n",
       "\n",
       "[5 rows x 35 columns]"
      ]
     },
     "execution_count": 8,
     "metadata": {},
     "output_type": "execute_result"
    }
   ],
   "source": [
    "ceo_df.head()"
   ]
  },
  {
   "cell_type": "code",
   "execution_count": 11,
   "id": "57ca3add-3a4d-45cd-80e5-889bd370f49b",
   "metadata": {},
   "outputs": [
    {
     "name": "stdout",
     "output_type": "stream",
     "text": [
      "<class 'pandas.core.frame.DataFrame'>\n",
      "RangeIndex: 28953 entries, 0 to 28952\n",
      "Data columns (total 9 columns):\n",
      " #   Column      Non-Null Count  Dtype  \n",
      "---  ------      --------------  -----  \n",
      " 0   EXECDIR     28953 non-null  int64  \n",
      " 1   CO_PER_ROL  28953 non-null  int64  \n",
      " 2   TOTAL_CURR  28953 non-null  float64\n",
      " 3   AGE         10245 non-null  float64\n",
      " 4   TDC1        24152 non-null  float64\n",
      " 5   TDC2        28953 non-null  float64\n",
      " 6   GVKEY       28953 non-null  int64  \n",
      " 7   YEAR        28953 non-null  int64  \n",
      " 8   TICKER      28953 non-null  object \n",
      "dtypes: float64(4), int64(4), object(1)\n",
      "memory usage: 2.0+ MB\n"
     ]
    }
   ],
   "source": [
    "test_df.dropna(axis=1, how='all', inplace=True)\n",
    "test_df\n",
    "test_df.info()"
   ]
  },
  {
   "cell_type": "code",
   "execution_count": 12,
   "id": "1d23c3d8-efa4-4553-b7f8-3ee83228e009",
   "metadata": {},
   "outputs": [],
   "source": [
    "grouped_df = test_df.groupby('TICKER')['TOTAL_CURR'].sum().reset_index()\n",
    "\n",
    "merged_df = pd.merge(test_df, grouped_df, on='TICKER', how='left')\n",
    "\n",
    "merged_df = merged_df.rename(columns={'TOTAL_CURR_y': 'SUM_DIRCOMP'})\n"
   ]
  },
  {
   "cell_type": "code",
   "execution_count": 13,
   "id": "a0195e1b-a85f-4808-a9e3-72e9130c1b79",
   "metadata": {},
   "outputs": [
    {
     "data": {
      "text/plain": [
       "0    19666\n",
       "1     9287\n",
       "Name: EXECDIR, dtype: int64"
      ]
     },
     "execution_count": 13,
     "metadata": {},
     "output_type": "execute_result"
    }
   ],
   "source": [
    "merged_df['EXECDIR'].value_counts()"
   ]
  }
 ],
 "metadata": {
  "kernelspec": {
   "display_name": "Python 3 (ipykernel)",
   "language": "python",
   "name": "python3"
  },
  "language_info": {
   "codemirror_mode": {
    "name": "ipython",
    "version": 3
   },
   "file_extension": ".py",
   "mimetype": "text/x-python",
   "name": "python",
   "nbconvert_exporter": "python",
   "pygments_lexer": "ipython3",
   "version": "3.9.13"
  }
 },
 "nbformat": 4,
 "nbformat_minor": 5
}
