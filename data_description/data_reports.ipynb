{
 "cells": [
  {
   "cell_type": "code",
   "execution_count": 1,
   "id": "f158029e-3bee-4b72-b168-a866e1b3101b",
   "metadata": {},
   "outputs": [],
   "source": [
    "from ydata_profiling import ProfileReport\n",
    "import pandas as pd"
   ]
  },
  {
   "cell_type": "code",
   "execution_count": 2,
   "id": "6cdd7b74-c53a-4d0b-866a-c12126e21c20",
   "metadata": {},
   "outputs": [],
   "source": [
    "ceo_df = pd.read_csv('../inputs/CEOComp.csv')\n",
    "bod_df = pd.read_csv('../inputs/DirectorComp.csv')\n",
    "firms_df = pd.read_csv('../inputs/Firm_data.csv')\n",
    "firm_data = pd.read_csv('../inputs/Firms.csv')\n",
    "growth_perf = pd.read_csv('../inputs/growth_perf.csv')"
   ]
  },
  {
   "cell_type": "code",
   "execution_count": 3,
   "id": "05298a52-f837-48c5-8eab-6e248ea2fbd6",
   "metadata": {},
   "outputs": [
    {
     "data": {
      "application/vnd.jupyter.widget-view+json": {
       "model_id": "b69f82663b554dc788b732ac32e5e46b",
       "version_major": 2,
       "version_minor": 0
      },
      "text/plain": [
       "Summarize dataset:   0%|          | 0/5 [00:00<?, ?it/s]"
      ]
     },
     "metadata": {},
     "output_type": "display_data"
    },
    {
     "data": {
      "application/vnd.jupyter.widget-view+json": {
       "model_id": "f1f814c94a374cb8835115b565ca6f34",
       "version_major": 2,
       "version_minor": 0
      },
      "text/plain": [
       "Generate report structure:   0%|          | 0/1 [00:00<?, ?it/s]"
      ]
     },
     "metadata": {},
     "output_type": "display_data"
    },
    {
     "data": {
      "application/vnd.jupyter.widget-view+json": {
       "model_id": "2f58b3e29dd94b379f9fca0dd165be16",
       "version_major": 2,
       "version_minor": 0
      },
      "text/plain": [
       "Render HTML:   0%|          | 0/1 [00:00<?, ?it/s]"
      ]
     },
     "metadata": {},
     "output_type": "display_data"
    },
    {
     "data": {
      "application/vnd.jupyter.widget-view+json": {
       "model_id": "236e843a66ed4e20912c91160302d20e",
       "version_major": 2,
       "version_minor": 0
      },
      "text/plain": [
       "Export report to file:   0%|          | 0/1 [00:00<?, ?it/s]"
      ]
     },
     "metadata": {},
     "output_type": "display_data"
    }
   ],
   "source": [
    "# profile report for training data Note: only need to run once\n",
    "profile = ProfileReport(bod_df, \n",
    "                        title='Profiling Report',\n",
    "                        html={'style':{'full_width':True}})\n",
    "\n",
    "profile.to_file(\"EDA_bod_df.html\")"
   ]
  },
  {
   "cell_type": "code",
   "execution_count": 4,
   "id": "0b93dbf5-6627-4081-9436-2297ef85115c",
   "metadata": {},
   "outputs": [
    {
     "data": {
      "application/vnd.jupyter.widget-view+json": {
       "model_id": "ef07fe563f3a49f98bd21a7b796767c5",
       "version_major": 2,
       "version_minor": 0
      },
      "text/plain": [
       "Summarize dataset:   0%|          | 0/5 [00:00<?, ?it/s]"
      ]
     },
     "metadata": {},
     "output_type": "display_data"
    },
    {
     "data": {
      "application/vnd.jupyter.widget-view+json": {
       "model_id": "b51c9ba027024600844f8dc31f88bbf9",
       "version_major": 2,
       "version_minor": 0
      },
      "text/plain": [
       "Generate report structure:   0%|          | 0/1 [00:00<?, ?it/s]"
      ]
     },
     "metadata": {},
     "output_type": "display_data"
    },
    {
     "data": {
      "application/vnd.jupyter.widget-view+json": {
       "model_id": "35113e0c7e1141dc9c6325887f09fc47",
       "version_major": 2,
       "version_minor": 0
      },
      "text/plain": [
       "Render HTML:   0%|          | 0/1 [00:00<?, ?it/s]"
      ]
     },
     "metadata": {},
     "output_type": "display_data"
    },
    {
     "data": {
      "application/vnd.jupyter.widget-view+json": {
       "model_id": "fc8f2c8860cb4195988849943655c4bf",
       "version_major": 2,
       "version_minor": 0
      },
      "text/plain": [
       "Export report to file:   0%|          | 0/1 [00:00<?, ?it/s]"
      ]
     },
     "metadata": {},
     "output_type": "display_data"
    }
   ],
   "source": [
    "# profile report for training data Note: only need to run once\n",
    "profile = ProfileReport(firms_df, \n",
    "                        title='Profiling Report',\n",
    "                        html={'style':{'full_width':True}})\n",
    "\n",
    "profile.to_file(\"EDA_firms_df.html\")"
   ]
  },
  {
   "cell_type": "code",
   "execution_count": 5,
   "id": "2437b412-c6e9-4325-a4dc-bf10742a05e0",
   "metadata": {},
   "outputs": [
    {
     "data": {
      "application/vnd.jupyter.widget-view+json": {
       "model_id": "8667af643391457ab4c1fd14be567db9",
       "version_major": 2,
       "version_minor": 0
      },
      "text/plain": [
       "Summarize dataset:   0%|          | 0/5 [00:00<?, ?it/s]"
      ]
     },
     "metadata": {},
     "output_type": "display_data"
    },
    {
     "data": {
      "application/vnd.jupyter.widget-view+json": {
       "model_id": "0fb9a7628dd64d5ebf3ef567404f53ee",
       "version_major": 2,
       "version_minor": 0
      },
      "text/plain": [
       "Generate report structure:   0%|          | 0/1 [00:00<?, ?it/s]"
      ]
     },
     "metadata": {},
     "output_type": "display_data"
    },
    {
     "data": {
      "application/vnd.jupyter.widget-view+json": {
       "model_id": "a7cab6af2d3642c6a6df0ce228f93d58",
       "version_major": 2,
       "version_minor": 0
      },
      "text/plain": [
       "Render HTML:   0%|          | 0/1 [00:00<?, ?it/s]"
      ]
     },
     "metadata": {},
     "output_type": "display_data"
    },
    {
     "data": {
      "application/vnd.jupyter.widget-view+json": {
       "model_id": "3ab78919ee7e4f2fa8e78daaeb54c9f0",
       "version_major": 2,
       "version_minor": 0
      },
      "text/plain": [
       "Export report to file:   0%|          | 0/1 [00:00<?, ?it/s]"
      ]
     },
     "metadata": {},
     "output_type": "display_data"
    }
   ],
   "source": [
    "# profile report for training data Note: only need to run once\n",
    "profile = ProfileReport(firm_data, \n",
    "                        title='Profiling Report',\n",
    "                        html={'style':{'full_width':True}})\n",
    "\n",
    "profile.to_file(\"EDA_firm_data_df.html\")"
   ]
  },
  {
   "cell_type": "code",
   "execution_count": 6,
   "id": "9cef248f-4ecf-4f08-a809-b06129529c3c",
   "metadata": {},
   "outputs": [
    {
     "data": {
      "application/vnd.jupyter.widget-view+json": {
       "model_id": "a981894a8b2a42fc9576a1112acccdad",
       "version_major": 2,
       "version_minor": 0
      },
      "text/plain": [
       "Summarize dataset:   0%|          | 0/5 [00:00<?, ?it/s]"
      ]
     },
     "metadata": {},
     "output_type": "display_data"
    },
    {
     "data": {
      "application/vnd.jupyter.widget-view+json": {
       "model_id": "6944a124c5d840519abaafe9e6e40d43",
       "version_major": 2,
       "version_minor": 0
      },
      "text/plain": [
       "Generate report structure:   0%|          | 0/1 [00:00<?, ?it/s]"
      ]
     },
     "metadata": {},
     "output_type": "display_data"
    },
    {
     "data": {
      "application/vnd.jupyter.widget-view+json": {
       "model_id": "ad3d8721128b410b9218c5e05fc1929f",
       "version_major": 2,
       "version_minor": 0
      },
      "text/plain": [
       "Render HTML:   0%|          | 0/1 [00:00<?, ?it/s]"
      ]
     },
     "metadata": {},
     "output_type": "display_data"
    },
    {
     "data": {
      "application/vnd.jupyter.widget-view+json": {
       "model_id": "29ed3a0a1cee4f52a2be2fd87cf767fd",
       "version_major": 2,
       "version_minor": 0
      },
      "text/plain": [
       "Export report to file:   0%|          | 0/1 [00:00<?, ?it/s]"
      ]
     },
     "metadata": {},
     "output_type": "display_data"
    }
   ],
   "source": [
    "# profile report for training data Note: only need to run once\n",
    "profile = ProfileReport(growth_perf, \n",
    "                        title='Profiling Report',\n",
    "                        html={'style':{'full_width':True}})\n",
    "\n",
    "profile.to_file(\"EDA_growth_perf_df.html\")"
   ]
  }
 ],
 "metadata": {
  "kernelspec": {
   "display_name": "Python 3 (ipykernel)",
   "language": "python",
   "name": "python3"
  },
  "language_info": {
   "codemirror_mode": {
    "name": "ipython",
    "version": 3
   },
   "file_extension": ".py",
   "mimetype": "text/x-python",
   "name": "python",
   "nbconvert_exporter": "python",
   "pygments_lexer": "ipython3",
   "version": "3.9.12"
  }
 },
 "nbformat": 4,
 "nbformat_minor": 5
}
