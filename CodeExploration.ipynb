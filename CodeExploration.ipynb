{
 "cells": [
  {
   "cell_type": "code",
   "execution_count": 85,
   "id": "61bf4f64-9bcc-4c59-9320-642e1b91e1cc",
   "metadata": {},
   "outputs": [],
   "source": [
    "import pandas as pd"
   ]
  },
  {
   "cell_type": "code",
   "execution_count": 86,
   "id": "189d685e-1ae4-48fe-8fd6-33661c1db3c1",
   "metadata": {},
   "outputs": [],
   "source": [
    "firm_data = pd.read_csv('input_data/Firm_data.csv')\n",
    "data_desc = pd.read_csv('data_description/Firm_data_descriptions.csv')"
   ]
  },
  {
   "cell_type": "code",
   "execution_count": 87,
   "id": "91c38caa-acb0-442d-bc18-e5fe6fa1a281",
   "metadata": {},
   "outputs": [],
   "source": [
    "data_desc['Variable Name'] = data_desc['Variable Name'].str.lower()\n",
    "data_desc = data_desc[['Variable Name','Description']]\n",
    "column_names = pd.DataFrame(firm_data.columns)\n",
    "column_names = column_names.rename(columns = {column_names.columns[0]: 'Variable Name'})\n",
    "data_definitions = column_names.merge(data_desc, \n",
    "                how='left',\n",
    "                on='Variable Name',\n",
    "                indicator=False,\n",
    "                validate='1:1')"
   ]
  },
  {
   "cell_type": "code",
   "execution_count": 88,
   "id": "30f79cb3-253c-4bf3-9479-b42f8051a5ac",
   "metadata": {},
   "outputs": [
    {
     "data": {
      "text/html": [
       "<div>\n",
       "<style scoped>\n",
       "    .dataframe tbody tr th:only-of-type {\n",
       "        vertical-align: middle;\n",
       "    }\n",
       "\n",
       "    .dataframe tbody tr th {\n",
       "        vertical-align: top;\n",
       "    }\n",
       "\n",
       "    .dataframe thead th {\n",
       "        text-align: right;\n",
       "    }\n",
       "</style>\n",
       "<table border=\"1\" class=\"dataframe\">\n",
       "  <thead>\n",
       "    <tr style=\"text-align: right;\">\n",
       "      <th></th>\n",
       "      <th>Variable Name</th>\n",
       "      <th>Description</th>\n",
       "    </tr>\n",
       "  </thead>\n",
       "  <tbody>\n",
       "    <tr>\n",
       "      <th>0</th>\n",
       "      <td>gvkey</td>\n",
       "      <td>GVKEY -- Global Company Key (GVKEY)</td>\n",
       "    </tr>\n",
       "    <tr>\n",
       "      <th>1</th>\n",
       "      <td>datadate</td>\n",
       "      <td>NaN</td>\n",
       "    </tr>\n",
       "    <tr>\n",
       "      <th>2</th>\n",
       "      <td>fyear</td>\n",
       "      <td>FYEAR -- Data Year - Fiscal (FYEAR)</td>\n",
       "    </tr>\n",
       "    <tr>\n",
       "      <th>3</th>\n",
       "      <td>indfmt</td>\n",
       "      <td>NaN</td>\n",
       "    </tr>\n",
       "    <tr>\n",
       "      <th>4</th>\n",
       "      <td>consol</td>\n",
       "      <td>NaN</td>\n",
       "    </tr>\n",
       "    <tr>\n",
       "      <th>5</th>\n",
       "      <td>popsrc</td>\n",
       "      <td>NaN</td>\n",
       "    </tr>\n",
       "    <tr>\n",
       "      <th>6</th>\n",
       "      <td>datafmt</td>\n",
       "      <td>NaN</td>\n",
       "    </tr>\n",
       "    <tr>\n",
       "      <th>7</th>\n",
       "      <td>tic</td>\n",
       "      <td>Ticker Symbol (TIC)</td>\n",
       "    </tr>\n",
       "    <tr>\n",
       "      <th>8</th>\n",
       "      <td>cusip</td>\n",
       "      <td>CUSIP (CUSIP)</td>\n",
       "    </tr>\n",
       "    <tr>\n",
       "      <th>9</th>\n",
       "      <td>conm</td>\n",
       "      <td>Company Name (CONM)</td>\n",
       "    </tr>\n",
       "    <tr>\n",
       "      <th>10</th>\n",
       "      <td>curcd</td>\n",
       "      <td>NaN</td>\n",
       "    </tr>\n",
       "    <tr>\n",
       "      <th>11</th>\n",
       "      <td>fyr</td>\n",
       "      <td>Fiscal Year-End (FYR)</td>\n",
       "    </tr>\n",
       "    <tr>\n",
       "      <th>12</th>\n",
       "      <td>act</td>\n",
       "      <td>ACT -- Current Assets - Total (ACT)</td>\n",
       "    </tr>\n",
       "    <tr>\n",
       "      <th>13</th>\n",
       "      <td>at</td>\n",
       "      <td>AT -- Assets - Total (AT)</td>\n",
       "    </tr>\n",
       "    <tr>\n",
       "      <th>14</th>\n",
       "      <td>bkvlps</td>\n",
       "      <td>BKVLPS -- Book Value Per Share (BKVLPS)</td>\n",
       "    </tr>\n",
       "    <tr>\n",
       "      <th>15</th>\n",
       "      <td>capx</td>\n",
       "      <td>CAPX -- Capital Expenditures (CAPX)</td>\n",
       "    </tr>\n",
       "    <tr>\n",
       "      <th>16</th>\n",
       "      <td>ceql</td>\n",
       "      <td>CEQL -- Common Equity Liquidation Value (CEQL)</td>\n",
       "    </tr>\n",
       "    <tr>\n",
       "      <th>17</th>\n",
       "      <td>csho</td>\n",
       "      <td>CSHO -- Common Shares Outstanding (CSHO)</td>\n",
       "    </tr>\n",
       "    <tr>\n",
       "      <th>18</th>\n",
       "      <td>dltt</td>\n",
       "      <td>DLTT -- Long-Term Debt - Total (DLTT)</td>\n",
       "    </tr>\n",
       "    <tr>\n",
       "      <th>19</th>\n",
       "      <td>dt</td>\n",
       "      <td>DT -- Total Debt Including Current (DT)</td>\n",
       "    </tr>\n",
       "    <tr>\n",
       "      <th>20</th>\n",
       "      <td>emp</td>\n",
       "      <td>EMP -- Employees (EMP)</td>\n",
       "    </tr>\n",
       "    <tr>\n",
       "      <th>21</th>\n",
       "      <td>lct</td>\n",
       "      <td>LCT -- Current Liabilities - Total (LCT)</td>\n",
       "    </tr>\n",
       "    <tr>\n",
       "      <th>22</th>\n",
       "      <td>lt</td>\n",
       "      <td>LT -- Liabilities - Total (LT)</td>\n",
       "    </tr>\n",
       "    <tr>\n",
       "      <th>23</th>\n",
       "      <td>ni</td>\n",
       "      <td>NI -- Net Income (Loss) (NI)</td>\n",
       "    </tr>\n",
       "    <tr>\n",
       "      <th>24</th>\n",
       "      <td>ppegt</td>\n",
       "      <td>PPEGT -- Property, Plant and Equipment - Total...</td>\n",
       "    </tr>\n",
       "    <tr>\n",
       "      <th>25</th>\n",
       "      <td>pstkl</td>\n",
       "      <td>PSTKL -- Preferred Stock Liquidating Value (PS...</td>\n",
       "    </tr>\n",
       "    <tr>\n",
       "      <th>26</th>\n",
       "      <td>seq</td>\n",
       "      <td>SEQ -- Stockholders' Equity - Total (SEQ)</td>\n",
       "    </tr>\n",
       "    <tr>\n",
       "      <th>27</th>\n",
       "      <td>xad</td>\n",
       "      <td>XAD -- Advertising Expense (XAD)</td>\n",
       "    </tr>\n",
       "    <tr>\n",
       "      <th>28</th>\n",
       "      <td>xrd</td>\n",
       "      <td>XRD -- Research and Development Expense (XRD)</td>\n",
       "    </tr>\n",
       "    <tr>\n",
       "      <th>29</th>\n",
       "      <td>cik</td>\n",
       "      <td>CIK Number (CIK)</td>\n",
       "    </tr>\n",
       "    <tr>\n",
       "      <th>30</th>\n",
       "      <td>costat</td>\n",
       "      <td>NaN</td>\n",
       "    </tr>\n",
       "    <tr>\n",
       "      <th>31</th>\n",
       "      <td>mkvalt</td>\n",
       "      <td>MKVALT -- Market Value - Total - Fiscal (MKVALT)</td>\n",
       "    </tr>\n",
       "    <tr>\n",
       "      <th>32</th>\n",
       "      <td>gsector</td>\n",
       "      <td>GSECTOR -- GIC Sectors (GSECTOR)</td>\n",
       "    </tr>\n",
       "    <tr>\n",
       "      <th>33</th>\n",
       "      <td>naics</td>\n",
       "      <td>NAICS -- North American Industry Classificatio...</td>\n",
       "    </tr>\n",
       "    <tr>\n",
       "      <th>34</th>\n",
       "      <td>ipodate</td>\n",
       "      <td>IPODATE -- Company Initial Public Offering Dat...</td>\n",
       "    </tr>\n",
       "  </tbody>\n",
       "</table>\n",
       "</div>"
      ],
      "text/plain": [
       "   Variable Name                                        Description\n",
       "0          gvkey                GVKEY -- Global Company Key (GVKEY)\n",
       "1       datadate                                                NaN\n",
       "2          fyear                FYEAR -- Data Year - Fiscal (FYEAR)\n",
       "3         indfmt                                                NaN\n",
       "4         consol                                                NaN\n",
       "5         popsrc                                                NaN\n",
       "6        datafmt                                                NaN\n",
       "7            tic                                Ticker Symbol (TIC)\n",
       "8          cusip                                      CUSIP (CUSIP)\n",
       "9           conm                                Company Name (CONM)\n",
       "10         curcd                                                NaN\n",
       "11           fyr                              Fiscal Year-End (FYR)\n",
       "12           act                ACT -- Current Assets - Total (ACT)\n",
       "13            at                          AT -- Assets - Total (AT)\n",
       "14        bkvlps            BKVLPS -- Book Value Per Share (BKVLPS)\n",
       "15          capx                CAPX -- Capital Expenditures (CAPX)\n",
       "16          ceql     CEQL -- Common Equity Liquidation Value (CEQL)\n",
       "17          csho           CSHO -- Common Shares Outstanding (CSHO)\n",
       "18          dltt              DLTT -- Long-Term Debt - Total (DLTT)\n",
       "19            dt            DT -- Total Debt Including Current (DT)\n",
       "20           emp                             EMP -- Employees (EMP)\n",
       "21           lct           LCT -- Current Liabilities - Total (LCT)\n",
       "22            lt                     LT -- Liabilities - Total (LT)\n",
       "23            ni                       NI -- Net Income (Loss) (NI)\n",
       "24         ppegt  PPEGT -- Property, Plant and Equipment - Total...\n",
       "25         pstkl  PSTKL -- Preferred Stock Liquidating Value (PS...\n",
       "26           seq          SEQ -- Stockholders' Equity - Total (SEQ)\n",
       "27           xad                   XAD -- Advertising Expense (XAD)\n",
       "28           xrd      XRD -- Research and Development Expense (XRD)\n",
       "29           cik                                   CIK Number (CIK)\n",
       "30        costat                                                NaN\n",
       "31        mkvalt   MKVALT -- Market Value - Total - Fiscal (MKVALT)\n",
       "32       gsector                   GSECTOR -- GIC Sectors (GSECTOR)\n",
       "33         naics  NAICS -- North American Industry Classificatio...\n",
       "34       ipodate  IPODATE -- Company Initial Public Offering Dat..."
      ]
     },
     "execution_count": 88,
     "metadata": {},
     "output_type": "execute_result"
    }
   ],
   "source": [
    "data_definitions"
   ]
  },
  {
   "cell_type": "markdown",
   "id": "6de5c947-4bf2-496a-8e91-0f0f9942251b",
   "metadata": {},
   "source": [
    "# NOTE: EDA IS NEEDED! There are a ton of missing values throughout this dataset"
   ]
  },
  {
   "cell_type": "markdown",
   "id": "37c37f82-6e4b-4ca3-a37c-fd9e33373374",
   "metadata": {},
   "source": [
    "### Investment Opportunities"
   ]
  },
  {
   "cell_type": "markdown",
   "id": "a1f3ec2f-171d-45b6-aa0c-e0ed410202c6",
   "metadata": {},
   "source": [
    "**Market-to-book**"
   ]
  },
  {
   "cell_type": "code",
   "execution_count": 89,
   "id": "799ef446-6da6-4abe-9c52-d3c147f41830",
   "metadata": {},
   "outputs": [],
   "source": [
    "def mtb(tic, year):\n",
    "    market_value = firm_data.query('tic == @tic & fyear == @year')['mkvalt']\n",
    "    book_value = firm_data.query('tic == @tic & fyear == @year')['ceql']\n",
    "    return market_value/book_value"
   ]
  },
  {
   "cell_type": "markdown",
   "id": "2587ff1d-1b39-444f-9c1b-6089a18ccc82",
   "metadata": {},
   "source": [
    "**Tobin's Q**"
   ]
  },
  {
   "cell_type": "markdown",
   "id": "aa935989-3fa6-427b-9a39-f653cdf1764e",
   "metadata": {},
   "source": [
    "For Tobin's Q -- is \"debt\" just liabilities? or just debt? (I included both in the dataset)"
   ]
  },
  {
   "cell_type": "code",
   "execution_count": 56,
   "id": "67b04056-39dc-48d2-a3e8-bd3636884dc4",
   "metadata": {},
   "outputs": [],
   "source": [
    "def tobinsQ(tic, year):\n",
    "    market_value = firm_data.query('tic == @tic & fyear == @year')['mkvalt']\n",
    "    liq_pref = firm_data.query('tic == @tic & fyear == @year')['pstkl']\n",
    "    debt = firm_data.query('tic == @tic & fyear == @year')['lt']\n",
    "    assets = firm_data.query('tic == @tic & fyear == @year')['at']\n",
    "    return (market_value+liq_pref+debt)/assets"
   ]
  },
  {
   "cell_type": "markdown",
   "id": "30fce8f7-afab-4399-987a-b5c898cf433d",
   "metadata": {},
   "source": [
    "**R&D Scaled**"
   ]
  },
  {
   "cell_type": "code",
   "execution_count": 58,
   "id": "22e9b3a0-9ef1-418f-81ee-f6326363793b",
   "metadata": {},
   "outputs": [],
   "source": [
    "def rdScaled(tic, year):\n",
    "    rd = firm_data.query('tic == @tic & fyear == @year')['xrd']\n",
    "    assets = firm_data.query('tic == @tic & fyear == @year')['at']\n",
    "    return rd/assets"
   ]
  },
  {
   "cell_type": "markdown",
   "id": "21d4632c-e453-471e-8cca-0f827dc1478d",
   "metadata": {},
   "source": [
    "**Advertising Scaled**"
   ]
  },
  {
   "cell_type": "code",
   "execution_count": 60,
   "id": "41f5a469-44a0-401f-b51e-863a9d5b73a8",
   "metadata": {},
   "outputs": [],
   "source": [
    "def advScaled(tic, year):\n",
    "    adv = firm_data.query('tic == @tic & fyear == @year')['xad']\n",
    "    assets = firm_data.query('tic == @tic & fyear == @year')['at']\n",
    "    return adv/assets"
   ]
  },
  {
   "cell_type": "markdown",
   "id": "e63c602f-0227-44ba-a9ad-d769c93c7885",
   "metadata": {},
   "source": [
    "**Liquidity**"
   ]
  },
  {
   "cell_type": "code",
   "execution_count": 62,
   "id": "cc6873d3-daae-4692-bb91-5df8ad60b868",
   "metadata": {},
   "outputs": [],
   "source": [
    "def liquidity(tic, year):\n",
    "    currA = firm_data.query('tic == @tic & fyear == @year')['act']\n",
    "    currL = firm_data.query('tic == @tic & fyear == @year')['lct']\n",
    "    assets = firm_data.query('tic == @tic & fyear == @year')['at']\n",
    "    return (currA-currL)/assets"
   ]
  },
  {
   "cell_type": "code",
   "execution_count": 63,
   "id": "0454ccfb-11fe-4a21-b85e-fa492e5816cd",
   "metadata": {},
   "outputs": [
    {
     "data": {
      "text/plain": [
       "202    0.108546\n",
       "dtype: float64"
      ]
     },
     "execution_count": 63,
     "metadata": {},
     "output_type": "execute_result"
    }
   ],
   "source": [
    "liquidity('AAPL',2012)"
   ]
  },
  {
   "cell_type": "markdown",
   "id": "dedfaac7-826c-47fb-b313-1976cd8600cb",
   "metadata": {},
   "source": [
    "### Firm Complexity"
   ]
  },
  {
   "cell_type": "markdown",
   "id": "3d94416d-5658-42f3-bc34-198a9a7203da",
   "metadata": {},
   "source": [
    "**Sales per Firm per Year**"
   ]
  },
  {
   "cell_type": "code",
   "execution_count": 67,
   "id": "16d912f9-e08e-4e34-8918-57a826c7cf0b",
   "metadata": {},
   "outputs": [
    {
     "data": {
      "text/html": [
       "<div>\n",
       "<style scoped>\n",
       "    .dataframe tbody tr th:only-of-type {\n",
       "        vertical-align: middle;\n",
       "    }\n",
       "\n",
       "    .dataframe tbody tr th {\n",
       "        vertical-align: top;\n",
       "    }\n",
       "\n",
       "    .dataframe thead th {\n",
       "        text-align: right;\n",
       "    }\n",
       "</style>\n",
       "<table border=\"1\" class=\"dataframe\">\n",
       "  <thead>\n",
       "    <tr style=\"text-align: right;\">\n",
       "      <th></th>\n",
       "      <th>tic</th>\n",
       "      <th>fyear</th>\n",
       "      <th>ni</th>\n",
       "    </tr>\n",
       "  </thead>\n",
       "  <tbody>\n",
       "    <tr>\n",
       "      <th>0</th>\n",
       "      <td>AAL</td>\n",
       "      <td>2010.0</td>\n",
       "      <td>-471.0</td>\n",
       "    </tr>\n",
       "    <tr>\n",
       "      <th>1</th>\n",
       "      <td>AAL</td>\n",
       "      <td>2011.0</td>\n",
       "      <td>-1979.0</td>\n",
       "    </tr>\n",
       "    <tr>\n",
       "      <th>2</th>\n",
       "      <td>AAL</td>\n",
       "      <td>2012.0</td>\n",
       "      <td>-1876.0</td>\n",
       "    </tr>\n",
       "    <tr>\n",
       "      <th>3</th>\n",
       "      <td>AAL</td>\n",
       "      <td>2013.0</td>\n",
       "      <td>-1834.0</td>\n",
       "    </tr>\n",
       "    <tr>\n",
       "      <th>4</th>\n",
       "      <td>AAL</td>\n",
       "      <td>2014.0</td>\n",
       "      <td>2882.0</td>\n",
       "    </tr>\n",
       "    <tr>\n",
       "      <th>...</th>\n",
       "      <td>...</td>\n",
       "      <td>...</td>\n",
       "      <td>...</td>\n",
       "    </tr>\n",
       "    <tr>\n",
       "      <th>5762</th>\n",
       "      <td>ALLE</td>\n",
       "      <td>2015.0</td>\n",
       "      <td>153.9</td>\n",
       "    </tr>\n",
       "    <tr>\n",
       "      <th>5763</th>\n",
       "      <td>ALLE</td>\n",
       "      <td>2016.0</td>\n",
       "      <td>229.1</td>\n",
       "    </tr>\n",
       "    <tr>\n",
       "      <th>5764</th>\n",
       "      <td>ALLE</td>\n",
       "      <td>2017.0</td>\n",
       "      <td>273.3</td>\n",
       "    </tr>\n",
       "    <tr>\n",
       "      <th>5765</th>\n",
       "      <td>ALLE</td>\n",
       "      <td>2018.0</td>\n",
       "      <td>434.9</td>\n",
       "    </tr>\n",
       "    <tr>\n",
       "      <th>5766</th>\n",
       "      <td>ALLE</td>\n",
       "      <td>2019.0</td>\n",
       "      <td>401.8</td>\n",
       "    </tr>\n",
       "  </tbody>\n",
       "</table>\n",
       "<p>5767 rows × 3 columns</p>\n",
       "</div>"
      ],
      "text/plain": [
       "       tic   fyear      ni\n",
       "0      AAL  2010.0  -471.0\n",
       "1      AAL  2011.0 -1979.0\n",
       "2      AAL  2012.0 -1876.0\n",
       "3      AAL  2013.0 -1834.0\n",
       "4      AAL  2014.0  2882.0\n",
       "...    ...     ...     ...\n",
       "5762  ALLE  2015.0   153.9\n",
       "5763  ALLE  2016.0   229.1\n",
       "5764  ALLE  2017.0   273.3\n",
       "5765  ALLE  2018.0   434.9\n",
       "5766  ALLE  2019.0   401.8\n",
       "\n",
       "[5767 rows x 3 columns]"
      ]
     },
     "execution_count": 67,
     "metadata": {},
     "output_type": "execute_result"
    }
   ],
   "source": [
    "sales = firm_data[['tic','fyear','ni']]\n",
    "sales # In millions per year"
   ]
  },
  {
   "cell_type": "code",
   "execution_count": 73,
   "id": "0a688e97-91c4-4749-922f-e9c1800a3064",
   "metadata": {},
   "outputs": [],
   "source": [
    "# To query:\n",
    "def netIncome(tic, year):\n",
    "    return firm_data.query('tic == @tic & fyear == @year')['ni']"
   ]
  },
  {
   "cell_type": "code",
   "execution_count": 74,
   "id": "160e2b0d-ae1b-484a-af79-7d20999f5afe",
   "metadata": {},
   "outputs": [
    {
     "data": {
      "text/plain": [
       "2   -1876.0\n",
       "Name: ni, dtype: float64"
      ]
     },
     "execution_count": 74,
     "metadata": {},
     "output_type": "execute_result"
    }
   ],
   "source": [
    "netIncome('AAL', 2012)"
   ]
  },
  {
   "cell_type": "markdown",
   "id": "cf73e056-7e38-4067-b242-31ce8331b438",
   "metadata": {},
   "source": [
    "**Number of Employees per Firm per Year**"
   ]
  },
  {
   "cell_type": "code",
   "execution_count": 65,
   "id": "3535dfe1-bb9f-44d9-85bf-a363f09b31ca",
   "metadata": {},
   "outputs": [
    {
     "data": {
      "text/html": [
       "<div>\n",
       "<style scoped>\n",
       "    .dataframe tbody tr th:only-of-type {\n",
       "        vertical-align: middle;\n",
       "    }\n",
       "\n",
       "    .dataframe tbody tr th {\n",
       "        vertical-align: top;\n",
       "    }\n",
       "\n",
       "    .dataframe thead th {\n",
       "        text-align: right;\n",
       "    }\n",
       "</style>\n",
       "<table border=\"1\" class=\"dataframe\">\n",
       "  <thead>\n",
       "    <tr style=\"text-align: right;\">\n",
       "      <th></th>\n",
       "      <th>tic</th>\n",
       "      <th>fyear</th>\n",
       "      <th>emp</th>\n",
       "    </tr>\n",
       "  </thead>\n",
       "  <tbody>\n",
       "    <tr>\n",
       "      <th>0</th>\n",
       "      <td>AAL</td>\n",
       "      <td>2010.0</td>\n",
       "      <td>78.25</td>\n",
       "    </tr>\n",
       "    <tr>\n",
       "      <th>1</th>\n",
       "      <td>AAL</td>\n",
       "      <td>2011.0</td>\n",
       "      <td>80.10</td>\n",
       "    </tr>\n",
       "    <tr>\n",
       "      <th>2</th>\n",
       "      <td>AAL</td>\n",
       "      <td>2012.0</td>\n",
       "      <td>77.75</td>\n",
       "    </tr>\n",
       "    <tr>\n",
       "      <th>3</th>\n",
       "      <td>AAL</td>\n",
       "      <td>2013.0</td>\n",
       "      <td>110.40</td>\n",
       "    </tr>\n",
       "    <tr>\n",
       "      <th>4</th>\n",
       "      <td>AAL</td>\n",
       "      <td>2014.0</td>\n",
       "      <td>113.30</td>\n",
       "    </tr>\n",
       "    <tr>\n",
       "      <th>...</th>\n",
       "      <td>...</td>\n",
       "      <td>...</td>\n",
       "      <td>...</td>\n",
       "    </tr>\n",
       "    <tr>\n",
       "      <th>5762</th>\n",
       "      <td>ALLE</td>\n",
       "      <td>2015.0</td>\n",
       "      <td>9.40</td>\n",
       "    </tr>\n",
       "    <tr>\n",
       "      <th>5763</th>\n",
       "      <td>ALLE</td>\n",
       "      <td>2016.0</td>\n",
       "      <td>9.40</td>\n",
       "    </tr>\n",
       "    <tr>\n",
       "      <th>5764</th>\n",
       "      <td>ALLE</td>\n",
       "      <td>2017.0</td>\n",
       "      <td>10.00</td>\n",
       "    </tr>\n",
       "    <tr>\n",
       "      <th>5765</th>\n",
       "      <td>ALLE</td>\n",
       "      <td>2018.0</td>\n",
       "      <td>11.00</td>\n",
       "    </tr>\n",
       "    <tr>\n",
       "      <th>5766</th>\n",
       "      <td>ALLE</td>\n",
       "      <td>2019.0</td>\n",
       "      <td>11.00</td>\n",
       "    </tr>\n",
       "  </tbody>\n",
       "</table>\n",
       "<p>5767 rows × 3 columns</p>\n",
       "</div>"
      ],
      "text/plain": [
       "       tic   fyear     emp\n",
       "0      AAL  2010.0   78.25\n",
       "1      AAL  2011.0   80.10\n",
       "2      AAL  2012.0   77.75\n",
       "3      AAL  2013.0  110.40\n",
       "4      AAL  2014.0  113.30\n",
       "...    ...     ...     ...\n",
       "5762  ALLE  2015.0    9.40\n",
       "5763  ALLE  2016.0    9.40\n",
       "5764  ALLE  2017.0   10.00\n",
       "5765  ALLE  2018.0   11.00\n",
       "5766  ALLE  2019.0   11.00\n",
       "\n",
       "[5767 rows x 3 columns]"
      ]
     },
     "execution_count": 65,
     "metadata": {},
     "output_type": "execute_result"
    }
   ],
   "source": [
    "employees = firm_data[['tic','fyear','emp']]\n",
    "employees # In thousands per year"
   ]
  },
  {
   "cell_type": "code",
   "execution_count": 75,
   "id": "ff59ea96-a646-41d6-bb9b-314ebb69c601",
   "metadata": {},
   "outputs": [],
   "source": [
    "# To query:\n",
    "def numEmployees(tic, year):\n",
    "    return firm_data.query('tic == @tic & fyear == @year')['emp']"
   ]
  },
  {
   "cell_type": "code",
   "execution_count": 76,
   "id": "a3031076-490f-44be-b112-5bee9e99bc00",
   "metadata": {},
   "outputs": [
    {
     "data": {
      "text/plain": [
       "2    77.75\n",
       "Name: emp, dtype: float64"
      ]
     },
     "execution_count": 76,
     "metadata": {},
     "output_type": "execute_result"
    }
   ],
   "source": [
    "numEmployees('AAL', 2012)"
   ]
  },
  {
   "cell_type": "markdown",
   "id": "398f1fb6-5d4c-49f1-84f4-70dee52d7e90",
   "metadata": {},
   "source": [
    "**Market Value per Firm per Year**"
   ]
  },
  {
   "cell_type": "code",
   "execution_count": 90,
   "id": "52910ec6-2a4c-4481-88bd-b3731400df1c",
   "metadata": {},
   "outputs": [
    {
     "data": {
      "text/html": [
       "<div>\n",
       "<style scoped>\n",
       "    .dataframe tbody tr th:only-of-type {\n",
       "        vertical-align: middle;\n",
       "    }\n",
       "\n",
       "    .dataframe tbody tr th {\n",
       "        vertical-align: top;\n",
       "    }\n",
       "\n",
       "    .dataframe thead th {\n",
       "        text-align: right;\n",
       "    }\n",
       "</style>\n",
       "<table border=\"1\" class=\"dataframe\">\n",
       "  <thead>\n",
       "    <tr style=\"text-align: right;\">\n",
       "      <th></th>\n",
       "      <th>tic</th>\n",
       "      <th>fyear</th>\n",
       "      <th>mkvalt</th>\n",
       "    </tr>\n",
       "  </thead>\n",
       "  <tbody>\n",
       "    <tr>\n",
       "      <th>0</th>\n",
       "      <td>AAL</td>\n",
       "      <td>2010.0</td>\n",
       "      <td>2597.5755</td>\n",
       "    </tr>\n",
       "    <tr>\n",
       "      <th>1</th>\n",
       "      <td>AAL</td>\n",
       "      <td>2011.0</td>\n",
       "      <td>117.3438</td>\n",
       "    </tr>\n",
       "    <tr>\n",
       "      <th>2</th>\n",
       "      <td>AAL</td>\n",
       "      <td>2012.0</td>\n",
       "      <td>266.5571</td>\n",
       "    </tr>\n",
       "    <tr>\n",
       "      <th>3</th>\n",
       "      <td>AAL</td>\n",
       "      <td>2013.0</td>\n",
       "      <td>6591.9923</td>\n",
       "    </tr>\n",
       "    <tr>\n",
       "      <th>4</th>\n",
       "      <td>AAL</td>\n",
       "      <td>2014.0</td>\n",
       "      <td>37405.5843</td>\n",
       "    </tr>\n",
       "    <tr>\n",
       "      <th>...</th>\n",
       "      <td>...</td>\n",
       "      <td>...</td>\n",
       "      <td>...</td>\n",
       "    </tr>\n",
       "    <tr>\n",
       "      <th>5762</th>\n",
       "      <td>ALLE</td>\n",
       "      <td>2015.0</td>\n",
       "      <td>6327.7267</td>\n",
       "    </tr>\n",
       "    <tr>\n",
       "      <th>5763</th>\n",
       "      <td>ALLE</td>\n",
       "      <td>2016.0</td>\n",
       "      <td>6097.5360</td>\n",
       "    </tr>\n",
       "    <tr>\n",
       "      <th>5764</th>\n",
       "      <td>ALLE</td>\n",
       "      <td>2017.0</td>\n",
       "      <td>7563.1327</td>\n",
       "    </tr>\n",
       "    <tr>\n",
       "      <th>5765</th>\n",
       "      <td>ALLE</td>\n",
       "      <td>2018.0</td>\n",
       "      <td>7543.5153</td>\n",
       "    </tr>\n",
       "    <tr>\n",
       "      <th>5766</th>\n",
       "      <td>ALLE</td>\n",
       "      <td>2019.0</td>\n",
       "      <td>11547.8470</td>\n",
       "    </tr>\n",
       "  </tbody>\n",
       "</table>\n",
       "<p>5767 rows × 3 columns</p>\n",
       "</div>"
      ],
      "text/plain": [
       "       tic   fyear      mkvalt\n",
       "0      AAL  2010.0   2597.5755\n",
       "1      AAL  2011.0    117.3438\n",
       "2      AAL  2012.0    266.5571\n",
       "3      AAL  2013.0   6591.9923\n",
       "4      AAL  2014.0  37405.5843\n",
       "...    ...     ...         ...\n",
       "5762  ALLE  2015.0   6327.7267\n",
       "5763  ALLE  2016.0   6097.5360\n",
       "5764  ALLE  2017.0   7563.1327\n",
       "5765  ALLE  2018.0   7543.5153\n",
       "5766  ALLE  2019.0  11547.8470\n",
       "\n",
       "[5767 rows x 3 columns]"
      ]
     },
     "execution_count": 90,
     "metadata": {},
     "output_type": "execute_result"
    }
   ],
   "source": [
    "mv = firm_data[['tic','fyear','mkvalt']]\n",
    "mv # In millions per year"
   ]
  },
  {
   "cell_type": "code",
   "execution_count": 91,
   "id": "48660d79-d31d-4a66-9bdf-352b6aa099e5",
   "metadata": {},
   "outputs": [],
   "source": [
    "# To query:\n",
    "def marketValue(tic, year):\n",
    "    return firm_data.query('tic == @tic & fyear == @year')['mkvalt']"
   ]
  },
  {
   "cell_type": "code",
   "execution_count": 92,
   "id": "331ffd0c-d376-4349-b486-806d6fb83746",
   "metadata": {},
   "outputs": [
    {
     "data": {
      "text/plain": [
       "2    266.5571\n",
       "Name: mkvalt, dtype: float64"
      ]
     },
     "execution_count": 92,
     "metadata": {},
     "output_type": "execute_result"
    }
   ],
   "source": [
    "marketValue('AAL', 2012)"
   ]
  },
  {
   "cell_type": "markdown",
   "id": "dc3e49f2-0d3d-4f3b-9a70-dd4e3bdb8311",
   "metadata": {},
   "source": [
    "### Monitoring"
   ]
  },
  {
   "cell_type": "markdown",
   "id": "2d7bf3d4-3d43-49e0-b636-5154f9dc16fc",
   "metadata": {},
   "source": [
    "**Leverage (Debt / Equity)**"
   ]
  },
  {
   "cell_type": "code",
   "execution_count": 77,
   "id": "27fd4125-f390-4735-9bfe-3f9131ec6986",
   "metadata": {},
   "outputs": [],
   "source": [
    "def dte(tic, year):\n",
    "    debt = firm_data.query('tic == @tic & fyear == @year')['lt']\n",
    "    equity = firm_data.query('tic == @tic & fyear == @year')['seq']\n",
    "    return debt/equity"
   ]
  },
  {
   "cell_type": "markdown",
   "id": "295418b5-7512-409d-a348-b2f717d4da76",
   "metadata": {},
   "source": [
    "**Assets in Place**"
   ]
  },
  {
   "cell_type": "code",
   "execution_count": 78,
   "id": "d49bc685-ecd1-43ab-8dd2-a8795fe585b7",
   "metadata": {},
   "outputs": [],
   "source": [
    "def assetsInPlace(tic, year):\n",
    "    ppe = firm_data.query('tic == @tic & fyear == @year')['ppegt']\n",
    "    assets = firm_data.query('tic == @tic & fyear == @year')['at']\n",
    "    return ppe/assets"
   ]
  },
  {
   "cell_type": "markdown",
   "id": "47ae070a-fa38-4123-bf4b-94b2d861fd17",
   "metadata": {},
   "source": [
    "**CapEx Scaled by Assets**"
   ]
  },
  {
   "cell_type": "code",
   "execution_count": 79,
   "id": "ca9c224a-32d7-4563-ac80-31ed6a7128fd",
   "metadata": {},
   "outputs": [],
   "source": [
    "def assetsInPlace(tic, year):\n",
    "    capx = firm_data.query('tic == @tic & fyear == @year')['capx']\n",
    "    assets = firm_data.query('tic == @tic & fyear == @year')['at']\n",
    "    return capx/assets"
   ]
  },
  {
   "cell_type": "markdown",
   "id": "76331891-ea91-4499-9374-cbebb5a42130",
   "metadata": {},
   "source": [
    "**Return on Assets**"
   ]
  },
  {
   "cell_type": "code",
   "execution_count": 80,
   "id": "cb741dcb-2b0c-41ad-ba37-1ff5b123150d",
   "metadata": {},
   "outputs": [],
   "source": [
    "def RoA(tic, year):\n",
    "    ni = firm_data.query('tic == @tic & fyear == @year')['ni']\n",
    "    assets = firm_data.query('tic == @tic & fyear == @year')['at']\n",
    "    return capx/assets"
   ]
  },
  {
   "cell_type": "code",
   "execution_count": null,
   "id": "f116660b-3202-4fa9-b3c5-9b42ab22cb80",
   "metadata": {},
   "outputs": [],
   "source": []
  }
 ],
 "metadata": {
  "kernelspec": {
   "display_name": "Python 3 (ipykernel)",
   "language": "python",
   "name": "python3"
  },
  "language_info": {
   "codemirror_mode": {
    "name": "ipython",
    "version": 3
   },
   "file_extension": ".py",
   "mimetype": "text/x-python",
   "name": "python",
   "nbconvert_exporter": "python",
   "pygments_lexer": "ipython3",
   "version": "3.9.15"
  }
 },
 "nbformat": 4,
 "nbformat_minor": 5
}
