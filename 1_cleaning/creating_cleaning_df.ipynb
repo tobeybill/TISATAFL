{
 "cells": [
  {
   "cell_type": "code",
   "execution_count": 1,
   "id": "ea576cf7-bdbb-4599-a5bd-f1509624de34",
   "metadata": {},
   "outputs": [],
   "source": [
    "import pandas as pd\n",
    "import numpy as np\n",
    "import hashlib\n",
    "from ydata_profiling import ProfileReport "
   ]
  },
  {
   "cell_type": "markdown",
   "id": "206d57d6-aab7-442e-854e-25b70f74340a",
   "metadata": {},
   "source": [
    "# Importing CSV data pulled form words"
   ]
  },
  {
   "cell_type": "code",
   "execution_count": 2,
   "id": "df3b8354-4bcb-4380-be05-fb1b366c0ab4",
   "metadata": {},
   "outputs": [],
   "source": [
    "ceo_df = pd.read_csv('../inputs/CEOComp.csv', index_col = False)"
   ]
  },
  {
   "cell_type": "code",
   "execution_count": 3,
   "id": "6ac443c3-a993-4245-9848-c95b72faa5f3",
   "metadata": {},
   "outputs": [],
   "source": [
    "bod_df = pd.read_csv('../inputs/DirectorComp.csv')"
   ]
  },
  {
   "cell_type": "code",
   "execution_count": 4,
   "id": "9a9f9745-e5f8-40e3-9781-7226c7f72082",
   "metadata": {},
   "outputs": [],
   "source": [
    "firms_df = pd.read_csv('../inputs/Firm_data.csv')"
   ]
  },
  {
   "cell_type": "markdown",
   "id": "97534336-22da-4e21-bdc4-cfa7322df9d6",
   "metadata": {
    "tags": []
   },
   "source": [
    "# Working CEO data"
   ]
  },
  {
   "cell_type": "code",
   "execution_count": 5,
   "id": "145deca1-bb02-4de8-9815-5f64f676ebf6",
   "metadata": {},
   "outputs": [],
   "source": [
    "ceo_df.dropna(axis=1, how='all', inplace=True)\n",
    "ceo_df = ceo_df[ceo_df['CEOANN'].notnull()]\n",
    "ceo_df = ceo_df[['GVKEY', 'TICKER', 'CEOANN', 'SALARY', 'BONUS', 'STOCK_AWARDS', 'OPTION_AWARDS',\n",
    "                 'OTHCOMP', 'TOTAL_CURR', 'AGE', 'TDC1', 'YEAR', 'BECAMECEO', 'JOINED_CO',\n",
    "                 'LEFTOFC', 'GENDER', 'CUSIP', 'NAICSDESC', 'SIC']] "
   ]
  },
  {
   "cell_type": "markdown",
   "id": "29447fb2-0882-4417-97c2-57cdb8a7069f",
   "metadata": {},
   "source": [
    "# Working BOD data"
   ]
  },
  {
   "cell_type": "code",
   "execution_count": 6,
   "id": "2b1a8f7b-b24d-41ef-9db6-45b33d5c9f91",
   "metadata": {},
   "outputs": [],
   "source": [
    "bod_df = bod_df[['GVKEY', 'TICKER', 'TOTAL_SEC', \n",
    "                 'OTHCOMP', 'NONEQ_INCENT', 'CASH_FEES', \n",
    "                 'STOCK_AWARDS', 'OPTION_AWARDS', 'SPCODE', \n",
    "                 'CUSIP', 'CONAME', 'YEAR']]\n",
    "\n",
    "# Add up compensation packages for that ticker and that year\n",
    "\n",
    "grouped_df = bod_df.groupby(['TICKER', 'YEAR'])[['TOTAL_SEC', 'OTHCOMP', \n",
    "                                                 'NONEQ_INCENT', 'CASH_FEES',                                             'STOCK_AWARDS', 'OPTION_AWARDS']].sum().reset_index()\n",
    "bod_df = bod_df.merge(grouped_df, on='TICKER', how='left')\n",
    "\n",
    "bod_df = bod_df.rename(columns={'YEAR_x': 'YEAR'})\n",
    "bod_df.drop(['YEAR_y'], axis=1)\n",
    "\n",
    "bod_df = bod_df.rename(columns={'TOTAL_SEC_x': 'TOTAL_SEC'})\n",
    "bod_df = bod_df.rename(columns={'TOTAL_SEC_y': 'total_director_comp'})\n",
    "\n",
    "bod_df = bod_df.rename(columns={'OTHCOMP_x': 'OTHCOMP'})\n",
    "bod_df = bod_df.rename(columns={'OTHCOMP_y': 'total_OTHCOMP'})\n",
    "\n",
    "bod_df = bod_df.rename(columns={'NONEQ_INCENT_x': 'NONEQ_INCENT'})\n",
    "bod_df = bod_df.rename(columns={'NONEQ_INCENT_y': 'total_NONEQ_INCENT'})\n",
    "\n",
    "bod_df = bod_df.rename(columns={'CASH_FEES_x': 'CASH_FEES'})\n",
    "bod_df = bod_df.rename(columns={'CASH_FEES_y': 'total_CASH_FEES'})\n",
    "\n",
    "bod_df = bod_df.rename(columns={'STOCK_AWARDS_x': 'STOCK_AWARDS'})\n",
    "bod_df = bod_df.rename(columns={'STOCK_AWARDS_y': 'total_STOCK_AWARDS'})\n",
    "\n",
    "bod_df = bod_df.rename(columns={'OPTION_AWARDS_x': 'OPTION_AWARDS'})\n",
    "bod_df = bod_df.rename(columns={'OPTION_AWARDS_y': 'total_OPTION_AWARDS'})\n",
    "\n",
    "bod_df = bod_df.drop_duplicates(subset=['TICKER', 'YEAR'], keep='first')"
   ]
  },
  {
   "cell_type": "markdown",
   "id": "f04add17-03a5-4b73-b1bc-a629823f410d",
   "metadata": {},
   "source": [
    "# Working Firms data\n",
    "\n",
    "Tiny: companies with a market cap of less than $2 billion\n",
    "\n",
    "Medium: companies with a market cap between 2 billion and 10 billion\n",
    "\n",
    "Big: companies with a market cap between 10 billion and 100 billion\n",
    "\n",
    "Huge: companies with a market cap greater than 100 billion"
   ]
  },
  {
   "cell_type": "code",
   "execution_count": 7,
   "id": "b38f6368-4d11-46f0-9a71-fd52c3598a4a",
   "metadata": {},
   "outputs": [],
   "source": [
    "categories = {\n",
    "    'Small': (0, 10_000),\n",
    "    'Medium': (10_000, 200_000),\n",
    "    'Large': (200_000, float('inf'))\n",
    "}\n",
    "\n",
    "# create a new column with the market capitalization category for each company\n",
    "\n",
    "take = firms_df[['tic', 'fyear', 'mkvalt']]\n",
    "take = take.rename(columns={'tic': 'TICKER'})\n",
    "take = take.rename(columns={'fyear': 'YEAR'})\n",
    "take = take.rename(columns={'mkvalt': 'MKVALT'})"
   ]
  },
  {
   "cell_type": "code",
   "execution_count": 8,
   "id": "81d6a7c1-9c11-4261-b8cb-464877a82fbf",
   "metadata": {},
   "outputs": [],
   "source": [
    "ceo_df = ceo_df.merge(take, on = ['TICKER', 'YEAR'], how = 'inner')\n",
    "bod_df = bod_df.merge(take, on = ['TICKER', 'YEAR'], how = 'inner')\n",
    "\n",
    "ceo_df['size_category'] = pd.cut(ceo_df['MKVALT'], bins=[categories[cat][0] for cat in categories.keys()] + [float('inf')], labels=categories.keys())\n",
    "bod_df['size_category'] = pd.cut(bod_df['MKVALT'], bins=[categories[cat][0] for cat in categories.keys()] + [float('inf')], labels=categories.keys())\n"
   ]
  },
  {
   "cell_type": "code",
   "execution_count": 9,
   "id": "78be1adb-5a5c-44a8-b770-64bd2fd20c2a",
   "metadata": {},
   "outputs": [],
   "source": [
    "get_signature1 = lambda row_idx: hashlib.md5(str(ceo_df.iloc[row_idx]).encode('utf-8')).hexdigest()\n",
    "get_signature2 = lambda row_idx: hashlib.md5(str(bod_df.iloc[row_idx]).encode('utf-8')).hexdigest()\n",
    "\n",
    "# apply the lambda function to each row of the DataFrame to create a new column of signature indices\n",
    "ceo_df['signature_index'] = ceo_df.index.to_series().apply(get_signature1)\n",
    "bod_df['signature_index'] = bod_df.index.to_series().apply(get_signature2)"
   ]
  },
  {
   "cell_type": "markdown",
   "id": "275633bf-c88c-44b8-865d-6777fd62b976",
   "metadata": {},
   "source": [
    "# Data frames being used in future steps"
   ]
  },
  {
   "cell_type": "code",
   "execution_count": 10,
   "id": "31407913-ea0d-40ba-bc84-bbde6cc68533",
   "metadata": {},
   "outputs": [],
   "source": [
    "ceo_df.to_csv('../outputs/CEO_DF.csv', index=False)\n",
    "bod_df.to_csv('../outputs/BOD_DF.csv', index=False)"
   ]
  }
 ],
 "metadata": {
  "kernelspec": {
   "display_name": "Python 3 (ipykernel)",
   "language": "python",
   "name": "python3"
  },
  "language_info": {
   "codemirror_mode": {
    "name": "ipython",
    "version": 3
   },
   "file_extension": ".py",
   "mimetype": "text/x-python",
   "name": "python",
   "nbconvert_exporter": "python",
   "pygments_lexer": "ipython3",
   "version": "3.9.15"
  }
 },
 "nbformat": 4,
 "nbformat_minor": 5
}
