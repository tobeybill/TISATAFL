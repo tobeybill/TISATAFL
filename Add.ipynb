{
 "cells": [
  {
   "cell_type": "code",
   "execution_count": 1,
   "id": "178004c0-d0c6-499e-a494-4e66a774a7ce",
   "metadata": {},
   "outputs": [],
   "source": [
    "from ydata_profiling import ProfileReport\n",
    "import pandas as pd\n",
    "import numpy as np\n",
    "import pandas_datareader as pdr  # to install: !pip install pandas_datareader\n",
    "from datetime import datetime\n",
    "import numpy as np\n",
    "import seaborn as sns\n",
    "import matplotlib.pyplot as plt\n",
    "from statsmodels.formula.api import ols as sm_ols\n",
    "from statsmodels.iolib.summary2 import summary_col # nicer tables"
   ]
  },
  {
   "cell_type": "code",
   "execution_count": 2,
   "id": "b9d54709-0706-4260-9328-46000176f596",
   "metadata": {
    "tags": []
   },
   "outputs": [
    {
     "name": "stdout",
     "output_type": "stream",
     "text": [
      "<class 'pandas.core.frame.DataFrame'>\n",
      "RangeIndex: 5649 entries, 0 to 5648\n",
      "Data columns (total 23 columns):\n",
      " #   Column           Non-Null Count  Dtype  \n",
      "---  ------           --------------  -----  \n",
      " 0   Unnamed: 0       5649 non-null   int64  \n",
      " 1   GVKEY            5649 non-null   int64  \n",
      " 2   TICKER           5649 non-null   object \n",
      " 3   CEOANN           5649 non-null   object \n",
      " 4   SALARY           5649 non-null   float64\n",
      " 5   BONUS            5649 non-null   float64\n",
      " 6   STOCK_AWARDS     5649 non-null   float64\n",
      " 7   OPTION_AWARDS    5649 non-null   float64\n",
      " 8   OTHCOMP          5649 non-null   float64\n",
      " 9   TOTAL_CURR       5649 non-null   float64\n",
      " 10  AGE              5649 non-null   float64\n",
      " 11  TDC1             5649 non-null   float64\n",
      " 12  YEAR             5649 non-null   int64  \n",
      " 13  BECAMECEO        5613 non-null   object \n",
      " 14  JOINED_CO        1493 non-null   object \n",
      " 15  LEFTOFC          3530 non-null   object \n",
      " 16  GENDER           5649 non-null   object \n",
      " 17  CUSIP            5649 non-null   object \n",
      " 18  NAICSDESC        5649 non-null   object \n",
      " 19  SIC              5649 non-null   int64  \n",
      " 20  MKVALT           5028 non-null   float64\n",
      " 21  SIZE_CATEGORY    5028 non-null   object \n",
      " 22  signature_index  5649 non-null   object \n",
      "dtypes: float64(9), int64(4), object(10)\n",
      "memory usage: 1015.2+ KB\n"
     ]
    }
   ],
   "source": [
    "import pandas as pd\n",
    "\n",
    "# Read in the dataset\n",
    "df = pd.read_csv('./input_data_clean/CEO_DF.csv')\n",
    "df.info()"
   ]
  },
  {
   "cell_type": "code",
   "execution_count": 3,
   "id": "97ece438-584c-4708-aed3-372614b79031",
   "metadata": {
    "tags": []
   },
   "outputs": [],
   "source": [
    "# Calculate the median age\n",
    "median_age = df['AGE'].median()\n",
    "\n",
    "# Create a new column for prestige_power based on whether age is greater than median\n",
    "df['prestige_power'] = (df['AGE'] > median_age).astype(int)\n",
    "\n",
    "prestige_power_levels = {\n",
    "    0: 0,\n",
    "    1: 1,\n",
    "    2: 2,\n",
    "    3: 3,\n",
    "    4: 4\n",
    "}\n",
    "df['prestige_power'] = pd.cut(df['prestige_power'], bins=5, labels=prestige_power_levels.values())\n",
    "\n",
    "# Print the updated dataset"
   ]
  },
  {
   "cell_type": "code",
   "execution_count": 4,
   "id": "7f1ba202-ebf0-4297-a8a7-2b1a2ea82846",
   "metadata": {},
   "outputs": [
    {
     "data": {
      "text/html": [
       "<div>\n",
       "<style scoped>\n",
       "    .dataframe tbody tr th:only-of-type {\n",
       "        vertical-align: middle;\n",
       "    }\n",
       "\n",
       "    .dataframe tbody tr th {\n",
       "        vertical-align: top;\n",
       "    }\n",
       "\n",
       "    .dataframe thead th {\n",
       "        text-align: right;\n",
       "    }\n",
       "</style>\n",
       "<table border=\"1\" class=\"dataframe\">\n",
       "  <thead>\n",
       "    <tr style=\"text-align: right;\">\n",
       "      <th></th>\n",
       "      <th>Unnamed: 0</th>\n",
       "      <th>GVKEY</th>\n",
       "      <th>TICKER</th>\n",
       "      <th>CEOANN</th>\n",
       "      <th>SALARY</th>\n",
       "      <th>BONUS</th>\n",
       "      <th>STOCK_AWARDS</th>\n",
       "      <th>OPTION_AWARDS</th>\n",
       "      <th>OTHCOMP</th>\n",
       "      <th>TOTAL_CURR</th>\n",
       "      <th>...</th>\n",
       "      <th>JOINED_CO</th>\n",
       "      <th>LEFTOFC</th>\n",
       "      <th>GENDER</th>\n",
       "      <th>CUSIP</th>\n",
       "      <th>NAICSDESC</th>\n",
       "      <th>SIC</th>\n",
       "      <th>MKVALT</th>\n",
       "      <th>SIZE_CATEGORY</th>\n",
       "      <th>signature_index</th>\n",
       "      <th>prestige_power</th>\n",
       "    </tr>\n",
       "  </thead>\n",
       "  <tbody>\n",
       "    <tr>\n",
       "      <th>0</th>\n",
       "      <td>0</td>\n",
       "      <td>1045</td>\n",
       "      <td>AAL</td>\n",
       "      <td>CEO</td>\n",
       "      <td>669.646</td>\n",
       "      <td>0.0</td>\n",
       "      <td>3280.680</td>\n",
       "      <td>1185.94</td>\n",
       "      <td>94.660</td>\n",
       "      <td>669.646</td>\n",
       "      <td>...</td>\n",
       "      <td>NaN</td>\n",
       "      <td>2011-11-28</td>\n",
       "      <td>MALE</td>\n",
       "      <td>02376R10</td>\n",
       "      <td>Scheduled Passenger Air Transportation</td>\n",
       "      <td>4512</td>\n",
       "      <td>2597.5755</td>\n",
       "      <td>Medium</td>\n",
       "      <td>c5cfee96827874d696f92bc8dc8e7d1c</td>\n",
       "      <td>0</td>\n",
       "    </tr>\n",
       "    <tr>\n",
       "      <th>1</th>\n",
       "      <td>1</td>\n",
       "      <td>1045</td>\n",
       "      <td>AAL</td>\n",
       "      <td>CEO</td>\n",
       "      <td>613.842</td>\n",
       "      <td>0.0</td>\n",
       "      <td>4020.380</td>\n",
       "      <td>798.60</td>\n",
       "      <td>93.996</td>\n",
       "      <td>613.842</td>\n",
       "      <td>...</td>\n",
       "      <td>NaN</td>\n",
       "      <td>2011-11-28</td>\n",
       "      <td>MALE</td>\n",
       "      <td>02376R10</td>\n",
       "      <td>Scheduled Passenger Air Transportation</td>\n",
       "      <td>4512</td>\n",
       "      <td>117.3438</td>\n",
       "      <td>Tiny</td>\n",
       "      <td>03d75aed72524dfeb17fbbce2574b46a</td>\n",
       "      <td>0</td>\n",
       "    </tr>\n",
       "    <tr>\n",
       "      <th>2</th>\n",
       "      <td>2</td>\n",
       "      <td>1045</td>\n",
       "      <td>AAL</td>\n",
       "      <td>CEO</td>\n",
       "      <td>618.135</td>\n",
       "      <td>0.0</td>\n",
       "      <td>0.000</td>\n",
       "      <td>0.00</td>\n",
       "      <td>37.458</td>\n",
       "      <td>618.135</td>\n",
       "      <td>...</td>\n",
       "      <td>NaN</td>\n",
       "      <td>2013-12-09</td>\n",
       "      <td>MALE</td>\n",
       "      <td>02376R10</td>\n",
       "      <td>Scheduled Passenger Air Transportation</td>\n",
       "      <td>4512</td>\n",
       "      <td>266.5571</td>\n",
       "      <td>Tiny</td>\n",
       "      <td>15564e09568d0b6f2f1897f5c3071885</td>\n",
       "      <td>0</td>\n",
       "    </tr>\n",
       "    <tr>\n",
       "      <th>3</th>\n",
       "      <td>3</td>\n",
       "      <td>1045</td>\n",
       "      <td>AAL</td>\n",
       "      <td>CEO</td>\n",
       "      <td>591.911</td>\n",
       "      <td>0.0</td>\n",
       "      <td>4199.761</td>\n",
       "      <td>0.00</td>\n",
       "      <td>13117.484</td>\n",
       "      <td>591.911</td>\n",
       "      <td>...</td>\n",
       "      <td>NaN</td>\n",
       "      <td>2013-12-09</td>\n",
       "      <td>MALE</td>\n",
       "      <td>02376R10</td>\n",
       "      <td>Scheduled Passenger Air Transportation</td>\n",
       "      <td>4512</td>\n",
       "      <td>6591.9923</td>\n",
       "      <td>Medium</td>\n",
       "      <td>d4a0b6385b961d3e6cd8358db5f13dd8</td>\n",
       "      <td>0</td>\n",
       "    </tr>\n",
       "    <tr>\n",
       "      <th>4</th>\n",
       "      <td>4</td>\n",
       "      <td>1045</td>\n",
       "      <td>AAL</td>\n",
       "      <td>CEO</td>\n",
       "      <td>687.884</td>\n",
       "      <td>0.0</td>\n",
       "      <td>7000.000</td>\n",
       "      <td>0.00</td>\n",
       "      <td>414.092</td>\n",
       "      <td>687.884</td>\n",
       "      <td>...</td>\n",
       "      <td>NaN</td>\n",
       "      <td>2022-03-31</td>\n",
       "      <td>MALE</td>\n",
       "      <td>02376R10</td>\n",
       "      <td>Scheduled Passenger Air Transportation</td>\n",
       "      <td>4512</td>\n",
       "      <td>37405.5843</td>\n",
       "      <td>Big</td>\n",
       "      <td>d3d6750755aedf18253dfe15a361256d</td>\n",
       "      <td>0</td>\n",
       "    </tr>\n",
       "  </tbody>\n",
       "</table>\n",
       "<p>5 rows × 24 columns</p>\n",
       "</div>"
      ],
      "text/plain": [
       "   Unnamed: 0  GVKEY TICKER CEOANN   SALARY  BONUS  STOCK_AWARDS  \\\n",
       "0           0   1045    AAL    CEO  669.646    0.0      3280.680   \n",
       "1           1   1045    AAL    CEO  613.842    0.0      4020.380   \n",
       "2           2   1045    AAL    CEO  618.135    0.0         0.000   \n",
       "3           3   1045    AAL    CEO  591.911    0.0      4199.761   \n",
       "4           4   1045    AAL    CEO  687.884    0.0      7000.000   \n",
       "\n",
       "   OPTION_AWARDS    OTHCOMP  TOTAL_CURR  ...  JOINED_CO     LEFTOFC  GENDER  \\\n",
       "0        1185.94     94.660     669.646  ...        NaN  2011-11-28    MALE   \n",
       "1         798.60     93.996     613.842  ...        NaN  2011-11-28    MALE   \n",
       "2           0.00     37.458     618.135  ...        NaN  2013-12-09    MALE   \n",
       "3           0.00  13117.484     591.911  ...        NaN  2013-12-09    MALE   \n",
       "4           0.00    414.092     687.884  ...        NaN  2022-03-31    MALE   \n",
       "\n",
       "      CUSIP                               NAICSDESC   SIC      MKVALT  \\\n",
       "0  02376R10  Scheduled Passenger Air Transportation  4512   2597.5755   \n",
       "1  02376R10  Scheduled Passenger Air Transportation  4512    117.3438   \n",
       "2  02376R10  Scheduled Passenger Air Transportation  4512    266.5571   \n",
       "3  02376R10  Scheduled Passenger Air Transportation  4512   6591.9923   \n",
       "4  02376R10  Scheduled Passenger Air Transportation  4512  37405.5843   \n",
       "\n",
       "  SIZE_CATEGORY                   signature_index  prestige_power  \n",
       "0        Medium  c5cfee96827874d696f92bc8dc8e7d1c               0  \n",
       "1          Tiny  03d75aed72524dfeb17fbbce2574b46a               0  \n",
       "2          Tiny  15564e09568d0b6f2f1897f5c3071885               0  \n",
       "3        Medium  d4a0b6385b961d3e6cd8358db5f13dd8               0  \n",
       "4           Big  d3d6750755aedf18253dfe15a361256d               0  \n",
       "\n",
       "[5 rows x 24 columns]"
      ]
     },
     "execution_count": 4,
     "metadata": {},
     "output_type": "execute_result"
    }
   ],
   "source": [
    "df.head()"
   ]
  },
  {
   "cell_type": "code",
   "execution_count": 5,
   "id": "1c36a211-705a-4779-a8b4-11f1bdb25606",
   "metadata": {},
   "outputs": [],
   "source": [
    "df.to_csv('./input_data_clean/CEO_DF.csv')"
   ]
  },
  {
   "cell_type": "code",
   "execution_count": 6,
   "id": "1b0af30e-4a22-4201-97fa-42b388d57f7c",
   "metadata": {},
   "outputs": [
    {
     "name": "stdout",
     "output_type": "stream",
     "text": [
      "<class 'pandas.core.frame.DataFrame'>\n",
      "RangeIndex: 5649 entries, 0 to 5648\n",
      "Data columns (total 24 columns):\n",
      " #   Column           Non-Null Count  Dtype   \n",
      "---  ------           --------------  -----   \n",
      " 0   Unnamed: 0       5649 non-null   int64   \n",
      " 1   GVKEY            5649 non-null   int64   \n",
      " 2   TICKER           5649 non-null   object  \n",
      " 3   CEOANN           5649 non-null   object  \n",
      " 4   SALARY           5649 non-null   float64 \n",
      " 5   BONUS            5649 non-null   float64 \n",
      " 6   STOCK_AWARDS     5649 non-null   float64 \n",
      " 7   OPTION_AWARDS    5649 non-null   float64 \n",
      " 8   OTHCOMP          5649 non-null   float64 \n",
      " 9   TOTAL_CURR       5649 non-null   float64 \n",
      " 10  AGE              5649 non-null   float64 \n",
      " 11  TDC1             5649 non-null   float64 \n",
      " 12  YEAR             5649 non-null   int64   \n",
      " 13  BECAMECEO        5613 non-null   object  \n",
      " 14  JOINED_CO        1493 non-null   object  \n",
      " 15  LEFTOFC          3530 non-null   object  \n",
      " 16  GENDER           5649 non-null   object  \n",
      " 17  CUSIP            5649 non-null   object  \n",
      " 18  NAICSDESC        5649 non-null   object  \n",
      " 19  SIC              5649 non-null   int64   \n",
      " 20  MKVALT           5028 non-null   float64 \n",
      " 21  SIZE_CATEGORY    5028 non-null   object  \n",
      " 22  signature_index  5649 non-null   object  \n",
      " 23  prestige_power   5649 non-null   category\n",
      "dtypes: category(1), float64(9), int64(4), object(10)\n",
      "memory usage: 1020.9+ KB\n"
     ]
    }
   ],
   "source": [
    "df.info()"
   ]
  },
  {
   "cell_type": "code",
   "execution_count": 79,
   "id": "12910165-77d7-4919-8e66-46ade22aad0a",
   "metadata": {},
   "outputs": [],
   "source": [
    "import pandas as pd\n",
    "\n",
    "# Read in the dataset\n",
    "df = pd.read_csv('./input_data_clean/director_comp_deter.csv')\n",
    "bod_df = pd.read_csv('./input_data_clean/BOD_DF.csv')"
   ]
  },
  {
   "cell_type": "code",
   "execution_count": 80,
   "id": "88e07aa2-0202-42f9-abb8-2e4f50cd3db1",
   "metadata": {},
   "outputs": [
    {
     "name": "stdout",
     "output_type": "stream",
     "text": [
      "<class 'pandas.core.frame.DataFrame'>\n",
      "RangeIndex: 7035 entries, 0 to 7034\n",
      "Data columns (total 32 columns):\n",
      " #   Column               Non-Null Count  Dtype  \n",
      "---  ------               --------------  -----  \n",
      " 0   Unnamed: 0           7035 non-null   int64  \n",
      " 1   gvkey                7035 non-null   int64  \n",
      " 2   ticker               7035 non-null   object \n",
      " 3   total_sec            7035 non-null   float64\n",
      " 4   othcomp              7035 non-null   float64\n",
      " 5   noneq_incent         7035 non-null   float64\n",
      " 6   cash_fees            7035 non-null   float64\n",
      " 7   stock_awards         7035 non-null   float64\n",
      " 8   option_awards        7035 non-null   float64\n",
      " 9   spcode               7035 non-null   object \n",
      " 10  cusip                7035 non-null   object \n",
      " 11  coname               7035 non-null   object \n",
      " 12  year                 7035 non-null   int64  \n",
      " 13  total_director_comp  7035 non-null   float64\n",
      " 14  total_othcomp        7035 non-null   float64\n",
      " 15  total_noneq_incent   7035 non-null   float64\n",
      " 16  total_cash_fees      7035 non-null   float64\n",
      " 17  total_stock_awards   7035 non-null   float64\n",
      " 18  total_option_awards  7035 non-null   float64\n",
      " 19  mkvalt               5975 non-null   float64\n",
      " 20  size_category        5975 non-null   object \n",
      " 21  signature_index      7035 non-null   object \n",
      " 22  tic                  5965 non-null   object \n",
      " 23  fyear                5965 non-null   float64\n",
      " 24  liquidity            3477 non-null   float64\n",
      " 25  net_income           3149 non-null   float64\n",
      " 26  num_employees        5907 non-null   float64\n",
      " 27  market_value         4949 non-null   float64\n",
      " 28  debt_to_equity       5949 non-null   float64\n",
      " 29  assets_in_place      5233 non-null   float64\n",
      " 30  capex_by_assets      3147 non-null   float64\n",
      " 31  return_on_equity     3149 non-null   float64\n",
      "dtypes: float64(22), int64(3), object(7)\n",
      "memory usage: 1.7+ MB\n"
     ]
    }
   ],
   "source": [
    "bod_df.info()"
   ]
  },
  {
   "cell_type": "code",
   "execution_count": 81,
   "id": "72df676d-ed1e-43f3-934d-6e9df181015b",
   "metadata": {},
   "outputs": [
    {
     "name": "stdout",
     "output_type": "stream",
     "text": [
      "<class 'pandas.core.frame.DataFrame'>\n",
      "RangeIndex: 5762 entries, 0 to 5761\n",
      "Data columns (total 11 columns):\n",
      " #   Column            Non-Null Count  Dtype  \n",
      "---  ------            --------------  -----  \n",
      " 0   Unnamed: 0        5762 non-null   int64  \n",
      " 1   tic               5762 non-null   object \n",
      " 2   fyear             5762 non-null   float64\n",
      " 3   liquidity         4142 non-null   float64\n",
      " 4   net_income        3977 non-null   float64\n",
      " 5   num_employees     5687 non-null   float64\n",
      " 6   market_value      5078 non-null   float64\n",
      " 7   debt_to_equity    5728 non-null   float64\n",
      " 8   assets_in_place   5274 non-null   float64\n",
      " 9   capex_by_assets   3974 non-null   float64\n",
      " 10  return_on_equity  3977 non-null   float64\n",
      "dtypes: float64(9), int64(1), object(1)\n",
      "memory usage: 495.3+ KB\n"
     ]
    }
   ],
   "source": [
    "df.info()\n"
   ]
  },
  {
   "cell_type": "code",
   "execution_count": 82,
   "id": "8868d80d-f138-4e59-b2fb-339c35c88026",
   "metadata": {},
   "outputs": [],
   "source": [
    "bod_df = bod_df.merge(df, left_on = ['ticker', 'year'], right_on = ['tic', 'fyear'], how = 'inner')"
   ]
  },
  {
   "cell_type": "code",
   "execution_count": 83,
   "id": "25863e89-1410-41a6-a1d3-1a7b6f694415",
   "metadata": {},
   "outputs": [],
   "source": [
    "# bod_df = bod_df.drop(columns=['Unnamed: 0_y', 'tic_y', 'fyear_y', 'liquidity_y', 'net_income_y', 'num_employees_y', 'market_value_y', 'debt_to_equity_y', 'assets_in_place_y', 'capex_by_assets_y', 'return_on_equity_y'])\n",
    "bod_df = bod_df.rename(columns=lambda x: x.replace('_x', '') if not x.startswith('Unnamed') and x.endswith('_x') else x)\n",
    "bod_df = bod_df.drop(columns=[col for col in bod_df.columns if col.endswith('_y')])\n"
   ]
  },
  {
   "cell_type": "code",
   "execution_count": 85,
   "id": "8ebc316e-6d3e-4a13-9697-911283fe5910",
   "metadata": {
    "tags": []
   },
   "outputs": [
    {
     "name": "stdout",
     "output_type": "stream",
     "text": [
      "<class 'pandas.core.frame.DataFrame'>\n",
      "Int64Index: 8773 entries, 0 to 8772\n",
      "Data columns (total 29 columns):\n",
      " #   Column               Non-Null Count  Dtype  \n",
      "---  ------               --------------  -----  \n",
      " 0   gvkey                8773 non-null   int64  \n",
      " 1   ticker               8773 non-null   object \n",
      " 2   total_sec            8773 non-null   float64\n",
      " 3   othcomp              8773 non-null   float64\n",
      " 4   noneq_incent         8773 non-null   float64\n",
      " 5   cash_fees            8773 non-null   float64\n",
      " 6   stock_awards         8773 non-null   float64\n",
      " 7   option_awards        8773 non-null   float64\n",
      " 8   spcode               8773 non-null   object \n",
      " 9   cusip                8773 non-null   object \n",
      " 10  coname               8773 non-null   object \n",
      " 11  year                 8773 non-null   int64  \n",
      " 12  total_director_comp  8773 non-null   float64\n",
      " 13  total_othcomp        8773 non-null   float64\n",
      " 14  total_noneq_incent   8773 non-null   float64\n",
      " 15  total_cash_fees      8773 non-null   float64\n",
      " 16  total_stock_awards   8773 non-null   float64\n",
      " 17  total_option_awards  8773 non-null   float64\n",
      " 18  mkvalt               6922 non-null   float64\n",
      " 19  size_category        6922 non-null   object \n",
      " 20  signature_index      8773 non-null   object \n",
      " 21  liquidity            3885 non-null   float64\n",
      " 22  net_income           3149 non-null   float64\n",
      " 23  num_employees        8699 non-null   float64\n",
      " 24  market_value         6829 non-null   float64\n",
      " 25  debt_to_equity       8757 non-null   float64\n",
      " 26  assets_in_place      7321 non-null   float64\n",
      " 27  capex_by_assets      3147 non-null   float64\n",
      " 28  return_on_equity     3149 non-null   float64\n",
      "dtypes: float64(21), int64(2), object(6)\n",
      "memory usage: 2.0+ MB\n"
     ]
    }
   ],
   "source": [
    "bod_df.drop(['Unnamed: 0_x', 'tic', 'fyear'], axis=1, inplace=True)\n",
    "\n",
    "bod_df.info()\n"
   ]
  },
  {
   "cell_type": "code",
   "execution_count": 21,
   "id": "4d5a933e-b1e7-4bb3-a9cb-ba143305a25b",
   "metadata": {},
   "outputs": [],
   "source": [
    "bod_df.rename(columns={col: col.lower() for col in bod_df.columns}, inplace=True)"
   ]
  },
  {
   "cell_type": "code",
   "execution_count": 67,
   "id": "abe7183c-d2a2-4d5c-a990-d83643e63790",
   "metadata": {},
   "outputs": [
    {
     "name": "stdout",
     "output_type": "stream",
     "text": [
      "<class 'pandas.core.frame.DataFrame'>\n",
      "RangeIndex: 5649 entries, 0 to 5648\n",
      "Data columns (total 25 columns):\n",
      " #   Column           Non-Null Count  Dtype  \n",
      "---  ------           --------------  -----  \n",
      " 0   Unnamed: 0.1     5649 non-null   int64  \n",
      " 1   Unnamed: 0       5649 non-null   int64  \n",
      " 2   GVKEY            5649 non-null   int64  \n",
      " 3   TICKER           5649 non-null   object \n",
      " 4   CEOANN           5649 non-null   object \n",
      " 5   SALARY           5649 non-null   float64\n",
      " 6   BONUS            5649 non-null   float64\n",
      " 7   STOCK_AWARDS     5649 non-null   float64\n",
      " 8   OPTION_AWARDS    5649 non-null   float64\n",
      " 9   OTHCOMP          5649 non-null   float64\n",
      " 10  TOTAL_CURR       5649 non-null   float64\n",
      " 11  AGE              5649 non-null   float64\n",
      " 12  TDC1             5649 non-null   float64\n",
      " 13  YEAR             5649 non-null   int64  \n",
      " 14  BECAMECEO        5613 non-null   object \n",
      " 15  JOINED_CO        1493 non-null   object \n",
      " 16  LEFTOFC          3530 non-null   object \n",
      " 17  GENDER           5649 non-null   object \n",
      " 18  CUSIP            5649 non-null   object \n",
      " 19  NAICSDESC        5649 non-null   object \n",
      " 20  SIC              5649 non-null   int64  \n",
      " 21  MKVALT           5028 non-null   float64\n",
      " 22  SIZE_CATEGORY    5028 non-null   object \n",
      " 23  signature_index  5649 non-null   object \n",
      " 24  prestige_power   5649 non-null   int64  \n",
      "dtypes: float64(9), int64(6), object(10)\n",
      "memory usage: 1.1+ MB\n"
     ]
    }
   ],
   "source": [
    "bod_df.info()"
   ]
  },
  {
   "cell_type": "code",
   "execution_count": 86,
   "id": "21b85db0-23ce-4af6-9536-79f733a66c59",
   "metadata": {},
   "outputs": [],
   "source": [
    "bod_df.to_csv('./input_data_clean/BOD_DF.csv')\n",
    "\n"
   ]
  },
  {
   "cell_type": "code",
   "execution_count": null,
   "id": "6464dfb5-a4c0-46fd-8fce-a1f41ed64420",
   "metadata": {},
   "outputs": [],
   "source": [
    "#######################now ceos"
   ]
  },
  {
   "cell_type": "code",
   "execution_count": 175,
   "id": "22b22e47-8595-46ca-b436-86b1567c79a4",
   "metadata": {},
   "outputs": [],
   "source": [
    "import pandas as pd\n",
    "\n",
    "# Read in the dataset\n",
    "df = pd.read_csv('./input_data_clean/CEO_BOD_Clean.csv')\n",
    "ceo_df = pd.read_csv('./input_data_clean/CEO_DF.csv')"
   ]
  },
  {
   "cell_type": "code",
   "execution_count": 177,
   "id": "c601a341-bf3a-4209-a1ed-bd4f4feb7f1e",
   "metadata": {},
   "outputs": [
    {
     "name": "stdout",
     "output_type": "stream",
     "text": [
      "<class 'pandas.core.frame.DataFrame'>\n",
      "RangeIndex: 7317 entries, 0 to 7316\n",
      "Data columns (total 15 columns):\n",
      " #   Column           Non-Null Count  Dtype  \n",
      "---  ------           --------------  -----  \n",
      " 0   Unnamed: 0       7317 non-null   int64  \n",
      " 1   GVKEY_x          7317 non-null   int64  \n",
      " 2   TICKER           7317 non-null   object \n",
      " 3   AGE              7317 non-null   float64\n",
      " 4   TDC1             7317 non-null   float64\n",
      " 5   YEAR             7317 non-null   int64  \n",
      " 6   BECAMECEO        7275 non-null   object \n",
      " 7   STOCK_AWARDS_x   7317 non-null   float64\n",
      " 8   STOCK_AWARDS_y   7317 non-null   float64\n",
      " 9   ownershipRatio   7317 non-null   float64\n",
      " 10  ownershipPower   7317 non-null   int64  \n",
      " 11  yearServed       7275 non-null   float64\n",
      " 12  prestiegePower   7317 non-null   int64  \n",
      " 13  SIZE_CATEGORY_x  6168 non-null   object \n",
      " 14  MKVALT_x         6168 non-null   float64\n",
      "dtypes: float64(7), int64(5), object(3)\n",
      "memory usage: 857.6+ KB\n"
     ]
    }
   ],
   "source": [
    "df.info()"
   ]
  },
  {
   "cell_type": "code",
   "execution_count": 180,
   "id": "9622756d-b62a-4f3c-ae08-4796604ecce9",
   "metadata": {},
   "outputs": [],
   "source": [
    "df = df.rename(columns=lambda x: x.replace('_x', '') if not x.startswith('Unnamed') and x.endswith('_x') else x)\n",
    "df = df.drop(columns=[col for col in df.columns if col.endswith('_y')])\n",
    "df.rename(columns={col: col.lower() for col in df.columns}, inplace=True)"
   ]
  },
  {
   "cell_type": "code",
   "execution_count": 181,
   "id": "0efac806-4c06-4c6e-b218-687e9ef66d70",
   "metadata": {},
   "outputs": [
    {
     "name": "stdout",
     "output_type": "stream",
     "text": [
      "<class 'pandas.core.frame.DataFrame'>\n",
      "RangeIndex: 7317 entries, 0 to 7316\n",
      "Data columns (total 14 columns):\n",
      " #   Column          Non-Null Count  Dtype  \n",
      "---  ------          --------------  -----  \n",
      " 0   unnamed: 0      7317 non-null   int64  \n",
      " 1   gvkey           7317 non-null   int64  \n",
      " 2   ticker          7317 non-null   object \n",
      " 3   age             7317 non-null   float64\n",
      " 4   tdc1            7317 non-null   float64\n",
      " 5   year            7317 non-null   int64  \n",
      " 6   becameceo       7275 non-null   object \n",
      " 7   stock_awards    7317 non-null   float64\n",
      " 8   ownershipratio  7317 non-null   float64\n",
      " 9   ownershippower  7317 non-null   int64  \n",
      " 10  yearserved      7275 non-null   float64\n",
      " 11  prestiegepower  7317 non-null   int64  \n",
      " 12  size_category   6168 non-null   object \n",
      " 13  mkvalt          6168 non-null   float64\n",
      "dtypes: float64(6), int64(5), object(3)\n",
      "memory usage: 800.4+ KB\n"
     ]
    }
   ],
   "source": [
    "df.info()"
   ]
  },
  {
   "cell_type": "code",
   "execution_count": null,
   "id": "313c3971-261c-41e2-8d00-a3e6f78b5fd6",
   "metadata": {},
   "outputs": [],
   "source": []
  },
  {
   "cell_type": "code",
   "execution_count": 176,
   "id": "40a149a3-2c11-40fe-baee-fc044def8a00",
   "metadata": {},
   "outputs": [
    {
     "name": "stdout",
     "output_type": "stream",
     "text": [
      "<class 'pandas.core.frame.DataFrame'>\n",
      "RangeIndex: 31835 entries, 0 to 31834\n",
      "Data columns (total 27 columns):\n",
      " #   Column           Non-Null Count  Dtype  \n",
      "---  ------           --------------  -----  \n",
      " 0   Unnamed: 0       31835 non-null  int64  \n",
      " 1   gvkey            31835 non-null  int64  \n",
      " 2   ticker           31835 non-null  object \n",
      " 3   salary           31835 non-null  float64\n",
      " 4   bonus            31835 non-null  float64\n",
      " 5   stock_awards     31835 non-null  float64\n",
      " 6   option_awards    31835 non-null  float64\n",
      " 7   othcomp          31835 non-null  float64\n",
      " 8   total_curr       31835 non-null  float64\n",
      " 9   age              31835 non-null  float64\n",
      " 10  tdc1             31835 non-null  float64\n",
      " 11  year             31835 non-null  int64  \n",
      " 12  becameceo        31498 non-null  float64\n",
      " 13  joined_co        6927 non-null   float64\n",
      " 14  leftofc          18009 non-null  float64\n",
      " 15  gender           31835 non-null  object \n",
      " 16  cusip            31835 non-null  int64  \n",
      " 17  naicsdesc        31835 non-null  int64  \n",
      " 18  sic              31835 non-null  int64  \n",
      " 19  mkvalt           22902 non-null  float64\n",
      " 20  size_category    22902 non-null  object \n",
      " 21  signature_index  31835 non-null  object \n",
      " 22  ownershipratio   31019 non-null  float64\n",
      " 23  ownershippower   31835 non-null  int64  \n",
      " 24  yearserved       31700 non-null  float64\n",
      " 25  prestiegepower   31835 non-null  int64  \n",
      " 26  stock_awards.1   31835 non-null  float64\n",
      "dtypes: float64(15), int64(8), object(4)\n",
      "memory usage: 6.6+ MB\n"
     ]
    }
   ],
   "source": [
    "ceo_df.info()"
   ]
  },
  {
   "cell_type": "code",
   "execution_count": 182,
   "id": "5dcd37a9-875d-4f0a-b351-ff93ca0da009",
   "metadata": {},
   "outputs": [],
   "source": [
    "ceo_df.drop(['ownershipratio'], axis=1, inplace=True)\n"
   ]
  },
  {
   "cell_type": "code",
   "execution_count": 170,
   "id": "91c42587-f909-4ee1-87c5-e27ef77f73f1",
   "metadata": {},
   "outputs": [],
   "source": [
    "ceo_df.rename(columns={col: col.lower() for col in ceo_df.columns}, inplace=True)"
   ]
  },
  {
   "cell_type": "code",
   "execution_count": 171,
   "id": "f4260c7e-e084-4b64-9e2e-1ab611dd0ec1",
   "metadata": {},
   "outputs": [],
   "source": [
    "df.rename(columns={col: col.lower() for col in df.columns}, inplace=True)"
   ]
  },
  {
   "cell_type": "code",
   "execution_count": 164,
   "id": "b5363511-ed38-43f9-a3d8-41d31d833cd5",
   "metadata": {},
   "outputs": [
    {
     "name": "stdout",
     "output_type": "stream",
     "text": [
      "<class 'pandas.core.frame.DataFrame'>\n",
      "RangeIndex: 7317 entries, 0 to 7316\n",
      "Data columns (total 15 columns):\n",
      " #   Column           Non-Null Count  Dtype  \n",
      "---  ------           --------------  -----  \n",
      " 0   unnamed: 0       7317 non-null   int64  \n",
      " 1   gvkey_x          7317 non-null   int64  \n",
      " 2   ticker           7317 non-null   object \n",
      " 3   age              7317 non-null   float64\n",
      " 4   tdc1             7317 non-null   float64\n",
      " 5   year             7317 non-null   int64  \n",
      " 6   becameceo        7275 non-null   object \n",
      " 7   stock_awards_x   7317 non-null   float64\n",
      " 8   stock_awards_y   7317 non-null   float64\n",
      " 9   ownershipratio   7317 non-null   float64\n",
      " 10  ownershippower   7317 non-null   int64  \n",
      " 11  yearserved       7275 non-null   float64\n",
      " 12  prestiegepower   7317 non-null   int64  \n",
      " 13  size_category_x  6168 non-null   object \n",
      " 14  mkvalt_x         6168 non-null   float64\n",
      "dtypes: float64(7), int64(5), object(3)\n",
      "memory usage: 857.6+ KB\n"
     ]
    }
   ],
   "source": [
    "df.info()"
   ]
  },
  {
   "cell_type": "code",
   "execution_count": 42,
   "id": "379a4bc8-2bfc-4f53-97ce-a0800d02d1a5",
   "metadata": {},
   "outputs": [
    {
     "name": "stdout",
     "output_type": "stream",
     "text": [
      "<class 'pandas.core.frame.DataFrame'>\n",
      "RangeIndex: 5649 entries, 0 to 5648\n",
      "Data columns (total 23 columns):\n",
      " #   Column           Non-Null Count  Dtype  \n",
      "---  ------           --------------  -----  \n",
      " 0   gvkey            5649 non-null   int64  \n",
      " 1   ticker           5649 non-null   object \n",
      " 2   ceoann           5649 non-null   object \n",
      " 3   salary           5649 non-null   float64\n",
      " 4   bonus            5649 non-null   float64\n",
      " 5   stock_awards     5649 non-null   float64\n",
      " 6   option_awards    5649 non-null   float64\n",
      " 7   othcomp          5649 non-null   float64\n",
      " 8   total_curr       5649 non-null   float64\n",
      " 9   age              5649 non-null   float64\n",
      " 10  tdc1             5649 non-null   float64\n",
      " 11  year             5649 non-null   int64  \n",
      " 12  becameceo        5613 non-null   object \n",
      " 13  joined_co        1493 non-null   object \n",
      " 14  leftofc          3530 non-null   object \n",
      " 15  gender           5649 non-null   object \n",
      " 16  cusip            5649 non-null   object \n",
      " 17  naicsdesc        5649 non-null   object \n",
      " 18  sic              5649 non-null   int64  \n",
      " 19  mkvalt           5028 non-null   float64\n",
      " 20  size_category    5028 non-null   object \n",
      " 21  signature_index  5649 non-null   object \n",
      " 22  prestige_power   5649 non-null   int64  \n",
      "dtypes: float64(9), int64(4), object(10)\n",
      "memory usage: 1015.2+ KB\n"
     ]
    }
   ],
   "source": [
    "ceo_df.rename(columns={col: col.lower() for col in ceo_df.columns}, inplace=True)\n",
    "ceo_df.info()"
   ]
  },
  {
   "cell_type": "code",
   "execution_count": 150,
   "id": "4285384d-e41f-40d4-a450-cbfc523a4fa6",
   "metadata": {},
   "outputs": [],
   "source": [
    "# assume df is your DataFrame\n",
    "df.rename(columns={'size_category_x': 'size_category'}, inplace=True)\n",
    "df.rename(columns={'mkvalt_x': 'mkvalt'}, inplace=True)\n",
    "df.rename(columns={'gvkey_x': 'gvkey'}, inplace=True)\n"
   ]
  },
  {
   "cell_type": "code",
   "execution_count": 183,
   "id": "c4942492-8dd7-4811-96bc-02df1b5e3dac",
   "metadata": {},
   "outputs": [],
   "source": [
    "ceo_df = ceo_df.merge(df, on = ['ticker', 'year'], how= 'inner')"
   ]
  },
  {
   "cell_type": "code",
   "execution_count": 152,
   "id": "21f4e33d-2d7c-4feb-a3c3-dbcdd75a9cd9",
   "metadata": {},
   "outputs": [
    {
     "name": "stdout",
     "output_type": "stream",
     "text": [
      "<class 'pandas.core.frame.DataFrame'>\n",
      "RangeIndex: 7317 entries, 0 to 7316\n",
      "Data columns (total 15 columns):\n",
      " #   Column          Non-Null Count  Dtype  \n",
      "---  ------          --------------  -----  \n",
      " 0   unnamed: 0      7317 non-null   int64  \n",
      " 1   gvkey           7317 non-null   int64  \n",
      " 2   ticker          7317 non-null   object \n",
      " 3   age             7317 non-null   float64\n",
      " 4   tdc1            7317 non-null   float64\n",
      " 5   year            7317 non-null   int64  \n",
      " 6   becameceo       7275 non-null   object \n",
      " 7   stock_awards_x  7317 non-null   float64\n",
      " 8   stock_awards_y  7317 non-null   float64\n",
      " 9   ownershipratio  7317 non-null   float64\n",
      " 10  ownershippower  7317 non-null   int64  \n",
      " 11  yearserved      7275 non-null   float64\n",
      " 12  prestiegepower  7317 non-null   int64  \n",
      " 13  size_category   6168 non-null   object \n",
      " 14  mkvalt          6168 non-null   float64\n",
      "dtypes: float64(7), int64(5), object(3)\n",
      "memory usage: 857.6+ KB\n"
     ]
    }
   ],
   "source": [
    "df.info()\n"
   ]
  },
  {
   "cell_type": "code",
   "execution_count": 185,
   "id": "f0dfe0ae-0648-4f26-92fd-f6e7d55e2397",
   "metadata": {},
   "outputs": [],
   "source": [
    "# assume df1 and df2 are your DataFrames\n",
    "ceo_df = ceo_df.rename(columns=lambda x: x.replace('_x', '') if not x.startswith('Unnamed') and x.endswith('_x') else x)\n",
    "ceo_df = ceo_df.drop(columns=[col for col in ceo_df.columns if col.endswith('_y')])\n"
   ]
  },
  {
   "cell_type": "code",
   "execution_count": 188,
   "id": "b0d871de-4206-4e88-9e60-9034dfbccebc",
   "metadata": {},
   "outputs": [
    {
     "name": "stdout",
     "output_type": "stream",
     "text": [
      "<class 'pandas.core.frame.DataFrame'>\n",
      "Int64Index: 115859 entries, 0 to 115858\n",
      "Data columns (total 25 columns):\n",
      " #   Column           Non-Null Count   Dtype  \n",
      "---  ------           --------------   -----  \n",
      " 0   gvkey            115859 non-null  int64  \n",
      " 1   ticker           115859 non-null  object \n",
      " 2   salary           115859 non-null  float64\n",
      " 3   bonus            115859 non-null  float64\n",
      " 4   stock_awards     115859 non-null  float64\n",
      " 5   option_awards    115859 non-null  float64\n",
      " 6   othcomp          115859 non-null  float64\n",
      " 7   total_curr       115859 non-null  float64\n",
      " 8   age              115859 non-null  float64\n",
      " 9   tdc1             115859 non-null  float64\n",
      " 10  year             115859 non-null  int64  \n",
      " 11  becameceo        114646 non-null  float64\n",
      " 12  joined_co        24503 non-null   float64\n",
      " 13  leftofc          64481 non-null   float64\n",
      " 14  gender           115859 non-null  object \n",
      " 15  cusip            115859 non-null  int64  \n",
      " 16  naicsdesc        115859 non-null  int64  \n",
      " 17  sic              115859 non-null  int64  \n",
      " 18  mkvalt           80238 non-null   float64\n",
      " 19  size_category    80238 non-null   object \n",
      " 20  signature_index  115859 non-null  object \n",
      " 21  ownershippower   115859 non-null  int64  \n",
      " 22  yearserved       115424 non-null  float64\n",
      " 23  prestiegepower   115859 non-null  int64  \n",
      " 24  ownershipratio   115859 non-null  float64\n",
      "dtypes: float64(14), int64(7), object(4)\n",
      "memory usage: 23.0+ MB\n"
     ]
    }
   ],
   "source": [
    "ceo_df.info()"
   ]
  },
  {
   "cell_type": "code",
   "execution_count": 187,
   "id": "51ec4af8-d495-48aa-b09e-cafb3fb4dbf3",
   "metadata": {},
   "outputs": [],
   "source": [
    "# ceo_df.drop(['gvkey_y', 'age_y', 'mkvalt_y'], axis=1, inplace=True)\n",
    "# ceo_df.rename(columns={'gvkey_x': 'gvkey', 'age_x': 'age', 'mkvalt_x': 'mkvalt'}, inplace=True)\n",
    "# ceo_df = ceo_df.loc[:, ~ceo_df.columns.duplicated()]\n",
    "ceo_df.drop(['unnamed: 0', 'Unnamed: 0', 'stock_awards.1'], axis=1, inplace=True)\n"
   ]
  },
  {
   "cell_type": "code",
   "execution_count": null,
   "id": "4d4ea38f-61d2-45d3-a22d-bdccaa013a09",
   "metadata": {},
   "outputs": [],
   "source": [
    "ceo_df = pd.get_dummies(ceo_df, columns=['NAICSDESC'], prefix='', prefix_sep='')\n"
   ]
  },
  {
   "cell_type": "code",
   "execution_count": 189,
   "id": "fa4af4e7-50dd-4bcd-975b-7e1c9a16aaf7",
   "metadata": {},
   "outputs": [],
   "source": [
    "ceo_df.to_csv('./input_data_clean/CEO_DF.csv')\n"
   ]
  },
  {
   "cell_type": "code",
   "execution_count": 91,
   "id": "a3c90806-bc2f-4bf7-b1a4-4960f6951d94",
   "metadata": {},
   "outputs": [],
   "source": [
    "ceo_df = pd.read_csv('./input_data_clean/CEO_DF.csv')"
   ]
  },
  {
   "cell_type": "code",
   "execution_count": 157,
   "id": "f3d16b7e-f10f-4425-a7ca-a2951639bd36",
   "metadata": {},
   "outputs": [],
   "source": [
    "ceo_df.drop(['unnamed: 0'], axis=1, inplace=True)\n"
   ]
  },
  {
   "cell_type": "code",
   "execution_count": null,
   "id": "f798531a-8fc2-4e7b-a7ac-996af96d9414",
   "metadata": {},
   "outputs": [],
   "source": []
  },
  {
   "cell_type": "code",
   "execution_count": null,
   "id": "d32d75f7-1586-47aa-9839-b8dd0fd6adee",
   "metadata": {},
   "outputs": [],
   "source": []
  },
  {
   "cell_type": "code",
   "execution_count": 132,
   "id": "08c1182b-f891-4972-a9dd-2a55528da238",
   "metadata": {},
   "outputs": [],
   "source": [
    "ceo_df.drop(['ceoann'], axis=1, inplace=True)\n"
   ]
  },
  {
   "cell_type": "code",
   "execution_count": null,
   "id": "4ac25852-072f-42c3-884a-a7440dee6d4c",
   "metadata": {},
   "outputs": [],
   "source": []
  },
  {
   "cell_type": "code",
   "execution_count": null,
   "id": "a49a38c2-8683-44a6-97d0-8c513b5e52d9",
   "metadata": {},
   "outputs": [],
   "source": []
  },
  {
   "cell_type": "code",
   "execution_count": 95,
   "id": "4743e2a4-7f5f-43db-8eaf-917c68328275",
   "metadata": {},
   "outputs": [],
   "source": [
    "from sklearn.preprocessing import LabelEncoder\n",
    "\n",
    "le = LabelEncoder()\n",
    "ceo_df['naicsdesc'] = le.fit_transform(ceo_df['naicsdesc'])\n"
   ]
  },
  {
   "cell_type": "code",
   "execution_count": 135,
   "id": "4ea7a60d-cff8-482c-9020-812366520de2",
   "metadata": {},
   "outputs": [
    {
     "name": "stdout",
     "output_type": "stream",
     "text": [
      "<class 'pandas.core.frame.DataFrame'>\n",
      "RangeIndex: 10823 entries, 0 to 10822\n",
      "Data columns (total 25 columns):\n",
      " #   Column           Non-Null Count  Dtype  \n",
      "---  ------           --------------  -----  \n",
      " 0   gvkey            10823 non-null  int64  \n",
      " 1   ticker           10823 non-null  object \n",
      " 2   salary           10823 non-null  float64\n",
      " 3   bonus            10823 non-null  float64\n",
      " 4   stock_awards     10823 non-null  float64\n",
      " 5   option_awards    10823 non-null  float64\n",
      " 6   othcomp          10823 non-null  float64\n",
      " 7   total_curr       10823 non-null  float64\n",
      " 8   age              10823 non-null  float64\n",
      " 9   tdc1             10823 non-null  float64\n",
      " 10  year             10823 non-null  int64  \n",
      " 11  becameceo        10708 non-null  float64\n",
      " 12  joined_co        2531 non-null   float64\n",
      " 13  leftofc          6389 non-null   float64\n",
      " 14  gender           10823 non-null  object \n",
      " 15  cusip            10823 non-null  int64  \n",
      " 16  naicsdesc        10823 non-null  int64  \n",
      " 17  sic              10823 non-null  int64  \n",
      " 18  mkvalt           8562 non-null   float64\n",
      " 19  size_category    8562 non-null   object \n",
      " 20  signature_index  10823 non-null  object \n",
      " 21  ownershipratio   10487 non-null  float64\n",
      " 22  ownershippower   10823 non-null  int64  \n",
      " 23  yearserved       10766 non-null  float64\n",
      " 24  prestiegepower   10823 non-null  int64  \n",
      "dtypes: float64(14), int64(7), object(4)\n",
      "memory usage: 2.1+ MB\n"
     ]
    }
   ],
   "source": [
    "ceo_df.info()"
   ]
  },
  {
   "cell_type": "code",
   "execution_count": 158,
   "id": "5cd30e2c-f9cd-425d-ba15-a86f34631fa5",
   "metadata": {},
   "outputs": [],
   "source": [
    "ceo_df.to_csv('./input_data_clean/CEO_DF.csv')\n"
   ]
  },
  {
   "cell_type": "code",
   "execution_count": 159,
   "id": "323534bf-0605-4ad2-b377-7bbc2493f044",
   "metadata": {},
   "outputs": [
    {
     "data": {
      "text/plain": [
       "count    3.101900e+04\n",
       "mean              inf\n",
       "std               NaN\n",
       "min      0.000000e+00\n",
       "25%      3.202882e+00\n",
       "50%      5.260440e+00\n",
       "75%      9.441683e+00\n",
       "max               inf\n",
       "Name: ownershipratio, dtype: float64"
      ]
     },
     "execution_count": 159,
     "metadata": {},
     "output_type": "execute_result"
    }
   ],
   "source": [
    "ceo_df['ownershipratio'].describe()"
   ]
  },
  {
   "cell_type": "code",
   "execution_count": 126,
   "id": "266ad719-8173-421b-879e-8c1e24fa321c",
   "metadata": {},
   "outputs": [],
   "source": [
    "ceo_df = pd.read_csv('./input_data_clean/CEO_DF.csv')\n",
    "\n",
    "import datetime as dt\n",
    "import numpy as np\n",
    "ceo_df['becameceo'] = pd.to_datetime(ceo_df['becameceo'])\n",
    "ceo_df['becameceo'] = ceo_df['becameceo'].astype(np.int64)\n",
    "ceo_df.loc[ceo_df['becameceo'] < 0, 'becameceo'] = np.nan\n",
    "ceo_df['joined_co'] = pd.to_datetime(ceo_df['joined_co'])\n",
    "ceo_df['joined_co'] = ceo_df['joined_co'].astype(np.int64)\n",
    "ceo_df.loc[ceo_df['joined_co'] < 0, 'joined_co'] = np.nan\n",
    "ceo_df['leftofc'] = pd.to_datetime(ceo_df['leftofc'])\n",
    "ceo_df['leftofc'] = ceo_df['leftofc'].astype(np.int64)\n",
    "ceo_df.loc[ceo_df['leftofc'] < 0, 'leftofc'] = np.nan\n",
    "\n",
    "from sklearn.preprocessing import LabelEncoder\n",
    "\n",
    "le = LabelEncoder()\n",
    "ceo_df['cusip'] = le.fit_transform(ceo_df['cusip'])\n"
   ]
  },
  {
   "cell_type": "code",
   "execution_count": 140,
   "id": "23d0d176-338a-4b29-be05-38327e157cdd",
   "metadata": {},
   "outputs": [],
   "source": [
    "p_df = pd.read_csv('./input_data_clean/CEO_BOD_Clean.csv')"
   ]
  },
  {
   "cell_type": "code",
   "execution_count": 141,
   "id": "e3c64f3a-e1ff-4e18-bb01-bef2ef396f50",
   "metadata": {},
   "outputs": [],
   "source": [
    "check = p_df['ownershipRatio']"
   ]
  },
  {
   "cell_type": "code",
   "execution_count": 142,
   "id": "c6dfb87b-5654-47cd-833c-b230bb8724bb",
   "metadata": {},
   "outputs": [],
   "source": [
    "ceo_df = pd.read_csv('./input_data_clean/CEO_DF.csv')\n"
   ]
  },
  {
   "cell_type": "code",
   "execution_count": null,
   "id": "372ad5f3-41a2-45df-a5f8-f9e67ec14c48",
   "metadata": {},
   "outputs": [],
   "source": [
    "ceo_df = ceo_df.merge("
   ]
  },
  {
   "cell_type": "code",
   "execution_count": 143,
   "id": "aadb87ff-fd12-48f0-811c-8d27c78bbb7a",
   "metadata": {},
   "outputs": [
    {
     "name": "stdout",
     "output_type": "stream",
     "text": [
      "<class 'pandas.core.frame.DataFrame'>\n",
      "RangeIndex: 10823 entries, 0 to 10822\n",
      "Data columns (total 26 columns):\n",
      " #   Column           Non-Null Count  Dtype  \n",
      "---  ------           --------------  -----  \n",
      " 0   Unnamed: 0       10823 non-null  int64  \n",
      " 1   gvkey            10823 non-null  int64  \n",
      " 2   ticker           10823 non-null  object \n",
      " 3   salary           10823 non-null  float64\n",
      " 4   bonus            10823 non-null  float64\n",
      " 5   stock_awards     10823 non-null  float64\n",
      " 6   option_awards    10823 non-null  float64\n",
      " 7   othcomp          10823 non-null  float64\n",
      " 8   total_curr       10823 non-null  float64\n",
      " 9   age              10823 non-null  float64\n",
      " 10  tdc1             10823 non-null  float64\n",
      " 11  year             10823 non-null  int64  \n",
      " 12  becameceo        10708 non-null  float64\n",
      " 13  joined_co        2531 non-null   float64\n",
      " 14  leftofc          6389 non-null   float64\n",
      " 15  gender           10823 non-null  object \n",
      " 16  cusip            10823 non-null  int64  \n",
      " 17  naicsdesc        10823 non-null  int64  \n",
      " 18  sic              10823 non-null  int64  \n",
      " 19  mkvalt           8562 non-null   float64\n",
      " 20  size_category    8562 non-null   object \n",
      " 21  signature_index  10823 non-null  object \n",
      " 22  ownershipratio   10487 non-null  float64\n",
      " 23  ownershippower   10823 non-null  int64  \n",
      " 24  yearserved       10766 non-null  float64\n",
      " 25  prestiegepower   10823 non-null  int64  \n",
      "dtypes: float64(14), int64(8), object(4)\n",
      "memory usage: 2.1+ MB\n"
     ]
    }
   ],
   "source": [
    "ceo_df.info()"
   ]
  },
  {
   "cell_type": "code",
   "execution_count": 131,
   "id": "596da4b3-282c-46c6-a86a-2caf6d9bc0e7",
   "metadata": {},
   "outputs": [],
   "source": [
    "ceo_df.to_csv('./input_data_clean/CEO_DF.csv')\n"
   ]
  },
  {
   "cell_type": "code",
   "execution_count": 220,
   "id": "03306144-a441-4eb6-9e89-9b376d543f60",
   "metadata": {},
   "outputs": [],
   "source": [
    "bod_df = pd.read_csv('./input_data_clean/BOD_DF.csv')\n"
   ]
  },
  {
   "cell_type": "code",
   "execution_count": 191,
   "id": "4d60602d-1cb6-4eda-ad4f-403faed83857",
   "metadata": {},
   "outputs": [],
   "source": [
    "bod_df = pd.read_csv('./input_data_clean/BOD_DF.csv')\n",
    "df = pd.read_csv('./input_data_clean/director_comp_deter.csv')"
   ]
  },
  {
   "cell_type": "code",
   "execution_count": 200,
   "id": "6753d6d9-a112-4fe6-bf5d-dcaf77ded7ec",
   "metadata": {},
   "outputs": [
    {
     "name": "stdout",
     "output_type": "stream",
     "text": [
      "<class 'pandas.core.frame.DataFrame'>\n",
      "RangeIndex: 5762 entries, 0 to 5761\n",
      "Data columns (total 11 columns):\n",
      " #   Column            Non-Null Count  Dtype  \n",
      "---  ------            --------------  -----  \n",
      " 0   Unnamed: 0        5762 non-null   int64  \n",
      " 1   tic               5762 non-null   object \n",
      " 2   fyear             5762 non-null   float64\n",
      " 3   liquidity         4142 non-null   float64\n",
      " 4   net_income        3977 non-null   float64\n",
      " 5   num_employees     5687 non-null   float64\n",
      " 6   market_value      5078 non-null   float64\n",
      " 7   debt_to_equity    5728 non-null   float64\n",
      " 8   assets_in_place   5274 non-null   float64\n",
      " 9   capex_by_assets   3974 non-null   float64\n",
      " 10  return_on_equity  3977 non-null   float64\n",
      "dtypes: float64(9), int64(1), object(1)\n",
      "memory usage: 495.3+ KB\n"
     ]
    }
   ],
   "source": [
    "df.info()"
   ]
  },
  {
   "cell_type": "code",
   "execution_count": 197,
   "id": "4870cd04-45f6-45f5-9330-3c4cb5a283c8",
   "metadata": {},
   "outputs": [],
   "source": [
    "from sklearn.preprocessing import LabelEncoder\n",
    "\n",
    "le = LabelEncoder()\n",
    "bod_df['spcode'] = le.fit_transform(bod_df['spcode'])\n"
   ]
  },
  {
   "cell_type": "code",
   "execution_count": 222,
   "id": "9645b114-c4f4-4731-a4aa-47c170548b43",
   "metadata": {},
   "outputs": [
    {
     "name": "stdout",
     "output_type": "stream",
     "text": [
      "<class 'pandas.core.frame.DataFrame'>\n",
      "RangeIndex: 8773 entries, 0 to 8772\n",
      "Data columns (total 25 columns):\n",
      " #   Column               Non-Null Count  Dtype  \n",
      "---  ------               --------------  -----  \n",
      " 0   gvkey                8773 non-null   int64  \n",
      " 1   total_sec            8773 non-null   float64\n",
      " 2   othcomp              8773 non-null   float64\n",
      " 3   noneq_incent         8773 non-null   float64\n",
      " 4   cash_fees            8773 non-null   float64\n",
      " 5   stock_awards         8773 non-null   float64\n",
      " 6   option_awards        8773 non-null   float64\n",
      " 7   spcode               8773 non-null   int64  \n",
      " 8   cusip                8773 non-null   int64  \n",
      " 9   year                 8773 non-null   int64  \n",
      " 10  total_director_comp  8773 non-null   float64\n",
      " 11  total_othcomp        8773 non-null   float64\n",
      " 12  total_noneq_incent   8773 non-null   float64\n",
      " 13  total_cash_fees      8773 non-null   float64\n",
      " 14  total_stock_awards   8773 non-null   float64\n",
      " 15  total_option_awards  8773 non-null   float64\n",
      " 16  mkvalt               6922 non-null   float64\n",
      " 17  liquidity            3885 non-null   float64\n",
      " 18  net_income           3149 non-null   float64\n",
      " 19  num_employees        8699 non-null   float64\n",
      " 20  market_value         6829 non-null   float64\n",
      " 21  debt_to_equity       8757 non-null   float64\n",
      " 22  assets_in_place      7321 non-null   float64\n",
      " 23  capex_by_assets      3147 non-null   float64\n",
      " 24  return_on_equity     3149 non-null   float64\n",
      "dtypes: float64(21), int64(4)\n",
      "memory usage: 1.7 MB\n"
     ]
    }
   ],
   "source": [
    "bod_df.drop(['Unnamed: 0'], axis=1, inplace=True)\n",
    "df.info()"
   ]
  },
  {
   "cell_type": "code",
   "execution_count": 221,
   "id": "1f11b443-424a-4997-ade3-33e1e6786801",
   "metadata": {},
   "outputs": [
    {
     "name": "stdout",
     "output_type": "stream",
     "text": [
      "<class 'pandas.core.frame.DataFrame'>\n",
      "RangeIndex: 8773 entries, 0 to 8772\n",
      "Data columns (total 30 columns):\n",
      " #   Column               Non-Null Count  Dtype  \n",
      "---  ------               --------------  -----  \n",
      " 0   Unnamed: 0           8773 non-null   int64  \n",
      " 1   gvkey                8773 non-null   int64  \n",
      " 2   ticker               8773 non-null   object \n",
      " 3   total_sec            8773 non-null   float64\n",
      " 4   othcomp              8773 non-null   float64\n",
      " 5   noneq_incent         8773 non-null   float64\n",
      " 6   cash_fees            8773 non-null   float64\n",
      " 7   stock_awards         8773 non-null   float64\n",
      " 8   option_awards        8773 non-null   float64\n",
      " 9   spcode               8773 non-null   object \n",
      " 10  cusip                8773 non-null   object \n",
      " 11  coname               8773 non-null   object \n",
      " 12  year                 8773 non-null   int64  \n",
      " 13  total_director_comp  8773 non-null   float64\n",
      " 14  total_othcomp        8773 non-null   float64\n",
      " 15  total_noneq_incent   8773 non-null   float64\n",
      " 16  total_cash_fees      8773 non-null   float64\n",
      " 17  total_stock_awards   8773 non-null   float64\n",
      " 18  total_option_awards  8773 non-null   float64\n",
      " 19  mkvalt               6922 non-null   float64\n",
      " 20  size_category        6922 non-null   object \n",
      " 21  signature_index      8773 non-null   object \n",
      " 22  liquidity            3885 non-null   float64\n",
      " 23  net_income           3149 non-null   float64\n",
      " 24  num_employees        8699 non-null   float64\n",
      " 25  market_value         6829 non-null   float64\n",
      " 26  debt_to_equity       8757 non-null   float64\n",
      " 27  assets_in_place      7321 non-null   float64\n",
      " 28  capex_by_assets      3147 non-null   float64\n",
      " 29  return_on_equity     3149 non-null   float64\n",
      "dtypes: float64(21), int64(3), object(6)\n",
      "memory usage: 2.0+ MB\n"
     ]
    }
   ],
   "source": [
    "bod_df.info()"
   ]
  },
  {
   "cell_type": "code",
   "execution_count": 224,
   "id": "7c8bdf11-bf9e-4665-87f5-427664179b5c",
   "metadata": {},
   "outputs": [],
   "source": [
    "bod_df.to_csv('./input_data_clean/BOD_DF.csv')"
   ]
  },
  {
   "cell_type": "code",
   "execution_count": 225,
   "id": "700857dd-4b31-4312-8cc7-b053722d91b1",
   "metadata": {},
   "outputs": [
    {
     "data": {
      "text/html": [
       "<div>\n",
       "<style scoped>\n",
       "    .dataframe tbody tr th:only-of-type {\n",
       "        vertical-align: middle;\n",
       "    }\n",
       "\n",
       "    .dataframe tbody tr th {\n",
       "        vertical-align: top;\n",
       "    }\n",
       "\n",
       "    .dataframe thead th {\n",
       "        text-align: right;\n",
       "    }\n",
       "</style>\n",
       "<table border=\"1\" class=\"dataframe\">\n",
       "  <thead>\n",
       "    <tr style=\"text-align: right;\">\n",
       "      <th></th>\n",
       "      <th>gvkey</th>\n",
       "      <th>total_sec</th>\n",
       "      <th>othcomp</th>\n",
       "      <th>noneq_incent</th>\n",
       "      <th>cash_fees</th>\n",
       "      <th>stock_awards</th>\n",
       "      <th>option_awards</th>\n",
       "      <th>year</th>\n",
       "      <th>total_director_comp</th>\n",
       "      <th>total_othcomp</th>\n",
       "      <th>total_noneq_incent</th>\n",
       "      <th>total_cash_fees</th>\n",
       "      <th>total_stock_awards</th>\n",
       "      <th>total_option_awards</th>\n",
       "      <th>mkvalt</th>\n",
       "      <th>liquidity</th>\n",
       "      <th>net_income</th>\n",
       "      <th>num_employees</th>\n",
       "      <th>market_value</th>\n",
       "      <th>debt_to_equity</th>\n",
       "      <th>assets_in_place</th>\n",
       "      <th>capex_by_assets</th>\n",
       "      <th>return_on_equity</th>\n",
       "    </tr>\n",
       "  </thead>\n",
       "  <tbody>\n",
       "    <tr>\n",
       "      <th>count</th>\n",
       "      <td>8773.000000</td>\n",
       "      <td>8.773000e+03</td>\n",
       "      <td>8773.000000</td>\n",
       "      <td>8773.000000</td>\n",
       "      <td>8773.000000</td>\n",
       "      <td>8.773000e+03</td>\n",
       "      <td>8773.000000</td>\n",
       "      <td>8773.000000</td>\n",
       "      <td>8773.000000</td>\n",
       "      <td>8773.000000</td>\n",
       "      <td>8773.000000</td>\n",
       "      <td>8773.000000</td>\n",
       "      <td>8773.000000</td>\n",
       "      <td>8773.000000</td>\n",
       "      <td>6.922000e+03</td>\n",
       "      <td>3885.000000</td>\n",
       "      <td>3149.000000</td>\n",
       "      <td>8699.000000</td>\n",
       "      <td>6829.000000</td>\n",
       "      <td>8757.000000</td>\n",
       "      <td>7321.000000</td>\n",
       "      <td>3147.000000</td>\n",
       "      <td>3149.000000</td>\n",
       "    </tr>\n",
       "    <tr>\n",
       "      <th>mean</th>\n",
       "      <td>51126.038983</td>\n",
       "      <td>4.872646e+02</td>\n",
       "      <td>17.904714</td>\n",
       "      <td>0.028434</td>\n",
       "      <td>100.167401</td>\n",
       "      <td>3.556027e+02</td>\n",
       "      <td>13.585409</td>\n",
       "      <td>2015.505414</td>\n",
       "      <td>2226.621567</td>\n",
       "      <td>128.295294</td>\n",
       "      <td>3.998807</td>\n",
       "      <td>862.832307</td>\n",
       "      <td>996.453693</td>\n",
       "      <td>211.805984</td>\n",
       "      <td>4.102918e+04</td>\n",
       "      <td>0.137121</td>\n",
       "      <td>1678.147851</td>\n",
       "      <td>40.622200</td>\n",
       "      <td>33201.705902</td>\n",
       "      <td>3.789363</td>\n",
       "      <td>0.246035</td>\n",
       "      <td>0.045511</td>\n",
       "      <td>0.066440</td>\n",
       "    </tr>\n",
       "    <tr>\n",
       "      <th>std</th>\n",
       "      <td>63506.010925</td>\n",
       "      <td>2.057758e+04</td>\n",
       "      <td>180.524592</td>\n",
       "      <td>1.063338</td>\n",
       "      <td>62.210634</td>\n",
       "      <td>2.057780e+04</td>\n",
       "      <td>117.750978</td>\n",
       "      <td>2.300127</td>\n",
       "      <td>1449.372677</td>\n",
       "      <td>401.249800</td>\n",
       "      <td>94.135958</td>\n",
       "      <td>559.613384</td>\n",
       "      <td>819.851177</td>\n",
       "      <td>648.630627</td>\n",
       "      <td>7.221464e+04</td>\n",
       "      <td>0.163929</td>\n",
       "      <td>3927.863067</td>\n",
       "      <td>97.706821</td>\n",
       "      <td>56756.406571</td>\n",
       "      <td>20.894526</td>\n",
       "      <td>0.350103</td>\n",
       "      <td>0.040322</td>\n",
       "      <td>0.080396</td>\n",
       "    </tr>\n",
       "    <tr>\n",
       "      <th>min</th>\n",
       "      <td>1045.000000</td>\n",
       "      <td>0.000000e+00</td>\n",
       "      <td>-252.000000</td>\n",
       "      <td>0.000000</td>\n",
       "      <td>0.000000</td>\n",
       "      <td>0.000000e+00</td>\n",
       "      <td>0.000000</td>\n",
       "      <td>2011.000000</td>\n",
       "      <td>0.000000</td>\n",
       "      <td>0.000000</td>\n",
       "      <td>0.000000</td>\n",
       "      <td>0.000000</td>\n",
       "      <td>0.000000</td>\n",
       "      <td>0.000000</td>\n",
       "      <td>6.289170e+01</td>\n",
       "      <td>-0.394751</td>\n",
       "      <td>-23119.000000</td>\n",
       "      <td>0.052000</td>\n",
       "      <td>62.891700</td>\n",
       "      <td>-855.695652</td>\n",
       "      <td>0.000000</td>\n",
       "      <td>0.000000</td>\n",
       "      <td>-1.226993</td>\n",
       "    </tr>\n",
       "    <tr>\n",
       "      <th>25%</th>\n",
       "      <td>6781.000000</td>\n",
       "      <td>1.999150e+02</td>\n",
       "      <td>0.000000</td>\n",
       "      <td>0.000000</td>\n",
       "      <td>72.000000</td>\n",
       "      <td>8.999700e+01</td>\n",
       "      <td>0.000000</td>\n",
       "      <td>2014.000000</td>\n",
       "      <td>1334.310000</td>\n",
       "      <td>0.000000</td>\n",
       "      <td>0.000000</td>\n",
       "      <td>467.174000</td>\n",
       "      <td>480.104000</td>\n",
       "      <td>0.000000</td>\n",
       "      <td>1.012891e+04</td>\n",
       "      <td>0.018937</td>\n",
       "      <td>244.100000</td>\n",
       "      <td>4.058500</td>\n",
       "      <td>7878.348200</td>\n",
       "      <td>1.076222</td>\n",
       "      <td>0.006695</td>\n",
       "      <td>0.018492</td>\n",
       "      <td>0.030410</td>\n",
       "    </tr>\n",
       "    <tr>\n",
       "      <th>50%</th>\n",
       "      <td>14824.000000</td>\n",
       "      <td>2.555000e+02</td>\n",
       "      <td>0.000000</td>\n",
       "      <td>0.000000</td>\n",
       "      <td>100.000000</td>\n",
       "      <td>1.300400e+02</td>\n",
       "      <td>0.000000</td>\n",
       "      <td>2016.000000</td>\n",
       "      <td>1992.099000</td>\n",
       "      <td>8.000000</td>\n",
       "      <td>0.000000</td>\n",
       "      <td>777.359000</td>\n",
       "      <td>873.355000</td>\n",
       "      <td>0.000000</td>\n",
       "      <td>1.790603e+04</td>\n",
       "      <td>0.096980</td>\n",
       "      <td>593.804000</td>\n",
       "      <td>13.400000</td>\n",
       "      <td>15235.260000</td>\n",
       "      <td>2.190500</td>\n",
       "      <td>0.077511</td>\n",
       "      <td>0.033888</td>\n",
       "      <td>0.063631</td>\n",
       "    </tr>\n",
       "    <tr>\n",
       "      <th>75%</th>\n",
       "      <td>65609.000000</td>\n",
       "      <td>3.065310e+02</td>\n",
       "      <td>5.000000</td>\n",
       "      <td>0.000000</td>\n",
       "      <td>125.000000</td>\n",
       "      <td>1.749180e+02</td>\n",
       "      <td>0.000000</td>\n",
       "      <td>2018.000000</td>\n",
       "      <td>2803.750000</td>\n",
       "      <td>113.164000</td>\n",
       "      <td>0.000000</td>\n",
       "      <td>1220.834000</td>\n",
       "      <td>1362.186000</td>\n",
       "      <td>122.400000</td>\n",
       "      <td>3.633528e+04</td>\n",
       "      <td>0.234610</td>\n",
       "      <td>1574.000000</td>\n",
       "      <td>40.000000</td>\n",
       "      <td>29901.693000</td>\n",
       "      <td>6.514269</td>\n",
       "      <td>0.326998</td>\n",
       "      <td>0.060842</td>\n",
       "      <td>0.103170</td>\n",
       "    </tr>\n",
       "    <tr>\n",
       "      <th>max</th>\n",
       "      <td>316056.000000</td>\n",
       "      <td>1.927511e+06</td>\n",
       "      <td>7688.890000</td>\n",
       "      <td>78.000000</td>\n",
       "      <td>941.186000</td>\n",
       "      <td>1.927511e+06</td>\n",
       "      <td>6838.600000</td>\n",
       "      <td>2019.000000</td>\n",
       "      <td>24450.872000</td>\n",
       "      <td>5667.183000</td>\n",
       "      <td>3025.000000</td>\n",
       "      <td>3948.455000</td>\n",
       "      <td>11953.109000</td>\n",
       "      <td>11948.963000</td>\n",
       "      <td>1.073391e+06</td>\n",
       "      <td>0.768114</td>\n",
       "      <td>53394.000000</td>\n",
       "      <td>2300.000000</td>\n",
       "      <td>790050.098100</td>\n",
       "      <td>990.205128</td>\n",
       "      <td>4.979567</td>\n",
       "      <td>0.467642</td>\n",
       "      <td>0.398172</td>\n",
       "    </tr>\n",
       "  </tbody>\n",
       "</table>\n",
       "</div>"
      ],
      "text/plain": [
       "               gvkey     total_sec      othcomp  noneq_incent    cash_fees  \\\n",
       "count    8773.000000  8.773000e+03  8773.000000   8773.000000  8773.000000   \n",
       "mean    51126.038983  4.872646e+02    17.904714      0.028434   100.167401   \n",
       "std     63506.010925  2.057758e+04   180.524592      1.063338    62.210634   \n",
       "min      1045.000000  0.000000e+00  -252.000000      0.000000     0.000000   \n",
       "25%      6781.000000  1.999150e+02     0.000000      0.000000    72.000000   \n",
       "50%     14824.000000  2.555000e+02     0.000000      0.000000   100.000000   \n",
       "75%     65609.000000  3.065310e+02     5.000000      0.000000   125.000000   \n",
       "max    316056.000000  1.927511e+06  7688.890000     78.000000   941.186000   \n",
       "\n",
       "       stock_awards  option_awards         year  total_director_comp  \\\n",
       "count  8.773000e+03    8773.000000  8773.000000          8773.000000   \n",
       "mean   3.556027e+02      13.585409  2015.505414          2226.621567   \n",
       "std    2.057780e+04     117.750978     2.300127          1449.372677   \n",
       "min    0.000000e+00       0.000000  2011.000000             0.000000   \n",
       "25%    8.999700e+01       0.000000  2014.000000          1334.310000   \n",
       "50%    1.300400e+02       0.000000  2016.000000          1992.099000   \n",
       "75%    1.749180e+02       0.000000  2018.000000          2803.750000   \n",
       "max    1.927511e+06    6838.600000  2019.000000         24450.872000   \n",
       "\n",
       "       total_othcomp  total_noneq_incent  total_cash_fees  total_stock_awards  \\\n",
       "count    8773.000000         8773.000000      8773.000000         8773.000000   \n",
       "mean      128.295294            3.998807       862.832307          996.453693   \n",
       "std       401.249800           94.135958       559.613384          819.851177   \n",
       "min         0.000000            0.000000         0.000000            0.000000   \n",
       "25%         0.000000            0.000000       467.174000          480.104000   \n",
       "50%         8.000000            0.000000       777.359000          873.355000   \n",
       "75%       113.164000            0.000000      1220.834000         1362.186000   \n",
       "max      5667.183000         3025.000000      3948.455000        11953.109000   \n",
       "\n",
       "       total_option_awards        mkvalt    liquidity    net_income  \\\n",
       "count          8773.000000  6.922000e+03  3885.000000   3149.000000   \n",
       "mean            211.805984  4.102918e+04     0.137121   1678.147851   \n",
       "std             648.630627  7.221464e+04     0.163929   3927.863067   \n",
       "min               0.000000  6.289170e+01    -0.394751 -23119.000000   \n",
       "25%               0.000000  1.012891e+04     0.018937    244.100000   \n",
       "50%               0.000000  1.790603e+04     0.096980    593.804000   \n",
       "75%             122.400000  3.633528e+04     0.234610   1574.000000   \n",
       "max           11948.963000  1.073391e+06     0.768114  53394.000000   \n",
       "\n",
       "       num_employees   market_value  debt_to_equity  assets_in_place  \\\n",
       "count    8699.000000    6829.000000     8757.000000      7321.000000   \n",
       "mean       40.622200   33201.705902        3.789363         0.246035   \n",
       "std        97.706821   56756.406571       20.894526         0.350103   \n",
       "min         0.052000      62.891700     -855.695652         0.000000   \n",
       "25%         4.058500    7878.348200        1.076222         0.006695   \n",
       "50%        13.400000   15235.260000        2.190500         0.077511   \n",
       "75%        40.000000   29901.693000        6.514269         0.326998   \n",
       "max      2300.000000  790050.098100      990.205128         4.979567   \n",
       "\n",
       "       capex_by_assets  return_on_equity  \n",
       "count      3147.000000       3149.000000  \n",
       "mean          0.045511          0.066440  \n",
       "std           0.040322          0.080396  \n",
       "min           0.000000         -1.226993  \n",
       "25%           0.018492          0.030410  \n",
       "50%           0.033888          0.063631  \n",
       "75%           0.060842          0.103170  \n",
       "max           0.467642          0.398172  "
      ]
     },
     "execution_count": 225,
     "metadata": {},
     "output_type": "execute_result"
    }
   ],
   "source": [
    "bod_df.describe()"
   ]
  },
  {
   "cell_type": "code",
   "execution_count": 207,
   "id": "e96239f8-5900-4461-a0c8-065e6616864f",
   "metadata": {},
   "outputs": [
    {
     "name": "stdout",
     "output_type": "stream",
     "text": [
      "               gvkey     total_sec      othcomp  noneq_incent    cash_fees  \\\n",
      "count    8773.000000  8.773000e+03  8773.000000   8773.000000  8773.000000   \n",
      "mean    51126.038983  4.872646e+02    17.904714      0.028434   100.167401   \n",
      "std     63506.010925  2.057758e+04   180.524592      1.063338    62.210634   \n",
      "min      1045.000000  0.000000e+00  -252.000000      0.000000     0.000000   \n",
      "25%      6781.000000  1.999150e+02     0.000000      0.000000    72.000000   \n",
      "50%     14824.000000  2.555000e+02     0.000000      0.000000   100.000000   \n",
      "75%     65609.000000  3.065310e+02     5.000000      0.000000   125.000000   \n",
      "max    316056.000000  1.927511e+06  7688.890000     78.000000   941.186000   \n",
      "\n",
      "       stock_awards  option_awards       spcode        cusip         year  \\\n",
      "count  8.773000e+03    8773.000000  8773.000000  8773.000000  8773.000000   \n",
      "mean   3.556027e+02      13.585409     0.992705   245.459592  2015.505414   \n",
      "std    2.057780e+04     117.750978     0.085104   145.642920     2.300127   \n",
      "min    0.000000e+00       0.000000     0.000000     0.000000  2011.000000   \n",
      "25%    8.999700e+01       0.000000     1.000000   106.000000  2014.000000   \n",
      "50%    1.300400e+02       0.000000     1.000000   249.000000  2016.000000   \n",
      "75%    1.749180e+02       0.000000     1.000000   368.000000  2018.000000   \n",
      "max    1.927511e+06    6838.600000     1.000000   493.000000  2019.000000   \n",
      "\n",
      "       total_director_comp  total_othcomp  total_noneq_incent  \\\n",
      "count          8773.000000    8773.000000         8773.000000   \n",
      "mean           2226.621567     128.295294            3.998807   \n",
      "std            1449.372677     401.249800           94.135958   \n",
      "min               0.000000       0.000000            0.000000   \n",
      "25%            1334.310000       0.000000            0.000000   \n",
      "50%            1992.099000       8.000000            0.000000   \n",
      "75%            2803.750000     113.164000            0.000000   \n",
      "max           24450.872000    5667.183000         3025.000000   \n",
      "\n",
      "       total_cash_fees  total_stock_awards  total_option_awards        mkvalt  \\\n",
      "count      8773.000000         8773.000000          8773.000000  6.922000e+03   \n",
      "mean        862.832307          996.453693           211.805984  4.102918e+04   \n",
      "std         559.613384          819.851177           648.630627  7.221464e+04   \n",
      "min           0.000000            0.000000             0.000000  6.289170e+01   \n",
      "25%         467.174000          480.104000             0.000000  1.012891e+04   \n",
      "50%         777.359000          873.355000             0.000000  1.790603e+04   \n",
      "75%        1220.834000         1362.186000           122.400000  3.633528e+04   \n",
      "max        3948.455000        11953.109000         11948.963000  1.073391e+06   \n",
      "\n",
      "         liquidity    net_income  num_employees   market_value  \\\n",
      "count  3885.000000   3149.000000    8699.000000    6829.000000   \n",
      "mean      0.137121   1678.147851      40.622200   33201.705902   \n",
      "std       0.163929   3927.863067      97.706821   56756.406571   \n",
      "min      -0.394751 -23119.000000       0.052000      62.891700   \n",
      "25%       0.018937    244.100000       4.058500    7878.348200   \n",
      "50%       0.096980    593.804000      13.400000   15235.260000   \n",
      "75%       0.234610   1574.000000      40.000000   29901.693000   \n",
      "max       0.768114  53394.000000    2300.000000  790050.098100   \n",
      "\n",
      "       debt_to_equity  assets_in_place  capex_by_assets  return_on_equity  \n",
      "count     8757.000000      7321.000000      3147.000000       3149.000000  \n",
      "mean         3.789363         0.246035         0.045511          0.066440  \n",
      "std         20.894526         0.350103         0.040322          0.080396  \n",
      "min       -855.695652         0.000000         0.000000         -1.226993  \n",
      "25%          1.076222         0.006695         0.018492          0.030410  \n",
      "50%          2.190500         0.077511         0.033888          0.063631  \n",
      "75%          6.514269         0.326998         0.060842          0.103170  \n",
      "max        990.205128         4.979567         0.467642          0.398172  \n"
     ]
    }
   ],
   "source": [
    "import pandas as pd\n",
    "\n",
    "# Set pandas options to display all columns and rows\n",
    "pd.set_option('display.max_columns', None)\n",
    "pd.set_option('display.max_rows', None)\n",
    "\n",
    "# Print the summary statistics of the DataFrame\n",
    "print(bod_df.describe())\n"
   ]
  },
  {
   "cell_type": "code",
   "execution_count": 223,
   "id": "f2a5a3fc-4a17-43d3-a183-68cdbc91844f",
   "metadata": {},
   "outputs": [
    {
     "ename": "TypeError",
     "evalue": "'>=' not supported between instances of 'str' and 'int'",
     "output_type": "error",
     "traceback": [
      "\u001b[0;31m---------------------------------------------------------------------------\u001b[0m",
      "\u001b[0;31mTypeError\u001b[0m                                 Traceback (most recent call last)",
      "\u001b[0;32m/var/folders/29/vl12lkgs28xgjpc6t0_jg9040000gn/T/ipykernel_623/1612621585.py\u001b[0m in \u001b[0;36m<module>\u001b[0;34m\u001b[0m\n\u001b[0;32m----> 1\u001b[0;31m \u001b[0mbod_df\u001b[0m \u001b[0;34m=\u001b[0m \u001b[0mbod_df\u001b[0m\u001b[0;34m.\u001b[0m\u001b[0mclip\u001b[0m\u001b[0;34m(\u001b[0m\u001b[0mlower\u001b[0m\u001b[0;34m=\u001b[0m\u001b[0;36m0\u001b[0m\u001b[0;34m)\u001b[0m\u001b[0;34m\u001b[0m\u001b[0;34m\u001b[0m\u001b[0m\n\u001b[0m",
      "\u001b[0;32m~/opt/anaconda3/lib/python3.9/site-packages/pandas/util/_decorators.py\u001b[0m in \u001b[0;36mwrapper\u001b[0;34m(*args, **kwargs)\u001b[0m\n\u001b[1;32m    309\u001b[0m                     \u001b[0mstacklevel\u001b[0m\u001b[0;34m=\u001b[0m\u001b[0mstacklevel\u001b[0m\u001b[0;34m,\u001b[0m\u001b[0;34m\u001b[0m\u001b[0;34m\u001b[0m\u001b[0m\n\u001b[1;32m    310\u001b[0m                 )\n\u001b[0;32m--> 311\u001b[0;31m             \u001b[0;32mreturn\u001b[0m \u001b[0mfunc\u001b[0m\u001b[0;34m(\u001b[0m\u001b[0;34m*\u001b[0m\u001b[0margs\u001b[0m\u001b[0;34m,\u001b[0m \u001b[0;34m**\u001b[0m\u001b[0mkwargs\u001b[0m\u001b[0;34m)\u001b[0m\u001b[0;34m\u001b[0m\u001b[0;34m\u001b[0m\u001b[0m\n\u001b[0m\u001b[1;32m    312\u001b[0m \u001b[0;34m\u001b[0m\u001b[0m\n\u001b[1;32m    313\u001b[0m         \u001b[0;32mreturn\u001b[0m \u001b[0mwrapper\u001b[0m\u001b[0;34m\u001b[0m\u001b[0;34m\u001b[0m\u001b[0m\n",
      "\u001b[0;32m~/opt/anaconda3/lib/python3.9/site-packages/pandas/core/frame.py\u001b[0m in \u001b[0;36mclip\u001b[0;34m(self, lower, upper, axis, inplace, *args, **kwargs)\u001b[0m\n\u001b[1;32m  10924\u001b[0m         \u001b[0;34m**\u001b[0m\u001b[0mkwargs\u001b[0m\u001b[0;34m,\u001b[0m\u001b[0;34m\u001b[0m\u001b[0;34m\u001b[0m\u001b[0m\n\u001b[1;32m  10925\u001b[0m     ) -> DataFrame | None:\n\u001b[0;32m> 10926\u001b[0;31m         \u001b[0;32mreturn\u001b[0m \u001b[0msuper\u001b[0m\u001b[0;34m(\u001b[0m\u001b[0;34m)\u001b[0m\u001b[0;34m.\u001b[0m\u001b[0mclip\u001b[0m\u001b[0;34m(\u001b[0m\u001b[0mlower\u001b[0m\u001b[0;34m,\u001b[0m \u001b[0mupper\u001b[0m\u001b[0;34m,\u001b[0m \u001b[0maxis\u001b[0m\u001b[0;34m,\u001b[0m \u001b[0minplace\u001b[0m\u001b[0;34m,\u001b[0m \u001b[0;34m*\u001b[0m\u001b[0margs\u001b[0m\u001b[0;34m,\u001b[0m \u001b[0;34m**\u001b[0m\u001b[0mkwargs\u001b[0m\u001b[0;34m)\u001b[0m\u001b[0;34m\u001b[0m\u001b[0;34m\u001b[0m\u001b[0m\n\u001b[0m\u001b[1;32m  10927\u001b[0m \u001b[0;34m\u001b[0m\u001b[0m\n\u001b[1;32m  10928\u001b[0m     \u001b[0;34m@\u001b[0m\u001b[0mdeprecate_nonkeyword_arguments\u001b[0m\u001b[0;34m(\u001b[0m\u001b[0mversion\u001b[0m\u001b[0;34m=\u001b[0m\u001b[0;32mNone\u001b[0m\u001b[0;34m,\u001b[0m \u001b[0mallowed_args\u001b[0m\u001b[0;34m=\u001b[0m\u001b[0;34m[\u001b[0m\u001b[0;34m\"self\"\u001b[0m\u001b[0;34m,\u001b[0m \u001b[0;34m\"method\"\u001b[0m\u001b[0;34m]\u001b[0m\u001b[0;34m)\u001b[0m\u001b[0;34m\u001b[0m\u001b[0;34m\u001b[0m\u001b[0m\n",
      "\u001b[0;32m~/opt/anaconda3/lib/python3.9/site-packages/pandas/core/generic.py\u001b[0m in \u001b[0;36mclip\u001b[0;34m(self, lower, upper, axis, inplace, *args, **kwargs)\u001b[0m\n\u001b[1;32m   7570\u001b[0m             \u001b[0mupper\u001b[0m \u001b[0;32mis\u001b[0m \u001b[0;32mNone\u001b[0m \u001b[0;32mor\u001b[0m \u001b[0;34m(\u001b[0m\u001b[0mis_scalar\u001b[0m\u001b[0;34m(\u001b[0m\u001b[0mupper\u001b[0m\u001b[0;34m)\u001b[0m \u001b[0;32mand\u001b[0m \u001b[0mis_number\u001b[0m\u001b[0;34m(\u001b[0m\u001b[0mupper\u001b[0m\u001b[0;34m)\u001b[0m\u001b[0;34m)\u001b[0m\u001b[0;34m\u001b[0m\u001b[0;34m\u001b[0m\u001b[0m\n\u001b[1;32m   7571\u001b[0m         ):\n\u001b[0;32m-> 7572\u001b[0;31m             \u001b[0;32mreturn\u001b[0m \u001b[0mself\u001b[0m\u001b[0;34m.\u001b[0m\u001b[0m_clip_with_scalar\u001b[0m\u001b[0;34m(\u001b[0m\u001b[0mlower\u001b[0m\u001b[0;34m,\u001b[0m \u001b[0mupper\u001b[0m\u001b[0;34m,\u001b[0m \u001b[0minplace\u001b[0m\u001b[0;34m=\u001b[0m\u001b[0minplace\u001b[0m\u001b[0;34m)\u001b[0m\u001b[0;34m\u001b[0m\u001b[0;34m\u001b[0m\u001b[0m\n\u001b[0m\u001b[1;32m   7573\u001b[0m \u001b[0;34m\u001b[0m\u001b[0m\n\u001b[1;32m   7574\u001b[0m         \u001b[0mresult\u001b[0m \u001b[0;34m=\u001b[0m \u001b[0mself\u001b[0m\u001b[0;34m\u001b[0m\u001b[0;34m\u001b[0m\u001b[0m\n",
      "\u001b[0;32m~/opt/anaconda3/lib/python3.9/site-packages/pandas/core/generic.py\u001b[0m in \u001b[0;36m_clip_with_scalar\u001b[0;34m(self, lower, upper, inplace)\u001b[0m\n\u001b[1;32m   7382\u001b[0m                 \u001b[0mresult\u001b[0m \u001b[0;34m=\u001b[0m \u001b[0mresult\u001b[0m\u001b[0;34m.\u001b[0m\u001b[0mwhere\u001b[0m\u001b[0;34m(\u001b[0m\u001b[0msubset\u001b[0m\u001b[0;34m,\u001b[0m \u001b[0mupper\u001b[0m\u001b[0;34m,\u001b[0m \u001b[0maxis\u001b[0m\u001b[0;34m=\u001b[0m\u001b[0;32mNone\u001b[0m\u001b[0;34m,\u001b[0m \u001b[0minplace\u001b[0m\u001b[0;34m=\u001b[0m\u001b[0;32mFalse\u001b[0m\u001b[0;34m)\u001b[0m\u001b[0;34m\u001b[0m\u001b[0;34m\u001b[0m\u001b[0m\n\u001b[1;32m   7383\u001b[0m             \u001b[0;32mif\u001b[0m \u001b[0mlower\u001b[0m \u001b[0;32mis\u001b[0m \u001b[0;32mnot\u001b[0m \u001b[0;32mNone\u001b[0m\u001b[0;34m:\u001b[0m\u001b[0;34m\u001b[0m\u001b[0;34m\u001b[0m\u001b[0m\n\u001b[0;32m-> 7384\u001b[0;31m                 \u001b[0msubset\u001b[0m \u001b[0;34m=\u001b[0m \u001b[0mself\u001b[0m \u001b[0;34m>=\u001b[0m \u001b[0mlower\u001b[0m\u001b[0;34m\u001b[0m\u001b[0;34m\u001b[0m\u001b[0m\n\u001b[0m\u001b[1;32m   7385\u001b[0m                 \u001b[0mresult\u001b[0m \u001b[0;34m=\u001b[0m \u001b[0mresult\u001b[0m\u001b[0;34m.\u001b[0m\u001b[0mwhere\u001b[0m\u001b[0;34m(\u001b[0m\u001b[0msubset\u001b[0m\u001b[0;34m,\u001b[0m \u001b[0mlower\u001b[0m\u001b[0;34m,\u001b[0m \u001b[0maxis\u001b[0m\u001b[0;34m=\u001b[0m\u001b[0;32mNone\u001b[0m\u001b[0;34m,\u001b[0m \u001b[0minplace\u001b[0m\u001b[0;34m=\u001b[0m\u001b[0;32mFalse\u001b[0m\u001b[0;34m)\u001b[0m\u001b[0;34m\u001b[0m\u001b[0;34m\u001b[0m\u001b[0m\n\u001b[1;32m   7386\u001b[0m \u001b[0;34m\u001b[0m\u001b[0m\n",
      "\u001b[0;32m~/opt/anaconda3/lib/python3.9/site-packages/pandas/core/ops/common.py\u001b[0m in \u001b[0;36mnew_method\u001b[0;34m(self, other)\u001b[0m\n\u001b[1;32m     68\u001b[0m         \u001b[0mother\u001b[0m \u001b[0;34m=\u001b[0m \u001b[0mitem_from_zerodim\u001b[0m\u001b[0;34m(\u001b[0m\u001b[0mother\u001b[0m\u001b[0;34m)\u001b[0m\u001b[0;34m\u001b[0m\u001b[0;34m\u001b[0m\u001b[0m\n\u001b[1;32m     69\u001b[0m \u001b[0;34m\u001b[0m\u001b[0m\n\u001b[0;32m---> 70\u001b[0;31m         \u001b[0;32mreturn\u001b[0m \u001b[0mmethod\u001b[0m\u001b[0;34m(\u001b[0m\u001b[0mself\u001b[0m\u001b[0;34m,\u001b[0m \u001b[0mother\u001b[0m\u001b[0;34m)\u001b[0m\u001b[0;34m\u001b[0m\u001b[0;34m\u001b[0m\u001b[0m\n\u001b[0m\u001b[1;32m     71\u001b[0m \u001b[0;34m\u001b[0m\u001b[0m\n\u001b[1;32m     72\u001b[0m     \u001b[0;32mreturn\u001b[0m \u001b[0mnew_method\u001b[0m\u001b[0;34m\u001b[0m\u001b[0;34m\u001b[0m\u001b[0m\n",
      "\u001b[0;32m~/opt/anaconda3/lib/python3.9/site-packages/pandas/core/arraylike.py\u001b[0m in \u001b[0;36m__ge__\u001b[0;34m(self, other)\u001b[0m\n\u001b[1;32m     58\u001b[0m     \u001b[0;34m@\u001b[0m\u001b[0munpack_zerodim_and_defer\u001b[0m\u001b[0;34m(\u001b[0m\u001b[0;34m\"__ge__\"\u001b[0m\u001b[0;34m)\u001b[0m\u001b[0;34m\u001b[0m\u001b[0;34m\u001b[0m\u001b[0m\n\u001b[1;32m     59\u001b[0m     \u001b[0;32mdef\u001b[0m \u001b[0m__ge__\u001b[0m\u001b[0;34m(\u001b[0m\u001b[0mself\u001b[0m\u001b[0;34m,\u001b[0m \u001b[0mother\u001b[0m\u001b[0;34m)\u001b[0m\u001b[0;34m:\u001b[0m\u001b[0;34m\u001b[0m\u001b[0;34m\u001b[0m\u001b[0m\n\u001b[0;32m---> 60\u001b[0;31m         \u001b[0;32mreturn\u001b[0m \u001b[0mself\u001b[0m\u001b[0;34m.\u001b[0m\u001b[0m_cmp_method\u001b[0m\u001b[0;34m(\u001b[0m\u001b[0mother\u001b[0m\u001b[0;34m,\u001b[0m \u001b[0moperator\u001b[0m\u001b[0;34m.\u001b[0m\u001b[0mge\u001b[0m\u001b[0;34m)\u001b[0m\u001b[0;34m\u001b[0m\u001b[0;34m\u001b[0m\u001b[0m\n\u001b[0m\u001b[1;32m     61\u001b[0m \u001b[0;34m\u001b[0m\u001b[0m\n\u001b[1;32m     62\u001b[0m     \u001b[0;31m# -------------------------------------------------------------\u001b[0m\u001b[0;34m\u001b[0m\u001b[0;34m\u001b[0m\u001b[0m\n",
      "\u001b[0;32m~/opt/anaconda3/lib/python3.9/site-packages/pandas/core/frame.py\u001b[0m in \u001b[0;36m_cmp_method\u001b[0;34m(self, other, op)\u001b[0m\n\u001b[1;32m   6941\u001b[0m \u001b[0;34m\u001b[0m\u001b[0m\n\u001b[1;32m   6942\u001b[0m         \u001b[0;31m# See GH#4537 for discussion of scalar op behavior\u001b[0m\u001b[0;34m\u001b[0m\u001b[0;34m\u001b[0m\u001b[0m\n\u001b[0;32m-> 6943\u001b[0;31m         \u001b[0mnew_data\u001b[0m \u001b[0;34m=\u001b[0m \u001b[0mself\u001b[0m\u001b[0;34m.\u001b[0m\u001b[0m_dispatch_frame_op\u001b[0m\u001b[0;34m(\u001b[0m\u001b[0mother\u001b[0m\u001b[0;34m,\u001b[0m \u001b[0mop\u001b[0m\u001b[0;34m,\u001b[0m \u001b[0maxis\u001b[0m\u001b[0;34m=\u001b[0m\u001b[0maxis\u001b[0m\u001b[0;34m)\u001b[0m\u001b[0;34m\u001b[0m\u001b[0;34m\u001b[0m\u001b[0m\n\u001b[0m\u001b[1;32m   6944\u001b[0m         \u001b[0;32mreturn\u001b[0m \u001b[0mself\u001b[0m\u001b[0;34m.\u001b[0m\u001b[0m_construct_result\u001b[0m\u001b[0;34m(\u001b[0m\u001b[0mnew_data\u001b[0m\u001b[0;34m)\u001b[0m\u001b[0;34m\u001b[0m\u001b[0;34m\u001b[0m\u001b[0m\n\u001b[1;32m   6945\u001b[0m \u001b[0;34m\u001b[0m\u001b[0m\n",
      "\u001b[0;32m~/opt/anaconda3/lib/python3.9/site-packages/pandas/core/frame.py\u001b[0m in \u001b[0;36m_dispatch_frame_op\u001b[0;34m(self, right, func, axis)\u001b[0m\n\u001b[1;32m   6980\u001b[0m             \u001b[0;31m# i.e. scalar, faster than checking np.ndim(right) == 0\u001b[0m\u001b[0;34m\u001b[0m\u001b[0;34m\u001b[0m\u001b[0m\n\u001b[1;32m   6981\u001b[0m             \u001b[0;32mwith\u001b[0m \u001b[0mnp\u001b[0m\u001b[0;34m.\u001b[0m\u001b[0merrstate\u001b[0m\u001b[0;34m(\u001b[0m\u001b[0mall\u001b[0m\u001b[0;34m=\u001b[0m\u001b[0;34m\"ignore\"\u001b[0m\u001b[0;34m)\u001b[0m\u001b[0;34m:\u001b[0m\u001b[0;34m\u001b[0m\u001b[0;34m\u001b[0m\u001b[0m\n\u001b[0;32m-> 6982\u001b[0;31m                 \u001b[0mbm\u001b[0m \u001b[0;34m=\u001b[0m \u001b[0mself\u001b[0m\u001b[0;34m.\u001b[0m\u001b[0m_mgr\u001b[0m\u001b[0;34m.\u001b[0m\u001b[0mapply\u001b[0m\u001b[0;34m(\u001b[0m\u001b[0marray_op\u001b[0m\u001b[0;34m,\u001b[0m \u001b[0mright\u001b[0m\u001b[0;34m=\u001b[0m\u001b[0mright\u001b[0m\u001b[0;34m)\u001b[0m\u001b[0;34m\u001b[0m\u001b[0;34m\u001b[0m\u001b[0m\n\u001b[0m\u001b[1;32m   6983\u001b[0m             \u001b[0;32mreturn\u001b[0m \u001b[0mself\u001b[0m\u001b[0;34m.\u001b[0m\u001b[0m_constructor\u001b[0m\u001b[0;34m(\u001b[0m\u001b[0mbm\u001b[0m\u001b[0;34m)\u001b[0m\u001b[0;34m\u001b[0m\u001b[0;34m\u001b[0m\u001b[0m\n\u001b[1;32m   6984\u001b[0m \u001b[0;34m\u001b[0m\u001b[0m\n",
      "\u001b[0;32m~/opt/anaconda3/lib/python3.9/site-packages/pandas/core/internals/managers.py\u001b[0m in \u001b[0;36mapply\u001b[0;34m(self, f, align_keys, ignore_failures, **kwargs)\u001b[0m\n\u001b[1;32m    300\u001b[0m             \u001b[0;32mtry\u001b[0m\u001b[0;34m:\u001b[0m\u001b[0;34m\u001b[0m\u001b[0;34m\u001b[0m\u001b[0m\n\u001b[1;32m    301\u001b[0m                 \u001b[0;32mif\u001b[0m \u001b[0mcallable\u001b[0m\u001b[0;34m(\u001b[0m\u001b[0mf\u001b[0m\u001b[0;34m)\u001b[0m\u001b[0;34m:\u001b[0m\u001b[0;34m\u001b[0m\u001b[0;34m\u001b[0m\u001b[0m\n\u001b[0;32m--> 302\u001b[0;31m                     \u001b[0mapplied\u001b[0m \u001b[0;34m=\u001b[0m \u001b[0mb\u001b[0m\u001b[0;34m.\u001b[0m\u001b[0mapply\u001b[0m\u001b[0;34m(\u001b[0m\u001b[0mf\u001b[0m\u001b[0;34m,\u001b[0m \u001b[0;34m**\u001b[0m\u001b[0mkwargs\u001b[0m\u001b[0;34m)\u001b[0m\u001b[0;34m\u001b[0m\u001b[0;34m\u001b[0m\u001b[0m\n\u001b[0m\u001b[1;32m    303\u001b[0m                 \u001b[0;32melse\u001b[0m\u001b[0;34m:\u001b[0m\u001b[0;34m\u001b[0m\u001b[0;34m\u001b[0m\u001b[0m\n\u001b[1;32m    304\u001b[0m                     \u001b[0mapplied\u001b[0m \u001b[0;34m=\u001b[0m \u001b[0mgetattr\u001b[0m\u001b[0;34m(\u001b[0m\u001b[0mb\u001b[0m\u001b[0;34m,\u001b[0m \u001b[0mf\u001b[0m\u001b[0;34m)\u001b[0m\u001b[0;34m(\u001b[0m\u001b[0;34m**\u001b[0m\u001b[0mkwargs\u001b[0m\u001b[0;34m)\u001b[0m\u001b[0;34m\u001b[0m\u001b[0;34m\u001b[0m\u001b[0m\n",
      "\u001b[0;32m~/opt/anaconda3/lib/python3.9/site-packages/pandas/core/internals/blocks.py\u001b[0m in \u001b[0;36mapply\u001b[0;34m(self, func, **kwargs)\u001b[0m\n\u001b[1;32m    400\u001b[0m         \u001b[0mone\u001b[0m\u001b[0;34m\u001b[0m\u001b[0;34m\u001b[0m\u001b[0m\n\u001b[1;32m    401\u001b[0m         \"\"\"\n\u001b[0;32m--> 402\u001b[0;31m         \u001b[0mresult\u001b[0m \u001b[0;34m=\u001b[0m \u001b[0mfunc\u001b[0m\u001b[0;34m(\u001b[0m\u001b[0mself\u001b[0m\u001b[0;34m.\u001b[0m\u001b[0mvalues\u001b[0m\u001b[0;34m,\u001b[0m \u001b[0;34m**\u001b[0m\u001b[0mkwargs\u001b[0m\u001b[0;34m)\u001b[0m\u001b[0;34m\u001b[0m\u001b[0;34m\u001b[0m\u001b[0m\n\u001b[0m\u001b[1;32m    403\u001b[0m \u001b[0;34m\u001b[0m\u001b[0m\n\u001b[1;32m    404\u001b[0m         \u001b[0;32mreturn\u001b[0m \u001b[0mself\u001b[0m\u001b[0;34m.\u001b[0m\u001b[0m_split_op_result\u001b[0m\u001b[0;34m(\u001b[0m\u001b[0mresult\u001b[0m\u001b[0;34m)\u001b[0m\u001b[0;34m\u001b[0m\u001b[0;34m\u001b[0m\u001b[0m\n",
      "\u001b[0;32m~/opt/anaconda3/lib/python3.9/site-packages/pandas/core/ops/array_ops.py\u001b[0m in \u001b[0;36mcomparison_op\u001b[0;34m(left, right, op)\u001b[0m\n\u001b[1;32m    281\u001b[0m \u001b[0;34m\u001b[0m\u001b[0m\n\u001b[1;32m    282\u001b[0m     \u001b[0;32melif\u001b[0m \u001b[0mis_object_dtype\u001b[0m\u001b[0;34m(\u001b[0m\u001b[0mlvalues\u001b[0m\u001b[0;34m.\u001b[0m\u001b[0mdtype\u001b[0m\u001b[0;34m)\u001b[0m \u001b[0;32mor\u001b[0m \u001b[0misinstance\u001b[0m\u001b[0;34m(\u001b[0m\u001b[0mrvalues\u001b[0m\u001b[0;34m,\u001b[0m \u001b[0mstr\u001b[0m\u001b[0;34m)\u001b[0m\u001b[0;34m:\u001b[0m\u001b[0;34m\u001b[0m\u001b[0;34m\u001b[0m\u001b[0m\n\u001b[0;32m--> 283\u001b[0;31m         \u001b[0mres_values\u001b[0m \u001b[0;34m=\u001b[0m \u001b[0mcomp_method_OBJECT_ARRAY\u001b[0m\u001b[0;34m(\u001b[0m\u001b[0mop\u001b[0m\u001b[0;34m,\u001b[0m \u001b[0mlvalues\u001b[0m\u001b[0;34m,\u001b[0m \u001b[0mrvalues\u001b[0m\u001b[0;34m)\u001b[0m\u001b[0;34m\u001b[0m\u001b[0;34m\u001b[0m\u001b[0m\n\u001b[0m\u001b[1;32m    284\u001b[0m \u001b[0;34m\u001b[0m\u001b[0m\n\u001b[1;32m    285\u001b[0m     \u001b[0;32melse\u001b[0m\u001b[0;34m:\u001b[0m\u001b[0;34m\u001b[0m\u001b[0;34m\u001b[0m\u001b[0m\n",
      "\u001b[0;32m~/opt/anaconda3/lib/python3.9/site-packages/pandas/core/ops/array_ops.py\u001b[0m in \u001b[0;36mcomp_method_OBJECT_ARRAY\u001b[0;34m(op, x, y)\u001b[0m\n\u001b[1;32m     71\u001b[0m         \u001b[0mresult\u001b[0m \u001b[0;34m=\u001b[0m \u001b[0mlibops\u001b[0m\u001b[0;34m.\u001b[0m\u001b[0mvec_compare\u001b[0m\u001b[0;34m(\u001b[0m\u001b[0mx\u001b[0m\u001b[0;34m.\u001b[0m\u001b[0mravel\u001b[0m\u001b[0;34m(\u001b[0m\u001b[0;34m)\u001b[0m\u001b[0;34m,\u001b[0m \u001b[0my\u001b[0m\u001b[0;34m.\u001b[0m\u001b[0mravel\u001b[0m\u001b[0;34m(\u001b[0m\u001b[0;34m)\u001b[0m\u001b[0;34m,\u001b[0m \u001b[0mop\u001b[0m\u001b[0;34m)\u001b[0m\u001b[0;34m\u001b[0m\u001b[0;34m\u001b[0m\u001b[0m\n\u001b[1;32m     72\u001b[0m     \u001b[0;32melse\u001b[0m\u001b[0;34m:\u001b[0m\u001b[0;34m\u001b[0m\u001b[0;34m\u001b[0m\u001b[0m\n\u001b[0;32m---> 73\u001b[0;31m         \u001b[0mresult\u001b[0m \u001b[0;34m=\u001b[0m \u001b[0mlibops\u001b[0m\u001b[0;34m.\u001b[0m\u001b[0mscalar_compare\u001b[0m\u001b[0;34m(\u001b[0m\u001b[0mx\u001b[0m\u001b[0;34m.\u001b[0m\u001b[0mravel\u001b[0m\u001b[0;34m(\u001b[0m\u001b[0;34m)\u001b[0m\u001b[0;34m,\u001b[0m \u001b[0my\u001b[0m\u001b[0;34m,\u001b[0m \u001b[0mop\u001b[0m\u001b[0;34m)\u001b[0m\u001b[0;34m\u001b[0m\u001b[0;34m\u001b[0m\u001b[0m\n\u001b[0m\u001b[1;32m     74\u001b[0m     \u001b[0;32mreturn\u001b[0m \u001b[0mresult\u001b[0m\u001b[0;34m.\u001b[0m\u001b[0mreshape\u001b[0m\u001b[0;34m(\u001b[0m\u001b[0mx\u001b[0m\u001b[0;34m.\u001b[0m\u001b[0mshape\u001b[0m\u001b[0;34m)\u001b[0m\u001b[0;34m\u001b[0m\u001b[0;34m\u001b[0m\u001b[0m\n\u001b[1;32m     75\u001b[0m \u001b[0;34m\u001b[0m\u001b[0m\n",
      "\u001b[0;32m~/opt/anaconda3/lib/python3.9/site-packages/pandas/_libs/ops.pyx\u001b[0m in \u001b[0;36mpandas._libs.ops.scalar_compare\u001b[0;34m()\u001b[0m\n",
      "\u001b[0;31mTypeError\u001b[0m: '>=' not supported between instances of 'str' and 'int'"
     ]
    }
   ],
   "source": [
    "bod_df = bod_df.clip(lower=0)"
   ]
  },
  {
   "cell_type": "code",
   "execution_count": 213,
   "id": "977c6a61-afa4-4b03-bab3-b84a8c6240e1",
   "metadata": {},
   "outputs": [
    {
     "name": "stdout",
     "output_type": "stream",
     "text": [
      "NaN values are located in columns: Index(['liquidity', 'net_income', 'capex_by_assets', 'return_on_equity',\n",
      "       'liquidity', 'net_income', 'capex_by_assets', 'return_on_equity',\n",
      "       'liquidity', 'net_income',\n",
      "       ...\n",
      "       'return_on_equity', 'net_income', 'capex_by_assets', 'return_on_equity',\n",
      "       'net_income', 'capex_by_assets', 'return_on_equity', 'num_employees',\n",
      "       'market_value', 'market_value'],\n",
      "      dtype='object', length=27099)\n",
      "Inf values are located in columns: Index([], dtype='object')\n",
      "Values larger than max float64 are located in columns: Index([], dtype='object')\n"
     ]
    }
   ],
   "source": [
    "import numpy as np\n",
    "\n",
    "df = df.select_dtypes(include=np.number)\n",
    "\n",
    "nan_rows = np.where(np.isnan(df))\n",
    "nan_columns = df.columns[nan_rows[1]]\n",
    "print(\"NaN values are located in columns:\", nan_columns)\n",
    "\n",
    "inf_rows = np.where(np.isinf(df))\n",
    "inf_columns = df.columns[inf_rows[1]]\n",
    "print(\"Inf values are located in columns:\", inf_columns)\n",
    "\n",
    "large_values_rows = np.where(df > np.finfo(np.float64).max)\n",
    "large_values_columns = df.columns[large_values_rows[1]]\n",
    "print(\"Values larger than max float64 are located in columns:\", large_values_columns)\n"
   ]
  },
  {
   "cell_type": "code",
   "execution_count": 217,
   "id": "195d5746-74fb-4084-8d13-00adcd77c662",
   "metadata": {},
   "outputs": [],
   "source": [
    "bod_df = df"
   ]
  }
 ],
 "metadata": {
  "kernelspec": {
   "display_name": "Python 3 (ipykernel)",
   "language": "python",
   "name": "python3"
  },
  "language_info": {
   "codemirror_mode": {
    "name": "ipython",
    "version": 3
   },
   "file_extension": ".py",
   "mimetype": "text/x-python",
   "name": "python",
   "nbconvert_exporter": "python",
   "pygments_lexer": "ipython3",
   "version": "3.9.13"
  }
 },
 "nbformat": 4,
 "nbformat_minor": 5
}
