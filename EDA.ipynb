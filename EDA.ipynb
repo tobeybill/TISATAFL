{
 "cells": [
  {
   "cell_type": "code",
   "execution_count": 9,
   "id": "ebf680d4-f982-4ff3-adc5-153f3199dd43",
   "metadata": {},
   "outputs": [],
   "source": [
    "from ydata_profiling import ProfileReport\n",
    "import pandas as pd\n",
    "import numpy as np\n",
    "import pandas_datareader as pdr  # to install: !pip install pandas_datareader\n",
    "from datetime import datetime"
   ]
  },
  {
   "cell_type": "code",
   "execution_count": 10,
   "id": "f93f1674-4439-45b0-8f91-21742026566e",
   "metadata": {},
   "outputs": [],
   "source": [
    "url = 'https://github.com/LeDataSciFi/data/raw/main/Firm%20Year%20Datasets%20(Compustat)/firms2020.csv'\n",
    "firms_df = pd.read_csv(url).drop_duplicates('tic')\n",
    "\n",
    "bod_df = pd.read_csv('./Input_data/DirectorComp.csv')\n",
    "ceo_df = pd.read_csv('./Input_data/CEOComp.csv')"
   ]
  },
  {
   "cell_type": "code",
   "execution_count": 11,
   "id": "3d47e7ce-7d47-4839-a511-8668b04fc39f",
   "metadata": {},
   "outputs": [
    {
     "data": {
      "text/plain": [
       "count      4811.000000\n",
       "mean      11467.801272\n",
       "std       10203.831261\n",
       "min           0.001000\n",
       "25%        6158.732500\n",
       "50%        9658.115000\n",
       "75%       14350.184000\n",
       "max      280621.551000\n",
       "Name: TDC1, dtype: float64"
      ]
     },
     "execution_count": 11,
     "metadata": {},
     "output_type": "execute_result"
    }
   ],
   "source": [
    "ceo_df.dropna(axis=1, how='all', inplace=True)\n",
    "# Calculate the total compensation for the CEO in that year\n",
    "ceo_df = ceo_df[ceo_df['CEOANN'].notnull()]\n",
    "ceo_df['TDC1'].describe() #only difference between TDC1 and TDC2 is the options preferences. TDC1 is bk value of options (Black- Scholes equation)"
   ]
  },
  {
   "cell_type": "code",
   "execution_count": 12,
   "id": "e01ff231-7587-4801-80a7-b589c6f06928",
   "metadata": {},
   "outputs": [
    {
     "name": "stdout",
     "output_type": "stream",
     "text": [
      "<class 'pandas.core.frame.DataFrame'>\n",
      "Int64Index: 4811 entries, 0 to 26762\n",
      "Data columns (total 20 columns):\n",
      " #   Column         Non-Null Count  Dtype  \n",
      "---  ------         --------------  -----  \n",
      " 0   GVKEY          4811 non-null   int64  \n",
      " 1   TICKER         4811 non-null   object \n",
      " 2   CEOANN         4811 non-null   object \n",
      " 3   SALARY         4811 non-null   float64\n",
      " 4   BONUS          4811 non-null   float64\n",
      " 5   STOCK_AWARDS   4811 non-null   float64\n",
      " 6   OPTION_AWARDS  4811 non-null   float64\n",
      " 7   OTHCOMP        4811 non-null   float64\n",
      " 8   TOTAL_CURR     4811 non-null   float64\n",
      " 9   AGE            4811 non-null   float64\n",
      " 10  TDC1           4811 non-null   float64\n",
      " 11  YEAR           4811 non-null   int64  \n",
      " 12  BECAMECEO      4778 non-null   object \n",
      " 13  JOINED_CO      1307 non-null   object \n",
      " 14  LEFTOFC        3063 non-null   object \n",
      " 15  GENDER         4811 non-null   object \n",
      " 16  CUSIP          4811 non-null   object \n",
      " 17  NAICSDESC      4811 non-null   object \n",
      " 18  TICKER         4811 non-null   object \n",
      " 19  SIC            4811 non-null   int64  \n",
      "dtypes: float64(8), int64(3), object(9)\n",
      "memory usage: 789.3+ KB\n"
     ]
    }
   ],
   "source": [
    "# ceo_df = ceo_df.drop(['CFOANN', 'PENSION_CHG', 'TOTAL_SEC', 'CHG_CTRL_PYMT', 'TOTAL_SEC_PCT', 'REPRICE', 'EXECRANK'], axis=1)\n",
    "######trimmed this down to make it easier for regressions. We can look back if I missed any. \n",
    "ceo_df = ceo_df[['GVKEY', 'TICKER', 'CEOANN', 'SALARY', 'BONUS', 'STOCK_AWARDS', 'OPTION_AWARDS',\n",
    "                 'OTHCOMP', 'TOTAL_CURR', 'AGE', 'TDC1', 'YEAR', 'BECAMECEO', 'JOINED_CO',\n",
    "                 'LEFTOFC', 'GENDER', 'CUSIP', 'NAICSDESC', 'TICKER', 'SIC']] \n",
    "ceo_df.info()"
   ]
  },
  {
   "cell_type": "code",
   "execution_count": 13,
   "id": "83d15594-c5c5-45c3-9961-7220ae9fddeb",
   "metadata": {},
   "outputs": [],
   "source": [
    "bod_df = bod_df[['GVKEY', 'TICKER', 'TOTAL_SEC', 'OTHCOMP', 'NONEQ_INCENT', 'CASH_FEES', 'STOCK_AWARDS', 'OPTION_AWARDS',\n",
    "                 'SPCODE', 'CUSIP', 'CONAME', 'YEAR']]"
   ]
  },
  {
   "cell_type": "code",
   "execution_count": 14,
   "id": "d7562092-2d99-4dd7-8f01-2ff466df391d",
   "metadata": {},
   "outputs": [],
   "source": [
    "grouped_df = bod_df.groupby(['TICKER', 'YEAR'])[['TOTAL_SEC', 'OTHCOMP', \n",
    "                                                 'NONEQ_INCENT', 'CASH_FEES', \n",
    "                                                 'STOCK_AWARDS', 'OPTION_AWARDS']].sum().reset_index()\n",
    "\n",
    "bod_df = bod_df.merge(grouped_df, on='TICKER', how='left')\n",
    "\n",
    "bod_df = bod_df.rename(columns={'YEAR_x': 'YEAR'})\n",
    "bod_df.drop(['YEAR_y'], axis=1)\n",
    "\n",
    "bod_df = bod_df.rename(columns={'TOTAL_SEC_x': 'TOTAL_SEC'})\n",
    "bod_df = bod_df.rename(columns={'TOTAL_SEC_y': 'total_director_comp'})\n",
    "\n",
    "bod_df = bod_df.rename(columns={'OTHCOMP_x': 'OTHCOMP'})\n",
    "bod_df = bod_df.rename(columns={'OTHCOMP_y': 'total_OTHCOMP'})\n",
    "\n",
    "bod_df = bod_df.rename(columns={'NONEQ_INCENT_x': 'NONEQ_INCENT'})\n",
    "bod_df = bod_df.rename(columns={'NONEQ_INCENT_y': 'total_NONEQ_INCENT'})\n",
    "\n",
    "bod_df = bod_df.rename(columns={'CASH_FEES_x': 'CASH_FEES'})\n",
    "bod_df = bod_df.rename(columns={'CASH_FEES_y': 'total_CASH_FEES'})\n",
    "\n",
    "bod_df = bod_df.rename(columns={'STOCK_AWARDS_x': 'STOCK_AWARDS'})\n",
    "bod_df = bod_df.rename(columns={'STOCK_AWARDS_y': 'total_STOCK_AWARDS'})\n",
    "\n",
    "bod_df = bod_df.rename(columns={'OPTION_AWARDS_x': 'OPTION_AWARDS'})\n",
    "bod_df = bod_df.rename(columns={'OPTION_AWARDS_y': 'total_OPTION_AWARDS'})"
   ]
  },
  {
   "cell_type": "code",
   "execution_count": 19,
   "id": "eda815d1-e570-4e8b-924d-5030a68f3877",
   "metadata": {
    "collapsed": true,
    "jupyter": {
     "outputs_hidden": true
    },
    "tags": []
   },
   "outputs": [
    {
     "name": "stdout",
     "output_type": "stream",
     "text": [
      "<class 'pandas.core.frame.DataFrame'>\n",
      "Int64Index: 486124 entries, 0 to 486123\n",
      "Data columns (total 19 columns):\n",
      " #   Column               Non-Null Count   Dtype  \n",
      "---  ------               --------------   -----  \n",
      " 0   GVKEY                486124 non-null  int64  \n",
      " 1   TICKER               486124 non-null  object \n",
      " 2   TOTAL_SEC            486124 non-null  float64\n",
      " 3   OTHCOMP              486124 non-null  float64\n",
      " 4   NONEQ_INCENT         486124 non-null  float64\n",
      " 5   CASH_FEES            486124 non-null  float64\n",
      " 6   STOCK_AWARDS         486124 non-null  float64\n",
      " 7   OPTION_AWARDS        486124 non-null  float64\n",
      " 8   SPCODE               486124 non-null  object \n",
      " 9   CUSIP                486124 non-null  object \n",
      " 10  CONAME               486124 non-null  object \n",
      " 11  YEAR                 486124 non-null  int64  \n",
      " 12  YEAR_y               486124 non-null  int64  \n",
      " 13  total_director_comp  486124 non-null  float64\n",
      " 14  total_OTHCOMP        486124 non-null  float64\n",
      " 15  total_NONEQ_INCENT   486124 non-null  float64\n",
      " 16  total_CASH_FEES      486124 non-null  float64\n",
      " 17  total_STOCK_AWARDS   486124 non-null  float64\n",
      " 18  total_OPTION_AWARDS  486124 non-null  float64\n",
      "dtypes: float64(12), int64(3), object(4)\n",
      "memory usage: 90.3+ MB\n"
     ]
    }
   ],
   "source": [
    "# bod_df.info()"
   ]
  },
  {
   "cell_type": "code",
   "execution_count": 20,
   "id": "07d514a5-caba-46fb-a439-de46b5e4280d",
   "metadata": {},
   "outputs": [
    {
     "name": "stdout",
     "output_type": "stream",
     "text": [
      "<class 'pandas.core.frame.DataFrame'>\n",
      "Int64Index: 4792 entries, 0 to 486082\n",
      "Data columns (total 19 columns):\n",
      " #   Column               Non-Null Count  Dtype  \n",
      "---  ------               --------------  -----  \n",
      " 0   GVKEY                4792 non-null   int64  \n",
      " 1   TICKER               4792 non-null   object \n",
      " 2   TOTAL_SEC            4792 non-null   float64\n",
      " 3   OTHCOMP              4792 non-null   float64\n",
      " 4   NONEQ_INCENT         4792 non-null   float64\n",
      " 5   CASH_FEES            4792 non-null   float64\n",
      " 6   STOCK_AWARDS         4792 non-null   float64\n",
      " 7   OPTION_AWARDS        4792 non-null   float64\n",
      " 8   SPCODE               4792 non-null   object \n",
      " 9   CUSIP                4792 non-null   object \n",
      " 10  CONAME               4792 non-null   object \n",
      " 11  YEAR                 4792 non-null   int64  \n",
      " 12  YEAR_y               4792 non-null   int64  \n",
      " 13  total_director_comp  4792 non-null   float64\n",
      " 14  total_OTHCOMP        4792 non-null   float64\n",
      " 15  total_NONEQ_INCENT   4792 non-null   float64\n",
      " 16  total_CASH_FEES      4792 non-null   float64\n",
      " 17  total_STOCK_AWARDS   4792 non-null   float64\n",
      " 18  total_OPTION_AWARDS  4792 non-null   float64\n",
      "dtypes: float64(12), int64(3), object(4)\n",
      "memory usage: 748.8+ KB\n"
     ]
    }
   ],
   "source": [
    "unique_tickers = bod_df.drop_duplicates(subset=['TICKER', 'YEAR'], keep='first')\n",
    "\n",
    "unique_tickers.info()"
   ]
  }
 ],
 "metadata": {
  "kernelspec": {
   "display_name": "Python 3 (ipykernel)",
   "language": "python",
   "name": "python3"
  },
  "language_info": {
   "codemirror_mode": {
    "name": "ipython",
    "version": 3
   },
   "file_extension": ".py",
   "mimetype": "text/x-python",
   "name": "python",
   "nbconvert_exporter": "python",
   "pygments_lexer": "ipython3",
   "version": "3.9.13"
  }
 },
 "nbformat": 4,
 "nbformat_minor": 5
}
