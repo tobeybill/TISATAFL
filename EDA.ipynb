{
 "cells": [
  {
   "cell_type": "code",
   "execution_count": 14,
   "id": "ebf680d4-f982-4ff3-adc5-153f3199dd43",
   "metadata": {},
   "outputs": [],
   "source": [
    "from ydata_profiling import ProfileReport\n",
    "import pandas as pd\n",
    "import numpy as np\n",
    "import pandas_datareader as pdr  # to install: !pip install pandas_datareader\n",
    "from datetime import datetime"
   ]
  },
  {
   "cell_type": "code",
   "execution_count": 15,
   "id": "f93f1674-4439-45b0-8f91-21742026566e",
   "metadata": {},
   "outputs": [],
   "source": [
    "url = 'https://github.com/LeDataSciFi/data/raw/main/Firm%20Year%20Datasets%20(Compustat)/firms2020.csv'\n",
    "firms_df = pd.read_csv(url).drop_duplicates('tic')\n",
    "\n",
    "bod_df = pd.read_csv('./Input_data/DirectorComp.csv')\n",
    "ceo_df = pd.read_csv('./Input_data/CEOComp.csv')"
   ]
  },
  {
   "cell_type": "code",
   "execution_count": 17,
   "id": "3d47e7ce-7d47-4839-a511-8668b04fc39f",
   "metadata": {},
   "outputs": [
    {
     "data": {
      "text/plain": [
       "count      4811.000000\n",
       "mean      11467.801272\n",
       "std       10203.831261\n",
       "min           0.001000\n",
       "25%        6158.732500\n",
       "50%        9658.115000\n",
       "75%       14350.184000\n",
       "max      280621.551000\n",
       "Name: TDC1, dtype: float64"
      ]
     },
     "execution_count": 17,
     "metadata": {},
     "output_type": "execute_result"
    }
   ],
   "source": [
    "# ceo_df.dropna(axis=1, how='all', inplace=True)\n",
    "# Calculate the total compensation for the CEO in that year\n",
    "ceo_df = ceo_df[ceo_df['CEOANN'].notnull()]\n",
    "ceo_df['TDC1'].describe() #only difference between TDC1 and TDC2 is the options preferences. TDC1 is bk value of options (Black- Scholes equation)"
   ]
  },
  {
   "cell_type": "code",
   "execution_count": 19,
   "id": "e01ff231-7587-4801-80a7-b589c6f06928",
   "metadata": {},
   "outputs": [
    {
     "name": "stdout",
     "output_type": "stream",
     "text": [
      "<class 'pandas.core.frame.DataFrame'>\n",
      "Int64Index: 4811 entries, 0 to 26762\n",
      "Data columns (total 89 columns):\n",
      " #   Column                   Non-Null Count  Dtype  \n",
      "---  ------                   --------------  -----  \n",
      " 0   EXEC_FULLNAME            4811 non-null   object \n",
      " 1   CFOANN                   38 non-null     object \n",
      " 2   EXECDIR                  4811 non-null   int64  \n",
      " 3   OLD_DATAFMT_FLAG         4811 non-null   int64  \n",
      " 4   INTERLOCK                4811 non-null   int64  \n",
      " 5   REPRICE                  4811 non-null   int64  \n",
      " 6   EXECRANK                 64 non-null     float64\n",
      " 7   CO_PER_ROL               4811 non-null   int64  \n",
      " 8   CONAME                   4811 non-null   object \n",
      " 9   TITLEANN                 4741 non-null   object \n",
      " 10  CEOANN                   4811 non-null   object \n",
      " 11  SALARY                   4811 non-null   float64\n",
      " 12  BONUS                    4811 non-null   float64\n",
      " 13  STOCK_AWARDS             4811 non-null   float64\n",
      " 14  OPTION_AWARDS            4811 non-null   float64\n",
      " 15  NONEQ_INCENT             4811 non-null   float64\n",
      " 16  PENSION_CHG              4811 non-null   float64\n",
      " 17  OTHCOMP                  4811 non-null   float64\n",
      " 18  TOTAL_SEC                4807 non-null   float64\n",
      " 19  TOTAL_CURR               4811 non-null   float64\n",
      " 20  TOTAL_ALT1               4811 non-null   float64\n",
      " 21  TOTAL_ALT2               4811 non-null   float64\n",
      " 22  TERM_PYMT                4811 non-null   float64\n",
      " 23  CHG_CTRL_PYMT            4811 non-null   float64\n",
      " 24  SHROWN_TOT               4732 non-null   float64\n",
      " 25  SHROWN_TOT_PCT           4651 non-null   float64\n",
      " 26  SHROWN_EXCL_OPTS         4732 non-null   float64\n",
      " 27  SHROWN_EXCL_OPTS_PCT     4699 non-null   float64\n",
      " 28  OPT_EXER_NUM             4811 non-null   float64\n",
      " 29  OPT_EXER_VAL             4811 non-null   float64\n",
      " 30  SHRS_VEST_NUM            4811 non-null   float64\n",
      " 31  SHRS_VEST_VAL            4811 non-null   float64\n",
      " 32  AGE                      4811 non-null   float64\n",
      " 33  OPTION_AWARDS_NUM        4811 non-null   float64\n",
      " 34  OPTION_AWARDS_FV         4811 non-null   float64\n",
      " 35  STOCK_AWARDS_FV          4811 non-null   float64\n",
      " 36  OPT_UNEX_EXER_NUM        4811 non-null   float64\n",
      " 37  OPT_UNEX_UNEXER_NUM      4811 non-null   float64\n",
      " 38  OPT_UNEX_EXER_EST_VAL    4811 non-null   float64\n",
      " 39  OPT_UNEX_UNEXER_EST_VAL  4811 non-null   float64\n",
      " 40  STOCK_UNVEST_NUM         4811 non-null   float64\n",
      " 41  STOCK_UNVEST_VAL         4811 non-null   float64\n",
      " 42  EIP_UNEARN_NUM           4811 non-null   float64\n",
      " 43  EIP_UNEARN_VAL           4811 non-null   float64\n",
      " 44  PENSION_VALUE_TOT        4811 non-null   float64\n",
      " 45  PENSION_PYMTS_TOT        4811 non-null   float64\n",
      " 46  DEFER_CONTRIB_EXEC_TOT   4811 non-null   float64\n",
      " 47  DEFER_CONTRIB_CO_TOT     4811 non-null   float64\n",
      " 48  DEFER_EARNINGS_TOT       4811 non-null   float64\n",
      " 49  DEFER_WITHDR_TOT         4811 non-null   float64\n",
      " 50  DEFER_BALANCE_TOT        4811 non-null   float64\n",
      " 51  DEFER_RPT_AS_COMP_TOT    4811 non-null   float64\n",
      " 52  EXECRANKANN              4741 non-null   float64\n",
      " 53  OTHANN                   0 non-null      float64\n",
      " 54  TDC1                     4811 non-null   float64\n",
      " 55  TDC2                     4811 non-null   float64\n",
      " 56  RSTKGRNT                 0 non-null      float64\n",
      " 57  OPTION_AWARDS_BLK_VALUE  0 non-null      float64\n",
      " 58  OPTION_AWARDS_RPT_VALUE  0 non-null      float64\n",
      " 59  LTIP                     0 non-null      float64\n",
      " 60  ALLOTHTOT                0 non-null      float64\n",
      " 61  ALLOTHPD                 0 non-null      float64\n",
      " 62  SAL_PCT                  4687 non-null   float64\n",
      " 63  TOTAL_CURR_PCT           4688 non-null   float64\n",
      " 64  TOTAL_SEC_PCT            4685 non-null   float64\n",
      " 65  TOTAL_ALT1_PCT           4689 non-null   float64\n",
      " 66  TOTAL_ALT2_PCT           4688 non-null   float64\n",
      " 67  TDC1_PCT                 4688 non-null   float64\n",
      " 68  TDC2_PCT                 4687 non-null   float64\n",
      " 69  RET_YRS                  0 non-null      float64\n",
      " 70  COMMENT                  0 non-null      float64\n",
      " 71  GVKEY                    4811 non-null   int64  \n",
      " 72  EXECID                   4811 non-null   int64  \n",
      " 73  YEAR                     4811 non-null   int64  \n",
      " 74  RSTKVYRS                 0 non-null      float64\n",
      " 75  BECAMECEO                4778 non-null   object \n",
      " 76  JOINED_CO                1307 non-null   object \n",
      " 77  REJOIN                   0 non-null      float64\n",
      " 78  LEFTOFC                  3063 non-null   object \n",
      " 79  LEFTCO                   36 non-null     object \n",
      " 80  RELEFT                   0 non-null      float64\n",
      " 81  PCEO                     2082 non-null   object \n",
      " 82  TITLE                    4802 non-null   object \n",
      " 83  REASON                   36 non-null     object \n",
      " 84  GENDER                   4811 non-null   object \n",
      " 85  CUSIP                    4811 non-null   object \n",
      " 86  NAICSDESC                4811 non-null   object \n",
      " 87  TICKER                   4811 non-null   object \n",
      " 88  SIC                      4811 non-null   int64  \n",
      "dtypes: float64(64), int64(9), object(16)\n",
      "memory usage: 3.3+ MB\n"
     ]
    }
   ],
   "source": [
    "ceo_df.info()"
   ]
  },
  {
   "cell_type": "code",
   "execution_count": null,
   "id": "2f86da88-4b4a-40b7-8f29-fc0d9caf1019",
   "metadata": {},
   "outputs": [],
   "source": []
  },
  {
   "cell_type": "code",
   "execution_count": null,
   "id": "0e8957c3-b597-4519-bc7d-5198ba9cb786",
   "metadata": {},
   "outputs": [],
   "source": []
  },
  {
   "cell_type": "code",
   "execution_count": null,
   "id": "83d15594-c5c5-45c3-9961-7220ae9fddeb",
   "metadata": {},
   "outputs": [],
   "source": []
  },
  {
   "cell_type": "code",
   "execution_count": null,
   "id": "d7562092-2d99-4dd7-8f01-2ff466df391d",
   "metadata": {},
   "outputs": [],
   "source": []
  },
  {
   "cell_type": "code",
   "execution_count": null,
   "id": "07d514a5-caba-46fb-a439-de46b5e4280d",
   "metadata": {},
   "outputs": [],
   "source": [
    "# GVKEY: Compustat's Global Company Key\n",
    "# EXECID: Executive ID number\n",
    "# YEAR: The year for which you want to calculate the CEO's compensation\n",
    "# SALARY: Base salary paid to the CEO\n",
    "# BONUS: Bonus paid to the CEO\n",
    "# STOCK_AWARDS: Value of stock and option awards paid to the CEO\n",
    "# OPTIONS_AWARDS: Value of option awards paid to the CEO\n",
    "# LTIP: Value of long-term incentive plan awards paid to the CEO\n",
    "# ALL_OTHER_COMP: All other compensation paid to the CEO"
   ]
  }
 ],
 "metadata": {
  "kernelspec": {
   "display_name": "Python 3 (ipykernel)",
   "language": "python",
   "name": "python3"
  },
  "language_info": {
   "codemirror_mode": {
    "name": "ipython",
    "version": 3
   },
   "file_extension": ".py",
   "mimetype": "text/x-python",
   "name": "python",
   "nbconvert_exporter": "python",
   "pygments_lexer": "ipython3",
   "version": "3.9.13"
  }
 },
 "nbformat": 4,
 "nbformat_minor": 5
}
