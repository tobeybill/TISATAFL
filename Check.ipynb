{
 "cells": [
  {
   "cell_type": "code",
   "execution_count": 1,
   "id": "8ec58e98-e813-4ab3-a8e3-fb3e5132db2a",
   "metadata": {},
   "outputs": [
    {
     "name": "stderr",
     "output_type": "stream",
     "text": [
      "/var/folders/29/vl12lkgs28xgjpc6t0_jg9040000gn/T/ipykernel_1890/3821301156.py:13: DtypeWarning: Columns (80,96) have mixed types. Specify dtype option on import or set low_memory=False.\n",
      "  df = pd.read_csv('./Input_data/ExecuComp_data.csv')\n"
     ]
    }
   ],
   "source": [
    "from ydata_profiling import ProfileReport\n",
    "import pandas as pd\n",
    "import numpy as np\n",
    "import pandas_datareader as pdr  # to install: !pip install pandas_datareader\n",
    "from datetime import datetime\n",
    "url = 'https://github.com/LeDataSciFi/data/raw/main/Firm%20Year%20Datasets%20(Compustat)/firms2020.csv'\n",
    "firms_df = pd.read_csv(url).drop_duplicates('tic')\n",
    "\n",
    "bod_df = pd.read_csv('./Input_data/BOD_Comp_Company_Fin.csv')\n",
    "ceo_df = pd.read_csv('./Input_data/CEO_Comp_Fin.csv')\n",
    "sp500_tickers = pd.read_csv('./Input_data/sp500_2022.csv')['Symbol'].tolist()\n",
    "test_df = pd.read_csv('./Input_data/directorstest.csv')\n",
    "df = pd.read_csv('./Input_data/ExecuComp_data.csv')"
   ]
  },
  {
   "cell_type": "code",
   "execution_count": 5,
   "id": "275ba39c-b06d-48d4-a28a-ed43174f1268",
   "metadata": {},
   "outputs": [],
   "source": [
    "# bod_df = bod_df.drop(['NAICS', 'PCOMMFEES', 'PEXECDIRPD', 'EPSEX', 'EPSEXCHG', 'EPSEX3LS', 'EPSEX5LS', 'OIBD3LS'], axis=1)\n",
    "# bod_df = bod_df.drop(['OIBDCHG', 'OIBD5LS', 'SALE3LS', 'SALE5LS', 'NI3LS', 'NI5LS', 'PDIRPENSN'], axis=1)\n",
    "# bod_df = bod_df.drop(['NUMMTGS', 'TRS1YR', 'TRS3YR', 'TRS5YR', 'AJEX', 'BS_YIELD', 'BS_VOLATILITY'], axis=1)\n",
    "\n",
    "BOD_df = bod_df[['GVKEY', 'YEAR', 'CUSIP', 'TICKER', 'SIC', 'ANNDIRRET', \n",
    "       'DIRMTGFEE', 'DIROPT', 'DIROPTAD', 'DIRSTK', 'DIRSTKAD', \n",
    "       'PDIRPENSN', 'OIBD', 'PRETAX', 'NIBEX', 'MKTVAL']]"
   ]
  },
  {
   "cell_type": "code",
   "execution_count": 3,
   "id": "f033e8ad-a5f7-46fd-b8d2-7e32a7b8aa1a",
   "metadata": {},
   "outputs": [],
   "source": [
    "ceo_df = ceo_df.drop(['CFOANN', 'PENSION_CHG', 'TOTAL_SEC', 'CHG_CTRL_PYMT', 'TOTAL_SEC_PCT', 'REPRICE', 'PCFO', 'EXECRANK'], axis=1)\n",
    "ceo_df = ceo_df[ceo_df['CEOANN'].notnull()]\n",
    "BOTH_df = ceo_df.merge(BOD_df, on = 'TICKER', how = 'left')"
   ]
  },
  {
   "cell_type": "code",
   "execution_count": 4,
   "id": "ce84ab32-434d-4bf8-b8d5-dc7f35b2e516",
   "metadata": {},
   "outputs": [
    {
     "name": "stdout",
     "output_type": "stream",
     "text": [
      "<class 'pandas.core.frame.DataFrame'>\n",
      "Int64Index: 59752 entries, 0 to 59751\n",
      "Data columns (total 50 columns):\n",
      " #   Column          Non-Null Count  Dtype  \n",
      "---  ------          --------------  -----  \n",
      " 0   EXECDIR         59752 non-null  int64  \n",
      " 1   CO_PER_ROL      59752 non-null  int64  \n",
      " 2   CONAME          59752 non-null  object \n",
      " 3   CEOANN          59752 non-null  object \n",
      " 4   SALARY          59752 non-null  float64\n",
      " 5   BONUS           59752 non-null  float64\n",
      " 6   TOTAL_CURR      59752 non-null  float64\n",
      " 7   AGE             55482 non-null  float64\n",
      " 8   EXECRANKANN     59640 non-null  float64\n",
      " 9   TDC1            59276 non-null  float64\n",
      " 10  ALLOTHTOT       59752 non-null  float64\n",
      " 11  ALLOTHPD        59752 non-null  float64\n",
      " 12  SAL_PCT         56700 non-null  float64\n",
      " 13  TOTAL_CURR_PCT  56686 non-null  float64\n",
      " 14  TDC1_PCT        55566 non-null  float64\n",
      " 15  COMMENT         5530 non-null   object \n",
      " 16  GVKEY_x         59752 non-null  int64  \n",
      " 17  EXECID          59752 non-null  int64  \n",
      " 18  YEAR_x          59752 non-null  int64  \n",
      " 19  BECAMECEO       58660 non-null  object \n",
      " 20  JOINED_CO       37408 non-null  object \n",
      " 21  REJOIN          742 non-null    object \n",
      " 22  LEFTOFC         54530 non-null  object \n",
      " 23  LEFTCO          24514 non-null  object \n",
      " 24  RELEFT          392 non-null    object \n",
      " 25  PCEO            3080 non-null   object \n",
      " 26  TITLE           59752 non-null  object \n",
      " 27  REASON          24920 non-null  object \n",
      " 28  EXEC_LNAME      59752 non-null  object \n",
      " 29  EXEC_FNAME      59752 non-null  object \n",
      " 30  GENDER          59752 non-null  object \n",
      " 31  PAGE            59598 non-null  float64\n",
      " 32  CUSIP_x         59752 non-null  object \n",
      " 33  TICKER          59752 non-null  object \n",
      " 34  NAICS           59752 non-null  int64  \n",
      " 35  GVKEY_y         59752 non-null  int64  \n",
      " 36  YEAR_y          59752 non-null  int64  \n",
      " 37  CUSIP_y         59752 non-null  object \n",
      " 38  SIC             59752 non-null  int64  \n",
      " 39  ANNDIRRET       55087 non-null  float64\n",
      " 40  DIRMTGFEE       55087 non-null  float64\n",
      " 41  DIROPT          26514 non-null  float64\n",
      " 42  DIROPTAD        55087 non-null  float64\n",
      " 43  DIRSTK          55087 non-null  float64\n",
      " 44  DIRSTKAD        55087 non-null  float64\n",
      " 45  PDIRPENSN       59752 non-null  int64  \n",
      " 46  OIBD            56161 non-null  float64\n",
      " 47  PRETAX          57219 non-null  float64\n",
      " 48  NIBEX           57219 non-null  float64\n",
      " 49  MKTVAL          57252 non-null  float64\n",
      "dtypes: float64(22), int64(10), object(18)\n",
      "memory usage: 23.2+ MB\n"
     ]
    }
   ],
   "source": [
    "BOTH_df.info()\n",
    "# TDC1 is total compensation for all CEOs\n",
    "#ANNDIRRET is for directors (their main salary) \n"
   ]
  },
  {
   "cell_type": "code",
   "execution_count": null,
   "id": "21f4bf48-a888-4537-b06d-e73fc186e359",
   "metadata": {},
   "outputs": [],
   "source": []
  },
  {
   "cell_type": "code",
   "execution_count": null,
   "id": "4adbaca0-8932-49f3-8e7e-a4b476f4033c",
   "metadata": {},
   "outputs": [],
   "source": []
  },
  {
   "cell_type": "code",
   "execution_count": null,
   "id": "c1a20c1d-428b-4f6b-a7bc-47bae68c20c1",
   "metadata": {},
   "outputs": [],
   "source": []
  },
  {
   "cell_type": "code",
   "execution_count": null,
   "id": "8a42047a-2d94-4cc6-8bd5-f1356a2ba209",
   "metadata": {},
   "outputs": [],
   "source": []
  },
  {
   "cell_type": "code",
   "execution_count": null,
   "id": "88be8aa2-f604-4a26-9e25-c2c6b241e1b5",
   "metadata": {},
   "outputs": [],
   "source": []
  }
 ],
 "metadata": {
  "kernelspec": {
   "display_name": "Python 3 (ipykernel)",
   "language": "python",
   "name": "python3"
  },
  "language_info": {
   "codemirror_mode": {
    "name": "ipython",
    "version": 3
   },
   "file_extension": ".py",
   "mimetype": "text/x-python",
   "name": "python",
   "nbconvert_exporter": "python",
   "pygments_lexer": "ipython3",
   "version": "3.9.13"
  }
 },
 "nbformat": 4,
 "nbformat_minor": 5
}
