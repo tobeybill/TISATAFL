{
 "cells": [
  {
   "cell_type": "code",
   "execution_count": 31,
   "id": "f033e8ad-a5f7-46fd-b8d2-7e32a7b8aa1a",
   "metadata": {},
   "outputs": [],
   "source": [
    "from ydata_profiling import ProfileReport\n",
    "import pandas as pd\n",
    "import numpy as np\n",
    "import pandas_datareader as pdr  # to install: !pip install pandas_datareader\n",
    "from datetime import datetime\n",
    "import numpy as np\n",
    "import seaborn as sns\n",
    "import matplotlib.pyplot as plt\n",
    "from statsmodels.formula.api import ols as sm_ols\n",
    "from statsmodels.iolib.summary2 import summary_col # nicer tables\n",
    "from sklearn.model_selection import train_test_split\n",
    "from sklearn import set_config\n",
    "from sklearn.calibration import CalibrationDisplay\n",
    "from sklearn.compose import ColumnTransformer, make_column_selector, make_column_transformer\n",
    "from sklearn.impute import SimpleImputer\n",
    "from sklearn.linear_model import LogisticRegression\n",
    "from sklearn.metrics import ConfusionMatrixDisplay,DetCurveDisplay,PrecisionRecallDisplay,RocCurveDisplay,classification_report,r2_score\n",
    "from sklearn.model_selection import GridSearchCV,KFold,cross_validate,train_test_split\n",
    "from df_after_transform import df_after_transform\n",
    "from sklearn.pipeline import make_pipeline, Pipeline\n",
    "from sklearn.preprocessing import OneHotEncoder, StandardScaler, LabelEncoder\n",
    "from sklearn.linear_model import Lasso, Ridge\n",
    "from sklearn.feature_selection import SelectKBest, f_classif, VarianceThreshold\n",
    "set_config(display=\"diagram\")"
   ]
  },
  {
   "cell_type": "code",
   "execution_count": 44,
   "id": "ce84ab32-434d-4bf8-b8d5-dc7f35b2e516",
   "metadata": {},
   "outputs": [],
   "source": [
    "ceo_df = pd.read_csv('./input_data_clean/CEO_DF.csv')\n",
    "bod_df = pd.read_csv('./input_data_clean/BOD_DF.csv')\n",
    "firms_df = pd.read_csv('./input_data_clean/FIRMS.csv')"
   ]
  },
  {
   "cell_type": "code",
   "execution_count": 45,
   "id": "95f4f9a4-ca47-4b23-ae26-ddabddd21f80",
   "metadata": {},
   "outputs": [],
   "source": [
    "small_ceo_df = ceo_df[ceo_df['size_category'] == 'Small']\n",
    "medium_ceo_df = ceo_df[ceo_df['size_category'] == 'Medium']\n",
    "large_ceo_df = ceo_df[ceo_df['size_category'] == 'Large']"
   ]
  },
  {
   "cell_type": "code",
   "execution_count": 43,
   "id": "4f7b9f26-7eb3-4e48-bee1-9851788449c4",
   "metadata": {},
   "outputs": [
    {
     "name": "stdout",
     "output_type": "stream",
     "text": [
      "<class 'pandas.core.frame.DataFrame'>\n",
      "Int64Index: 3299 entries, 3979 to 113142\n",
      "Data columns (total 22 columns):\n",
      " #   Column           Non-Null Count  Dtype  \n",
      "---  ------           --------------  -----  \n",
      " 0   ticker           3299 non-null   object \n",
      " 1   bonus            3299 non-null   float64\n",
      " 2   stock_awards     3299 non-null   float64\n",
      " 3   option_awards    3299 non-null   float64\n",
      " 4   othcomp          3299 non-null   float64\n",
      " 5   age              3299 non-null   float64\n",
      " 6   tdc1             3299 non-null   float64\n",
      " 7   year             3299 non-null   int64  \n",
      " 8   becameceo        3299 non-null   float64\n",
      " 9   joined_co        555 non-null    float64\n",
      " 10  leftofc          1463 non-null   float64\n",
      " 11  gender           3299 non-null   object \n",
      " 12  cusip            3299 non-null   int64  \n",
      " 13  naicsdesc        3299 non-null   int64  \n",
      " 14  sic              3299 non-null   int64  \n",
      " 15  mkvalt           3299 non-null   float64\n",
      " 16  size_category    3299 non-null   object \n",
      " 17  signature_index  3299 non-null   object \n",
      " 18  ownershippower   3299 non-null   int64  \n",
      " 19  yearserved       3299 non-null   float64\n",
      " 20  prestiegepower   3299 non-null   int64  \n",
      " 21  ownershipratio   3299 non-null   float64\n",
      "dtypes: float64(12), int64(6), object(4)\n",
      "memory usage: 592.8+ KB\n"
     ]
    }
   ],
   "source": [
    "df.info()"
   ]
  },
  {
   "cell_type": "code",
   "execution_count": 46,
   "id": "bcd05fee-436e-4cfe-83f8-e758624d3a8e",
   "metadata": {},
   "outputs": [
    {
     "name": "stderr",
     "output_type": "stream",
     "text": [
      "/var/folders/29/vl12lkgs28xgjpc6t0_jg9040000gn/T/ipykernel_3717/3569615602.py:2: SettingWithCopyWarning: \n",
      "A value is trying to be set on a copy of a slice from a DataFrame\n",
      "\n",
      "See the caveats in the documentation: https://pandas.pydata.org/pandas-docs/stable/user_guide/indexing.html#returning-a-view-versus-a-copy\n",
      "  df.drop(['Unnamed: 0', 'Unnamed: 0.1', 'Unnamed: 0.2','gvkey', 'salary', 'total_curr',\n"
     ]
    }
   ],
   "source": [
    "df =  large_ceo_df\n",
    "df.drop(['Unnamed: 0', 'Unnamed: 0.1', 'Unnamed: 0.2','gvkey', 'salary', 'total_curr', \n",
    "         'bonus', 'stock_awards', 'option_awards', 'othcomp'], axis=1, inplace=True)\n",
    "\n",
    "# Create boolean masks for the train and holdout periods\n",
    "train_mask = df.loc[(df['year'] >= 2010) & (df['year'] <= 2016)]\n",
    "holdout_mask = df.loc[(df['year'] >= 2017) & (df['year'] <= 2019)]\n",
    "\n",
    "y = np.log(train_mask.tdc1)\n",
    "X = train_mask.drop('tdc1', axis=1)\n",
    "\n",
    "VarY = holdout_mask[['signature_index', 'tdc1']]\n",
    "VarY.to_csv('./Saved/large_ceo_df.csv', index=False)\n",
    "\n",
    "holdout_set = holdout_mask\n",
    "\n",
    "\n",
    "holdout_X = holdout_set.drop(['signature_index', 'tdc1'], axis=1)\n",
    "\n",
    "rng = np.random.RandomState(0)\n",
    "X_train, X_test, y_train, y_test = train_test_split(X, y, random_state=rng)\n",
    "\n",
    "missing_cols = set(X_train.columns) - set(holdout_X.columns)\n",
    "for col in missing_cols:\n",
    "    holdout_X[col] = 0\n",
    "holdout_X = holdout_X[X_train.columns]"
   ]
  },
  {
   "cell_type": "code",
   "execution_count": 47,
   "id": "ec6fb926-a8c1-446e-ac95-e53560785023",
   "metadata": {},
   "outputs": [],
   "source": [
    "cv = KFold(10)"
   ]
  },
  {
   "cell_type": "code",
   "execution_count": 48,
   "id": "d205deff-0b82-48ee-b18f-351982a430c1",
   "metadata": {},
   "outputs": [],
   "source": [
    "numer_pipe = make_pipeline(SimpleImputer(strategy=\"mean\"), StandardScaler())\n",
    "cat_pipe = make_pipeline(OneHotEncoder())\n",
    "\n",
    "preproc_pipe = make_column_transformer(\n",
    "    (numer_pipe, make_column_selector(dtype_include=np.number)),\n",
    "    (cat_pipe, ['gender']),\n",
    "    remainder=\"drop\",\n",
    ")\n",
    "# pipe = Pipeline([('columntransformer',preproc_pipe),\n",
    "#                  ('feature_select',SelectKBest()), \n",
    "#                  ('clf', Ridge())\n",
    "#                 ])\n",
    "\n",
    "ridge_pipe = Pipeline([\n",
    "    ('preprocessor', preproc_pipe),\n",
    "    ('ridge', Ridge())\n",
    "])"
   ]
  },
  {
   "cell_type": "code",
   "execution_count": 53,
   "id": "a00d06a7-2d8d-4789-9241-8eca7d842617",
   "metadata": {},
   "outputs": [],
   "source": [
    "alphas = list(np.linspace(0, 1000, 25))\n",
    "parameters = {'ridge__alpha': alphas}\n",
    "\n",
    "grid_search = GridSearchCV(estimator=ridge_pipe, \n",
    "                           param_grid=parameters,\n",
    "                           cv=cv,\n",
    "                           scoring='r2',\n",
    "                           error_score='raise')\n",
    "\n",
    "results = grid_search.fit(X_train, y_train)"
   ]
  },
  {
   "cell_type": "code",
   "execution_count": 54,
   "id": "1fd02919-a1a7-4848-b17d-d457aa76e030",
   "metadata": {},
   "outputs": [
    {
     "data": {
      "text/plain": [
       "<AxesSubplot:title={'center':'CV score by alpha'}, xlabel='alpha'>"
      ]
     },
     "execution_count": 54,
     "metadata": {},
     "output_type": "execute_result"
    },
    {
     "data": {
      "image/png": "[encoded data removed]",
      "text/plain": [
       "<Figure size 640x480 with 1 Axes>"
      ]
     },
     "metadata": {},
     "output_type": "display_data"
    }
   ],
   "source": [
    "results_df = pd.DataFrame(results.cv_results_).set_index('params')\n",
    "results_df['alpha'] = [c['ridge__alpha'] for c in results_df.index]\n",
    "results_df = results_df.sort_values('alpha')\n",
    "results_df.plot(x='alpha', y='mean_test_score', kind='line', title='CV score by alpha')"
   ]
  },
  {
   "cell_type": "code",
   "execution_count": 59,
   "id": "afcccb1d-42f9-4366-926e-2a15817ac36f",
   "metadata": {},
   "outputs": [
    {
     "data": {
      "text/plain": [
       "<AxesSubplot:title={'center':'CV score by alpha'}, xlabel='alpha'>"
      ]
     },
     "execution_count": 59,
     "metadata": {},
     "output_type": "execute_result"
    },
    {
     "data": {
      "image/png": "[encoded data removed]",
      "text/plain": [
       "<Figure size 640x480 with 1 Axes>"
      ]
     },
     "metadata": {},
     "output_type": "display_data"
    }
   ],
   "source": [
    "alphas = list(np.linspace(655, 680,20))\n",
    "parameters = {'ridge__alpha': alphas}\n",
    "\n",
    "grid_search = GridSearchCV(estimator=ridge_pipe, \n",
    "                           param_grid=parameters,\n",
    "                           cv=cv,\n",
    "                           scoring='r2')\n",
    "\n",
    "results = grid_search.fit(X_train, y_train)\n",
    "\n",
    "results_df = pd.DataFrame(results.cv_results_).set_index('params')\n",
    "# extract alpha from the params variable\n",
    "results_df['alpha'] = [c['ridge__alpha'] for c in results_df.index]\n",
    "results_df = results_df.sort_values('alpha')\n",
    "results_df.plot(x='alpha',y='mean_test_score',kind='line',\n",
    "                title='CV score by alpha')"
   ]
  },
  {
   "cell_type": "code",
   "execution_count": null,
   "id": "7928e61c-328a-472d-98d8-a0d211730115",
   "metadata": {},
   "outputs": [],
   "source": []
  },
  {
   "cell_type": "code",
   "execution_count": 60,
   "id": "88be8aa2-f604-4a26-9e25-c2c6b241e1b5",
   "metadata": {
    "tags": []
   },
   "outputs": [
    {
     "name": "stdout",
     "output_type": "stream",
     "text": [
      "The optimal ridge alpha is: 666.84211\n"
     ]
    }
   ],
   "source": [
    "best_alpha = results_df.query('rank_test_score == 1')['param_ridge__alpha'][0]\n",
    "print('The optimal ridge alpha is: %.5f' % best_alpha)"
   ]
  },
  {
   "cell_type": "code",
   "execution_count": 61,
   "id": "5ae5ab91-0d5b-4f0b-89e1-7e63e7108cfe",
   "metadata": {},
   "outputs": [
    {
     "name": "stdout",
     "output_type": "stream",
     "text": [
      "The mean test score for this alpha is: 0.88087\n"
     ]
    }
   ],
   "source": [
    "print('The mean test score for this alpha is: %.5f' % results_df.query('rank_test_score == 1')['mean_test_score'][0])"
   ]
  },
  {
   "cell_type": "code",
   "execution_count": 58,
   "id": "103f14ab-0cf8-4d3b-83b0-08a5b9a19511",
   "metadata": {},
   "outputs": [],
   "source": [
    "cv = KFold(10)\n",
    "\n",
    "numer_pipe = make_pipeline(SimpleImputer(strategy=\"mean\"), StandardScaler())\n",
    "\n",
    "cat_pipe = make_pipeline(OneHotEncoder())\n",
    "\n",
    "preproc_pipe = make_column_transformer(\n",
    "    (numer_pipe, make_column_selector(dtype_include=np.number)),\n",
    "    (cat_pipe, ['gender']),\n",
    "    remainder=\"drop\",\n",
    ")\n"
   ]
  },
  {
   "cell_type": "code",
   "execution_count": 71,
   "id": "372c2551-7d88-4fc0-bda5-42e8348e52b0",
   "metadata": {
    "tags": []
   },
   "outputs": [],
   "source": [
    "import warnings\n",
    "\n",
    "# ignore the specific warning\n",
    "warnings.filterwarnings(\"ignore\", category=RuntimeWarning)\n",
    "from sklearn.feature_selection import SelectPercentile, f_regression\n",
    "\n",
    "pipe = Pipeline([('columntransformer',preproc_pipe),\n",
    "                 ('feature_select',SelectPercentile(score_func=f_regression)), \n",
    "                 ('clf', Ridge())\n",
    "                ])\n",
    "\n",
    "param_grid = {\n",
    "    # 'feature_select__percentile': [10, 20, 30, 40, 50, 60, 70, 80, 90],\n",
    "    'feature_select__percentile': [90, 91, 92, 93, 94, 95, 96, 97],\n",
    "    # 'feature_select__percentile': [18, 19, 20, 21, 22, 23, 24, 25],\n",
    "\n",
    "    'clf__alpha': [665, 665.5, 666, 667, 668], \n",
    "    # 'clf__alpha': [0.5, 0.75, 0.9, 1.23, 1.45], \n",
    "    # 'clf__alpha': [0.01, 0.05, 0.1, 0.2, 0.3, 0.4, 0.5], \n",
    "    # 'clf__alpha': [0.001, 0.005, 0.01, 0.02, 0.03, 0.04, 0.05], \n",
    "\n",
    "    # 'clf__alpha': [165, 167, 168, 170, 171.05263, 172, 173, 174], \n",
    "    # 'clf__alpha': [40, 41, 42, 43, 44, 45, 46, 47], \n",
    "    # 'clf__alpha': [14.5,15,15.5,16, 16.5, 17], \n",
    "        # 'feature_select__percentile': [10, 20, 30, 40, 50, 60, 70, 80, 90],\n",
    "    # 'feature_select__percentile': [90, 91, 92, 93, 94, 95, 96, 97],\n",
    "    # 'feature_select__percentile': [83, 84, 85, 86, 87, 88, 89, 90],\n",
    "    # 'feature_select__percentile': [57, 58, 59 ,60, 61, 62, 63, 64],\n",
    "    # 'feature_select__percentile': [64, 65, 66, 67, 68, 69 ,70, 71],\n",
    "\n",
    "    # 'feature_select__percentile': [18, 19, 20, 21, 22, 23, 24, 25],\n",
    "\n",
    "    # 'clf__alpha': [18, 19, 20, 21, 22, 23, 24, 25], \n",
    "    # 'clf__alpha': [0.5, 0.75, 0.9, 1.23, 1.45, 1.57895, 1.7, 1.8],\n",
    "    # 'clf__alpha': [200, 205, 208, 210, 213, 215, 220, 225],\n",
    "    # 'clf__alpha': [234, 236, 237, 238, 239 ,240],\n",
    "    # 'clf__alpha': [120, 130, 140, 150, 160], \n",
    "    # 'clf__alpha': [114, 115, 116, 117, 118, 119, 120], \n",
    "    # 'clf__alpha': [50, 100, 150, 200, 250, 300], \n",
    "    # 'clf__alpha': [95, 96, 97, 98, 99, 100, 101, 102, 103, 104], \n",
    "\n",
    "    # 'clf__alpha': [186, 188, 190, 192, 194, 196], \n",
    "    # 'clf__alpha': [105, 107, 109, 111, 112, 113, 114, 115], \n",
    "    # 'clf__alpha': [14.5,15,15.5,16, 16.5, 17], \n",
    "    # 'clf__alpha': [47, 48, 49, 50, 51, 52, 53, 54], \n",
    "# \n",
    "\n",
    "}\n",
    "\n",
    "grid_search = GridSearchCV(estimator=pipe, \n",
    "                           param_grid=param_grid,\n",
    "                           cv=cv,\n",
    "                           scoring='r2',\n",
    "                           error_score='raise')\n",
    "\n",
    "results = grid_search.fit(X_train, y_train)\n"
   ]
  },
  {
   "cell_type": "code",
   "execution_count": 72,
   "id": "62baab7a-6c6f-4fcb-9b38-01feedfbd6b4",
   "metadata": {},
   "outputs": [
    {
     "data": {
      "text/html": [
       "<div>\n",
       "<style scoped>\n",
       "    .dataframe tbody tr th:only-of-type {\n",
       "        vertical-align: middle;\n",
       "    }\n",
       "\n",
       "    .dataframe tbody tr th {\n",
       "        vertical-align: top;\n",
       "    }\n",
       "\n",
       "    .dataframe thead th {\n",
       "        text-align: right;\n",
       "    }\n",
       "</style>\n",
       "<table border=\"1\" class=\"dataframe\">\n",
       "  <thead>\n",
       "    <tr style=\"text-align: right;\">\n",
       "      <th></th>\n",
       "      <th>mean_test_score</th>\n",
       "      <th>std_test_score</th>\n",
       "      <th>alpha</th>\n",
       "      <th>k</th>\n",
       "    </tr>\n",
       "  </thead>\n",
       "  <tbody>\n",
       "    <tr>\n",
       "      <th>count</th>\n",
       "      <td>40.000000</td>\n",
       "      <td>40.000000</td>\n",
       "      <td>40.000000</td>\n",
       "      <td>40.000000</td>\n",
       "    </tr>\n",
       "    <tr>\n",
       "      <th>mean</th>\n",
       "      <td>0.883288</td>\n",
       "      <td>0.211803</td>\n",
       "      <td>666.300000</td>\n",
       "      <td>93.500000</td>\n",
       "    </tr>\n",
       "    <tr>\n",
       "      <th>std</th>\n",
       "      <td>0.003160</td>\n",
       "      <td>0.014933</td>\n",
       "      <td>1.090754</td>\n",
       "      <td>2.320477</td>\n",
       "    </tr>\n",
       "    <tr>\n",
       "      <th>min</th>\n",
       "      <td>0.880871</td>\n",
       "      <td>0.192654</td>\n",
       "      <td>665.000000</td>\n",
       "      <td>90.000000</td>\n",
       "    </tr>\n",
       "    <tr>\n",
       "      <th>25%</th>\n",
       "      <td>0.880871</td>\n",
       "      <td>0.192822</td>\n",
       "      <td>665.500000</td>\n",
       "      <td>91.750000</td>\n",
       "    </tr>\n",
       "    <tr>\n",
       "      <th>50%</th>\n",
       "      <td>0.880871</td>\n",
       "      <td>0.223102</td>\n",
       "      <td>666.000000</td>\n",
       "      <td>93.500000</td>\n",
       "    </tr>\n",
       "    <tr>\n",
       "      <th>75%</th>\n",
       "      <td>0.887310</td>\n",
       "      <td>0.223268</td>\n",
       "      <td>667.000000</td>\n",
       "      <td>95.250000</td>\n",
       "    </tr>\n",
       "    <tr>\n",
       "      <th>max</th>\n",
       "      <td>0.887327</td>\n",
       "      <td>0.223357</td>\n",
       "      <td>668.000000</td>\n",
       "      <td>97.000000</td>\n",
       "    </tr>\n",
       "  </tbody>\n",
       "</table>\n",
       "</div>"
      ],
      "text/plain": [
       "       mean_test_score  std_test_score       alpha          k\n",
       "count        40.000000       40.000000   40.000000  40.000000\n",
       "mean          0.883288        0.211803  666.300000  93.500000\n",
       "std           0.003160        0.014933    1.090754   2.320477\n",
       "min           0.880871        0.192654  665.000000  90.000000\n",
       "25%           0.880871        0.192822  665.500000  91.750000\n",
       "50%           0.880871        0.223102  666.000000  93.500000\n",
       "75%           0.887310        0.223268  667.000000  95.250000\n",
       "max           0.887327        0.223357  668.000000  97.000000"
      ]
     },
     "execution_count": 72,
     "metadata": {},
     "output_type": "execute_result"
    }
   ],
   "source": [
    "results_data = pd.DataFrame(results.cv_results_)\n",
    "results_data = results_data[['params','mean_test_score','std_test_score']]\n",
    "results_data['alpha'] = results_data['params'].apply(lambda x: x.get('clf__alpha'))\n",
    "results_data['k'] = results_data['params'].apply(lambda x: x.get('feature_select__percentile'))\n",
    "results_data.describe()"
   ]
  },
  {
   "cell_type": "code",
   "execution_count": 73,
   "id": "cc205065-7286-4d0e-bd8d-0772bb28815b",
   "metadata": {},
   "outputs": [
    {
     "data": {
      "text/plain": [
       "Text(0    0.192855\n",
       "Name: std_test_score, dtype: float64, 0    0.887327\n",
       "Name: mean_test_score, dtype: float64, 'Best params: k=90, alpha=665     ')"
      ]
     },
     "execution_count": 73,
     "metadata": {},
     "output_type": "execute_result"
    },
    {
     "data": {
      "image/png": "[encoded data removed]",
      "text/plain": [
       "<Figure size 640x480 with 1 Axes>"
      ]
     },
     "metadata": {},
     "output_type": "display_data"
    }
   ],
   "source": [
    "sns.scatterplot(data=results_data, x='std_test_score', y='mean_test_score')\n",
    "plt.xlabel('Standard deviation of test scores')\n",
    "plt.ylabel('Average test score')\n",
    "plt.title('Grid search results for k and alpha')\n",
    "\n",
    "best_params = grid_search.best_params_\n",
    "best_k = best_params['feature_select__percentile']\n",
    "best_alpha = best_params['clf__alpha']\n",
    "plt.scatter(x=results_data.loc[(results_data['k'] == best_k) \n",
    "                                       & (results_data['alpha'] == best_alpha),\n",
    "                                       'std_test_score'], \n",
    "            y=results_data.loc[(results_data['k'] == best_k) \n",
    "                                       & (results_data['alpha'] == best_alpha),\n",
    "                                       'mean_test_score'], color='red')\n",
    "plt.text(results_data.loc[(results_data['k'] == best_k) \n",
    "                                       & (results_data['alpha'] == best_alpha),\n",
    "                                       'std_test_score'],\n",
    "         results_data.loc[(results_data['k'] == best_k) \n",
    "                                & (results_data['alpha'] == best_alpha),\n",
    "                                'mean_test_score'], \n",
    "         f\"Best params: k={best_k}, alpha={best_alpha}     \", ha='right', va='center')"
   ]
  },
  {
   "cell_type": "code",
   "execution_count": 74,
   "id": "6081a4cf-5973-4990-90e5-2e0375e74721",
   "metadata": {},
   "outputs": [],
   "source": [
    "opt_pipe = make_pipeline(preproc_pipe, SelectPercentile(score_func=f_regression, percentile=best_k), Ridge(alpha=best_alpha))\n",
    "opt_pipe.fit(X_train, y_train)\n",
    "\n",
    "y_holdout_pred = opt_pipe.predict(holdout_X)\n",
    "\n",
    "# create a dataframe with the parcel ID and the predicted values\n",
    "df_out = pd.DataFrame({'signature_index': VarY['signature_index'], 'prediction': np.exp(y_holdout_pred) })\n",
    "# merged_df = pd.merge(VarY, df_out, on='signature_index')"
   ]
  },
  {
   "cell_type": "code",
   "execution_count": 75,
   "id": "2d616e03-ee0f-41c3-a384-8dcc8af4562b",
   "metadata": {},
   "outputs": [],
   "source": [
    "df_out.to_csv('./Saved/pred_large_ceo_df.csv', index=False)"
   ]
  },
  {
   "cell_type": "code",
   "execution_count": null,
   "id": "244768d3-c1d3-4d00-a6f5-f85dd775d7a1",
   "metadata": {},
   "outputs": [],
   "source": []
  }
 ],
 "metadata": {
  "kernelspec": {
   "display_name": "Python 3 (ipykernel)",
   "language": "python",
   "name": "python3"
  },
  "language_info": {
   "codemirror_mode": {
    "name": "ipython",
    "version": 3
   },
   "file_extension": ".py",
   "mimetype": "text/x-python",
   "name": "python",
   "nbconvert_exporter": "python",
   "pygments_lexer": "ipython3",
   "version": "3.9.12"
  }
 },
 "nbformat": 4,
 "nbformat_minor": 5
}
