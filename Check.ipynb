{
 "cells": [
  {
   "cell_type": "code",
   "execution_count": 1,
   "id": "f033e8ad-a5f7-46fd-b8d2-7e32a7b8aa1a",
   "metadata": {},
   "outputs": [],
   "source": [
    "from ydata_profiling import ProfileReport\n",
    "import pandas as pd\n",
    "import numpy as np\n",
    "import pandas_datareader as pdr  # to install: !pip install pandas_datareader\n",
    "from datetime import datetime\n",
    "import numpy as np\n",
    "import seaborn as sns\n",
    "import matplotlib.pyplot as plt\n",
    "from statsmodels.formula.api import ols as sm_ols\n",
    "from statsmodels.iolib.summary2 import summary_col # nicer tables\n",
    "from sklearn.model_selection import train_test_split\n",
    "from sklearn import set_config\n",
    "from sklearn.calibration import CalibrationDisplay\n",
    "from sklearn.compose import ColumnTransformer, make_column_selector, make_column_transformer\n",
    "from sklearn.impute import SimpleImputer\n",
    "from sklearn.linear_model import LogisticRegression\n",
    "from sklearn.metrics import ConfusionMatrixDisplay,DetCurveDisplay,PrecisionRecallDisplay,RocCurveDisplay,classification_report,r2_score\n",
    "from sklearn.model_selection import GridSearchCV,KFold,cross_validate,train_test_split\n",
    "from df_after_transform import df_after_transform\n",
    "from sklearn.pipeline import make_pipeline, Pipeline\n",
    "from sklearn.preprocessing import OneHotEncoder, StandardScaler, LabelEncoder\n",
    "from sklearn.linear_model import Lasso, Ridge\n",
    "from sklearn.feature_selection import SelectKBest, f_classif, VarianceThreshold\n",
    "set_config(display=\"diagram\")"
   ]
  },
  {
   "cell_type": "code",
   "execution_count": 2,
   "id": "ce84ab32-434d-4bf8-b8d5-dc7f35b2e516",
   "metadata": {},
   "outputs": [],
   "source": [
    "ceo_df = pd.read_csv('./input_data_clean/CEO_DF.csv')\n",
    "bod_df = pd.read_csv('./input_data_clean/BOD_DF.csv')\n",
    "firms_df = pd.read_csv('./input_data_clean/FIRMS.csv')"
   ]
  },
  {
   "cell_type": "code",
   "execution_count": 3,
   "id": "e3581c21-f6af-46e1-934a-d70b483259bb",
   "metadata": {},
   "outputs": [],
   "source": [
    "tiny_ceo_df = ceo_df[ceo_df['size_category'] == 'Tiny']\n",
    "medium_ceo_df = ceo_df[ceo_df['size_category'] == 'Medium']\n",
    "big_ceo_df = ceo_df[ceo_df['size_category'] == 'Big']\n",
    "huge_ceo_df = ceo_df[ceo_df['size_category'] == 'Huge']\n",
    "\n",
    "tiny_bod_df = bod_df[bod_df['size_category'] == 'Tiny']\n",
    "medium_bod_df = bod_df[bod_df['size_category'] == 'Medium']\n",
    "big_bod_df = bod_df[bod_df['size_category'] == 'Big']\n",
    "huge_bod_df = bod_df[bod_df['size_category'] == 'Huge']\n",
    "\n",
    "\n",
    "\n",
    "list_ceo_df = [tiny_ceo_df, medium_ceo_df, big_ceo_df, huge_ceo_df]\n",
    "list_bod_df = [tiny_bod_df, medium_bod_df, big_bod_df, huge_bod_df]"
   ]
  },
  {
   "cell_type": "code",
   "execution_count": 4,
   "id": "bcd05fee-436e-4cfe-83f8-e758624d3a8e",
   "metadata": {},
   "outputs": [
    {
     "name": "stderr",
     "output_type": "stream",
     "text": [
      "/var/folders/29/vl12lkgs28xgjpc6t0_jg9040000gn/T/ipykernel_2489/1157376556.py:2: SettingWithCopyWarning: \n",
      "A value is trying to be set on a copy of a slice from a DataFrame\n",
      "\n",
      "See the caveats in the documentation: https://pandas.pydata.org/pandas-docs/stable/user_guide/indexing.html#returning-a-view-versus-a-copy\n",
      "  df.drop('Unnamed: 0', axis=1, inplace=True)\n",
      "/var/folders/29/vl12lkgs28xgjpc6t0_jg9040000gn/T/ipykernel_2489/1157376556.py:3: SettingWithCopyWarning: \n",
      "A value is trying to be set on a copy of a slice from a DataFrame\n",
      "\n",
      "See the caveats in the documentation: https://pandas.pydata.org/pandas-docs/stable/user_guide/indexing.html#returning-a-view-versus-a-copy\n",
      "  df.drop('ownershipratio', axis=1, inplace=True)\n"
     ]
    }
   ],
   "source": [
    "df = tiny_ceo_df\n",
    "df.drop(['Unnamed: 0', 'gvkey'], axis=1, inplace=True)\n",
    "df.drop('ownershipratio', axis=1, inplace=True)\n",
    "\n",
    "# Create boolean masks for the train and holdout periods\n",
    "train_mask = df.loc[(df['year'] >= 2010) & (df['year'] <= 2016)]\n",
    "holdout_mask = df.loc[(df['year'] >= 2017) & (df['year'] <= 2019)]\n",
    "\n",
    "y = np.log(train_mask.tdc1)\n",
    "X = train_mask.drop('tdc1', axis=1)\n",
    "\n",
    "VarY = holdout_mask[['signature_index', 'tdc1']].to_csv('Saved/tiny_ceo_df.csv', index=False)\n",
    "holdout_X = holdout_mask.drop('tdc1', axis=1)\n",
    "\n",
    "rng = np.random.RandomState(0)\n",
    "X_train, X_test, y_train, y_test = train_test_split(X, y, random_state=rng)\n",
    "\n",
    "cv = KFold(5)"
   ]
  },
  {
   "cell_type": "code",
   "execution_count": 5,
   "id": "ec6fb926-a8c1-446e-ac95-e53560785023",
   "metadata": {},
   "outputs": [
    {
     "name": "stdout",
     "output_type": "stream",
     "text": [
      "<class 'pandas.core.frame.DataFrame'>\n",
      "Int64Index: 113 entries, 1 to 10709\n",
      "Data columns (total 25 columns):\n",
      " #   Column           Non-Null Count  Dtype  \n",
      "---  ------           --------------  -----  \n",
      " 0   gvkey            113 non-null    int64  \n",
      " 1   ticker           113 non-null    object \n",
      " 2   ceoann           113 non-null    object \n",
      " 3   salary           113 non-null    float64\n",
      " 4   bonus            113 non-null    float64\n",
      " 5   stock_awards     113 non-null    float64\n",
      " 6   option_awards    113 non-null    float64\n",
      " 7   othcomp          113 non-null    float64\n",
      " 8   total_curr       113 non-null    float64\n",
      " 9   age              113 non-null    float64\n",
      " 10  tdc1             113 non-null    float64\n",
      " 11  year             113 non-null    int64  \n",
      " 12  becameceo        110 non-null    object \n",
      " 13  joined_co        19 non-null     object \n",
      " 14  leftofc          69 non-null     object \n",
      " 15  gender           113 non-null    object \n",
      " 16  cusip            113 non-null    object \n",
      " 17  naicsdesc        113 non-null    int64  \n",
      " 18  sic              113 non-null    int64  \n",
      " 19  mkvalt           113 non-null    float64\n",
      " 20  size_category    113 non-null    object \n",
      " 21  signature_index  113 non-null    object \n",
      " 22  ownershippower   113 non-null    int64  \n",
      " 23  yearserved       110 non-null    float64\n",
      " 24  prestiegepower   113 non-null    int64  \n",
      "dtypes: float64(10), int64(6), object(9)\n",
      "memory usage: 23.0+ KB\n"
     ]
    }
   ],
   "source": [
    "df.info()"
   ]
  },
  {
   "cell_type": "code",
   "execution_count": 6,
   "id": "d205deff-0b82-48ee-b18f-351982a430c1",
   "metadata": {},
   "outputs": [],
   "source": [
    "numer_pipe = make_pipeline(SimpleImputer(strategy=\"mean\"), StandardScaler())\n",
    "cat_pipe = make_pipeline(OneHotEncoder())\n",
    "\n",
    "preproc_pipe = make_column_transformer(\n",
    "    (numer_pipe, make_column_selector(dtype_include=np.number)),\n",
    "    (cat_pipe, ['gender']),\n",
    "    remainder=\"drop\",\n",
    ")\n",
    "# pipe = Pipeline([('columntransformer',preproc_pipe),\n",
    "#                  ('feature_select',SelectKBest()), \n",
    "#                  ('clf', Ridge())\n",
    "#                 ])\n",
    "\n",
    "ridge_pipe = Pipeline([\n",
    "    ('preprocessor', preproc_pipe),\n",
    "    ('ridge', Ridge())\n",
    "])"
   ]
  },
  {
   "cell_type": "code",
   "execution_count": 7,
   "id": "e1ccc7be-ad30-4256-b5b2-67f9c78fabc6",
   "metadata": {},
   "outputs": [
    {
     "name": "stdout",
     "output_type": "stream",
     "text": [
      "<class 'pandas.core.frame.DataFrame'>\n",
      "Int64Index: 113 entries, 1 to 10709\n",
      "Data columns (total 25 columns):\n",
      " #   Column           Non-Null Count  Dtype  \n",
      "---  ------           --------------  -----  \n",
      " 0   gvkey            113 non-null    int64  \n",
      " 1   ticker           113 non-null    object \n",
      " 2   ceoann           113 non-null    object \n",
      " 3   salary           113 non-null    float64\n",
      " 4   bonus            113 non-null    float64\n",
      " 5   stock_awards     113 non-null    float64\n",
      " 6   option_awards    113 non-null    float64\n",
      " 7   othcomp          113 non-null    float64\n",
      " 8   total_curr       113 non-null    float64\n",
      " 9   age              113 non-null    float64\n",
      " 10  tdc1             113 non-null    float64\n",
      " 11  year             113 non-null    int64  \n",
      " 12  becameceo        110 non-null    object \n",
      " 13  joined_co        19 non-null     object \n",
      " 14  leftofc          69 non-null     object \n",
      " 15  gender           113 non-null    object \n",
      " 16  cusip            113 non-null    object \n",
      " 17  naicsdesc        113 non-null    int64  \n",
      " 18  sic              113 non-null    int64  \n",
      " 19  mkvalt           113 non-null    float64\n",
      " 20  size_category    113 non-null    object \n",
      " 21  signature_index  113 non-null    object \n",
      " 22  ownershippower   113 non-null    int64  \n",
      " 23  yearserved       110 non-null    float64\n",
      " 24  prestiegepower   113 non-null    int64  \n",
      "dtypes: float64(10), int64(6), object(9)\n",
      "memory usage: 23.0+ KB\n"
     ]
    }
   ],
   "source": [
    "df.info()"
   ]
  },
  {
   "cell_type": "code",
   "execution_count": 8,
   "id": "a00d06a7-2d8d-4789-9241-8eca7d842617",
   "metadata": {},
   "outputs": [],
   "source": [
    "alphas = list(np.linspace(0, 300, 25))\n",
    "parameters = {'ridge__alpha': alphas}\n",
    "\n",
    "grid_search = GridSearchCV(estimator=ridge_pipe, \n",
    "                           param_grid=parameters,\n",
    "                           cv=cv,\n",
    "                           scoring='r2',\n",
    "                           error_score='raise')\n",
    "\n",
    "results = grid_search.fit(X_train, y_train)"
   ]
  },
  {
   "cell_type": "code",
   "execution_count": 9,
   "id": "1fd02919-a1a7-4848-b17d-d457aa76e030",
   "metadata": {},
   "outputs": [
    {
     "data": {
      "text/plain": [
       "<AxesSubplot:title={'center':'CV score by alpha'}, xlabel='alpha'>"
      ]
     },
     "execution_count": 9,
     "metadata": {},
     "output_type": "execute_result"
    },
    {
     "data": {
      "image/png": "[encoded data removed]",
      "text/plain": [
       "<Figure size 640x480 with 1 Axes>"
      ]
     },
     "metadata": {},
     "output_type": "display_data"
    }
   ],
   "source": [
    "results_df = pd.DataFrame(results.cv_results_).set_index('params')\n",
    "results_df['alpha'] = [c['ridge__alpha'] for c in results_df.index]\n",
    "results_df = results_df.sort_values('alpha')\n",
    "results_df.plot(x='alpha', y='mean_test_score', kind='line', title='CV score by alpha')"
   ]
  },
  {
   "cell_type": "code",
   "execution_count": 10,
   "id": "afcccb1d-42f9-4366-926e-2a15817ac36f",
   "metadata": {},
   "outputs": [
    {
     "data": {
      "text/plain": [
       "<AxesSubplot:title={'center':'CV score by alpha'}, xlabel='alpha'>"
      ]
     },
     "execution_count": 10,
     "metadata": {},
     "output_type": "execute_result"
    },
    {
     "data": {
      "image/png": "[encoded data removed]",
      "text/plain": [
       "<Figure size 640x480 with 1 Axes>"
      ]
     },
     "metadata": {},
     "output_type": "display_data"
    }
   ],
   "source": [
    "alphas = list(np.linspace(0,50,20))\n",
    "parameters = {'ridge__alpha': alphas}\n",
    "\n",
    "grid_search = GridSearchCV(estimator=ridge_pipe, \n",
    "                           param_grid=parameters,\n",
    "                           cv=cv,\n",
    "                           scoring='r2')\n",
    "\n",
    "results = grid_search.fit(X_train, y_train)\n",
    "\n",
    "results_df = pd.DataFrame(results.cv_results_).set_index('params')\n",
    "# extract alpha from the params variable\n",
    "results_df['alpha'] = [c['ridge__alpha'] for c in results_df.index]\n",
    "results_df = results_df.sort_values('alpha')\n",
    "results_df.plot(x='alpha',y='mean_test_score',kind='line',\n",
    "                title='CV score by alpha')"
   ]
  },
  {
   "cell_type": "code",
   "execution_count": null,
   "id": "2e5aed7f-474e-4b33-9b55-cbe6d3708c10",
   "metadata": {},
   "outputs": [],
   "source": []
  },
  {
   "cell_type": "code",
   "execution_count": null,
   "id": "7928e61c-328a-472d-98d8-a0d211730115",
   "metadata": {},
   "outputs": [],
   "source": []
  },
  {
   "cell_type": "code",
   "execution_count": 11,
   "id": "88be8aa2-f604-4a26-9e25-c2c6b241e1b5",
   "metadata": {
    "tags": []
   },
   "outputs": [
    {
     "name": "stdout",
     "output_type": "stream",
     "text": [
      "The optimal ridge alpha is: 26.31579\n"
     ]
    }
   ],
   "source": [
    "##### 0.00184\n",
    "best_alpha = results_df.query('rank_test_score == 1')['param_ridge__alpha'][0]\n",
    "print('The optimal ridge alpha is: %.5f' % best_alpha)"
   ]
  },
  {
   "cell_type": "code",
   "execution_count": 12,
   "id": "5ae5ab91-0d5b-4f0b-89e1-7e63e7108cfe",
   "metadata": {},
   "outputs": [
    {
     "name": "stdout",
     "output_type": "stream",
     "text": [
      "The mean test score for this alpha is: 0.58986\n"
     ]
    }
   ],
   "source": [
    "print('The mean test score for this alpha is: %.5f' % results_df.query('rank_test_score == 1')['mean_test_score'][0])"
   ]
  },
  {
   "cell_type": "code",
   "execution_count": 13,
   "id": "d75293cb-ed98-4434-a430-664a859db89e",
   "metadata": {},
   "outputs": [
    {
     "name": "stdout",
     "output_type": "stream",
     "text": [
      "<class 'pandas.core.frame.DataFrame'>\n",
      "Int64Index: 113 entries, 1 to 10709\n",
      "Data columns (total 25 columns):\n",
      " #   Column           Non-Null Count  Dtype  \n",
      "---  ------           --------------  -----  \n",
      " 0   gvkey            113 non-null    int64  \n",
      " 1   ticker           113 non-null    object \n",
      " 2   ceoann           113 non-null    object \n",
      " 3   salary           113 non-null    float64\n",
      " 4   bonus            113 non-null    float64\n",
      " 5   stock_awards     113 non-null    float64\n",
      " 6   option_awards    113 non-null    float64\n",
      " 7   othcomp          113 non-null    float64\n",
      " 8   total_curr       113 non-null    float64\n",
      " 9   age              113 non-null    float64\n",
      " 10  tdc1             113 non-null    float64\n",
      " 11  year             113 non-null    int64  \n",
      " 12  becameceo        110 non-null    object \n",
      " 13  joined_co        19 non-null     object \n",
      " 14  leftofc          69 non-null     object \n",
      " 15  gender           113 non-null    object \n",
      " 16  cusip            113 non-null    object \n",
      " 17  naicsdesc        113 non-null    int64  \n",
      " 18  sic              113 non-null    int64  \n",
      " 19  mkvalt           113 non-null    float64\n",
      " 20  size_category    113 non-null    object \n",
      " 21  signature_index  113 non-null    object \n",
      " 22  ownershippower   113 non-null    int64  \n",
      " 23  yearserved       110 non-null    float64\n",
      " 24  prestiegepower   113 non-null    int64  \n",
      "dtypes: float64(10), int64(6), object(9)\n",
      "memory usage: 23.0+ KB\n"
     ]
    }
   ],
   "source": [
    "df.info()"
   ]
  }
 ],
 "metadata": {
  "kernelspec": {
   "display_name": "Python 3 (ipykernel)",
   "language": "python",
   "name": "python3"
  },
  "language_info": {
   "codemirror_mode": {
    "name": "ipython",
    "version": 3
   },
   "file_extension": ".py",
   "mimetype": "text/x-python",
   "name": "python",
   "nbconvert_exporter": "python",
   "pygments_lexer": "ipython3",
   "version": "3.9.13"
  }
 },
 "nbformat": 4,
 "nbformat_minor": 5
}
