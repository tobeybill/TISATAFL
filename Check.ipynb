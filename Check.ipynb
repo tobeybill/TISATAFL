{
 "cells": [
  {
   "cell_type": "code",
   "execution_count": 1,
   "id": "f033e8ad-a5f7-46fd-b8d2-7e32a7b8aa1a",
   "metadata": {},
   "outputs": [],
   "source": [
    "from ydata_profiling import ProfileReport\n",
    "import pandas as pd\n",
    "import numpy as np\n",
    "import pandas_datareader as pdr  # to install: !pip install pandas_datareader\n",
    "from datetime import datetime\n",
    "import numpy as np\n",
    "import seaborn as sns\n",
    "import matplotlib.pyplot as plt\n",
    "from statsmodels.formula.api import ols as sm_ols\n",
    "from statsmodels.iolib.summary2 import summary_col # nicer tables\n",
    "from sklearn.model_selection import train_test_split\n",
    "from sklearn import set_config\n",
    "from sklearn.calibration import CalibrationDisplay\n",
    "from sklearn.compose import ColumnTransformer, make_column_selector, make_column_transformer\n",
    "from sklearn.impute import SimpleImputer\n",
    "from sklearn.linear_model import LogisticRegression\n",
    "from sklearn.metrics import ConfusionMatrixDisplay,DetCurveDisplay,PrecisionRecallDisplay,RocCurveDisplay,classification_report,r2_score\n",
    "from sklearn.model_selection import GridSearchCV,KFold,cross_validate,train_test_split\n",
    "from df_after_transform import df_after_transform\n",
    "from sklearn.pipeline import make_pipeline, Pipeline\n",
    "from sklearn.preprocessing import OneHotEncoder, StandardScaler, LabelEncoder\n",
    "from sklearn.linear_model import Lasso, Ridge\n",
    "from sklearn.feature_selection import SelectKBest, f_classif, VarianceThreshold\n",
    "set_config(display=\"diagram\")"
   ]
  },
  {
   "cell_type": "code",
   "execution_count": 2,
   "id": "ce84ab32-434d-4bf8-b8d5-dc7f35b2e516",
   "metadata": {},
   "outputs": [],
   "source": [
    "ceo_df = pd.read_csv('./input_data_clean/CEO_DF.csv')\n",
    "bod_df = pd.read_csv('./input_data_clean/BOD_DF.csv')\n",
    "firms_df = pd.read_csv('./input_data_clean/FIRMS.csv')"
   ]
  },
  {
   "cell_type": "code",
   "execution_count": 3,
   "id": "e3581c21-f6af-46e1-934a-d70b483259bb",
   "metadata": {},
   "outputs": [],
   "source": [
    "tiny_ceo_df = ceo_df[ceo_df['size_category'] == 'Tiny']\n",
    "medium_ceo_df = ceo_df[ceo_df['size_category'] == 'Medium']\n",
    "big_ceo_df = ceo_df[ceo_df['size_category'] == 'Big']\n",
    "huge_ceo_df = ceo_df[ceo_df['size_category'] == 'Huge']\n",
    "\n",
    "tiny_bod_df = bod_df[bod_df['size_category'] == 'Tiny']\n",
    "medium_bod_df = bod_df[bod_df['size_category'] == 'Medium']\n",
    "big_bod_df = bod_df[bod_df['size_category'] == 'Big']\n",
    "huge_bod_df = bod_df[bod_df['size_category'] == 'Huge']\n",
    "\n",
    "\n",
    "\n",
    "list_ceo_df = [tiny_ceo_df, medium_ceo_df, big_ceo_df, huge_ceo_df]\n",
    "list_bod_df = [tiny_bod_df, medium_bod_df, big_bod_df, huge_bod_df]"
   ]
  },
  {
   "cell_type": "code",
   "execution_count": 4,
   "id": "bcd05fee-436e-4cfe-83f8-e758624d3a8e",
   "metadata": {},
   "outputs": [
    {
     "name": "stderr",
     "output_type": "stream",
     "text": [
      "/var/folders/29/vl12lkgs28xgjpc6t0_jg9040000gn/T/ipykernel_3030/2339433354.py:2: SettingWithCopyWarning: \n",
      "A value is trying to be set on a copy of a slice from a DataFrame\n",
      "\n",
      "See the caveats in the documentation: https://pandas.pydata.org/pandas-docs/stable/user_guide/indexing.html#returning-a-view-versus-a-copy\n",
      "  df.drop(['Unnamed: 0', 'gvkey'], axis=1, inplace=True)\n",
      "/var/folders/29/vl12lkgs28xgjpc6t0_jg9040000gn/T/ipykernel_3030/2339433354.py:3: SettingWithCopyWarning: \n",
      "A value is trying to be set on a copy of a slice from a DataFrame\n",
      "\n",
      "See the caveats in the documentation: https://pandas.pydata.org/pandas-docs/stable/user_guide/indexing.html#returning-a-view-versus-a-copy\n",
      "  df.drop('ownershipratio', axis=1, inplace=True)\n"
     ]
    }
   ],
   "source": [
    "df = medium_ceo_df\n",
    "df.drop(['Unnamed: 0', 'gvkey'], axis=1, inplace=True)\n",
    "df.drop('ownershipratio', axis=1, inplace=True)\n",
    "\n",
    "# Create boolean masks for the train and holdout periods\n",
    "train_mask = df.loc[(df['year'] >= 2010) & (df['year'] <= 2016)]\n",
    "holdout_mask = df.loc[(df['year'] >= 2017) & (df['year'] <= 2019)]\n",
    "\n",
    "y = np.log(train_mask.tdc1)\n",
    "X = train_mask.drop('tdc1', axis=1)\n",
    "\n",
    "VarY = holdout_mask[['signature_index', 'tdc1']]\n",
    "VarY.to_csv('Saved/medium_ceo_df.csv', index=False)\n",
    "VarY = pd.read_csv('./Saved/medium_ceo_df.csv')\n",
    "\n",
    "\n",
    "holdout_X = VarY.drop(['signature_index'], axis=1)\n",
    "\n",
    "rng = np.random.RandomState(0)\n",
    "X_train, X_test, y_train, y_test = train_test_split(X, y, random_state=rng)\n",
    "\n"
   ]
  },
  {
   "cell_type": "code",
   "execution_count": 5,
   "id": "ec6fb926-a8c1-446e-ac95-e53560785023",
   "metadata": {},
   "outputs": [],
   "source": [
    "cv = KFold(5)"
   ]
  },
  {
   "cell_type": "code",
   "execution_count": 6,
   "id": "d205deff-0b82-48ee-b18f-351982a430c1",
   "metadata": {},
   "outputs": [],
   "source": [
    "numer_pipe = make_pipeline(SimpleImputer(strategy=\"mean\"), StandardScaler())\n",
    "cat_pipe = make_pipeline(OneHotEncoder())\n",
    "\n",
    "preproc_pipe = make_column_transformer(\n",
    "    (numer_pipe, make_column_selector(dtype_include=np.number)),\n",
    "    (cat_pipe, ['gender']),\n",
    "    remainder=\"drop\",\n",
    ")\n",
    "# pipe = Pipeline([('columntransformer',preproc_pipe),\n",
    "#                  ('feature_select',SelectKBest()), \n",
    "#                  ('clf', Ridge())\n",
    "#                 ])\n",
    "\n",
    "ridge_pipe = Pipeline([\n",
    "    ('preprocessor', preproc_pipe),\n",
    "    ('ridge', Ridge())\n",
    "])"
   ]
  },
  {
   "cell_type": "code",
   "execution_count": 7,
   "id": "a00d06a7-2d8d-4789-9241-8eca7d842617",
   "metadata": {},
   "outputs": [],
   "source": [
    "alphas = list(np.linspace(0, 300, 25))\n",
    "parameters = {'ridge__alpha': alphas}\n",
    "\n",
    "grid_search = GridSearchCV(estimator=ridge_pipe, \n",
    "                           param_grid=parameters,\n",
    "                           cv=cv,\n",
    "                           scoring='r2',\n",
    "                           error_score='raise')\n",
    "\n",
    "results = grid_search.fit(X_train, y_train)"
   ]
  },
  {
   "cell_type": "code",
   "execution_count": 8,
   "id": "1fd02919-a1a7-4848-b17d-d457aa76e030",
   "metadata": {},
   "outputs": [
    {
     "data": {
      "text/plain": [
       "<AxesSubplot:title={'center':'CV score by alpha'}, xlabel='alpha'>"
      ]
     },
     "execution_count": 8,
     "metadata": {},
     "output_type": "execute_result"
    },
    {
     "data": {
      "image/png": "[encoded data removed]",
      "text/plain": [
       "<Figure size 640x480 with 1 Axes>"
      ]
     },
     "metadata": {},
     "output_type": "display_data"
    }
   ],
   "source": [
    "results_df = pd.DataFrame(results.cv_results_).set_index('params')\n",
    "results_df['alpha'] = [c['ridge__alpha'] for c in results_df.index]\n",
    "results_df = results_df.sort_values('alpha')\n",
    "results_df.plot(x='alpha', y='mean_test_score', kind='line', title='CV score by alpha')"
   ]
  },
  {
   "cell_type": "code",
   "execution_count": 9,
   "id": "afcccb1d-42f9-4366-926e-2a15817ac36f",
   "metadata": {},
   "outputs": [
    {
     "data": {
      "text/plain": [
       "<AxesSubplot:title={'center':'CV score by alpha'}, xlabel='alpha'>"
      ]
     },
     "execution_count": 9,
     "metadata": {},
     "output_type": "execute_result"
    },
    {
     "data": {
      "image/png": "[encoded data removed]",
      "text/plain": [
       "<Figure size 640x480 with 1 Axes>"
      ]
     },
     "metadata": {},
     "output_type": "display_data"
    }
   ],
   "source": [
    "alphas = list(np.linspace(230, 280,20))\n",
    "parameters = {'ridge__alpha': alphas}\n",
    "\n",
    "grid_search = GridSearchCV(estimator=ridge_pipe, \n",
    "                           param_grid=parameters,\n",
    "                           cv=cv,\n",
    "                           scoring='r2')\n",
    "\n",
    "results = grid_search.fit(X_train, y_train)\n",
    "\n",
    "results_df = pd.DataFrame(results.cv_results_).set_index('params')\n",
    "# extract alpha from the params variable\n",
    "results_df['alpha'] = [c['ridge__alpha'] for c in results_df.index]\n",
    "results_df = results_df.sort_values('alpha')\n",
    "results_df.plot(x='alpha',y='mean_test_score',kind='line',\n",
    "                title='CV score by alpha')"
   ]
  },
  {
   "cell_type": "code",
   "execution_count": 10,
   "id": "2e5aed7f-474e-4b33-9b55-cbe6d3708c10",
   "metadata": {},
   "outputs": [
    {
     "name": "stdout",
     "output_type": "stream",
     "text": [
      "<class 'pandas.core.frame.DataFrame'>\n",
      "Int64Index: 2387 entries, 0 to 10821\n",
      "Data columns (total 23 columns):\n",
      " #   Column           Non-Null Count  Dtype  \n",
      "---  ------           --------------  -----  \n",
      " 0   ticker           2387 non-null   object \n",
      " 1   salary           2387 non-null   float64\n",
      " 2   bonus            2387 non-null   float64\n",
      " 3   stock_awards     2387 non-null   float64\n",
      " 4   option_awards    2387 non-null   float64\n",
      " 5   othcomp          2387 non-null   float64\n",
      " 6   total_curr       2387 non-null   float64\n",
      " 7   age              2387 non-null   float64\n",
      " 8   tdc1             2387 non-null   float64\n",
      " 9   year             2387 non-null   int64  \n",
      " 10  becameceo        2333 non-null   float64\n",
      " 11  joined_co        568 non-null    float64\n",
      " 12  leftofc          1439 non-null   float64\n",
      " 13  gender           2387 non-null   object \n",
      " 14  cusip            2387 non-null   int64  \n",
      " 15  naicsdesc        2387 non-null   int64  \n",
      " 16  sic              2387 non-null   int64  \n",
      " 17  mkvalt           2387 non-null   float64\n",
      " 18  size_category    2387 non-null   object \n",
      " 19  signature_index  2387 non-null   object \n",
      " 20  ownershippower   2387 non-null   int64  \n",
      " 21  yearserved       2344 non-null   float64\n",
      " 22  prestiegepower   2387 non-null   int64  \n",
      "dtypes: float64(13), int64(6), object(4)\n",
      "memory usage: 447.6+ KB\n"
     ]
    }
   ],
   "source": [
    "df.info()"
   ]
  },
  {
   "cell_type": "code",
   "execution_count": null,
   "id": "7928e61c-328a-472d-98d8-a0d211730115",
   "metadata": {},
   "outputs": [],
   "source": []
  },
  {
   "cell_type": "code",
   "execution_count": 11,
   "id": "88be8aa2-f604-4a26-9e25-c2c6b241e1b5",
   "metadata": {
    "tags": []
   },
   "outputs": [
    {
     "name": "stdout",
     "output_type": "stream",
     "text": [
      "The optimal ridge alpha is: 256.31579\n"
     ]
    }
   ],
   "source": [
    "##### 0.00184\n",
    "best_alpha = results_df.query('rank_test_score == 1')['param_ridge__alpha'][0]\n",
    "print('The optimal ridge alpha is: %.5f' % best_alpha)"
   ]
  },
  {
   "cell_type": "code",
   "execution_count": 12,
   "id": "5ae5ab91-0d5b-4f0b-89e1-7e63e7108cfe",
   "metadata": {},
   "outputs": [
    {
     "name": "stdout",
     "output_type": "stream",
     "text": [
      "The mean test score for this alpha is: 0.53439\n"
     ]
    }
   ],
   "source": [
    "print('The mean test score for this alpha is: %.5f' % results_df.query('rank_test_score == 1')['mean_test_score'][0])"
   ]
  },
  {
   "cell_type": "code",
   "execution_count": 13,
   "id": "103f14ab-0cf8-4d3b-83b0-08a5b9a19511",
   "metadata": {},
   "outputs": [],
   "source": [
    "cv = KFold(10)\n",
    "\n",
    "numer_pipe = make_pipeline(SimpleImputer(strategy=\"mean\"), StandardScaler())\n",
    "\n",
    "cat_pipe = make_pipeline(OneHotEncoder())\n",
    "\n",
    "preproc_pipe = make_column_transformer(\n",
    "    (numer_pipe, make_column_selector(dtype_include=np.number)),\n",
    "    (cat_pipe, ['gender']),\n",
    "    remainder=\"drop\",\n",
    ")\n"
   ]
  },
  {
   "cell_type": "code",
   "execution_count": 14,
   "id": "0dd9b62e-cb84-4c5c-ba27-8df374ce261b",
   "metadata": {},
   "outputs": [],
   "source": [
    "pipe = Pipeline([('columntransformer',preproc_pipe),\n",
    "                 ('feature_select',SelectKBest()), \n",
    "                 ('clf', Ridge()),\n",
    "                ])"
   ]
  },
  {
   "cell_type": "code",
   "execution_count": 15,
   "id": "372c2551-7d88-4fc0-bda5-42e8348e52b0",
   "metadata": {},
   "outputs": [],
   "source": [
    "# import warnings\n",
    "# warnings.filterwarnings(\"ignore\", category=RuntimeWarning)\n",
    "\n",
    "\n",
    "# param_grid = {\n",
    "#     'feature_select__k': [3, 5,7, 8, 9, 10, 12, 13],\n",
    "#     'clf__alpha': [0, 50, 100, 150, 200, 250, 300, 350], \n",
    "    \n",
    "# }\n",
    "\n",
    "# # hyperparameters chosen: k in SelectKBest and C in LogisticRegression\n",
    "\n",
    "# grid_search = GridSearchCV(estimator = pipe, \n",
    "#                            param_grid = param_grid,\n",
    "#                            cv = cv, #KFold(10) \n",
    "#                            scoring='r2', \n",
    "#                            error_score='raise'\n",
    "#                            )\n",
    "\n",
    "# results = grid_search.fit(X_train,y_train)\n",
    "\n",
    "from sklearn.feature_selection import SelectPercentile, f_regression\n",
    "\n",
    "pipe = Pipeline([('columntransformer',preproc_pipe),\n",
    "                 ('feature_select',SelectPercentile(score_func=f_regression)), \n",
    "                 ('clf', Ridge())\n",
    "                ])\n",
    "\n",
    "param_grid = {\n",
    "    # 'feature_select__percentile': [10, 20, 30, 40, 50, 60, 70, 80, 90],\n",
    "    'feature_select__percentile': [90, 91, 92, 93, 94, 95, 96, 97],\n",
    "\n",
    "    # 'clf__alpha': [0, 50, 100, 150, 200, 250, 300, 350], \n",
    "    'clf__alpha': [246, 247, 248, 249, 250, 251, 252, 253], \n",
    "\n",
    "}\n",
    "\n",
    "grid_search = GridSearchCV(estimator=pipe, \n",
    "                           param_grid=param_grid,\n",
    "                           cv=cv,\n",
    "                           scoring='r2',\n",
    "                           error_score='raise')\n",
    "\n",
    "results = grid_search.fit(X_train, y_train)\n"
   ]
  },
  {
   "cell_type": "code",
   "execution_count": 16,
   "id": "62baab7a-6c6f-4fcb-9b38-01feedfbd6b4",
   "metadata": {},
   "outputs": [
    {
     "data": {
      "text/html": [
       "<div>\n",
       "<style scoped>\n",
       "    .dataframe tbody tr th:only-of-type {\n",
       "        vertical-align: middle;\n",
       "    }\n",
       "\n",
       "    .dataframe tbody tr th {\n",
       "        vertical-align: top;\n",
       "    }\n",
       "\n",
       "    .dataframe thead th {\n",
       "        text-align: right;\n",
       "    }\n",
       "</style>\n",
       "<table border=\"1\" class=\"dataframe\">\n",
       "  <thead>\n",
       "    <tr style=\"text-align: right;\">\n",
       "      <th></th>\n",
       "      <th>params</th>\n",
       "      <th>mean_test_score</th>\n",
       "      <th>std_test_score</th>\n",
       "      <th>alpha</th>\n",
       "      <th>k</th>\n",
       "    </tr>\n",
       "  </thead>\n",
       "  <tbody>\n",
       "    <tr>\n",
       "      <th>0</th>\n",
       "      <td>{'clf__alpha': 246, 'feature_select__percentil...</td>\n",
       "      <td>0.533001</td>\n",
       "      <td>0.154904</td>\n",
       "      <td>246</td>\n",
       "      <td>90</td>\n",
       "    </tr>\n",
       "    <tr>\n",
       "      <th>1</th>\n",
       "      <td>{'clf__alpha': 246, 'feature_select__percentil...</td>\n",
       "      <td>0.533001</td>\n",
       "      <td>0.154904</td>\n",
       "      <td>246</td>\n",
       "      <td>91</td>\n",
       "    </tr>\n",
       "    <tr>\n",
       "      <th>2</th>\n",
       "      <td>{'clf__alpha': 246, 'feature_select__percentil...</td>\n",
       "      <td>0.533001</td>\n",
       "      <td>0.154904</td>\n",
       "      <td>246</td>\n",
       "      <td>92</td>\n",
       "    </tr>\n",
       "    <tr>\n",
       "      <th>3</th>\n",
       "      <td>{'clf__alpha': 246, 'feature_select__percentil...</td>\n",
       "      <td>0.533001</td>\n",
       "      <td>0.154904</td>\n",
       "      <td>246</td>\n",
       "      <td>93</td>\n",
       "    </tr>\n",
       "    <tr>\n",
       "      <th>4</th>\n",
       "      <td>{'clf__alpha': 246, 'feature_select__percentil...</td>\n",
       "      <td>0.533001</td>\n",
       "      <td>0.154904</td>\n",
       "      <td>246</td>\n",
       "      <td>94</td>\n",
       "    </tr>\n",
       "    <tr>\n",
       "      <th>...</th>\n",
       "      <td>...</td>\n",
       "      <td>...</td>\n",
       "      <td>...</td>\n",
       "      <td>...</td>\n",
       "      <td>...</td>\n",
       "    </tr>\n",
       "    <tr>\n",
       "      <th>59</th>\n",
       "      <td>{'clf__alpha': 253, 'feature_select__percentil...</td>\n",
       "      <td>0.533023</td>\n",
       "      <td>0.153229</td>\n",
       "      <td>253</td>\n",
       "      <td>93</td>\n",
       "    </tr>\n",
       "    <tr>\n",
       "      <th>60</th>\n",
       "      <td>{'clf__alpha': 253, 'feature_select__percentil...</td>\n",
       "      <td>0.533023</td>\n",
       "      <td>0.153229</td>\n",
       "      <td>253</td>\n",
       "      <td>94</td>\n",
       "    </tr>\n",
       "    <tr>\n",
       "      <th>61</th>\n",
       "      <td>{'clf__alpha': 253, 'feature_select__percentil...</td>\n",
       "      <td>0.536614</td>\n",
       "      <td>0.152343</td>\n",
       "      <td>253</td>\n",
       "      <td>95</td>\n",
       "    </tr>\n",
       "    <tr>\n",
       "      <th>62</th>\n",
       "      <td>{'clf__alpha': 253, 'feature_select__percentil...</td>\n",
       "      <td>0.536614</td>\n",
       "      <td>0.152343</td>\n",
       "      <td>253</td>\n",
       "      <td>96</td>\n",
       "    </tr>\n",
       "    <tr>\n",
       "      <th>63</th>\n",
       "      <td>{'clf__alpha': 253, 'feature_select__percentil...</td>\n",
       "      <td>0.536614</td>\n",
       "      <td>0.152343</td>\n",
       "      <td>253</td>\n",
       "      <td>97</td>\n",
       "    </tr>\n",
       "  </tbody>\n",
       "</table>\n",
       "<p>64 rows × 5 columns</p>\n",
       "</div>"
      ],
      "text/plain": [
       "                                               params  mean_test_score  \\\n",
       "0   {'clf__alpha': 246, 'feature_select__percentil...         0.533001   \n",
       "1   {'clf__alpha': 246, 'feature_select__percentil...         0.533001   \n",
       "2   {'clf__alpha': 246, 'feature_select__percentil...         0.533001   \n",
       "3   {'clf__alpha': 246, 'feature_select__percentil...         0.533001   \n",
       "4   {'clf__alpha': 246, 'feature_select__percentil...         0.533001   \n",
       "..                                                ...              ...   \n",
       "59  {'clf__alpha': 253, 'feature_select__percentil...         0.533023   \n",
       "60  {'clf__alpha': 253, 'feature_select__percentil...         0.533023   \n",
       "61  {'clf__alpha': 253, 'feature_select__percentil...         0.536614   \n",
       "62  {'clf__alpha': 253, 'feature_select__percentil...         0.536614   \n",
       "63  {'clf__alpha': 253, 'feature_select__percentil...         0.536614   \n",
       "\n",
       "    std_test_score  alpha   k  \n",
       "0         0.154904    246  90  \n",
       "1         0.154904    246  91  \n",
       "2         0.154904    246  92  \n",
       "3         0.154904    246  93  \n",
       "4         0.154904    246  94  \n",
       "..             ...    ...  ..  \n",
       "59        0.153229    253  93  \n",
       "60        0.153229    253  94  \n",
       "61        0.152343    253  95  \n",
       "62        0.152343    253  96  \n",
       "63        0.152343    253  97  \n",
       "\n",
       "[64 rows x 5 columns]"
      ]
     },
     "execution_count": 16,
     "metadata": {},
     "output_type": "execute_result"
    }
   ],
   "source": [
    "results_data = pd.DataFrame(results.cv_results_)\n",
    "results_data = results_data[['params','mean_test_score','std_test_score']]\n",
    "results_data['alpha'] = results_data['params'].apply(lambda x: x.get('clf__alpha'))\n",
    "results_data['k'] = results_data['params'].apply(lambda x: x.get('feature_select__percentile'))\n",
    "results_data"
   ]
  },
  {
   "cell_type": "code",
   "execution_count": 17,
   "id": "cc205065-7286-4d0e-bd8d-0772bb28815b",
   "metadata": {},
   "outputs": [
    {
     "data": {
      "text/plain": [
       "Text(5    0.15397\n",
       "Name: std_test_score, dtype: float64, 5    0.536621\n",
       "Name: mean_test_score, dtype: float64, 'Best params: k=95, alpha=246     ')"
      ]
     },
     "execution_count": 17,
     "metadata": {},
     "output_type": "execute_result"
    },
    {
     "data": {
      "image/png": "[encoded data removed]",
      "text/plain": [
       "<Figure size 640x480 with 1 Axes>"
      ]
     },
     "metadata": {},
     "output_type": "display_data"
    }
   ],
   "source": [
    "sns.scatterplot(data=results_data, x='std_test_score', y='mean_test_score')\n",
    "plt.xlabel('Standard deviation of test scores')\n",
    "plt.ylabel('Average test score')\n",
    "plt.title('Grid search results for k and alpha')\n",
    "\n",
    "best_params = grid_search.best_params_\n",
    "best_k = best_params['feature_select__percentile']\n",
    "best_alpha = best_params['clf__alpha']\n",
    "plt.scatter(x=results_data.loc[(results_data['k'] == best_k) \n",
    "                                       & (results_data['alpha'] == best_alpha),\n",
    "                                       'std_test_score'], \n",
    "            y=results_data.loc[(results_data['k'] == best_k) \n",
    "                                       & (results_data['alpha'] == best_alpha),\n",
    "                                       'mean_test_score'], color='red')\n",
    "plt.text(results_data.loc[(results_data['k'] == best_k) \n",
    "                                       & (results_data['alpha'] == best_alpha),\n",
    "                                       'std_test_score'],\n",
    "         results_data.loc[(results_data['k'] == best_k) \n",
    "                                & (results_data['alpha'] == best_alpha),\n",
    "                                'mean_test_score'], \n",
    "         f\"Best params: k={best_k}, alpha={best_alpha}     \", ha='right', va='center')"
   ]
  },
  {
   "cell_type": "code",
   "execution_count": 18,
   "id": "6081a4cf-5973-4990-90e5-2e0375e74721",
   "metadata": {},
   "outputs": [
    {
     "ename": "ValueError",
     "evalue": "k should be >=0, <= n_features = 20; got 95. Use k='all' to return all features.",
     "output_type": "error",
     "traceback": [
      "\u001b[0;31m---------------------------------------------------------------------------\u001b[0m",
      "\u001b[0;31mValueError\u001b[0m                                Traceback (most recent call last)",
      "\u001b[0;32m/var/folders/29/vl12lkgs28xgjpc6t0_jg9040000gn/T/ipykernel_3030/1334072124.py\u001b[0m in \u001b[0;36m<module>\u001b[0;34m\u001b[0m\n\u001b[1;32m      1\u001b[0m \u001b[0mopt_pipe\u001b[0m \u001b[0;34m=\u001b[0m \u001b[0mmake_pipeline\u001b[0m\u001b[0;34m(\u001b[0m\u001b[0mpreproc_pipe\u001b[0m\u001b[0;34m,\u001b[0m \u001b[0mSelectKBest\u001b[0m\u001b[0;34m(\u001b[0m\u001b[0mf_classif\u001b[0m\u001b[0;34m,\u001b[0m \u001b[0mk\u001b[0m\u001b[0;34m=\u001b[0m\u001b[0mbest_k\u001b[0m\u001b[0;34m)\u001b[0m\u001b[0;34m,\u001b[0m \u001b[0mRidge\u001b[0m\u001b[0;34m(\u001b[0m\u001b[0malpha\u001b[0m\u001b[0;34m=\u001b[0m\u001b[0mbest_alpha\u001b[0m\u001b[0;34m)\u001b[0m\u001b[0;34m)\u001b[0m\u001b[0;34m\u001b[0m\u001b[0;34m\u001b[0m\u001b[0m\n\u001b[0;32m----> 2\u001b[0;31m \u001b[0mopt_pipe\u001b[0m\u001b[0;34m.\u001b[0m\u001b[0mfit\u001b[0m\u001b[0;34m(\u001b[0m\u001b[0mX_train\u001b[0m\u001b[0;34m,\u001b[0m \u001b[0my_train\u001b[0m\u001b[0;34m)\u001b[0m\u001b[0;34m\u001b[0m\u001b[0;34m\u001b[0m\u001b[0m\n\u001b[0m\u001b[1;32m      3\u001b[0m \u001b[0;34m\u001b[0m\u001b[0m\n\u001b[1;32m      4\u001b[0m \u001b[0my_holdout_pred\u001b[0m \u001b[0;34m=\u001b[0m \u001b[0mopt_pipe\u001b[0m\u001b[0;34m.\u001b[0m\u001b[0mpredict\u001b[0m\u001b[0;34m(\u001b[0m\u001b[0mholdout_X\u001b[0m\u001b[0;34m)\u001b[0m\u001b[0;34m\u001b[0m\u001b[0;34m\u001b[0m\u001b[0m\n\u001b[1;32m      5\u001b[0m \u001b[0;34m\u001b[0m\u001b[0m\n",
      "\u001b[0;32m~/opt/anaconda3/lib/python3.9/site-packages/sklearn/pipeline.py\u001b[0m in \u001b[0;36mfit\u001b[0;34m(self, X, y, **fit_params)\u001b[0m\n\u001b[1;32m    388\u001b[0m         \"\"\"\n\u001b[1;32m    389\u001b[0m         \u001b[0mfit_params_steps\u001b[0m \u001b[0;34m=\u001b[0m \u001b[0mself\u001b[0m\u001b[0;34m.\u001b[0m\u001b[0m_check_fit_params\u001b[0m\u001b[0;34m(\u001b[0m\u001b[0;34m**\u001b[0m\u001b[0mfit_params\u001b[0m\u001b[0;34m)\u001b[0m\u001b[0;34m\u001b[0m\u001b[0;34m\u001b[0m\u001b[0m\n\u001b[0;32m--> 390\u001b[0;31m         \u001b[0mXt\u001b[0m \u001b[0;34m=\u001b[0m \u001b[0mself\u001b[0m\u001b[0;34m.\u001b[0m\u001b[0m_fit\u001b[0m\u001b[0;34m(\u001b[0m\u001b[0mX\u001b[0m\u001b[0;34m,\u001b[0m \u001b[0my\u001b[0m\u001b[0;34m,\u001b[0m \u001b[0;34m**\u001b[0m\u001b[0mfit_params_steps\u001b[0m\u001b[0;34m)\u001b[0m\u001b[0;34m\u001b[0m\u001b[0;34m\u001b[0m\u001b[0m\n\u001b[0m\u001b[1;32m    391\u001b[0m         \u001b[0;32mwith\u001b[0m \u001b[0m_print_elapsed_time\u001b[0m\u001b[0;34m(\u001b[0m\u001b[0;34m\"Pipeline\"\u001b[0m\u001b[0;34m,\u001b[0m \u001b[0mself\u001b[0m\u001b[0;34m.\u001b[0m\u001b[0m_log_message\u001b[0m\u001b[0;34m(\u001b[0m\u001b[0mlen\u001b[0m\u001b[0;34m(\u001b[0m\u001b[0mself\u001b[0m\u001b[0;34m.\u001b[0m\u001b[0msteps\u001b[0m\u001b[0;34m)\u001b[0m \u001b[0;34m-\u001b[0m \u001b[0;36m1\u001b[0m\u001b[0;34m)\u001b[0m\u001b[0;34m)\u001b[0m\u001b[0;34m:\u001b[0m\u001b[0;34m\u001b[0m\u001b[0;34m\u001b[0m\u001b[0m\n\u001b[1;32m    392\u001b[0m             \u001b[0;32mif\u001b[0m \u001b[0mself\u001b[0m\u001b[0;34m.\u001b[0m\u001b[0m_final_estimator\u001b[0m \u001b[0;34m!=\u001b[0m \u001b[0;34m\"passthrough\"\u001b[0m\u001b[0;34m:\u001b[0m\u001b[0;34m\u001b[0m\u001b[0;34m\u001b[0m\u001b[0m\n",
      "\u001b[0;32m~/opt/anaconda3/lib/python3.9/site-packages/sklearn/pipeline.py\u001b[0m in \u001b[0;36m_fit\u001b[0;34m(self, X, y, **fit_params_steps)\u001b[0m\n\u001b[1;32m    346\u001b[0m                 \u001b[0mcloned_transformer\u001b[0m \u001b[0;34m=\u001b[0m \u001b[0mclone\u001b[0m\u001b[0;34m(\u001b[0m\u001b[0mtransformer\u001b[0m\u001b[0;34m)\u001b[0m\u001b[0;34m\u001b[0m\u001b[0;34m\u001b[0m\u001b[0m\n\u001b[1;32m    347\u001b[0m             \u001b[0;31m# Fit or load from cache the current transformer\u001b[0m\u001b[0;34m\u001b[0m\u001b[0;34m\u001b[0m\u001b[0m\n\u001b[0;32m--> 348\u001b[0;31m             X, fitted_transformer = fit_transform_one_cached(\n\u001b[0m\u001b[1;32m    349\u001b[0m                 \u001b[0mcloned_transformer\u001b[0m\u001b[0;34m,\u001b[0m\u001b[0;34m\u001b[0m\u001b[0;34m\u001b[0m\u001b[0m\n\u001b[1;32m    350\u001b[0m                 \u001b[0mX\u001b[0m\u001b[0;34m,\u001b[0m\u001b[0;34m\u001b[0m\u001b[0;34m\u001b[0m\u001b[0m\n",
      "\u001b[0;32m~/opt/anaconda3/lib/python3.9/site-packages/joblib/memory.py\u001b[0m in \u001b[0;36m__call__\u001b[0;34m(self, *args, **kwargs)\u001b[0m\n\u001b[1;32m    347\u001b[0m \u001b[0;34m\u001b[0m\u001b[0m\n\u001b[1;32m    348\u001b[0m     \u001b[0;32mdef\u001b[0m \u001b[0m__call__\u001b[0m\u001b[0;34m(\u001b[0m\u001b[0mself\u001b[0m\u001b[0;34m,\u001b[0m \u001b[0;34m*\u001b[0m\u001b[0margs\u001b[0m\u001b[0;34m,\u001b[0m \u001b[0;34m**\u001b[0m\u001b[0mkwargs\u001b[0m\u001b[0;34m)\u001b[0m\u001b[0;34m:\u001b[0m\u001b[0;34m\u001b[0m\u001b[0;34m\u001b[0m\u001b[0m\n\u001b[0;32m--> 349\u001b[0;31m         \u001b[0;32mreturn\u001b[0m \u001b[0mself\u001b[0m\u001b[0;34m.\u001b[0m\u001b[0mfunc\u001b[0m\u001b[0;34m(\u001b[0m\u001b[0;34m*\u001b[0m\u001b[0margs\u001b[0m\u001b[0;34m,\u001b[0m \u001b[0;34m**\u001b[0m\u001b[0mkwargs\u001b[0m\u001b[0;34m)\u001b[0m\u001b[0;34m\u001b[0m\u001b[0;34m\u001b[0m\u001b[0m\n\u001b[0m\u001b[1;32m    350\u001b[0m \u001b[0;34m\u001b[0m\u001b[0m\n\u001b[1;32m    351\u001b[0m     \u001b[0;32mdef\u001b[0m \u001b[0mcall_and_shelve\u001b[0m\u001b[0;34m(\u001b[0m\u001b[0mself\u001b[0m\u001b[0;34m,\u001b[0m \u001b[0;34m*\u001b[0m\u001b[0margs\u001b[0m\u001b[0;34m,\u001b[0m \u001b[0;34m**\u001b[0m\u001b[0mkwargs\u001b[0m\u001b[0;34m)\u001b[0m\u001b[0;34m:\u001b[0m\u001b[0;34m\u001b[0m\u001b[0;34m\u001b[0m\u001b[0m\n",
      "\u001b[0;32m~/opt/anaconda3/lib/python3.9/site-packages/sklearn/pipeline.py\u001b[0m in \u001b[0;36m_fit_transform_one\u001b[0;34m(transformer, X, y, weight, message_clsname, message, **fit_params)\u001b[0m\n\u001b[1;32m    891\u001b[0m     \u001b[0;32mwith\u001b[0m \u001b[0m_print_elapsed_time\u001b[0m\u001b[0;34m(\u001b[0m\u001b[0mmessage_clsname\u001b[0m\u001b[0;34m,\u001b[0m \u001b[0mmessage\u001b[0m\u001b[0;34m)\u001b[0m\u001b[0;34m:\u001b[0m\u001b[0;34m\u001b[0m\u001b[0;34m\u001b[0m\u001b[0m\n\u001b[1;32m    892\u001b[0m         \u001b[0;32mif\u001b[0m \u001b[0mhasattr\u001b[0m\u001b[0;34m(\u001b[0m\u001b[0mtransformer\u001b[0m\u001b[0;34m,\u001b[0m \u001b[0;34m\"fit_transform\"\u001b[0m\u001b[0;34m)\u001b[0m\u001b[0;34m:\u001b[0m\u001b[0;34m\u001b[0m\u001b[0;34m\u001b[0m\u001b[0m\n\u001b[0;32m--> 893\u001b[0;31m             \u001b[0mres\u001b[0m \u001b[0;34m=\u001b[0m \u001b[0mtransformer\u001b[0m\u001b[0;34m.\u001b[0m\u001b[0mfit_transform\u001b[0m\u001b[0;34m(\u001b[0m\u001b[0mX\u001b[0m\u001b[0;34m,\u001b[0m \u001b[0my\u001b[0m\u001b[0;34m,\u001b[0m \u001b[0;34m**\u001b[0m\u001b[0mfit_params\u001b[0m\u001b[0;34m)\u001b[0m\u001b[0;34m\u001b[0m\u001b[0;34m\u001b[0m\u001b[0m\n\u001b[0m\u001b[1;32m    894\u001b[0m         \u001b[0;32melse\u001b[0m\u001b[0;34m:\u001b[0m\u001b[0;34m\u001b[0m\u001b[0;34m\u001b[0m\u001b[0m\n\u001b[1;32m    895\u001b[0m             \u001b[0mres\u001b[0m \u001b[0;34m=\u001b[0m \u001b[0mtransformer\u001b[0m\u001b[0;34m.\u001b[0m\u001b[0mfit\u001b[0m\u001b[0;34m(\u001b[0m\u001b[0mX\u001b[0m\u001b[0;34m,\u001b[0m \u001b[0my\u001b[0m\u001b[0;34m,\u001b[0m \u001b[0;34m**\u001b[0m\u001b[0mfit_params\u001b[0m\u001b[0;34m)\u001b[0m\u001b[0;34m.\u001b[0m\u001b[0mtransform\u001b[0m\u001b[0;34m(\u001b[0m\u001b[0mX\u001b[0m\u001b[0;34m)\u001b[0m\u001b[0;34m\u001b[0m\u001b[0;34m\u001b[0m\u001b[0m\n",
      "\u001b[0;32m~/opt/anaconda3/lib/python3.9/site-packages/sklearn/base.py\u001b[0m in \u001b[0;36mfit_transform\u001b[0;34m(self, X, y, **fit_params)\u001b[0m\n\u001b[1;32m    853\u001b[0m         \u001b[0;32melse\u001b[0m\u001b[0;34m:\u001b[0m\u001b[0;34m\u001b[0m\u001b[0;34m\u001b[0m\u001b[0m\n\u001b[1;32m    854\u001b[0m             \u001b[0;31m# fit method of arity 2 (supervised transformation)\u001b[0m\u001b[0;34m\u001b[0m\u001b[0;34m\u001b[0m\u001b[0m\n\u001b[0;32m--> 855\u001b[0;31m             \u001b[0;32mreturn\u001b[0m \u001b[0mself\u001b[0m\u001b[0;34m.\u001b[0m\u001b[0mfit\u001b[0m\u001b[0;34m(\u001b[0m\u001b[0mX\u001b[0m\u001b[0;34m,\u001b[0m \u001b[0my\u001b[0m\u001b[0;34m,\u001b[0m \u001b[0;34m**\u001b[0m\u001b[0mfit_params\u001b[0m\u001b[0;34m)\u001b[0m\u001b[0;34m.\u001b[0m\u001b[0mtransform\u001b[0m\u001b[0;34m(\u001b[0m\u001b[0mX\u001b[0m\u001b[0;34m)\u001b[0m\u001b[0;34m\u001b[0m\u001b[0;34m\u001b[0m\u001b[0m\n\u001b[0m\u001b[1;32m    856\u001b[0m \u001b[0;34m\u001b[0m\u001b[0m\n\u001b[1;32m    857\u001b[0m \u001b[0;34m\u001b[0m\u001b[0m\n",
      "\u001b[0;32m~/opt/anaconda3/lib/python3.9/site-packages/sklearn/feature_selection/_univariate_selection.py\u001b[0m in \u001b[0;36mfit\u001b[0;34m(self, X, y)\u001b[0m\n\u001b[1;32m    405\u001b[0m             )\n\u001b[1;32m    406\u001b[0m \u001b[0;34m\u001b[0m\u001b[0m\n\u001b[0;32m--> 407\u001b[0;31m         \u001b[0mself\u001b[0m\u001b[0;34m.\u001b[0m\u001b[0m_check_params\u001b[0m\u001b[0;34m(\u001b[0m\u001b[0mX\u001b[0m\u001b[0;34m,\u001b[0m \u001b[0my\u001b[0m\u001b[0;34m)\u001b[0m\u001b[0;34m\u001b[0m\u001b[0;34m\u001b[0m\u001b[0m\n\u001b[0m\u001b[1;32m    408\u001b[0m         \u001b[0mscore_func_ret\u001b[0m \u001b[0;34m=\u001b[0m \u001b[0mself\u001b[0m\u001b[0;34m.\u001b[0m\u001b[0mscore_func\u001b[0m\u001b[0;34m(\u001b[0m\u001b[0mX\u001b[0m\u001b[0;34m,\u001b[0m \u001b[0my\u001b[0m\u001b[0;34m)\u001b[0m\u001b[0;34m\u001b[0m\u001b[0;34m\u001b[0m\u001b[0m\n\u001b[1;32m    409\u001b[0m         \u001b[0;32mif\u001b[0m \u001b[0misinstance\u001b[0m\u001b[0;34m(\u001b[0m\u001b[0mscore_func_ret\u001b[0m\u001b[0;34m,\u001b[0m \u001b[0;34m(\u001b[0m\u001b[0mlist\u001b[0m\u001b[0;34m,\u001b[0m \u001b[0mtuple\u001b[0m\u001b[0;34m)\u001b[0m\u001b[0;34m)\u001b[0m\u001b[0;34m:\u001b[0m\u001b[0;34m\u001b[0m\u001b[0;34m\u001b[0m\u001b[0m\n",
      "\u001b[0;32m~/opt/anaconda3/lib/python3.9/site-packages/sklearn/feature_selection/_univariate_selection.py\u001b[0m in \u001b[0;36m_check_params\u001b[0;34m(self, X, y)\u001b[0m\n\u001b[1;32m    602\u001b[0m     \u001b[0;32mdef\u001b[0m \u001b[0m_check_params\u001b[0m\u001b[0;34m(\u001b[0m\u001b[0mself\u001b[0m\u001b[0;34m,\u001b[0m \u001b[0mX\u001b[0m\u001b[0;34m,\u001b[0m \u001b[0my\u001b[0m\u001b[0;34m)\u001b[0m\u001b[0;34m:\u001b[0m\u001b[0;34m\u001b[0m\u001b[0;34m\u001b[0m\u001b[0m\n\u001b[1;32m    603\u001b[0m         \u001b[0;32mif\u001b[0m \u001b[0;32mnot\u001b[0m \u001b[0;34m(\u001b[0m\u001b[0mself\u001b[0m\u001b[0;34m.\u001b[0m\u001b[0mk\u001b[0m \u001b[0;34m==\u001b[0m \u001b[0;34m\"all\"\u001b[0m \u001b[0;32mor\u001b[0m \u001b[0;36m0\u001b[0m \u001b[0;34m<=\u001b[0m \u001b[0mself\u001b[0m\u001b[0;34m.\u001b[0m\u001b[0mk\u001b[0m \u001b[0;34m<=\u001b[0m \u001b[0mX\u001b[0m\u001b[0;34m.\u001b[0m\u001b[0mshape\u001b[0m\u001b[0;34m[\u001b[0m\u001b[0;36m1\u001b[0m\u001b[0;34m]\u001b[0m\u001b[0;34m)\u001b[0m\u001b[0;34m:\u001b[0m\u001b[0;34m\u001b[0m\u001b[0;34m\u001b[0m\u001b[0m\n\u001b[0;32m--> 604\u001b[0;31m             raise ValueError(\n\u001b[0m\u001b[1;32m    605\u001b[0m                 \u001b[0;34m\"k should be >=0, <= n_features = %d; got %r. \"\u001b[0m\u001b[0;34m\u001b[0m\u001b[0;34m\u001b[0m\u001b[0m\n\u001b[1;32m    606\u001b[0m                 \u001b[0;34m\"Use k='all' to return all features.\"\u001b[0m \u001b[0;34m%\u001b[0m \u001b[0;34m(\u001b[0m\u001b[0mX\u001b[0m\u001b[0;34m.\u001b[0m\u001b[0mshape\u001b[0m\u001b[0;34m[\u001b[0m\u001b[0;36m1\u001b[0m\u001b[0;34m]\u001b[0m\u001b[0;34m,\u001b[0m \u001b[0mself\u001b[0m\u001b[0;34m.\u001b[0m\u001b[0mk\u001b[0m\u001b[0;34m)\u001b[0m\u001b[0;34m\u001b[0m\u001b[0;34m\u001b[0m\u001b[0m\n",
      "\u001b[0;31mValueError\u001b[0m: k should be >=0, <= n_features = 20; got 95. Use k='all' to return all features."
     ]
    }
   ],
   "source": [
    "opt_pipe = make_pipeline(preproc_pipe, SelectKBest(f_classif, k=best_k), Ridge(alpha=best_alpha))\n",
    "opt_pipe.fit(X_train, y_train)\n",
    "\n",
    "y_holdout_pred = opt_pipe.predict(holdout_X)\n",
    "\n",
    "# create a dataframe with the parcel ID and the predicted values\n",
    "df_out = pd.DataFrame({'signature_index': VarY['signature_index'], 'prediction': y_holdout_pred })"
   ]
  },
  {
   "cell_type": "code",
   "execution_count": null,
   "id": "40ffd67e-9578-4b94-94e8-7da199d50c90",
   "metadata": {},
   "outputs": [],
   "source": []
  },
  {
   "cell_type": "code",
   "execution_count": null,
   "id": "c39932f9-8f12-481d-823e-dc629a539f1f",
   "metadata": {},
   "outputs": [],
   "source": []
  },
  {
   "cell_type": "code",
   "execution_count": null,
   "id": "2d616e03-ee0f-41c3-a384-8dcc8af4562b",
   "metadata": {},
   "outputs": [],
   "source": []
  }
 ],
 "metadata": {
  "kernelspec": {
   "display_name": "Python 3 (ipykernel)",
   "language": "python",
   "name": "python3"
  },
  "language_info": {
   "codemirror_mode": {
    "name": "ipython",
    "version": 3
   },
   "file_extension": ".py",
   "mimetype": "text/x-python",
   "name": "python",
   "nbconvert_exporter": "python",
   "pygments_lexer": "ipython3",
   "version": "3.9.13"
  }
 },
 "nbformat": 4,
 "nbformat_minor": 5
}
