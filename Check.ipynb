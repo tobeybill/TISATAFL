{
 "cells": [
  {
   "cell_type": "code",
   "execution_count": 1,
   "id": "8ec58e98-e813-4ab3-a8e3-fb3e5132db2a",
   "metadata": {},
   "outputs": [
    {
     "name": "stderr",
     "output_type": "stream",
     "text": [
      "/var/folders/29/vl12lkgs28xgjpc6t0_jg9040000gn/T/ipykernel_1890/3821301156.py:13: DtypeWarning: Columns (80,96) have mixed types. Specify dtype option on import or set low_memory=False.\n",
      "  df = pd.read_csv('./Input_data/ExecuComp_data.csv')\n"
     ]
    }
   ],
   "source": [
    "from ydata_profiling import ProfileReport\n",
    "import pandas as pd\n",
    "import numpy as np\n",
    "import pandas_datareader as pdr  # to install: !pip install pandas_datareader\n",
    "from datetime import datetime\n",
    "url = 'https://github.com/LeDataSciFi/data/raw/main/Firm%20Year%20Datasets%20(Compustat)/firms2020.csv'\n",
    "firms_df = pd.read_csv(url).drop_duplicates('tic')\n",
    "\n",
    "bod_df = pd.read_csv('./Input_data/BOD_Comp_Company_Fin.csv')\n",
    "ceo_df = pd.read_csv('./Input_data/CEO_Comp_Fin.csv')\n",
    "sp500_tickers = pd.read_csv('./Input_data/sp500_2022.csv')['Symbol'].tolist()\n",
    "test_df = pd.read_csv('./Input_data/directorstest.csv')\n",
    "df = pd.read_csv('./Input_data/ExecuComp_data.csv')"
   ]
  },
  {
   "cell_type": "code",
   "execution_count": 5,
   "id": "275ba39c-b06d-48d4-a28a-ed43174f1268",
   "metadata": {},
   "outputs": [],
   "source": [
    "# bod_df = bod_df.drop(['NAICS', 'PCOMMFEES', 'PEXECDIRPD', 'EPSEX', 'EPSEXCHG', 'EPSEX3LS', 'EPSEX5LS', 'OIBD3LS'], axis=1)\n",
    "# bod_df = bod_df.drop(['OIBDCHG', 'OIBD5LS', 'SALE3LS', 'SALE5LS', 'NI3LS', 'NI5LS', 'PDIRPENSN'], axis=1)\n",
    "# bod_df = bod_df.drop(['NUMMTGS', 'TRS1YR', 'TRS3YR', 'TRS5YR', 'AJEX', 'BS_YIELD', 'BS_VOLATILITY'], axis=1)\n",
    "\n",
    "BOD_df = bod_df[['GVKEY', 'YEAR', 'CUSIP', 'TICKER', 'SIC', 'ANNDIRRET', \n",
    "       'DIRMTGFEE', 'DIROPT', 'DIROPTAD', 'DIRSTK', 'DIRSTKAD', \n",
    "       'PDIRPENSN', 'OIBD', 'PRETAX', 'NIBEX', 'MKTVAL']]"
   ]
  },
  {
   "cell_type": "code",
   "execution_count": 3,
   "id": "f033e8ad-a5f7-46fd-b8d2-7e32a7b8aa1a",
   "metadata": {},
   "outputs": [],
   "source": [
    "ceo_df = ceo_df.drop(['CFOANN', 'PENSION_CHG', 'TOTAL_SEC', 'CHG_CTRL_PYMT', 'TOTAL_SEC_PCT', 'REPRICE', 'PCFO', 'EXECRANK'], axis=1)\n",
    "ceo_df = ceo_df[ceo_df['CEOANN'].notnull()]\n",
    "BOTH_df = ceo_df.merge(BOD_df, on = 'TICKER', how = 'left')"
   ]
  },
  {
   "cell_type": "code",
   "execution_count": 15,
   "id": "ce84ab32-434d-4bf8-b8d5-dc7f35b2e516",
   "metadata": {},
   "outputs": [],
   "source": [
    "# BOTH_df.info()\n",
    "# TDC1 is total compensation for all CEOs\n",
    "#ANNDIRRET is for directors (their main salary) \n"
   ]
  },
  {
   "cell_type": "code",
   "execution_count": 18,
   "id": "21f4bf48-a888-4537-b06d-e73fc186e359",
   "metadata": {},
   "outputs": [],
   "source": [
    "# assuming your DataFrame is named 'df'\n",
    "BOTH_df['director_comp'] = (BOTH_df['ANNDIRRET'] + BOTH_df['DIRMTGFEE'] + BOTH_df['DIROPT'] \n",
    "                                   + BOTH_df['DIROPTAD'] + BOTH_df['DIRSTK'] + BOTH_df['DIRSTKAD'] + \n",
    "                                   (BOTH_df['PDIRPENSN'] * BOTH_df['ANNDIRRET'])\n",
    "                                  )"
   ]
  },
  {
   "cell_type": "code",
   "execution_count": 23,
   "id": "4adbaca0-8932-49f3-8e7e-a4b476f4033c",
   "metadata": {},
   "outputs": [],
   "source": [
    "grouped_df = BOTH_df.groupby('TICKER')['director_comp'].sum().reset_index()\n",
    "\n",
    "merged_df = pd.merge(BOTH_df, grouped_df, on='TICKER', how='left')\n",
    "\n",
    "merged_df = merged_df.rename(columns={'director_comp_y': 'total_director_comp'})\n"
   ]
  },
  {
   "cell_type": "code",
   "execution_count": 24,
   "id": "c1a20c1d-428b-4f6b-a7bc-47bae68c20c1",
   "metadata": {},
   "outputs": [
    {
     "data": {
      "text/plain": [
       "count    59752.000000\n",
       "mean      3312.646793\n",
       "std       3424.132830\n",
       "min          0.000000\n",
       "25%        134.676000\n",
       "50%       2363.900000\n",
       "75%       5160.984000\n",
       "max      20388.662000\n",
       "Name: total_director_comp, dtype: float64"
      ]
     },
     "execution_count": 24,
     "metadata": {},
     "output_type": "execute_result"
    }
   ],
   "source": [
    "merged_df['total_director_comp'].describe()"
   ]
  },
  {
   "cell_type": "code",
   "execution_count": 25,
   "id": "8a42047a-2d94-4cc6-8bd5-f1356a2ba209",
   "metadata": {},
   "outputs": [],
   "source": [
    "ceo_df = ceo_df[ceo_df['CEOANN'].notnull()]\n"
   ]
  },
  {
   "cell_type": "code",
   "execution_count": null,
   "id": "88be8aa2-f604-4a26-9e25-c2c6b241e1b5",
   "metadata": {},
   "outputs": [],
   "source": []
  }
 ],
 "metadata": {
  "kernelspec": {
   "display_name": "Python 3 (ipykernel)",
   "language": "python",
   "name": "python3"
  },
  "language_info": {
   "codemirror_mode": {
    "name": "ipython",
    "version": 3
   },
   "file_extension": ".py",
   "mimetype": "text/x-python",
   "name": "python",
   "nbconvert_exporter": "python",
   "pygments_lexer": "ipython3",
   "version": "3.9.13"
  }
 },
 "nbformat": 4,
 "nbformat_minor": 5
}
