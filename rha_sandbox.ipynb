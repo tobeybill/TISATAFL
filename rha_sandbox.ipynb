{
 "cells": [
  {
   "cell_type": "code",
   "execution_count": 1,
   "id": "1933dca3-dfe5-4ac1-9117-1ced3915316e",
   "metadata": {},
   "outputs": [],
   "source": [
    "import pandas as pd\n",
    "import numpy as np\n",
    "import matplotlib as plt\n",
    "import seaborn as sns\n",
    "from datetime import datetime as dt\n"
   ]
  },
  {
   "cell_type": "markdown",
   "id": "b0639e8e-7abe-40c3-af22-0e095ec5bf82",
   "metadata": {},
   "source": [
    "CEO_DF = pd.read_csv('input_data_clean/CEO_DF.csv')\n",
    "BOD_DF = pd.read_csv('input_data_clean/BOD_DF.csv')"
   ]
  },
  {
   "cell_type": "markdown",
   "id": "c8fe3463-58d2-440c-805a-244f0326acc1",
   "metadata": {},
   "source": [
    "CEO_DF.columns"
   ]
  },
  {
   "cell_type": "markdown",
   "id": "abd37205-9d52-4fea-b9a0-6c92c69c1ccf",
   "metadata": {},
   "source": [
    "CEO_DF['BECAMECEO'] = CEO_DF['BECAMECEO'].astype('datetime64[ns]')\n",
    "#CEO_DF['YEAR'] = CEO_DF['YEAR'].astype('datetime64[ns]')"
   ]
  },
  {
   "cell_type": "markdown",
   "id": "9a1e1eed-d2ea-4c01-abc2-7f75da150459",
   "metadata": {},
   "source": [
    "CEO_DF.TDC1.describe()"
   ]
  },
  {
   "cell_type": "markdown",
   "id": "7d1587c9-f6f8-4c4b-905e-2bfea2df7267",
   "metadata": {},
   "source": [
    "Note TDC1 in thousands"
   ]
  },
  {
   "cell_type": "markdown",
   "id": "e6ba90a3-5bba-4ebe-8938-b63b70b9f0f9",
   "metadata": {},
   "source": [
    "x = CEO_DF['TDC1'].quantile([0.01]).values[0]"
   ]
  },
  {
   "cell_type": "markdown",
   "id": "02b62eca-7f8f-4013-863d-ff44aada3773",
   "metadata": {},
   "source": [
    "x"
   ]
  },
  {
   "cell_type": "markdown",
   "id": "c73520d6-ee15-4933-b901-aab15286e20e",
   "metadata": {},
   "source": [
    "sns.histplot(CEO_DF['TDC1'])"
   ]
  },
  {
   "cell_type": "markdown",
   "id": "d906227d-8d81-4f9c-97fe-2aa8864a1f3b",
   "metadata": {},
   "source": [
    "CEO_DF = CEO_DF[CEO_DF['TDC1'] >= x]"
   ]
  },
  {
   "cell_type": "markdown",
   "id": "cdcd3fb8-7e2a-4310-bf88-e1099862a9b2",
   "metadata": {},
   "source": [
    "CEO_DF['TDC1'].describe()"
   ]
  },
  {
   "cell_type": "markdown",
   "id": "08b54116-be73-4e5c-91ae-00c41109af2f",
   "metadata": {},
   "source": [
    "inner_merge_df = CEO_DF.merge(BOD_DF, how = 'inner',\n",
    "                              on = ['TICKER', 'YEAR']).reset_index(drop=True)"
   ]
  },
  {
   "cell_type": "markdown",
   "id": "f2e87c91-0674-4bd5-b8e5-d6c505d4f66e",
   "metadata": {},
   "source": [
    "inner_merge_df = inner_merge_df.drop(['Unnamed: 0_x','Unnamed: 0_y'], axis = 1)"
   ]
  },
  {
   "cell_type": "markdown",
   "id": "08dddf60-81e8-4a85-aff4-82b5552c4327",
   "metadata": {},
   "source": [
    "inner_merge_df.columns"
   ]
  },
  {
   "cell_type": "markdown",
   "id": "0a163e42-90ff-47b2-85c5-adfd84cae42a",
   "metadata": {},
   "source": [
    "# Determining onwership power\n",
    "\n",
    "inner_merge_df['ownershipRatio'] = inner_merge_df['STOCK_AWARDS_x'] / inner_merge_df['total_STOCK_AWARDS']"
   ]
  },
  {
   "cell_type": "markdown",
   "id": "f4025261-498d-41a7-b4e7-1b7f68b93d35",
   "metadata": {},
   "source": [
    "inner_merge_df['ownershipRatio'].median()"
   ]
  },
  {
   "cell_type": "markdown",
   "id": "a97fc208-1166-441c-8eb9-b337871a63a8",
   "metadata": {},
   "source": [
    "median = inner_merge_df['ownershipRatio'].median()"
   ]
  },
  {
   "cell_type": "markdown",
   "id": "5c009d04-11a1-4a8b-83f0-c31683f80f25",
   "metadata": {},
   "source": [
    "median"
   ]
  },
  {
   "cell_type": "markdown",
   "id": "237f35e3-ee61-4ede-a6e6-de55b38a506e",
   "metadata": {},
   "source": [
    "inner_merge_df['ownershipRatio'].quantile([0, 0.9])\n"
   ]
  },
  {
   "cell_type": "markdown",
   "id": "2b9cf083-43b8-478d-a0b8-d43a9f1641f2",
   "metadata": {},
   "source": [
    "inner_merge_df"
   ]
  },
  {
   "cell_type": "markdown",
   "id": "2029e68c-6010-4867-b19f-f3c5c6fbd293",
   "metadata": {},
   "source": [
    "inner_merge_df['ownershipPower'] = 0"
   ]
  },
  {
   "cell_type": "markdown",
   "id": "a05ba05c-391f-4b48-9b91-9e92315e9786",
   "metadata": {},
   "source": [
    "inner_merge_df.ownershipPower[inner_merge_df.ownershipRatio > median] = 1"
   ]
  },
  {
   "cell_type": "markdown",
   "id": "e4573f66-c862-4940-8b2c-783a1e2c1cd8",
   "metadata": {},
   "source": [
    "inner_merge_df"
   ]
  },
  {
   "cell_type": "markdown",
   "id": "dd2cad49-58aa-4b48-9ee7-5c25aee632b7",
   "metadata": {},
   "source": [
    "inner_merge_df['BECAMECEO'].dt.year"
   ]
  },
  {
   "cell_type": "markdown",
   "id": "6db93714-3e25-4b92-a264-5ca1174c5b35",
   "metadata": {},
   "source": [
    "Expert Power\n",
    "Create variable for years served\n",
    "\n",
    "inner_merge_df['yearServed'] =  inner_merge_df['YEAR'] - inner_merge_df['BECAMECEO'].dt.year"
   ]
  },
  {
   "cell_type": "markdown",
   "id": "f82efb68-feee-4685-b951-38b7a6d38611",
   "metadata": {},
   "source": [
    "inner_merge_df['yearServed']"
   ]
  },
  {
   "cell_type": "markdown",
   "id": "40ee108c-8176-4435-ac30-4089279310bc",
   "metadata": {},
   "source": [
    "inner_merge_df[['YEAR','BECAMECEO','yearServed']]"
   ]
  },
  {
   "cell_type": "markdown",
   "id": "d2bc024e-838a-4ffb-b59e-71b3b38731cf",
   "metadata": {},
   "source": [
    "inner_merge_df['prestiegePower'] = 0"
   ]
  },
  {
   "cell_type": "markdown",
   "id": "44e95ee2-775d-49a8-afdd-036ae2ad8a17",
   "metadata": {},
   "source": [
    "inner_merge_df.prestiegePower[inner_merge_df.yearServed > median] = 1"
   ]
  },
  {
   "cell_type": "markdown",
   "id": "cb347527-b09d-4753-acab-8cfad4575b70",
   "metadata": {},
   "source": [
    "inner_merge_df"
   ]
  },
  {
   "cell_type": "markdown",
   "id": "46d858d6-8b4d-46f1-bf2e-56f1ec9d3a4d",
   "metadata": {},
   "source": [
    "inner_merge_df.columns"
   ]
  },
  {
   "cell_type": "markdown",
   "id": "a7ad87c5-5b52-4a11-ab9f-d8dded8d2123",
   "metadata": {},
   "source": [
    "final_df = inner_merge_df[['GVKEY_x', 'TICKER','AGE', 'TDC1', 'YEAR','BECAMECEO',\n",
    "                         'STOCK_AWARDS_x', 'STOCK_AWARDS_y', 'ownershipRatio',\n",
    "                        'ownershipPower', 'yearServed', 'prestiegePower',\n",
    "                          'SIZE_CATEGORY_x', 'MKVALT_x']]"
   ]
  },
  {
   "cell_type": "markdown",
   "id": "b18ec41f-2d8e-4fec-b49b-cda049f5a5de",
   "metadata": {},
   "source": [
    "final_df"
   ]
  },
  {
   "cell_type": "markdown",
   "id": "a4f17431-ef30-430c-aa12-0b79a0703bbd",
   "metadata": {},
   "source": [
    "final_df.to_csv('input_data_clean/CEO_BOD_Merged.csv')"
   ]
  },
  {
   "cell_type": "code",
   "execution_count": 2,
   "id": "36b7f71b-a813-4819-9c60-6e3373eebf7b",
   "metadata": {},
   "outputs": [],
   "source": [
    "df = pd.read_csv('input_data_clean/CEO_BOD_merged.csv')"
   ]
  },
  {
   "cell_type": "code",
   "execution_count": 3,
   "id": "d002dfa5-49b2-496f-be82-48bc9028fcc7",
   "metadata": {},
   "outputs": [],
   "source": [
    "df = df.drop('Unnamed: 0', axis = 1)"
   ]
  },
  {
   "cell_type": "code",
   "execution_count": 4,
   "id": "6f8c2b38-d09e-4155-b771-7ddc13d3739e",
   "metadata": {},
   "outputs": [
    {
     "data": {
      "text/html": [
       "<div>\n",
       "<style scoped>\n",
       "    .dataframe tbody tr th:only-of-type {\n",
       "        vertical-align: middle;\n",
       "    }\n",
       "\n",
       "    .dataframe tbody tr th {\n",
       "        vertical-align: top;\n",
       "    }\n",
       "\n",
       "    .dataframe thead th {\n",
       "        text-align: right;\n",
       "    }\n",
       "</style>\n",
       "<table border=\"1\" class=\"dataframe\">\n",
       "  <thead>\n",
       "    <tr style=\"text-align: right;\">\n",
       "      <th></th>\n",
       "      <th>GVKEY_x</th>\n",
       "      <th>TICKER</th>\n",
       "      <th>AGE</th>\n",
       "      <th>TDC1</th>\n",
       "      <th>YEAR</th>\n",
       "      <th>BECAMECEO</th>\n",
       "      <th>STOCK_AWARDS_x</th>\n",
       "      <th>STOCK_AWARDS_y</th>\n",
       "      <th>ownershipRatio</th>\n",
       "      <th>ownershipPower</th>\n",
       "      <th>yearServed</th>\n",
       "      <th>prestiegePower</th>\n",
       "      <th>SIZE_CATEGORY_x</th>\n",
       "      <th>MKVALT_x</th>\n",
       "    </tr>\n",
       "  </thead>\n",
       "  <tbody>\n",
       "    <tr>\n",
       "      <th>0</th>\n",
       "      <td>1045</td>\n",
       "      <td>AAL</td>\n",
       "      <td>51.0</td>\n",
       "      <td>5231.393</td>\n",
       "      <td>2010</td>\n",
       "      <td>2003-04-25</td>\n",
       "      <td>3280.680</td>\n",
       "      <td>24.103</td>\n",
       "      <td>11.983169</td>\n",
       "      <td>1</td>\n",
       "      <td>7.0</td>\n",
       "      <td>1</td>\n",
       "      <td>Medium</td>\n",
       "      <td>2597.5755</td>\n",
       "    </tr>\n",
       "    <tr>\n",
       "      <th>1</th>\n",
       "      <td>1045</td>\n",
       "      <td>AAL</td>\n",
       "      <td>52.0</td>\n",
       "      <td>5526.835</td>\n",
       "      <td>2011</td>\n",
       "      <td>2003-04-25</td>\n",
       "      <td>4020.380</td>\n",
       "      <td>13.811</td>\n",
       "      <td>14.685032</td>\n",
       "      <td>1</td>\n",
       "      <td>8.0</td>\n",
       "      <td>1</td>\n",
       "      <td>Tiny</td>\n",
       "      <td>117.3438</td>\n",
       "    </tr>\n",
       "    <tr>\n",
       "      <th>2</th>\n",
       "      <td>1045</td>\n",
       "      <td>AAL</td>\n",
       "      <td>50.0</td>\n",
       "      <td>656.226</td>\n",
       "      <td>2012</td>\n",
       "      <td>2011-11-28</td>\n",
       "      <td>0.000</td>\n",
       "      <td>0.000</td>\n",
       "      <td>0.000000</td>\n",
       "      <td>0</td>\n",
       "      <td>1.0</td>\n",
       "      <td>0</td>\n",
       "      <td>Tiny</td>\n",
       "      <td>266.5571</td>\n",
       "    </tr>\n",
       "    <tr>\n",
       "      <th>3</th>\n",
       "      <td>1045</td>\n",
       "      <td>AAL</td>\n",
       "      <td>51.0</td>\n",
       "      <td>19092.978</td>\n",
       "      <td>2013</td>\n",
       "      <td>2011-11-28</td>\n",
       "      <td>4199.761</td>\n",
       "      <td>0.000</td>\n",
       "      <td>15.340248</td>\n",
       "      <td>1</td>\n",
       "      <td>2.0</td>\n",
       "      <td>0</td>\n",
       "      <td>Medium</td>\n",
       "      <td>6591.9923</td>\n",
       "    </tr>\n",
       "    <tr>\n",
       "      <th>4</th>\n",
       "      <td>1045</td>\n",
       "      <td>AAL</td>\n",
       "      <td>52.0</td>\n",
       "      <td>12301.976</td>\n",
       "      <td>2014</td>\n",
       "      <td>2013-12-09</td>\n",
       "      <td>7000.000</td>\n",
       "      <td>280.000</td>\n",
       "      <td>25.568535</td>\n",
       "      <td>1</td>\n",
       "      <td>1.0</td>\n",
       "      <td>0</td>\n",
       "      <td>Big</td>\n",
       "      <td>37405.5843</td>\n",
       "    </tr>\n",
       "    <tr>\n",
       "      <th>...</th>\n",
       "      <td>...</td>\n",
       "      <td>...</td>\n",
       "      <td>...</td>\n",
       "      <td>...</td>\n",
       "      <td>...</td>\n",
       "      <td>...</td>\n",
       "      <td>...</td>\n",
       "      <td>...</td>\n",
       "      <td>...</td>\n",
       "      <td>...</td>\n",
       "      <td>...</td>\n",
       "      <td>...</td>\n",
       "      <td>...</td>\n",
       "      <td>...</td>\n",
       "    </tr>\n",
       "    <tr>\n",
       "      <th>7312</th>\n",
       "      <td>316056</td>\n",
       "      <td>ALLE</td>\n",
       "      <td>57.0</td>\n",
       "      <td>6554.281</td>\n",
       "      <td>2015</td>\n",
       "      <td>2013-08-01</td>\n",
       "      <td>2514.691</td>\n",
       "      <td>70.056</td>\n",
       "      <td>inf</td>\n",
       "      <td>1</td>\n",
       "      <td>2.0</td>\n",
       "      <td>0</td>\n",
       "      <td>Medium</td>\n",
       "      <td>6327.7267</td>\n",
       "    </tr>\n",
       "    <tr>\n",
       "      <th>7313</th>\n",
       "      <td>316056</td>\n",
       "      <td>ALLE</td>\n",
       "      <td>58.0</td>\n",
       "      <td>6254.577</td>\n",
       "      <td>2016</td>\n",
       "      <td>2013-08-01</td>\n",
       "      <td>2331.625</td>\n",
       "      <td>70.008</td>\n",
       "      <td>inf</td>\n",
       "      <td>1</td>\n",
       "      <td>3.0</td>\n",
       "      <td>0</td>\n",
       "      <td>Medium</td>\n",
       "      <td>6097.5360</td>\n",
       "    </tr>\n",
       "    <tr>\n",
       "      <th>7314</th>\n",
       "      <td>316056</td>\n",
       "      <td>ALLE</td>\n",
       "      <td>59.0</td>\n",
       "      <td>6530.474</td>\n",
       "      <td>2017</td>\n",
       "      <td>2013-08-01</td>\n",
       "      <td>2776.707</td>\n",
       "      <td>0.000</td>\n",
       "      <td>inf</td>\n",
       "      <td>1</td>\n",
       "      <td>4.0</td>\n",
       "      <td>0</td>\n",
       "      <td>Medium</td>\n",
       "      <td>7563.1327</td>\n",
       "    </tr>\n",
       "    <tr>\n",
       "      <th>7315</th>\n",
       "      <td>316056</td>\n",
       "      <td>ALLE</td>\n",
       "      <td>60.0</td>\n",
       "      <td>6913.202</td>\n",
       "      <td>2018</td>\n",
       "      <td>2013-08-01</td>\n",
       "      <td>3017.362</td>\n",
       "      <td>100.033</td>\n",
       "      <td>inf</td>\n",
       "      <td>1</td>\n",
       "      <td>5.0</td>\n",
       "      <td>0</td>\n",
       "      <td>Medium</td>\n",
       "      <td>7543.5153</td>\n",
       "    </tr>\n",
       "    <tr>\n",
       "      <th>7316</th>\n",
       "      <td>316056</td>\n",
       "      <td>ALLE</td>\n",
       "      <td>61.0</td>\n",
       "      <td>7156.664</td>\n",
       "      <td>2019</td>\n",
       "      <td>2013-08-01</td>\n",
       "      <td>3015.155</td>\n",
       "      <td>100.067</td>\n",
       "      <td>inf</td>\n",
       "      <td>1</td>\n",
       "      <td>6.0</td>\n",
       "      <td>1</td>\n",
       "      <td>Big</td>\n",
       "      <td>11547.8470</td>\n",
       "    </tr>\n",
       "  </tbody>\n",
       "</table>\n",
       "<p>7317 rows × 14 columns</p>\n",
       "</div>"
      ],
      "text/plain": [
       "      GVKEY_x TICKER   AGE       TDC1  YEAR   BECAMECEO  STOCK_AWARDS_x  \\\n",
       "0        1045    AAL  51.0   5231.393  2010  2003-04-25        3280.680   \n",
       "1        1045    AAL  52.0   5526.835  2011  2003-04-25        4020.380   \n",
       "2        1045    AAL  50.0    656.226  2012  2011-11-28           0.000   \n",
       "3        1045    AAL  51.0  19092.978  2013  2011-11-28        4199.761   \n",
       "4        1045    AAL  52.0  12301.976  2014  2013-12-09        7000.000   \n",
       "...       ...    ...   ...        ...   ...         ...             ...   \n",
       "7312   316056   ALLE  57.0   6554.281  2015  2013-08-01        2514.691   \n",
       "7313   316056   ALLE  58.0   6254.577  2016  2013-08-01        2331.625   \n",
       "7314   316056   ALLE  59.0   6530.474  2017  2013-08-01        2776.707   \n",
       "7315   316056   ALLE  60.0   6913.202  2018  2013-08-01        3017.362   \n",
       "7316   316056   ALLE  61.0   7156.664  2019  2013-08-01        3015.155   \n",
       "\n",
       "      STOCK_AWARDS_y  ownershipRatio  ownershipPower  yearServed  \\\n",
       "0             24.103       11.983169               1         7.0   \n",
       "1             13.811       14.685032               1         8.0   \n",
       "2              0.000        0.000000               0         1.0   \n",
       "3              0.000       15.340248               1         2.0   \n",
       "4            280.000       25.568535               1         1.0   \n",
       "...              ...             ...             ...         ...   \n",
       "7312          70.056             inf               1         2.0   \n",
       "7313          70.008             inf               1         3.0   \n",
       "7314           0.000             inf               1         4.0   \n",
       "7315         100.033             inf               1         5.0   \n",
       "7316         100.067             inf               1         6.0   \n",
       "\n",
       "      prestiegePower SIZE_CATEGORY_x    MKVALT_x  \n",
       "0                  1          Medium   2597.5755  \n",
       "1                  1            Tiny    117.3438  \n",
       "2                  0            Tiny    266.5571  \n",
       "3                  0          Medium   6591.9923  \n",
       "4                  0             Big  37405.5843  \n",
       "...              ...             ...         ...  \n",
       "7312               0          Medium   6327.7267  \n",
       "7313               0          Medium   6097.5360  \n",
       "7314               0          Medium   7563.1327  \n",
       "7315               0          Medium   7543.5153  \n",
       "7316               1             Big  11547.8470  \n",
       "\n",
       "[7317 rows x 14 columns]"
      ]
     },
     "execution_count": 4,
     "metadata": {},
     "output_type": "execute_result"
    }
   ],
   "source": [
    "df"
   ]
  },
  {
   "cell_type": "code",
   "execution_count": 5,
   "id": "7a615118-2bf0-460c-a7c4-8f78f552400d",
   "metadata": {},
   "outputs": [],
   "source": [
    "# ownRat = df['ownershipRatio']"
   ]
  },
  {
   "cell_type": "code",
   "execution_count": 6,
   "id": "232ce651-029d-450d-93e8-b73add537cfb",
   "metadata": {},
   "outputs": [],
   "source": [
    "ownRat = pd.DataFrame(df['ownershipRatio'])"
   ]
  },
  {
   "cell_type": "code",
   "execution_count": 7,
   "id": "820b0724-f820-4def-ad82-3c06f0a23f0b",
   "metadata": {},
   "outputs": [
    {
     "data": {
      "text/html": [
       "<div>\n",
       "<style scoped>\n",
       "    .dataframe tbody tr th:only-of-type {\n",
       "        vertical-align: middle;\n",
       "    }\n",
       "\n",
       "    .dataframe tbody tr th {\n",
       "        vertical-align: top;\n",
       "    }\n",
       "\n",
       "    .dataframe thead th {\n",
       "        text-align: right;\n",
       "    }\n",
       "</style>\n",
       "<table border=\"1\" class=\"dataframe\">\n",
       "  <thead>\n",
       "    <tr style=\"text-align: right;\">\n",
       "      <th></th>\n",
       "      <th>ownershipRatio</th>\n",
       "    </tr>\n",
       "  </thead>\n",
       "  <tbody>\n",
       "    <tr>\n",
       "      <th>6982</th>\n",
       "      <td>0.000000</td>\n",
       "    </tr>\n",
       "    <tr>\n",
       "      <th>647</th>\n",
       "      <td>0.000000</td>\n",
       "    </tr>\n",
       "    <tr>\n",
       "      <th>648</th>\n",
       "      <td>0.000000</td>\n",
       "    </tr>\n",
       "    <tr>\n",
       "      <th>7145</th>\n",
       "      <td>0.000000</td>\n",
       "    </tr>\n",
       "    <tr>\n",
       "      <th>7146</th>\n",
       "      <td>0.000000</td>\n",
       "    </tr>\n",
       "    <tr>\n",
       "      <th>...</th>\n",
       "      <td>...</td>\n",
       "    </tr>\n",
       "    <tr>\n",
       "      <th>6413</th>\n",
       "      <td>0.403435</td>\n",
       "    </tr>\n",
       "    <tr>\n",
       "      <th>6411</th>\n",
       "      <td>0.403435</td>\n",
       "    </tr>\n",
       "    <tr>\n",
       "      <th>6410</th>\n",
       "      <td>0.403435</td>\n",
       "    </tr>\n",
       "    <tr>\n",
       "      <th>6412</th>\n",
       "      <td>0.403435</td>\n",
       "    </tr>\n",
       "    <tr>\n",
       "      <th>5531</th>\n",
       "      <td>0.447133</td>\n",
       "    </tr>\n",
       "  </tbody>\n",
       "</table>\n",
       "<p>350 rows × 1 columns</p>\n",
       "</div>"
      ],
      "text/plain": [
       "      ownershipRatio\n",
       "6982        0.000000\n",
       "647         0.000000\n",
       "648         0.000000\n",
       "7145        0.000000\n",
       "7146        0.000000\n",
       "...              ...\n",
       "6413        0.403435\n",
       "6411        0.403435\n",
       "6410        0.403435\n",
       "6412        0.403435\n",
       "5531        0.447133\n",
       "\n",
       "[350 rows x 1 columns]"
      ]
     },
     "execution_count": 7,
     "metadata": {},
     "output_type": "execute_result"
    }
   ],
   "source": [
    "ownRat.sort_values(by='ownershipRatio', ascending=True).head(350)"
   ]
  },
  {
   "cell_type": "code",
   "execution_count": 8,
   "id": "6c527132-c1d3-4c46-bcb5-108968ec87be",
   "metadata": {},
   "outputs": [],
   "source": [
    "maxRatio = 406.179533"
   ]
  },
  {
   "cell_type": "code",
   "execution_count": 9,
   "id": "c1080eb5-fc5f-40e3-b35d-8f747c40b8f9",
   "metadata": {},
   "outputs": [],
   "source": [
    "df['ownershipRatio'].replace(np.inf, maxRatio, inplace=True)"
   ]
  },
  {
   "cell_type": "code",
   "execution_count": 10,
   "id": "6181f009-8219-46e7-84f5-eb13c5d7bd4b",
   "metadata": {},
   "outputs": [],
   "source": [
    "df['ownershipRatio'].replace(np.nan, 0, inplace=True)"
   ]
  },
  {
   "cell_type": "code",
   "execution_count": 11,
   "id": "6b269644-a8e3-4fb9-b077-491e5c772a93",
   "metadata": {},
   "outputs": [
    {
     "data": {
      "text/html": [
       "<div>\n",
       "<style scoped>\n",
       "    .dataframe tbody tr th:only-of-type {\n",
       "        vertical-align: middle;\n",
       "    }\n",
       "\n",
       "    .dataframe tbody tr th {\n",
       "        vertical-align: top;\n",
       "    }\n",
       "\n",
       "    .dataframe thead th {\n",
       "        text-align: right;\n",
       "    }\n",
       "</style>\n",
       "<table border=\"1\" class=\"dataframe\">\n",
       "  <thead>\n",
       "    <tr style=\"text-align: right;\">\n",
       "      <th></th>\n",
       "      <th>GVKEY_x</th>\n",
       "      <th>TICKER</th>\n",
       "      <th>AGE</th>\n",
       "      <th>TDC1</th>\n",
       "      <th>YEAR</th>\n",
       "      <th>BECAMECEO</th>\n",
       "      <th>STOCK_AWARDS_x</th>\n",
       "      <th>STOCK_AWARDS_y</th>\n",
       "      <th>ownershipRatio</th>\n",
       "      <th>ownershipPower</th>\n",
       "      <th>yearServed</th>\n",
       "      <th>prestiegePower</th>\n",
       "      <th>SIZE_CATEGORY_x</th>\n",
       "      <th>MKVALT_x</th>\n",
       "    </tr>\n",
       "  </thead>\n",
       "  <tbody>\n",
       "    <tr>\n",
       "      <th>0</th>\n",
       "      <td>1045</td>\n",
       "      <td>AAL</td>\n",
       "      <td>51.0</td>\n",
       "      <td>5231.393</td>\n",
       "      <td>2010</td>\n",
       "      <td>2003-04-25</td>\n",
       "      <td>3280.680</td>\n",
       "      <td>24.103</td>\n",
       "      <td>11.983169</td>\n",
       "      <td>1</td>\n",
       "      <td>7.0</td>\n",
       "      <td>1</td>\n",
       "      <td>Medium</td>\n",
       "      <td>2597.5755</td>\n",
       "    </tr>\n",
       "    <tr>\n",
       "      <th>1</th>\n",
       "      <td>1045</td>\n",
       "      <td>AAL</td>\n",
       "      <td>52.0</td>\n",
       "      <td>5526.835</td>\n",
       "      <td>2011</td>\n",
       "      <td>2003-04-25</td>\n",
       "      <td>4020.380</td>\n",
       "      <td>13.811</td>\n",
       "      <td>14.685032</td>\n",
       "      <td>1</td>\n",
       "      <td>8.0</td>\n",
       "      <td>1</td>\n",
       "      <td>Tiny</td>\n",
       "      <td>117.3438</td>\n",
       "    </tr>\n",
       "    <tr>\n",
       "      <th>2</th>\n",
       "      <td>1045</td>\n",
       "      <td>AAL</td>\n",
       "      <td>50.0</td>\n",
       "      <td>656.226</td>\n",
       "      <td>2012</td>\n",
       "      <td>2011-11-28</td>\n",
       "      <td>0.000</td>\n",
       "      <td>0.000</td>\n",
       "      <td>0.000000</td>\n",
       "      <td>0</td>\n",
       "      <td>1.0</td>\n",
       "      <td>0</td>\n",
       "      <td>Tiny</td>\n",
       "      <td>266.5571</td>\n",
       "    </tr>\n",
       "    <tr>\n",
       "      <th>3</th>\n",
       "      <td>1045</td>\n",
       "      <td>AAL</td>\n",
       "      <td>51.0</td>\n",
       "      <td>19092.978</td>\n",
       "      <td>2013</td>\n",
       "      <td>2011-11-28</td>\n",
       "      <td>4199.761</td>\n",
       "      <td>0.000</td>\n",
       "      <td>15.340248</td>\n",
       "      <td>1</td>\n",
       "      <td>2.0</td>\n",
       "      <td>0</td>\n",
       "      <td>Medium</td>\n",
       "      <td>6591.9923</td>\n",
       "    </tr>\n",
       "    <tr>\n",
       "      <th>4</th>\n",
       "      <td>1045</td>\n",
       "      <td>AAL</td>\n",
       "      <td>52.0</td>\n",
       "      <td>12301.976</td>\n",
       "      <td>2014</td>\n",
       "      <td>2013-12-09</td>\n",
       "      <td>7000.000</td>\n",
       "      <td>280.000</td>\n",
       "      <td>25.568535</td>\n",
       "      <td>1</td>\n",
       "      <td>1.0</td>\n",
       "      <td>0</td>\n",
       "      <td>Big</td>\n",
       "      <td>37405.5843</td>\n",
       "    </tr>\n",
       "    <tr>\n",
       "      <th>...</th>\n",
       "      <td>...</td>\n",
       "      <td>...</td>\n",
       "      <td>...</td>\n",
       "      <td>...</td>\n",
       "      <td>...</td>\n",
       "      <td>...</td>\n",
       "      <td>...</td>\n",
       "      <td>...</td>\n",
       "      <td>...</td>\n",
       "      <td>...</td>\n",
       "      <td>...</td>\n",
       "      <td>...</td>\n",
       "      <td>...</td>\n",
       "      <td>...</td>\n",
       "    </tr>\n",
       "    <tr>\n",
       "      <th>7312</th>\n",
       "      <td>316056</td>\n",
       "      <td>ALLE</td>\n",
       "      <td>57.0</td>\n",
       "      <td>6554.281</td>\n",
       "      <td>2015</td>\n",
       "      <td>2013-08-01</td>\n",
       "      <td>2514.691</td>\n",
       "      <td>70.056</td>\n",
       "      <td>406.179533</td>\n",
       "      <td>1</td>\n",
       "      <td>2.0</td>\n",
       "      <td>0</td>\n",
       "      <td>Medium</td>\n",
       "      <td>6327.7267</td>\n",
       "    </tr>\n",
       "    <tr>\n",
       "      <th>7313</th>\n",
       "      <td>316056</td>\n",
       "      <td>ALLE</td>\n",
       "      <td>58.0</td>\n",
       "      <td>6254.577</td>\n",
       "      <td>2016</td>\n",
       "      <td>2013-08-01</td>\n",
       "      <td>2331.625</td>\n",
       "      <td>70.008</td>\n",
       "      <td>406.179533</td>\n",
       "      <td>1</td>\n",
       "      <td>3.0</td>\n",
       "      <td>0</td>\n",
       "      <td>Medium</td>\n",
       "      <td>6097.5360</td>\n",
       "    </tr>\n",
       "    <tr>\n",
       "      <th>7314</th>\n",
       "      <td>316056</td>\n",
       "      <td>ALLE</td>\n",
       "      <td>59.0</td>\n",
       "      <td>6530.474</td>\n",
       "      <td>2017</td>\n",
       "      <td>2013-08-01</td>\n",
       "      <td>2776.707</td>\n",
       "      <td>0.000</td>\n",
       "      <td>406.179533</td>\n",
       "      <td>1</td>\n",
       "      <td>4.0</td>\n",
       "      <td>0</td>\n",
       "      <td>Medium</td>\n",
       "      <td>7563.1327</td>\n",
       "    </tr>\n",
       "    <tr>\n",
       "      <th>7315</th>\n",
       "      <td>316056</td>\n",
       "      <td>ALLE</td>\n",
       "      <td>60.0</td>\n",
       "      <td>6913.202</td>\n",
       "      <td>2018</td>\n",
       "      <td>2013-08-01</td>\n",
       "      <td>3017.362</td>\n",
       "      <td>100.033</td>\n",
       "      <td>406.179533</td>\n",
       "      <td>1</td>\n",
       "      <td>5.0</td>\n",
       "      <td>0</td>\n",
       "      <td>Medium</td>\n",
       "      <td>7543.5153</td>\n",
       "    </tr>\n",
       "    <tr>\n",
       "      <th>7316</th>\n",
       "      <td>316056</td>\n",
       "      <td>ALLE</td>\n",
       "      <td>61.0</td>\n",
       "      <td>7156.664</td>\n",
       "      <td>2019</td>\n",
       "      <td>2013-08-01</td>\n",
       "      <td>3015.155</td>\n",
       "      <td>100.067</td>\n",
       "      <td>406.179533</td>\n",
       "      <td>1</td>\n",
       "      <td>6.0</td>\n",
       "      <td>1</td>\n",
       "      <td>Big</td>\n",
       "      <td>11547.8470</td>\n",
       "    </tr>\n",
       "  </tbody>\n",
       "</table>\n",
       "<p>7317 rows × 14 columns</p>\n",
       "</div>"
      ],
      "text/plain": [
       "      GVKEY_x TICKER   AGE       TDC1  YEAR   BECAMECEO  STOCK_AWARDS_x  \\\n",
       "0        1045    AAL  51.0   5231.393  2010  2003-04-25        3280.680   \n",
       "1        1045    AAL  52.0   5526.835  2011  2003-04-25        4020.380   \n",
       "2        1045    AAL  50.0    656.226  2012  2011-11-28           0.000   \n",
       "3        1045    AAL  51.0  19092.978  2013  2011-11-28        4199.761   \n",
       "4        1045    AAL  52.0  12301.976  2014  2013-12-09        7000.000   \n",
       "...       ...    ...   ...        ...   ...         ...             ...   \n",
       "7312   316056   ALLE  57.0   6554.281  2015  2013-08-01        2514.691   \n",
       "7313   316056   ALLE  58.0   6254.577  2016  2013-08-01        2331.625   \n",
       "7314   316056   ALLE  59.0   6530.474  2017  2013-08-01        2776.707   \n",
       "7315   316056   ALLE  60.0   6913.202  2018  2013-08-01        3017.362   \n",
       "7316   316056   ALLE  61.0   7156.664  2019  2013-08-01        3015.155   \n",
       "\n",
       "      STOCK_AWARDS_y  ownershipRatio  ownershipPower  yearServed  \\\n",
       "0             24.103       11.983169               1         7.0   \n",
       "1             13.811       14.685032               1         8.0   \n",
       "2              0.000        0.000000               0         1.0   \n",
       "3              0.000       15.340248               1         2.0   \n",
       "4            280.000       25.568535               1         1.0   \n",
       "...              ...             ...             ...         ...   \n",
       "7312          70.056      406.179533               1         2.0   \n",
       "7313          70.008      406.179533               1         3.0   \n",
       "7314           0.000      406.179533               1         4.0   \n",
       "7315         100.033      406.179533               1         5.0   \n",
       "7316         100.067      406.179533               1         6.0   \n",
       "\n",
       "      prestiegePower SIZE_CATEGORY_x    MKVALT_x  \n",
       "0                  1          Medium   2597.5755  \n",
       "1                  1            Tiny    117.3438  \n",
       "2                  0            Tiny    266.5571  \n",
       "3                  0          Medium   6591.9923  \n",
       "4                  0             Big  37405.5843  \n",
       "...              ...             ...         ...  \n",
       "7312               0          Medium   6327.7267  \n",
       "7313               0          Medium   6097.5360  \n",
       "7314               0          Medium   7563.1327  \n",
       "7315               0          Medium   7543.5153  \n",
       "7316               1             Big  11547.8470  \n",
       "\n",
       "[7317 rows x 14 columns]"
      ]
     },
     "execution_count": 11,
     "metadata": {},
     "output_type": "execute_result"
    }
   ],
   "source": [
    "df"
   ]
  },
  {
   "cell_type": "code",
   "execution_count": 12,
   "id": "a6c9de75-b1e9-4328-8884-fbab37656810",
   "metadata": {},
   "outputs": [],
   "source": [
    "df.to_csv('input_data_clean/CEO_BOD_Clean.csv')"
   ]
  },
  {
   "cell_type": "code",
   "execution_count": null,
   "id": "61f570e3-afe8-463f-95cd-d53b82190f7a",
   "metadata": {},
   "outputs": [],
   "source": []
  }
 ],
 "metadata": {
  "kernelspec": {
   "display_name": "Python 3 (ipykernel)",
   "language": "python",
   "name": "python3"
  },
  "language_info": {
   "codemirror_mode": {
    "name": "ipython",
    "version": 3
   },
   "file_extension": ".py",
   "mimetype": "text/x-python",
   "name": "python",
   "nbconvert_exporter": "python",
   "pygments_lexer": "ipython3",
   "version": "3.9.12"
  }
 },
 "nbformat": 4,
 "nbformat_minor": 5
}
