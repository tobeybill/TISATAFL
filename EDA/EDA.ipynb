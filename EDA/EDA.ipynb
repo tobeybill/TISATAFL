{
 "cells": [
  {
   "cell_type": "code",
   "execution_count": 1,
   "id": "ebf680d4-f982-4ff3-adc5-153f3199dd43",
   "metadata": {},
   "outputs": [],
   "source": [
    "from ydata_profiling import ProfileReport\n",
    "import pandas as pd\n",
    "import numpy as np\n",
    "import pandas_datareader as pdr  # to install: !pip install pandas_datareader\n",
    "from datetime import datetime\n",
    "import numpy as np\n",
    "import seaborn as sns\n",
    "import matplotlib.pyplot as plt\n",
    "from statsmodels.formula.api import ols as sm_ols\n",
    "from statsmodels.iolib.summary2 import summary_col # nicer tables\n",
    "np.finfo(np.float64).max = 1e10"
   ]
  },
  {
   "cell_type": "code",
   "execution_count": 2,
   "id": "f93f1674-4439-45b0-8f91-21742026566e",
   "metadata": {},
   "outputs": [],
   "source": [
    "url = 'https://github.com/LeDataSciFi/data/raw/main/Firm%20Year%20Datasets%20(Compustat)/firms2020.csv'\n",
    "firms_df = pd.read_csv(url).drop_duplicates('tic')\n",
    "\n",
    "bod_df = pd.read_csv('./Input_data/DirectorComp.csv')\n",
    "ceo_df = pd.read_csv('./Input_data/CEOComp.csv')"
   ]
  },
  {
   "cell_type": "code",
   "execution_count": 3,
   "id": "a561fac5-4004-4afd-951b-c04ec97cd8b9",
   "metadata": {},
   "outputs": [
    {
     "data": {
      "text/html": [
       "<div>\n",
       "<style scoped>\n",
       "    .dataframe tbody tr th:only-of-type {\n",
       "        vertical-align: middle;\n",
       "    }\n",
       "\n",
       "    .dataframe tbody tr th {\n",
       "        vertical-align: top;\n",
       "    }\n",
       "\n",
       "    .dataframe thead th {\n",
       "        text-align: right;\n",
       "    }\n",
       "</style>\n",
       "<table border=\"1\" class=\"dataframe\">\n",
       "  <thead>\n",
       "    <tr style=\"text-align: right;\">\n",
       "      <th></th>\n",
       "      <th>EXECDIR</th>\n",
       "      <th>OLD_DATAFMT_FLAG</th>\n",
       "      <th>INTERLOCK</th>\n",
       "      <th>REPRICE</th>\n",
       "      <th>EXECRANK</th>\n",
       "      <th>CO_PER_ROL</th>\n",
       "      <th>SALARY</th>\n",
       "      <th>BONUS</th>\n",
       "      <th>STOCK_AWARDS</th>\n",
       "      <th>OPTION_AWARDS</th>\n",
       "      <th>...</th>\n",
       "      <th>TDC2_PCT</th>\n",
       "      <th>RET_YRS</th>\n",
       "      <th>COMMENT</th>\n",
       "      <th>GVKEY</th>\n",
       "      <th>EXECID</th>\n",
       "      <th>YEAR</th>\n",
       "      <th>RSTKVYRS</th>\n",
       "      <th>REJOIN</th>\n",
       "      <th>RELEFT</th>\n",
       "      <th>SIC</th>\n",
       "    </tr>\n",
       "  </thead>\n",
       "  <tbody>\n",
       "    <tr>\n",
       "      <th>count</th>\n",
       "      <td>26767.00000</td>\n",
       "      <td>26767.0</td>\n",
       "      <td>26767.0</td>\n",
       "      <td>26767.0</td>\n",
       "      <td>1478.000000</td>\n",
       "      <td>26767.000000</td>\n",
       "      <td>26767.000000</td>\n",
       "      <td>26767.000000</td>\n",
       "      <td>2.676700e+04</td>\n",
       "      <td>2.676700e+04</td>\n",
       "      <td>...</td>\n",
       "      <td>21068.000000</td>\n",
       "      <td>0.0</td>\n",
       "      <td>0.0</td>\n",
       "      <td>26767.000000</td>\n",
       "      <td>26767.000000</td>\n",
       "      <td>26767.000000</td>\n",
       "      <td>0.0</td>\n",
       "      <td>0.0</td>\n",
       "      <td>0.0</td>\n",
       "      <td>26767.000000</td>\n",
       "    </tr>\n",
       "    <tr>\n",
       "      <th>mean</th>\n",
       "      <td>0.30758</td>\n",
       "      <td>0.0</td>\n",
       "      <td>0.0</td>\n",
       "      <td>0.0</td>\n",
       "      <td>3.123816</td>\n",
       "      <td>41633.237793</td>\n",
       "      <td>687.588032</td>\n",
       "      <td>213.962473</td>\n",
       "      <td>2.642567e+03</td>\n",
       "      <td>9.437737e+02</td>\n",
       "      <td>...</td>\n",
       "      <td>138.128526</td>\n",
       "      <td>NaN</td>\n",
       "      <td>NaN</td>\n",
       "      <td>45484.401464</td>\n",
       "      <td>36905.725333</td>\n",
       "      <td>2014.560690</td>\n",
       "      <td>NaN</td>\n",
       "      <td>NaN</td>\n",
       "      <td>NaN</td>\n",
       "      <td>4817.810027</td>\n",
       "    </tr>\n",
       "    <tr>\n",
       "      <th>std</th>\n",
       "      <td>0.46150</td>\n",
       "      <td>0.0</td>\n",
       "      <td>0.0</td>\n",
       "      <td>0.0</td>\n",
       "      <td>1.514619</td>\n",
       "      <td>13458.286879</td>\n",
       "      <td>476.515060</td>\n",
       "      <td>949.262743</td>\n",
       "      <td>1.291578e+04</td>\n",
       "      <td>1.425832e+04</td>\n",
       "      <td>...</td>\n",
       "      <td>7214.778424</td>\n",
       "      <td>NaN</td>\n",
       "      <td>NaN</td>\n",
       "      <td>61032.150088</td>\n",
       "      <td>13000.437730</td>\n",
       "      <td>2.870718</td>\n",
       "      <td>NaN</td>\n",
       "      <td>NaN</td>\n",
       "      <td>NaN</td>\n",
       "      <td>1846.527444</td>\n",
       "    </tr>\n",
       "    <tr>\n",
       "      <th>min</th>\n",
       "      <td>0.00000</td>\n",
       "      <td>0.0</td>\n",
       "      <td>0.0</td>\n",
       "      <td>0.0</td>\n",
       "      <td>1.000000</td>\n",
       "      <td>79.000000</td>\n",
       "      <td>0.000000</td>\n",
       "      <td>0.000000</td>\n",
       "      <td>0.000000e+00</td>\n",
       "      <td>0.000000e+00</td>\n",
       "      <td>...</td>\n",
       "      <td>-100.000000</td>\n",
       "      <td>NaN</td>\n",
       "      <td>NaN</td>\n",
       "      <td>1045.000000</td>\n",
       "      <td>13.000000</td>\n",
       "      <td>2010.000000</td>\n",
       "      <td>NaN</td>\n",
       "      <td>NaN</td>\n",
       "      <td>NaN</td>\n",
       "      <td>100.000000</td>\n",
       "    </tr>\n",
       "    <tr>\n",
       "      <th>25%</th>\n",
       "      <td>0.00000</td>\n",
       "      <td>0.0</td>\n",
       "      <td>0.0</td>\n",
       "      <td>0.0</td>\n",
       "      <td>2.000000</td>\n",
       "      <td>32990.500000</td>\n",
       "      <td>448.120500</td>\n",
       "      <td>0.000000</td>\n",
       "      <td>5.562355e+02</td>\n",
       "      <td>0.000000e+00</td>\n",
       "      <td>...</td>\n",
       "      <td>-12.724500</td>\n",
       "      <td>NaN</td>\n",
       "      <td>NaN</td>\n",
       "      <td>6266.000000</td>\n",
       "      <td>28656.000000</td>\n",
       "      <td>2012.000000</td>\n",
       "      <td>NaN</td>\n",
       "      <td>NaN</td>\n",
       "      <td>NaN</td>\n",
       "      <td>3572.000000</td>\n",
       "    </tr>\n",
       "    <tr>\n",
       "      <th>50%</th>\n",
       "      <td>0.00000</td>\n",
       "      <td>0.0</td>\n",
       "      <td>0.0</td>\n",
       "      <td>0.0</td>\n",
       "      <td>3.000000</td>\n",
       "      <td>43902.000000</td>\n",
       "      <td>598.712000</td>\n",
       "      <td>0.000000</td>\n",
       "      <td>1.320151e+03</td>\n",
       "      <td>2.152320e+02</td>\n",
       "      <td>...</td>\n",
       "      <td>10.989500</td>\n",
       "      <td>NaN</td>\n",
       "      <td>NaN</td>\n",
       "      <td>12138.000000</td>\n",
       "      <td>39250.000000</td>\n",
       "      <td>2015.000000</td>\n",
       "      <td>NaN</td>\n",
       "      <td>NaN</td>\n",
       "      <td>NaN</td>\n",
       "      <td>4911.000000</td>\n",
       "    </tr>\n",
       "    <tr>\n",
       "      <th>75%</th>\n",
       "      <td>1.00000</td>\n",
       "      <td>0.0</td>\n",
       "      <td>0.0</td>\n",
       "      <td>0.0</td>\n",
       "      <td>4.000000</td>\n",
       "      <td>50768.000000</td>\n",
       "      <td>834.624500</td>\n",
       "      <td>0.000000</td>\n",
       "      <td>3.009438e+03</td>\n",
       "      <td>8.265285e+02</td>\n",
       "      <td>...</td>\n",
       "      <td>54.584250</td>\n",
       "      <td>NaN</td>\n",
       "      <td>NaN</td>\n",
       "      <td>63080.000000</td>\n",
       "      <td>46236.500000</td>\n",
       "      <td>2017.000000</td>\n",
       "      <td>NaN</td>\n",
       "      <td>NaN</td>\n",
       "      <td>NaN</td>\n",
       "      <td>6324.000000</td>\n",
       "    </tr>\n",
       "    <tr>\n",
       "      <th>max</th>\n",
       "      <td>1.00000</td>\n",
       "      <td>0.0</td>\n",
       "      <td>0.0</td>\n",
       "      <td>0.0</td>\n",
       "      <td>10.000000</td>\n",
       "      <td>68553.000000</td>\n",
       "      <td>18000.000000</td>\n",
       "      <td>32000.000000</td>\n",
       "      <td>1.927511e+06</td>\n",
       "      <td>2.283989e+06</td>\n",
       "      <td>...</td>\n",
       "      <td>913403.089000</td>\n",
       "      <td>NaN</td>\n",
       "      <td>NaN</td>\n",
       "      <td>316056.000000</td>\n",
       "      <td>62363.000000</td>\n",
       "      <td>2019.000000</td>\n",
       "      <td>NaN</td>\n",
       "      <td>NaN</td>\n",
       "      <td>NaN</td>\n",
       "      <td>9997.000000</td>\n",
       "    </tr>\n",
       "  </tbody>\n",
       "</table>\n",
       "<p>8 rows × 73 columns</p>\n",
       "</div>"
      ],
      "text/plain": [
       "           EXECDIR  OLD_DATAFMT_FLAG  INTERLOCK  REPRICE     EXECRANK  \\\n",
       "count  26767.00000           26767.0    26767.0  26767.0  1478.000000   \n",
       "mean       0.30758               0.0        0.0      0.0     3.123816   \n",
       "std        0.46150               0.0        0.0      0.0     1.514619   \n",
       "min        0.00000               0.0        0.0      0.0     1.000000   \n",
       "25%        0.00000               0.0        0.0      0.0     2.000000   \n",
       "50%        0.00000               0.0        0.0      0.0     3.000000   \n",
       "75%        1.00000               0.0        0.0      0.0     4.000000   \n",
       "max        1.00000               0.0        0.0      0.0    10.000000   \n",
       "\n",
       "         CO_PER_ROL        SALARY         BONUS  STOCK_AWARDS  OPTION_AWARDS  \\\n",
       "count  26767.000000  26767.000000  26767.000000  2.676700e+04   2.676700e+04   \n",
       "mean   41633.237793    687.588032    213.962473  2.642567e+03   9.437737e+02   \n",
       "std    13458.286879    476.515060    949.262743  1.291578e+04   1.425832e+04   \n",
       "min       79.000000      0.000000      0.000000  0.000000e+00   0.000000e+00   \n",
       "25%    32990.500000    448.120500      0.000000  5.562355e+02   0.000000e+00   \n",
       "50%    43902.000000    598.712000      0.000000  1.320151e+03   2.152320e+02   \n",
       "75%    50768.000000    834.624500      0.000000  3.009438e+03   8.265285e+02   \n",
       "max    68553.000000  18000.000000  32000.000000  1.927511e+06   2.283989e+06   \n",
       "\n",
       "       ...       TDC2_PCT  RET_YRS  COMMENT          GVKEY        EXECID  \\\n",
       "count  ...   21068.000000      0.0      0.0   26767.000000  26767.000000   \n",
       "mean   ...     138.128526      NaN      NaN   45484.401464  36905.725333   \n",
       "std    ...    7214.778424      NaN      NaN   61032.150088  13000.437730   \n",
       "min    ...    -100.000000      NaN      NaN    1045.000000     13.000000   \n",
       "25%    ...     -12.724500      NaN      NaN    6266.000000  28656.000000   \n",
       "50%    ...      10.989500      NaN      NaN   12138.000000  39250.000000   \n",
       "75%    ...      54.584250      NaN      NaN   63080.000000  46236.500000   \n",
       "max    ...  913403.089000      NaN      NaN  316056.000000  62363.000000   \n",
       "\n",
       "               YEAR  RSTKVYRS  REJOIN  RELEFT           SIC  \n",
       "count  26767.000000       0.0     0.0     0.0  26767.000000  \n",
       "mean    2014.560690       NaN     NaN     NaN   4817.810027  \n",
       "std        2.870718       NaN     NaN     NaN   1846.527444  \n",
       "min     2010.000000       NaN     NaN     NaN    100.000000  \n",
       "25%     2012.000000       NaN     NaN     NaN   3572.000000  \n",
       "50%     2015.000000       NaN     NaN     NaN   4911.000000  \n",
       "75%     2017.000000       NaN     NaN     NaN   6324.000000  \n",
       "max     2019.000000       NaN     NaN     NaN   9997.000000  \n",
       "\n",
       "[8 rows x 73 columns]"
      ]
     },
     "execution_count": 3,
     "metadata": {},
     "output_type": "execute_result"
    }
   ],
   "source": [
    "ceo_df.describe()"
   ]
  },
  {
   "cell_type": "code",
   "execution_count": 4,
   "id": "3d47e7ce-7d47-4839-a511-8668b04fc39f",
   "metadata": {},
   "outputs": [
    {
     "data": {
      "text/plain": [
       "count      4811.000000\n",
       "mean      11467.801272\n",
       "std       10203.831261\n",
       "min           0.001000\n",
       "25%        6158.732500\n",
       "50%        9658.115000\n",
       "75%       14350.184000\n",
       "max      280621.551000\n",
       "Name: TDC1, dtype: float64"
      ]
     },
     "execution_count": 4,
     "metadata": {},
     "output_type": "execute_result"
    }
   ],
   "source": [
    "ceo_df.dropna(axis=1, how='all', inplace=True)\n",
    "# Calculate the total compensation for the CEO in that year\n",
    "ceo_df = ceo_df[ceo_df['CEOANN'].notnull()]\n",
    "ceo_df['TDC1'].describe() #only difference between TDC1 and TDC2 is the options preferences. TDC1 is bk value of options (Black- Scholes equation)"
   ]
  },
  {
   "cell_type": "code",
   "execution_count": 5,
   "id": "e01ff231-7587-4801-80a7-b589c6f06928",
   "metadata": {},
   "outputs": [],
   "source": [
    "# ceo_df = ceo_df.drop(['CFOANN', 'PENSION_CHG', 'TOTAL_SEC', 'CHG_CTRL_PYMT', 'TOTAL_SEC_PCT', 'REPRICE', 'EXECRANK'], axis=1)\n",
    "######trimmed this down to make it easier for regressions. We can look back if I missed any. \n",
    "ceo_df = ceo_df[['GVKEY', 'TICKER', 'CEOANN', 'SALARY', 'BONUS', 'STOCK_AWARDS', 'OPTION_AWARDS',\n",
    "                 'OTHCOMP', 'TOTAL_CURR', 'AGE', 'TDC1', 'YEAR', 'BECAMECEO', 'JOINED_CO',\n",
    "                 'LEFTOFC', 'GENDER', 'CUSIP', 'NAICSDESC', 'SIC']] "
   ]
  },
  {
   "cell_type": "code",
   "execution_count": 6,
   "id": "83d15594-c5c5-45c3-9961-7220ae9fddeb",
   "metadata": {},
   "outputs": [],
   "source": [
    "bod_df = bod_df[['GVKEY', 'TICKER', 'TOTAL_SEC', 'OTHCOMP', 'NONEQ_INCENT', 'CASH_FEES', 'STOCK_AWARDS', 'OPTION_AWARDS',\n",
    "                 'SPCODE', 'CUSIP', 'CONAME', 'YEAR']]"
   ]
  },
  {
   "cell_type": "code",
   "execution_count": 7,
   "id": "d7562092-2d99-4dd7-8f01-2ff466df391d",
   "metadata": {},
   "outputs": [],
   "source": [
    "grouped_df = bod_df.groupby(['TICKER', 'YEAR'])[['TOTAL_SEC', 'OTHCOMP', \n",
    "                                                 'NONEQ_INCENT', 'CASH_FEES', \n",
    "                                                 'STOCK_AWARDS', 'OPTION_AWARDS']].sum().reset_index()\n",
    "\n",
    "bod_df = bod_df.merge(grouped_df, on='TICKER', how='left')\n",
    "\n",
    "bod_df = bod_df.rename(columns={'YEAR_x': 'YEAR'})\n",
    "bod_df.drop(['YEAR_y'], axis=1)\n",
    "\n",
    "bod_df = bod_df.rename(columns={'TOTAL_SEC_x': 'TOTAL_SEC'})\n",
    "bod_df = bod_df.rename(columns={'TOTAL_SEC_y': 'total_director_comp'})\n",
    "\n",
    "bod_df = bod_df.rename(columns={'OTHCOMP_x': 'OTHCOMP'})\n",
    "bod_df = bod_df.rename(columns={'OTHCOMP_y': 'total_OTHCOMP'})\n",
    "\n",
    "bod_df = bod_df.rename(columns={'NONEQ_INCENT_x': 'NONEQ_INCENT'})\n",
    "bod_df = bod_df.rename(columns={'NONEQ_INCENT_y': 'total_NONEQ_INCENT'})\n",
    "\n",
    "bod_df = bod_df.rename(columns={'CASH_FEES_x': 'CASH_FEES'})\n",
    "bod_df = bod_df.rename(columns={'CASH_FEES_y': 'total_CASH_FEES'})\n",
    "\n",
    "bod_df = bod_df.rename(columns={'STOCK_AWARDS_x': 'STOCK_AWARDS'})\n",
    "bod_df = bod_df.rename(columns={'STOCK_AWARDS_y': 'total_STOCK_AWARDS'})\n",
    "\n",
    "bod_df = bod_df.rename(columns={'OPTION_AWARDS_x': 'OPTION_AWARDS'})\n",
    "bod_df = bod_df.rename(columns={'OPTION_AWARDS_y': 'total_OPTION_AWARDS'})"
   ]
  },
  {
   "cell_type": "code",
   "execution_count": 8,
   "id": "eda815d1-e570-4e8b-924d-5030a68f3877",
   "metadata": {
    "tags": []
   },
   "outputs": [],
   "source": [
    "# bod_df.info()"
   ]
  },
  {
   "cell_type": "code",
   "execution_count": 9,
   "id": "07d514a5-caba-46fb-a439-de46b5e4280d",
   "metadata": {},
   "outputs": [
    {
     "name": "stdout",
     "output_type": "stream",
     "text": [
      "<class 'pandas.core.frame.DataFrame'>\n",
      "Int64Index: 4792 entries, 0 to 486082\n",
      "Data columns (total 19 columns):\n",
      " #   Column               Non-Null Count  Dtype  \n",
      "---  ------               --------------  -----  \n",
      " 0   GVKEY                4792 non-null   int64  \n",
      " 1   TICKER               4792 non-null   object \n",
      " 2   TOTAL_SEC            4792 non-null   float64\n",
      " 3   OTHCOMP              4792 non-null   float64\n",
      " 4   NONEQ_INCENT         4792 non-null   float64\n",
      " 5   CASH_FEES            4792 non-null   float64\n",
      " 6   STOCK_AWARDS         4792 non-null   float64\n",
      " 7   OPTION_AWARDS        4792 non-null   float64\n",
      " 8   SPCODE               4792 non-null   object \n",
      " 9   CUSIP                4792 non-null   object \n",
      " 10  CONAME               4792 non-null   object \n",
      " 11  YEAR                 4792 non-null   int64  \n",
      " 12  YEAR_y               4792 non-null   int64  \n",
      " 13  total_director_comp  4792 non-null   float64\n",
      " 14  total_OTHCOMP        4792 non-null   float64\n",
      " 15  total_NONEQ_INCENT   4792 non-null   float64\n",
      " 16  total_CASH_FEES      4792 non-null   float64\n",
      " 17  total_STOCK_AWARDS   4792 non-null   float64\n",
      " 18  total_OPTION_AWARDS  4792 non-null   float64\n",
      "dtypes: float64(12), int64(3), object(4)\n",
      "memory usage: 748.8+ KB\n"
     ]
    }
   ],
   "source": [
    "bod_df = bod_df.drop_duplicates(subset=['TICKER', 'YEAR'], keep='first')\n",
    "\n",
    "bod_df.info()"
   ]
  },
  {
   "cell_type": "code",
   "execution_count": 10,
   "id": "98c09fd8-02f8-44a7-b7ac-7c903fcc42f0",
   "metadata": {},
   "outputs": [],
   "source": [
    "firms_df = pd.read_csv('./Input_data/Firm_data.csv')"
   ]
  },
  {
   "cell_type": "code",
   "execution_count": 11,
   "id": "612cf821-184a-4bc7-b992-d6f6aabfabd4",
   "metadata": {},
   "outputs": [
    {
     "name": "stdout",
     "output_type": "stream",
     "text": [
      "<class 'pandas.core.frame.DataFrame'>\n",
      "RangeIndex: 5767 entries, 0 to 5766\n",
      "Data columns (total 35 columns):\n",
      " #   Column    Non-Null Count  Dtype  \n",
      "---  ------    --------------  -----  \n",
      " 0   gvkey     5767 non-null   int64  \n",
      " 1   datadate  5767 non-null   object \n",
      " 2   fyear     5762 non-null   float64\n",
      " 3   indfmt    5767 non-null   object \n",
      " 4   consol    5767 non-null   object \n",
      " 5   popsrc    5767 non-null   object \n",
      " 6   datafmt   5767 non-null   object \n",
      " 7   tic       5767 non-null   object \n",
      " 8   cusip     5767 non-null   object \n",
      " 9   conm      5767 non-null   object \n",
      " 10  curcd     5762 non-null   object \n",
      " 11  fyr       5762 non-null   float64\n",
      " 12  act       4153 non-null   float64\n",
      " 13  at        5739 non-null   float64\n",
      " 14  bkvlps    4812 non-null   float64\n",
      " 15  capx      4849 non-null   float64\n",
      " 16  ceql      4858 non-null   float64\n",
      " 17  csho      4813 non-null   float64\n",
      " 18  dltt      5720 non-null   float64\n",
      " 19  dt        4334 non-null   float64\n",
      " 20  emp       5687 non-null   float64\n",
      " 21  lct       4156 non-null   float64\n",
      " 22  lt        5725 non-null   float64\n",
      " 23  ni        4857 non-null   float64\n",
      " 24  ppegt     5011 non-null   float64\n",
      " 25  pstkl     4850 non-null   float64\n",
      " 26  seq       5739 non-null   float64\n",
      " 27  xad       2162 non-null   float64\n",
      " 28  xrd       2829 non-null   float64\n",
      " 29  cik       5767 non-null   int64  \n",
      " 30  costat    5767 non-null   object \n",
      " 31  mkvalt    5078 non-null   float64\n",
      " 32  gsector   5767 non-null   int64  \n",
      " 33  naics     5767 non-null   int64  \n",
      " 34  ipodate   2535 non-null   object \n",
      "dtypes: float64(20), int64(4), object(11)\n",
      "memory usage: 1.5+ MB\n"
     ]
    }
   ],
   "source": [
    "firms_df.info()"
   ]
  },
  {
   "cell_type": "code",
   "execution_count": 12,
   "id": "1f894820-31bc-465d-991a-cff0c9fb2270",
   "metadata": {},
   "outputs": [
    {
     "data": {
      "text/plain": [
       "count    5.078000e+03\n",
       "mean     3.714428e+04\n",
       "std      6.996852e+04\n",
       "min      6.289170e+01\n",
       "25%      8.459879e+03\n",
       "50%      1.592204e+04\n",
       "75%      3.356990e+04\n",
       "max      1.073391e+06\n",
       "Name: mkvalt, dtype: float64"
      ]
     },
     "execution_count": 12,
     "metadata": {},
     "output_type": "execute_result"
    }
   ],
   "source": [
    "firms_df['mkvalt'].describe()"
   ]
  },
  {
   "cell_type": "code",
   "execution_count": 13,
   "id": "042d1356-67ff-4131-8abc-315b70708ad3",
   "metadata": {},
   "outputs": [],
   "source": [
    "# Tiny: companies with a market cap of less than $2 billion\n",
    "# Medium: companies with a market cap between $2 billion and $10 billion\n",
    "# Big: companies with a market cap between $10 billion and $100 billion\n",
    "# Huge: companies with a market cap greater than $100 billion"
   ]
  },
  {
   "cell_type": "code",
   "execution_count": 14,
   "id": "58fccc5a-cd69-43fe-90f2-a5c2fb583972",
   "metadata": {},
   "outputs": [],
   "source": [
    "# define the market capitalization categories\n",
    "categories = {\n",
    "    'Tiny': (0, 2_000),\n",
    "    'Medium': (2_000, 10_000),\n",
    "    'Big': (10_000, 100_000),\n",
    "    'Huge': (100_000, float('inf'))\n",
    "}\n",
    "\n",
    "# create a new column with the market capitalization category for each company\n",
    "firms_df['size_category'] = pd.cut(firms_df['mkvalt'], bins=[categories[cat][0] for cat in categories.keys()] + [float('inf')], labels=categories.keys())"
   ]
  },
  {
   "cell_type": "code",
   "execution_count": 15,
   "id": "44415f73-6d69-495e-a5be-b752dae49113",
   "metadata": {},
   "outputs": [],
   "source": [
    "take = firms_df[['tic', 'fyear', 'mkvalt', 'size_category']]\n",
    "take = take.rename(columns={'tic': 'TICKER'})\n",
    "take = take.rename(columns={'fyear': 'YEAR'})\n",
    "take = take.rename(columns={'mkvalt': 'MKVALT'})\n",
    "take = take.rename(columns={'size_category': 'SIZE_CATEGORY'})\n"
   ]
  },
  {
   "cell_type": "code",
   "execution_count": 16,
   "id": "6d6795c6-f166-46df-ac1a-2f8019c9b9a2",
   "metadata": {},
   "outputs": [
    {
     "name": "stdout",
     "output_type": "stream",
     "text": [
      "<class 'pandas.core.frame.DataFrame'>\n",
      "RangeIndex: 5767 entries, 0 to 5766\n",
      "Data columns (total 4 columns):\n",
      " #   Column         Non-Null Count  Dtype   \n",
      "---  ------         --------------  -----   \n",
      " 0   TICKER         5767 non-null   object  \n",
      " 1   YEAR           5762 non-null   float64 \n",
      " 2   MKVALT         5078 non-null   float64 \n",
      " 3   SIZE_CATEGORY  5078 non-null   category\n",
      "dtypes: category(1), float64(2), object(1)\n",
      "memory usage: 141.1+ KB\n"
     ]
    }
   ],
   "source": [
    "# ceo_df = ceo_df.drop(ceo_df.columns[18], axis=1)\n",
    "take.info()"
   ]
  },
  {
   "cell_type": "code",
   "execution_count": 17,
   "id": "c5b53a34-35cb-4e54-bb16-7b034f5ba574",
   "metadata": {},
   "outputs": [
    {
     "name": "stdout",
     "output_type": "stream",
     "text": [
      "<class 'pandas.core.frame.DataFrame'>\n",
      "Int64Index: 5649 entries, 0 to 5648\n",
      "Data columns (total 21 columns):\n",
      " #   Column         Non-Null Count  Dtype   \n",
      "---  ------         --------------  -----   \n",
      " 0   GVKEY          5649 non-null   int64   \n",
      " 1   TICKER         5649 non-null   object  \n",
      " 2   CEOANN         5649 non-null   object  \n",
      " 3   SALARY         5649 non-null   float64 \n",
      " 4   BONUS          5649 non-null   float64 \n",
      " 5   STOCK_AWARDS   5649 non-null   float64 \n",
      " 6   OPTION_AWARDS  5649 non-null   float64 \n",
      " 7   OTHCOMP        5649 non-null   float64 \n",
      " 8   TOTAL_CURR     5649 non-null   float64 \n",
      " 9   AGE            5649 non-null   float64 \n",
      " 10  TDC1           5649 non-null   float64 \n",
      " 11  YEAR           5649 non-null   int64   \n",
      " 12  BECAMECEO      5613 non-null   object  \n",
      " 13  JOINED_CO      1493 non-null   object  \n",
      " 14  LEFTOFC        3530 non-null   object  \n",
      " 15  GENDER         5649 non-null   object  \n",
      " 16  CUSIP          5649 non-null   object  \n",
      " 17  NAICSDESC      5649 non-null   object  \n",
      " 18  SIC            5649 non-null   int64   \n",
      " 19  MKVALT         5028 non-null   float64 \n",
      " 20  SIZE_CATEGORY  5028 non-null   category\n",
      "dtypes: category(1), float64(9), int64(3), object(8)\n",
      "memory usage: 932.5+ KB\n"
     ]
    }
   ],
   "source": [
    "import pandas as pd\n",
    "import statsmodels.formula.api as smf\n",
    "\n",
    "ceo_df = ceo_df.merge(take, on = ['TICKER', 'YEAR'], how = 'inner')\n",
    "bod_df = bod_df.merge(take, on = ['TICKER', 'YEAR'], how = 'inner')\n",
    "\n",
    "ceo_df.info()"
   ]
  },
  {
   "cell_type": "code",
   "execution_count": 18,
   "id": "576cc381-a6a1-4566-ab00-e92050267136",
   "metadata": {},
   "outputs": [],
   "source": [
    "import hashlib\n",
    "get_signature1 = lambda row_idx: hashlib.md5(str(ceo_df.iloc[row_idx]).encode('utf-8')).hexdigest()\n",
    "get_signature2 = lambda row_idx: hashlib.md5(str(bod_df.iloc[row_idx]).encode('utf-8')).hexdigest()\n",
    "\n",
    "# apply the lambda function to each row of the DataFrame to create a new column of signature indices\n",
    "ceo_df['signature_index'] = ceo_df.index.to_series().apply(get_signature1)\n",
    "bod_df['signature_index'] = bod_df.index.to_series().apply(get_signature2)"
   ]
  },
  {
   "cell_type": "code",
   "execution_count": 19,
   "id": "4d24bb2a-da9d-4fdf-8a05-c8f2219285da",
   "metadata": {},
   "outputs": [],
   "source": [
    "categories = {\n",
    "    'Tiny': (0, 300),\n",
    "    'Medium': (300, 10_000),\n",
    "    'Big': (10_000, 200_000),\n",
    "    'Huge': (200_000, float('inf'))\n",
    "}\n",
    "\n",
    "# create a new column with the market capitalization category for each company\n",
    "ceo_df['SIZE_CATEGORY'] = pd.cut(ceo_df['MKVALT'], bins=[categories[cat][0] for cat in categories.keys()] + [float('inf')], labels=categories.keys())\n",
    "bod_df['SIZE_CATEGORY'] = pd.cut(bod_df['MKVALT'], bins=[categories[cat][0] for cat in categories.keys()] + [float('inf')], labels=categories.keys())"
   ]
  },
  {
   "cell_type": "code",
   "execution_count": 20,
   "id": "b60ae9fe-665b-4d37-ade2-aece8ccdba86",
   "metadata": {},
   "outputs": [],
   "source": [
    "ceo_df.to_csv('./input_data_clean/CEO_DF.csv')\n",
    "bod_df.to_csv('./input_data_clean/BOD_DF.csv')\n",
    "firms_df.to_csv('./input_data_clean/FIRMS.csv')"
   ]
  },
  {
   "cell_type": "code",
   "execution_count": 21,
   "id": "ea2b4d9d-1926-4709-9e27-309625f4e574",
   "metadata": {},
   "outputs": [
    {
     "data": {
      "text/plain": [
       "count     5028\n",
       "unique       4\n",
       "top        Big\n",
       "freq      3058\n",
       "Name: SIZE_CATEGORY, dtype: object"
      ]
     },
     "execution_count": 21,
     "metadata": {},
     "output_type": "execute_result"
    }
   ],
   "source": [
    "ceo_df['SIZE_CATEGORY'].describe()"
   ]
  },
  {
   "cell_type": "code",
   "execution_count": 6,
   "id": "1713ab13-3bf7-4963-8cf9-03a992a8035e",
   "metadata": {},
   "outputs": [],
   "source": [
    "import pandas as pd\n",
    "\n",
    "ceo_df = pd.read_csv('./input_data_clean/CEO_DF.csv')\n",
    "bod_df = pd.read_csv('./input_data_clean/BOD_DF.csv')"
   ]
  },
  {
   "cell_type": "code",
   "execution_count": null,
   "id": "c0e71ff9-a37b-4fd3-8ea9-2400ce74ca97",
   "metadata": {},
   "outputs": [],
   "source": []
  },
  {
   "cell_type": "code",
   "execution_count": null,
   "id": "f35d2574-4e67-4882-91b7-fa870e02fad1",
   "metadata": {},
   "outputs": [],
   "source": []
  },
  {
   "cell_type": "code",
   "execution_count": null,
   "id": "78c991d9-af0a-4909-9ebb-62131ad28ac0",
   "metadata": {},
   "outputs": [],
   "source": []
  },
  {
   "cell_type": "code",
   "execution_count": null,
   "id": "5b389bf5-d108-4c09-80de-9757dcbe7c16",
   "metadata": {},
   "outputs": [],
   "source": []
  },
  {
   "cell_type": "code",
   "execution_count": null,
   "id": "0d6a3043-5f95-44bd-8b84-98caf5375412",
   "metadata": {},
   "outputs": [],
   "source": []
  },
  {
   "cell_type": "code",
   "execution_count": 7,
   "id": "17ed6c06-ddbe-4da8-b82f-9a88eb6b8c46",
   "metadata": {},
   "outputs": [],
   "source": [
    "categories = {\n",
    "    'Small': (0, 10_000),\n",
    "    'Medium': (10_000, 200_000),\n",
    "    'Large': (200_000, float('inf'))\n",
    "}\n",
    "\n",
    "# create a new column with the market capitalization category for each company\n",
    "ceo_df['size_category'] = pd.cut(ceo_df['mkvalt'], bins=[categories[cat][0] for cat in categories.keys()] + [float('inf')], labels=categories.keys())\n",
    "bod_df['size_category'] = pd.cut(bod_df['mkvalt'], bins=[categories[cat][0] for cat in categories.keys()] + [float('inf')], labels=categories.keys())"
   ]
  },
  {
   "cell_type": "code",
   "execution_count": 8,
   "id": "5aed8e31-2742-4f4b-bef1-d8c770952217",
   "metadata": {
    "tags": []
   },
   "outputs": [],
   "source": [
    "ceo_df.to_csv('./input_data_clean/CEO_DF.csv')\n",
    "bod_df.to_csv('./input_data_clean/BOD_DF.csv')"
   ]
  },
  {
   "cell_type": "code",
   "execution_count": null,
   "id": "4bfc0f08-7734-45f9-8399-87ecbc979467",
   "metadata": {},
   "outputs": [],
   "source": []
  },
  {
   "cell_type": "code",
   "execution_count": null,
   "id": "22d561de-75dc-4c5d-b3cf-dcf83ff6183f",
   "metadata": {},
   "outputs": [],
   "source": []
  },
  {
   "cell_type": "code",
   "execution_count": 21,
   "id": "2fdfb082-e4bf-41aa-b244-73be52e83552",
   "metadata": {},
   "outputs": [],
   "source": [
    "import pandas as pd\n",
    "\n",
    "ceo_df = pd.read_csv('./input_data_clean/CEO_DF.csv')\n",
    "bod_df = pd.read_csv('./input_data_clean/BOD_DF.csv')"
   ]
  },
  {
   "cell_type": "code",
   "execution_count": 22,
   "id": "ef6516f9-2839-424f-a21f-c7c71c1ebf2f",
   "metadata": {},
   "outputs": [
    {
     "name": "stdout",
     "output_type": "stream",
     "text": [
      "<class 'pandas.core.frame.DataFrame'>\n",
      "RangeIndex: 115859 entries, 0 to 115858\n",
      "Data columns (total 11 columns):\n",
      " #   Column           Non-Null Count   Dtype  \n",
      "---  ------           --------------   -----  \n",
      " 0   signature_index  115859 non-null  object \n",
      " 1   year             115859 non-null  int64  \n",
      " 2   size_category    80238 non-null   object \n",
      " 3   tdc1             115859 non-null  float64\n",
      " 4   age              115859 non-null  float64\n",
      " 5   gender           115859 non-null  object \n",
      " 6   mkvalt           80238 non-null   float64\n",
      " 7   ownershippower   115859 non-null  int64  \n",
      " 8   yearserved       115424 non-null  float64\n",
      " 9   prestiegepower   115859 non-null  int64  \n",
      " 10  ownershipratio   115859 non-null  float64\n",
      "dtypes: float64(5), int64(3), object(3)\n",
      "memory usage: 9.7+ MB\n"
     ]
    }
   ],
   "source": [
    "\n",
    "ceo_df = ceo_df[['signature_index', 'year','size_category', 'tdc1', 'age','gender','mkvalt','ownershippower','yearserved','prestiegepower','ownershipratio']]\n",
    "ceo_df.info()"
   ]
  },
  {
   "cell_type": "code",
   "execution_count": 12,
   "id": "88d3fb5e-1128-47a9-82f7-b3ce66b53c27",
   "metadata": {},
   "outputs": [
    {
     "name": "stdout",
     "output_type": "stream",
     "text": [
      "<class 'pandas.core.frame.DataFrame'>\n",
      "RangeIndex: 8773 entries, 0 to 8772\n",
      "Data columns (total 33 columns):\n",
      " #   Column               Non-Null Count  Dtype  \n",
      "---  ------               --------------  -----  \n",
      " 0   Unnamed: 0.3         8773 non-null   int64  \n",
      " 1   Unnamed: 0.2         8773 non-null   int64  \n",
      " 2   Unnamed: 0.1         8773 non-null   int64  \n",
      " 3   Unnamed: 0           8773 non-null   int64  \n",
      " 4   gvkey                8773 non-null   int64  \n",
      " 5   ticker               8773 non-null   object \n",
      " 6   total_sec            8773 non-null   float64\n",
      " 7   othcomp              8773 non-null   float64\n",
      " 8   noneq_incent         8773 non-null   float64\n",
      " 9   cash_fees            8773 non-null   float64\n",
      " 10  stock_awards         8773 non-null   float64\n",
      " 11  option_awards        8773 non-null   float64\n",
      " 12  spcode               8773 non-null   object \n",
      " 13  cusip                8773 non-null   object \n",
      " 14  coname               8773 non-null   object \n",
      " 15  year                 8773 non-null   int64  \n",
      " 16  total_director_comp  8773 non-null   float64\n",
      " 17  total_othcomp        8773 non-null   float64\n",
      " 18  total_noneq_incent   8773 non-null   float64\n",
      " 19  total_cash_fees      8773 non-null   float64\n",
      " 20  total_stock_awards   8773 non-null   float64\n",
      " 21  total_option_awards  8773 non-null   float64\n",
      " 22  mkvalt               6922 non-null   float64\n",
      " 23  size_category        6922 non-null   object \n",
      " 24  signature_index      8773 non-null   object \n",
      " 25  liquidity            3885 non-null   float64\n",
      " 26  net_income           3149 non-null   float64\n",
      " 27  num_employees        8699 non-null   float64\n",
      " 28  market_value         6829 non-null   float64\n",
      " 29  debt_to_equity       8757 non-null   float64\n",
      " 30  assets_in_place      7321 non-null   float64\n",
      " 31  capex_by_assets      3147 non-null   float64\n",
      " 32  return_on_equity     3149 non-null   float64\n",
      "dtypes: float64(21), int64(6), object(6)\n",
      "memory usage: 2.2+ MB\n"
     ]
    }
   ],
   "source": [
    "bod_df.info()"
   ]
  },
  {
   "cell_type": "code",
   "execution_count": 23,
   "id": "8996b0d7-814c-43db-a2ec-24d247f71d7c",
   "metadata": {},
   "outputs": [],
   "source": [
    "bod_df = bod_df[['total_director_comp', 'year','mkvalt','size_category','signature_index','net_income','num_employees','debt_to_equity','assets_in_place','capex_by_assets','return_on_equity']]"
   ]
  },
  {
   "cell_type": "code",
   "execution_count": 24,
   "id": "6e784ef7-7098-4efa-aec1-5c192bb60c06",
   "metadata": {},
   "outputs": [],
   "source": [
    "ceo_df.to_csv('./input_data_clean/romoCEO_DF.csv')\n",
    "bod_df.to_csv('./input_data_clean/romoBOD_DF.csv')"
   ]
  },
  {
   "cell_type": "code",
   "execution_count": null,
   "id": "2e9d5be8-f035-49d1-852b-11baf092ab0d",
   "metadata": {},
   "outputs": [],
   "source": []
  },
  {
   "cell_type": "code",
   "execution_count": null,
   "id": "a6f5f947-5935-4e24-82e4-e5246645bc38",
   "metadata": {},
   "outputs": [],
   "source": []
  },
  {
   "cell_type": "code",
   "execution_count": null,
   "id": "90d77c03-a7d1-4722-80ec-94dad548d4d2",
   "metadata": {},
   "outputs": [],
   "source": []
  },
  {
   "cell_type": "code",
   "execution_count": null,
   "id": "4a7f3ae6-4eed-41d7-a61f-a86905c3567a",
   "metadata": {},
   "outputs": [],
   "source": []
  },
  {
   "cell_type": "code",
   "execution_count": null,
   "id": "8aaef3d7-4a4a-44d2-adaa-a89b05e1c000",
   "metadata": {},
   "outputs": [],
   "source": []
  },
  {
   "cell_type": "code",
   "execution_count": null,
   "id": "54893c3b-fefb-4e89-ae47-dd8ef99d02ec",
   "metadata": {},
   "outputs": [],
   "source": []
  },
  {
   "cell_type": "code",
   "execution_count": null,
   "id": "a8cd292f-605f-4b90-b924-802e041d507b",
   "metadata": {},
   "outputs": [],
   "source": []
  }
 ],
 "metadata": {
  "kernelspec": {
   "display_name": "Python 3 (ipykernel)",
   "language": "python",
   "name": "python3"
  },
  "language_info": {
   "codemirror_mode": {
    "name": "ipython",
    "version": 3
   },
   "file_extension": ".py",
   "mimetype": "text/x-python",
   "name": "python",
   "nbconvert_exporter": "python",
   "pygments_lexer": "ipython3",
   "version": "3.9.12"
  }
 },
 "nbformat": 4,
 "nbformat_minor": 5
}
