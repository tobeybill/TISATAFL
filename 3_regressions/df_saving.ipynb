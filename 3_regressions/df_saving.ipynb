{
 "cells": [
  {
   "cell_type": "code",
   "execution_count": 1,
   "id": "7c846c34-2af9-470b-9a58-df647927a9f7",
   "metadata": {},
   "outputs": [],
   "source": [
    "# This file creates the seperated df's that used to be in SAVED\n",
    "import pandas as pd\n",
    "import numpy as np"
   ]
  },
  {
   "cell_type": "code",
   "execution_count": 2,
   "id": "660b7a25-a0f6-4ff3-ad6c-86f9fbcccbc1",
   "metadata": {},
   "outputs": [],
   "source": [
    "ceo_df = pd.read_csv('../outputs/CEO_DF.csv')\n",
    "bod_df = pd.read_csv('../outputs/BOD_DF.csv')"
   ]
  },
  {
   "cell_type": "code",
   "execution_count": 3,
   "id": "9e90c5d9-27ac-4602-8605-cf9ae69b0d49",
   "metadata": {},
   "outputs": [],
   "source": [
    "small_ceo_df = ceo_df[ceo_df['size_category'] == 'Small']\n",
    "medium_ceo_df = ceo_df[ceo_df['size_category'] == 'Medium']\n",
    "large_ceo_df = ceo_df[ceo_df['size_category'] == 'Large']\n",
    "\n",
    "small_bod_df = bod_df[bod_df['size_category'] == 'Small']\n",
    "medium_bod_df = bod_df[bod_df['size_category'] == 'Medium']\n",
    "large_bod_df = bod_df[bod_df['size_category'] == 'Large']"
   ]
  },
  {
   "cell_type": "markdown",
   "id": "b423e464-aeca-4ea8-a60f-3c49091fefdc",
   "metadata": {},
   "source": [
    "GitHub/FIN377GH/TISATAFL/AnalysisAndRegressions/Saved_dfs"
   ]
  },
  {
   "cell_type": "code",
   "execution_count": 4,
   "id": "69fec767-8e8e-42c7-9d8f-26604d5f53b8",
   "metadata": {},
   "outputs": [],
   "source": [
    "small_ceo_df.to_csv('Saved_dfs/small_ceo_df.csv', index=False)\n",
    "medium_ceo_df.to_csv('Saved_dfs/medium_ceo_df.csv', index=False)\n",
    "large_ceo_df.to_csv('Saved_dfs/large_ceo_df.csv', index=False)\n",
    "small_bod_df.to_csv('Saved_dfs/small_bod_df.csv', index=False)\n",
    "medium_bod_df.to_csv('Saved_dfs/medium_bod_df.csv', index=False)\n",
    "large_bod_df.to_csv('Saved_dfs/large_bod_df.csv', index=False)"
   ]
  }
 ],
 "metadata": {
  "kernelspec": {
   "display_name": "Python 3 (ipykernel)",
   "language": "python",
   "name": "python3"
  },
  "language_info": {
   "codemirror_mode": {
    "name": "ipython",
    "version": 3
   },
   "file_extension": ".py",
   "mimetype": "text/x-python",
   "name": "python",
   "nbconvert_exporter": "python",
   "pygments_lexer": "ipython3",
   "version": "3.9.12"
  }
 },
 "nbformat": 4,
 "nbformat_minor": 5
}
