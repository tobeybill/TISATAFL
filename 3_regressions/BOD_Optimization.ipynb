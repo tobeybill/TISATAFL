{
 "cells": [
  {
   "cell_type": "code",
   "execution_count": 1,
   "id": "f033e8ad-a5f7-46fd-b8d2-7e32a7b8aa1a",
   "metadata": {},
   "outputs": [],
   "source": [
    "from ydata_profiling import ProfileReport\n",
    "import pandas as pd\n",
    "import numpy as np\n",
    "import pandas_datareader as pdr  # to install: !pip install pandas_datareader\n",
    "from datetime import datetime\n",
    "import numpy as np\n",
    "import seaborn as sns\n",
    "import matplotlib.pyplot as plt\n",
    "from statsmodels.formula.api import ols as sm_ols\n",
    "from statsmodels.iolib.summary2 import summary_col # nicer tables\n",
    "from sklearn.model_selection import train_test_split\n",
    "from sklearn import set_config\n",
    "from sklearn.calibration import CalibrationDisplay\n",
    "from sklearn.compose import ColumnTransformer, make_column_selector, make_column_transformer\n",
    "from sklearn.impute import SimpleImputer\n",
    "from sklearn.linear_model import LogisticRegression\n",
    "from sklearn.metrics import ConfusionMatrixDisplay,DetCurveDisplay,PrecisionRecallDisplay,RocCurveDisplay,classification_report,r2_score\n",
    "from sklearn.model_selection import GridSearchCV,KFold,cross_validate,train_test_split\n",
    "from df_after_transform import df_after_transform\n",
    "from sklearn.pipeline import make_pipeline, Pipeline\n",
    "from sklearn.preprocessing import OneHotEncoder, StandardScaler, LabelEncoder\n",
    "from sklearn.linear_model import Lasso, Ridge\n",
    "from sklearn.feature_selection import SelectKBest, f_classif, VarianceThreshold\n",
    "set_config(display=\"diagram\")"
   ]
  },
  {
   "cell_type": "code",
   "execution_count": 2,
   "id": "ce84ab32-434d-4bf8-b8d5-dc7f35b2e516",
   "metadata": {},
   "outputs": [],
   "source": [
    "ceo_df = pd.read_csv('./input_data_clean/CEO_DF.csv')\n",
    "bod_df = pd.read_csv('./input_data_clean/BOD_DF.csv')\n",
    "firms_df = pd.read_csv('./input_data_clean/FIRMS.csv')"
   ]
  },
  {
   "cell_type": "code",
   "execution_count": 3,
   "id": "e3581c21-f6af-46e1-934a-d70b483259bb",
   "metadata": {},
   "outputs": [],
   "source": [
    "small_bod_df = bod_df[bod_df['size_category'] == 'Small']\n",
    "medium_bod_df = bod_df[bod_df['size_category'] == 'Medium']\n",
    "large_bod_df = bod_df[bod_df['size_category'] == 'Large']\n"
   ]
  },
  {
   "cell_type": "code",
   "execution_count": 4,
   "id": "66ffec57-d0b4-42c9-b98c-6be2b54cab83",
   "metadata": {},
   "outputs": [
    {
     "data": {
      "text/html": [
       "<div>\n",
       "<style scoped>\n",
       "    .dataframe tbody tr th:only-of-type {\n",
       "        vertical-align: middle;\n",
       "    }\n",
       "\n",
       "    .dataframe tbody tr th {\n",
       "        vertical-align: top;\n",
       "    }\n",
       "\n",
       "    .dataframe thead th {\n",
       "        text-align: right;\n",
       "    }\n",
       "</style>\n",
       "<table border=\"1\" class=\"dataframe\">\n",
       "  <thead>\n",
       "    <tr style=\"text-align: right;\">\n",
       "      <th></th>\n",
       "      <th>Unnamed: 0.3</th>\n",
       "      <th>Unnamed: 0.2</th>\n",
       "      <th>Unnamed: 0.1</th>\n",
       "      <th>Unnamed: 0</th>\n",
       "      <th>gvkey</th>\n",
       "      <th>total_sec</th>\n",
       "      <th>othcomp</th>\n",
       "      <th>noneq_incent</th>\n",
       "      <th>cash_fees</th>\n",
       "      <th>stock_awards</th>\n",
       "      <th>...</th>\n",
       "      <th>total_option_awards</th>\n",
       "      <th>mkvalt</th>\n",
       "      <th>liquidity</th>\n",
       "      <th>net_income</th>\n",
       "      <th>num_employees</th>\n",
       "      <th>market_value</th>\n",
       "      <th>debt_to_equity</th>\n",
       "      <th>assets_in_place</th>\n",
       "      <th>capex_by_assets</th>\n",
       "      <th>return_on_equity</th>\n",
       "    </tr>\n",
       "  </thead>\n",
       "  <tbody>\n",
       "    <tr>\n",
       "      <th>count</th>\n",
       "      <td>1695.000000</td>\n",
       "      <td>1695.000000</td>\n",
       "      <td>1695.000000</td>\n",
       "      <td>1695.000000</td>\n",
       "      <td>1695.000000</td>\n",
       "      <td>1695.000000</td>\n",
       "      <td>1695.000000</td>\n",
       "      <td>1695.000000</td>\n",
       "      <td>1695.000000</td>\n",
       "      <td>1695.000000</td>\n",
       "      <td>...</td>\n",
       "      <td>1695.000000</td>\n",
       "      <td>1695.000000</td>\n",
       "      <td>962.000000</td>\n",
       "      <td>863.000000</td>\n",
       "      <td>1678.000000</td>\n",
       "      <td>1483.000000</td>\n",
       "      <td>1691.000000</td>\n",
       "      <td>1471.000000</td>\n",
       "      <td>862.000000</td>\n",
       "      <td>863.000000</td>\n",
       "    </tr>\n",
       "    <tr>\n",
       "      <th>mean</th>\n",
       "      <td>5208.500295</td>\n",
       "      <td>5208.500295</td>\n",
       "      <td>5208.500295</td>\n",
       "      <td>5208.500295</td>\n",
       "      <td>69404.182301</td>\n",
       "      <td>255.951124</td>\n",
       "      <td>13.798124</td>\n",
       "      <td>0.089735</td>\n",
       "      <td>88.760503</td>\n",
       "      <td>137.873509</td>\n",
       "      <td>...</td>\n",
       "      <td>197.800002</td>\n",
       "      <td>6584.102963</td>\n",
       "      <td>0.185680</td>\n",
       "      <td>226.071825</td>\n",
       "      <td>11.132241</td>\n",
       "      <td>5763.166202</td>\n",
       "      <td>1.970995</td>\n",
       "      <td>0.297067</td>\n",
       "      <td>0.042000</td>\n",
       "      <td>0.055908</td>\n",
       "    </tr>\n",
       "    <tr>\n",
       "      <th>std</th>\n",
       "      <td>2435.526633</td>\n",
       "      <td>2435.526633</td>\n",
       "      <td>2435.526633</td>\n",
       "      <td>2435.526633</td>\n",
       "      <td>69874.592257</td>\n",
       "      <td>304.621274</td>\n",
       "      <td>196.070712</td>\n",
       "      <td>2.168082</td>\n",
       "      <td>68.555513</td>\n",
       "      <td>190.559313</td>\n",
       "      <td>...</td>\n",
       "      <td>786.550712</td>\n",
       "      <td>2170.455107</td>\n",
       "      <td>0.176983</td>\n",
       "      <td>475.396554</td>\n",
       "      <td>22.918518</td>\n",
       "      <td>3195.470105</td>\n",
       "      <td>25.341185</td>\n",
       "      <td>0.351750</td>\n",
       "      <td>0.040841</td>\n",
       "      <td>0.096929</td>\n",
       "    </tr>\n",
       "    <tr>\n",
       "      <th>min</th>\n",
       "      <td>0.000000</td>\n",
       "      <td>0.000000</td>\n",
       "      <td>0.000000</td>\n",
       "      <td>0.000000</td>\n",
       "      <td>1045.000000</td>\n",
       "      <td>0.000000</td>\n",
       "      <td>0.000000</td>\n",
       "      <td>0.000000</td>\n",
       "      <td>0.000000</td>\n",
       "      <td>0.000000</td>\n",
       "      <td>...</td>\n",
       "      <td>0.000000</td>\n",
       "      <td>62.891700</td>\n",
       "      <td>-0.394751</td>\n",
       "      <td>-6382.000000</td>\n",
       "      <td>0.052000</td>\n",
       "      <td>62.891700</td>\n",
       "      <td>-816.013699</td>\n",
       "      <td>0.000000</td>\n",
       "      <td>0.000272</td>\n",
       "      <td>-0.714971</td>\n",
       "    </tr>\n",
       "    <tr>\n",
       "      <th>25%</th>\n",
       "      <td>3382.000000</td>\n",
       "      <td>3382.000000</td>\n",
       "      <td>3382.000000</td>\n",
       "      <td>3382.000000</td>\n",
       "      <td>10791.000000</td>\n",
       "      <td>182.534000</td>\n",
       "      <td>0.000000</td>\n",
       "      <td>0.000000</td>\n",
       "      <td>60.000000</td>\n",
       "      <td>75.014000</td>\n",
       "      <td>...</td>\n",
       "      <td>0.000000</td>\n",
       "      <td>5194.681300</td>\n",
       "      <td>0.049085</td>\n",
       "      <td>96.648500</td>\n",
       "      <td>1.667750</td>\n",
       "      <td>3634.795400</td>\n",
       "      <td>0.924945</td>\n",
       "      <td>0.022784</td>\n",
       "      <td>0.016283</td>\n",
       "      <td>0.026889</td>\n",
       "    </tr>\n",
       "    <tr>\n",
       "      <th>50%</th>\n",
       "      <td>5326.000000</td>\n",
       "      <td>5326.000000</td>\n",
       "      <td>5326.000000</td>\n",
       "      <td>5326.000000</td>\n",
       "      <td>28742.000000</td>\n",
       "      <td>222.006000</td>\n",
       "      <td>0.000000</td>\n",
       "      <td>0.000000</td>\n",
       "      <td>86.000000</td>\n",
       "      <td>114.000000</td>\n",
       "      <td>...</td>\n",
       "      <td>0.000000</td>\n",
       "      <td>7017.656600</td>\n",
       "      <td>0.162169</td>\n",
       "      <td>209.238000</td>\n",
       "      <td>6.000000</td>\n",
       "      <td>5270.226100</td>\n",
       "      <td>1.716578</td>\n",
       "      <td>0.166509</td>\n",
       "      <td>0.030069</td>\n",
       "      <td>0.061015</td>\n",
       "    </tr>\n",
       "    <tr>\n",
       "      <th>75%</th>\n",
       "      <td>7599.000000</td>\n",
       "      <td>7599.000000</td>\n",
       "      <td>7599.000000</td>\n",
       "      <td>7599.000000</td>\n",
       "      <td>150937.000000</td>\n",
       "      <td>279.967000</td>\n",
       "      <td>0.000000</td>\n",
       "      <td>0.000000</td>\n",
       "      <td>110.875000</td>\n",
       "      <td>159.972000</td>\n",
       "      <td>...</td>\n",
       "      <td>171.216000</td>\n",
       "      <td>8379.176000</td>\n",
       "      <td>0.283026</td>\n",
       "      <td>365.007000</td>\n",
       "      <td>11.245000</td>\n",
       "      <td>7537.069700</td>\n",
       "      <td>4.574117</td>\n",
       "      <td>0.438989</td>\n",
       "      <td>0.054034</td>\n",
       "      <td>0.098968</td>\n",
       "    </tr>\n",
       "    <tr>\n",
       "      <th>max</th>\n",
       "      <td>8771.000000</td>\n",
       "      <td>8771.000000</td>\n",
       "      <td>8771.000000</td>\n",
       "      <td>8771.000000</td>\n",
       "      <td>316056.000000</td>\n",
       "      <td>7733.603000</td>\n",
       "      <td>7688.890000</td>\n",
       "      <td>78.000000</td>\n",
       "      <td>941.186000</td>\n",
       "      <td>2575.027000</td>\n",
       "      <td>...</td>\n",
       "      <td>11948.963000</td>\n",
       "      <td>9984.534800</td>\n",
       "      <td>0.744295</td>\n",
       "      <td>2748.800000</td>\n",
       "      <td>236.100000</td>\n",
       "      <td>39174.120000</td>\n",
       "      <td>124.827692</td>\n",
       "      <td>2.075980</td>\n",
       "      <td>0.467642</td>\n",
       "      <td>0.340002</td>\n",
       "    </tr>\n",
       "  </tbody>\n",
       "</table>\n",
       "<p>8 rows × 27 columns</p>\n",
       "</div>"
      ],
      "text/plain": [
       "       Unnamed: 0.3  Unnamed: 0.2  Unnamed: 0.1   Unnamed: 0          gvkey  \\\n",
       "count   1695.000000   1695.000000   1695.000000  1695.000000    1695.000000   \n",
       "mean    5208.500295   5208.500295   5208.500295  5208.500295   69404.182301   \n",
       "std     2435.526633   2435.526633   2435.526633  2435.526633   69874.592257   \n",
       "min        0.000000      0.000000      0.000000     0.000000    1045.000000   \n",
       "25%     3382.000000   3382.000000   3382.000000  3382.000000   10791.000000   \n",
       "50%     5326.000000   5326.000000   5326.000000  5326.000000   28742.000000   \n",
       "75%     7599.000000   7599.000000   7599.000000  7599.000000  150937.000000   \n",
       "max     8771.000000   8771.000000   8771.000000  8771.000000  316056.000000   \n",
       "\n",
       "         total_sec      othcomp  noneq_incent    cash_fees  stock_awards  ...  \\\n",
       "count  1695.000000  1695.000000   1695.000000  1695.000000   1695.000000  ...   \n",
       "mean    255.951124    13.798124      0.089735    88.760503    137.873509  ...   \n",
       "std     304.621274   196.070712      2.168082    68.555513    190.559313  ...   \n",
       "min       0.000000     0.000000      0.000000     0.000000      0.000000  ...   \n",
       "25%     182.534000     0.000000      0.000000    60.000000     75.014000  ...   \n",
       "50%     222.006000     0.000000      0.000000    86.000000    114.000000  ...   \n",
       "75%     279.967000     0.000000      0.000000   110.875000    159.972000  ...   \n",
       "max    7733.603000  7688.890000     78.000000   941.186000   2575.027000  ...   \n",
       "\n",
       "       total_option_awards       mkvalt   liquidity   net_income  \\\n",
       "count          1695.000000  1695.000000  962.000000   863.000000   \n",
       "mean            197.800002  6584.102963    0.185680   226.071825   \n",
       "std             786.550712  2170.455107    0.176983   475.396554   \n",
       "min               0.000000    62.891700   -0.394751 -6382.000000   \n",
       "25%               0.000000  5194.681300    0.049085    96.648500   \n",
       "50%               0.000000  7017.656600    0.162169   209.238000   \n",
       "75%             171.216000  8379.176000    0.283026   365.007000   \n",
       "max           11948.963000  9984.534800    0.744295  2748.800000   \n",
       "\n",
       "       num_employees  market_value  debt_to_equity  assets_in_place  \\\n",
       "count    1678.000000   1483.000000     1691.000000      1471.000000   \n",
       "mean       11.132241   5763.166202        1.970995         0.297067   \n",
       "std        22.918518   3195.470105       25.341185         0.351750   \n",
       "min         0.052000     62.891700     -816.013699         0.000000   \n",
       "25%         1.667750   3634.795400        0.924945         0.022784   \n",
       "50%         6.000000   5270.226100        1.716578         0.166509   \n",
       "75%        11.245000   7537.069700        4.574117         0.438989   \n",
       "max       236.100000  39174.120000      124.827692         2.075980   \n",
       "\n",
       "       capex_by_assets  return_on_equity  \n",
       "count       862.000000        863.000000  \n",
       "mean          0.042000          0.055908  \n",
       "std           0.040841          0.096929  \n",
       "min           0.000272         -0.714971  \n",
       "25%           0.016283          0.026889  \n",
       "50%           0.030069          0.061015  \n",
       "75%           0.054034          0.098968  \n",
       "max           0.467642          0.340002  \n",
       "\n",
       "[8 rows x 27 columns]"
      ]
     },
     "execution_count": 4,
     "metadata": {},
     "output_type": "execute_result"
    }
   ],
   "source": [
    "small_bod_df.describe()\n"
   ]
  },
  {
   "cell_type": "code",
   "execution_count": 49,
   "id": "bcd05fee-436e-4cfe-83f8-e758624d3a8e",
   "metadata": {},
   "outputs": [
    {
     "name": "stderr",
     "output_type": "stream",
     "text": [
      "/var/folders/29/vl12lkgs28xgjpc6t0_jg9040000gn/T/ipykernel_1433/50756253.py:2: SettingWithCopyWarning: \n",
      "A value is trying to be set on a copy of a slice from a DataFrame\n",
      "\n",
      "See the caveats in the documentation: https://pandas.pydata.org/pandas-docs/stable/user_guide/indexing.html#returning-a-view-versus-a-copy\n",
      "  df.drop(['Unnamed: 0', 'Unnamed: 0.1', 'Unnamed: 0.3', 'Unnamed: 0.2', 'gvkey', 'total_sec'], axis=1, inplace=True)\n",
      "/var/folders/29/vl12lkgs28xgjpc6t0_jg9040000gn/T/ipykernel_1433/50756253.py:9: SettingWithCopyWarning: \n",
      "A value is trying to be set on a copy of a slice from a DataFrame.\n",
      "Try using .loc[row_indexer,col_indexer] = value instead\n",
      "\n",
      "See the caveats in the documentation: https://pandas.pydata.org/pandas-docs/stable/user_guide/indexing.html#returning-a-view-versus-a-copy\n",
      "  train_mask['year'] = train_mask['year'] - 1\n"
     ]
    }
   ],
   "source": [
    "df = large_bod_df\n",
    "df.drop(['Unnamed: 0', 'Unnamed: 0.1', 'Unnamed: 0.3', 'Unnamed: 0.2', 'gvkey', 'total_sec'], axis=1, inplace=True)\n",
    "\n",
    "# Create boolean masks for the train and holdout periods\n",
    "train_mask = df.loc[(df['year'] >= 2010) & (df['year'] <= 2016)]\n",
    "holdout_mask = df.loc[(df['year'] >= 2017) & (df['year'] <= 2019)]\n",
    "\n",
    "y = np.log(train_mask.total_director_comp)\n",
    "train_mask['year'] = train_mask['year'] - 1\n",
    "X = train_mask.drop('total_director_comp', axis=1)\n",
    "\n",
    "VarY = holdout_mask[['signature_index', 'total_director_comp']]\n",
    "VarY.to_csv('./Saved/large_bod_df.csv', index=False)\n",
    "\n",
    "holdout_set = holdout_mask\n",
    "holdout_X = holdout_set.drop(['signature_index', 'total_director_comp'], axis=1)\n",
    "holdout_X['year'] = holdout_X['year'] - 1\n",
    "\n",
    "rng = np.random.RandomState(0)\n",
    "X_train, X_test, y_train, y_test = train_test_split(X, y, random_state=rng)\n",
    "\n",
    "missing_cols = set(X_train.columns) - set(holdout_X.columns)\n",
    "for col in missing_cols:\n",
    "    holdout_X[col] = 0\n",
    "holdout_X = holdout_X[X_train.columns]"
   ]
  },
  {
   "cell_type": "code",
   "execution_count": 50,
   "id": "ec6fb926-a8c1-446e-ac95-e53560785023",
   "metadata": {},
   "outputs": [],
   "source": [
    "cv = KFold(10)"
   ]
  },
  {
   "cell_type": "code",
   "execution_count": 51,
   "id": "d205deff-0b82-48ee-b18f-351982a430c1",
   "metadata": {},
   "outputs": [],
   "source": [
    "numer_pipe = make_pipeline(SimpleImputer(strategy=\"mean\"), StandardScaler())\n",
    "cat_pipe = make_pipeline(OneHotEncoder())\n",
    "\n",
    "preproc_pipe = make_column_transformer(\n",
    "    (numer_pipe, make_column_selector(dtype_include=np.number)),\n",
    "    remainder=\"drop\",\n",
    ")\n",
    "# pipe = Pipeline([('columntransformer',preproc_pipe),\n",
    "#                  ('feature_select',SelectKBest()), \n",
    "#                  ('clf', Ridge())\n",
    "#                 ])\n",
    "\n",
    "ridge_pipe = Pipeline([\n",
    "    ('preprocessor', preproc_pipe),\n",
    "    ('ridge', Ridge())\n",
    "])"
   ]
  },
  {
   "cell_type": "code",
   "execution_count": 52,
   "id": "262fd4e2-07f4-4de4-9e18-83b1e3efd061",
   "metadata": {},
   "outputs": [],
   "source": [
    "y_train = y_train.replace(-np.inf, 0)"
   ]
  },
  {
   "cell_type": "code",
   "execution_count": 53,
   "id": "65f6b89e-2b31-4d0c-b8de-2b3ae83a9107",
   "metadata": {},
   "outputs": [
    {
     "data": {
      "text/plain": [
       "count    105.000000\n",
       "mean       7.549506\n",
       "std        1.604419\n",
       "min        0.000000\n",
       "25%        7.745731\n",
       "50%        7.944541\n",
       "75%        8.429490\n",
       "max        8.836641\n",
       "Name: total_director_comp, dtype: float64"
      ]
     },
     "execution_count": 53,
     "metadata": {},
     "output_type": "execute_result"
    }
   ],
   "source": [
    "y_train.describe()"
   ]
  },
  {
   "cell_type": "code",
   "execution_count": 59,
   "id": "a00d06a7-2d8d-4789-9241-8eca7d842617",
   "metadata": {},
   "outputs": [],
   "source": [
    "alphas = list(np.linspace(0, 5, 25))\n",
    "parameters = {'ridge__alpha': alphas}\n",
    "\n",
    "grid_search = GridSearchCV(estimator=ridge_pipe, \n",
    "                           param_grid=parameters,\n",
    "                           cv=cv,\n",
    "                           scoring='r2',\n",
    "                           error_score='raise')\n",
    "\n",
    "results = grid_search.fit(X_train, y_train)"
   ]
  },
  {
   "cell_type": "code",
   "execution_count": 60,
   "id": "1fd02919-a1a7-4848-b17d-d457aa76e030",
   "metadata": {},
   "outputs": [
    {
     "data": {
      "text/plain": [
       "<AxesSubplot:title={'center':'CV score by alpha'}, xlabel='alpha'>"
      ]
     },
     "execution_count": 60,
     "metadata": {},
     "output_type": "execute_result"
    },
    {
     "data": {
      "image/png": "[encoded data removed]",
      "text/plain": [
       "<Figure size 640x480 with 1 Axes>"
      ]
     },
     "metadata": {},
     "output_type": "display_data"
    }
   ],
   "source": [
    "results_df = pd.DataFrame(results.cv_results_).set_index('params')\n",
    "results_df['alpha'] = [c['ridge__alpha'] for c in results_df.index]\n",
    "results_df = results_df.sort_values('alpha')\n",
    "results_df.plot(x='alpha', y='mean_test_score', kind='line', title='CV score by alpha')"
   ]
  },
  {
   "cell_type": "code",
   "execution_count": 56,
   "id": "afcccb1d-42f9-4366-926e-2a15817ac36f",
   "metadata": {},
   "outputs": [
    {
     "data": {
      "text/plain": [
       "<AxesSubplot:title={'center':'CV score by alpha'}, xlabel='alpha'>"
      ]
     },
     "execution_count": 56,
     "metadata": {},
     "output_type": "execute_result"
    },
    {
     "data": {
      "image/png": "[encoded data removed]",
      "text/plain": [
       "<Figure size 640x480 with 1 Axes>"
      ]
     },
     "metadata": {},
     "output_type": "display_data"
    }
   ],
   "source": [
    "alphas = list(np.linspace(,20))\n",
    "parameters = {'ridge__alpha': alphas}\n",
    "\n",
    "grid_search = GridSearchCV(estimator=ridge_pipe, \n",
    "                           param_grid=parameters,\n",
    "                           cv=cv,\n",
    "                           scoring='r2')\n",
    "\n",
    "results = grid_search.fit(X_train, y_train)\n",
    "\n",
    "results_df = pd.DataFrame(results.cv_results_).set_index('params')\n",
    "# extract alpha from the params variable\n",
    "results_df['alpha'] = [c['ridge__alpha'] for c in results_df.index]\n",
    "results_df = results_df.sort_values('alpha')\n",
    "results_df.plot(x='alpha',y='mean_test_score',kind='line',\n",
    "                title='CV score by alpha')"
   ]
  },
  {
   "cell_type": "code",
   "execution_count": null,
   "id": "7928e61c-328a-472d-98d8-a0d211730115",
   "metadata": {},
   "outputs": [],
   "source": []
  },
  {
   "cell_type": "code",
   "execution_count": 61,
   "id": "88be8aa2-f604-4a26-9e25-c2c6b241e1b5",
   "metadata": {
    "tags": []
   },
   "outputs": [
    {
     "name": "stdout",
     "output_type": "stream",
     "text": [
      "The optimal ridge alpha is: 1.04167\n"
     ]
    }
   ],
   "source": [
    "best_alpha = results_df.query('rank_test_score == 1')['param_ridge__alpha'][0]\n",
    "print('The optimal ridge alpha is: %.5f' % best_alpha)"
   ]
  },
  {
   "cell_type": "code",
   "execution_count": 62,
   "id": "5ae5ab91-0d5b-4f0b-89e1-7e63e7108cfe",
   "metadata": {},
   "outputs": [
    {
     "name": "stdout",
     "output_type": "stream",
     "text": [
      "The mean test score for this alpha is: 0.00808\n"
     ]
    }
   ],
   "source": [
    "print('The mean test score for this alpha is: %.5f' % results_df.query('rank_test_score == 1')['mean_test_score'][0])"
   ]
  },
  {
   "cell_type": "code",
   "execution_count": 63,
   "id": "103f14ab-0cf8-4d3b-83b0-08a5b9a19511",
   "metadata": {},
   "outputs": [],
   "source": [
    "cv = KFold(10)\n",
    "\n",
    "numer_pipe = make_pipeline(SimpleImputer(strategy=\"mean\"), StandardScaler())\n",
    "\n",
    "cat_pipe = make_pipeline(OneHotEncoder())\n",
    "\n",
    "preproc_pipe = make_column_transformer(\n",
    "    (numer_pipe, make_column_selector(dtype_include=np.number)),\n",
    "    remainder=\"drop\",\n",
    ")\n"
   ]
  },
  {
   "cell_type": "code",
   "execution_count": 73,
   "id": "372c2551-7d88-4fc0-bda5-42e8348e52b0",
   "metadata": {
    "tags": []
   },
   "outputs": [],
   "source": [
    "import warnings\n",
    "\n",
    "# ignore the specific warning\n",
    "warnings.filterwarnings(\"ignore\", category=RuntimeWarning)\n",
    "from sklearn.feature_selection import SelectPercentile, f_regression\n",
    "\n",
    "pipe = Pipeline([('columntransformer',preproc_pipe),\n",
    "                 ('feature_select',SelectPercentile(score_func=f_regression)), \n",
    "                 ('clf', Ridge())\n",
    "                ])\n",
    "\n",
    "param_grid = {\n",
    "    # 'feature_select__percentile': [10, 20, 30, 40, 50, 60, 70, 80, 90],\n",
    "    # 'feature_select__percentile': [90, 91, 92, 93, 94, 95, 96, 97],\n",
    "    'feature_select__percentile': [77, 78, 79, 80, 81, 82, 83],\n",
    "    # 'feature_select__percentile': [57, 58, 59 ,60, 61, 62, 63, 64],\n",
    "    # 'feature_select__percentile': [64, 65, 66, 67, 68, 69 ,70, 71],\n",
    "\n",
    "    # 'feature_select__percentile': [18, 19, 20, 21, 22, 23, 24, 25],\n",
    "    'clf__alpha': [0.0001, 0.0005, 0.001, 0.0002, 0.0003, 0.04, 0.05], \n",
    "\n",
    "    # 'clf__alpha': [18, 19, 20, 21, 22, 23, 24, 25], \n",
    "    # 'clf__alpha': [0.5, 0.75, 0.9, 1.23, 1.45, 1.57895, 1.7, 1.8],\n",
    "    # 'clf__alpha': [200, 205, 208, 210, 213, 215, 220, 225],\n",
    "    # 'clf__alpha': [234, 236, 237, 238, 239 ,240],\n",
    "    # 'clf__alpha': [120, 130, 140, 150, 160], \n",
    "    # 'clf__alpha': [114, 115, 116, 117, 118, 119, 120], \n",
    "    # 'clf__alpha': [50, 100, 150, 200, 250, 300], \n",
    "    # 'clf__alpha': [95, 96, 97, 98, 99, 100, 101, 102, 103, 104], \n",
    "\n",
    "    # 'clf__alpha': [186, 188, 190, 192, 194, 196], \n",
    "    # 'clf__alpha': [105, 107, 109, 111, 112, 113, 114, 115], \n",
    "    # 'clf__alpha': [14.5,15,15.5,16, 16.5, 17], \n",
    "    # 'clf__alpha': [47, 48, 49, 50, 51, 52, 53, 54], \n",
    "\n",
    "# \n",
    "\n",
    "}\n",
    "\n",
    "grid_search = GridSearchCV(estimator=pipe, \n",
    "                           param_grid=param_grid,\n",
    "                           cv=cv,\n",
    "                           scoring='r2',\n",
    "                           error_score='raise')\n",
    "\n",
    "results = grid_search.fit(X_train, y_train)\n"
   ]
  },
  {
   "cell_type": "code",
   "execution_count": 74,
   "id": "62baab7a-6c6f-4fcb-9b38-01feedfbd6b4",
   "metadata": {},
   "outputs": [
    {
     "data": {
      "text/html": [
       "<div>\n",
       "<style scoped>\n",
       "    .dataframe tbody tr th:only-of-type {\n",
       "        vertical-align: middle;\n",
       "    }\n",
       "\n",
       "    .dataframe tbody tr th {\n",
       "        vertical-align: top;\n",
       "    }\n",
       "\n",
       "    .dataframe thead th {\n",
       "        text-align: right;\n",
       "    }\n",
       "</style>\n",
       "<table border=\"1\" class=\"dataframe\">\n",
       "  <thead>\n",
       "    <tr style=\"text-align: right;\">\n",
       "      <th></th>\n",
       "      <th>params</th>\n",
       "      <th>mean_test_score</th>\n",
       "      <th>std_test_score</th>\n",
       "      <th>alpha</th>\n",
       "      <th>k</th>\n",
       "    </tr>\n",
       "  </thead>\n",
       "  <tbody>\n",
       "    <tr>\n",
       "      <th>0</th>\n",
       "      <td>{'clf__alpha': 0.0001, 'feature_select__percen...</td>\n",
       "      <td>0.174510</td>\n",
       "      <td>1.171496</td>\n",
       "      <td>0.0001</td>\n",
       "      <td>77</td>\n",
       "    </tr>\n",
       "    <tr>\n",
       "      <th>1</th>\n",
       "      <td>{'clf__alpha': 0.0001, 'feature_select__percen...</td>\n",
       "      <td>0.174510</td>\n",
       "      <td>1.171496</td>\n",
       "      <td>0.0001</td>\n",
       "      <td>78</td>\n",
       "    </tr>\n",
       "    <tr>\n",
       "      <th>2</th>\n",
       "      <td>{'clf__alpha': 0.0001, 'feature_select__percen...</td>\n",
       "      <td>0.227747</td>\n",
       "      <td>0.993819</td>\n",
       "      <td>0.0001</td>\n",
       "      <td>79</td>\n",
       "    </tr>\n",
       "    <tr>\n",
       "      <th>3</th>\n",
       "      <td>{'clf__alpha': 0.0001, 'feature_select__percen...</td>\n",
       "      <td>0.227747</td>\n",
       "      <td>0.993819</td>\n",
       "      <td>0.0001</td>\n",
       "      <td>80</td>\n",
       "    </tr>\n",
       "    <tr>\n",
       "      <th>4</th>\n",
       "      <td>{'clf__alpha': 0.0001, 'feature_select__percen...</td>\n",
       "      <td>0.227747</td>\n",
       "      <td>0.993819</td>\n",
       "      <td>0.0001</td>\n",
       "      <td>81</td>\n",
       "    </tr>\n",
       "  </tbody>\n",
       "</table>\n",
       "</div>"
      ],
      "text/plain": [
       "                                              params  mean_test_score  \\\n",
       "0  {'clf__alpha': 0.0001, 'feature_select__percen...         0.174510   \n",
       "1  {'clf__alpha': 0.0001, 'feature_select__percen...         0.174510   \n",
       "2  {'clf__alpha': 0.0001, 'feature_select__percen...         0.227747   \n",
       "3  {'clf__alpha': 0.0001, 'feature_select__percen...         0.227747   \n",
       "4  {'clf__alpha': 0.0001, 'feature_select__percen...         0.227747   \n",
       "\n",
       "   std_test_score   alpha   k  \n",
       "0        1.171496  0.0001  77  \n",
       "1        1.171496  0.0001  78  \n",
       "2        0.993819  0.0001  79  \n",
       "3        0.993819  0.0001  80  \n",
       "4        0.993819  0.0001  81  "
      ]
     },
     "execution_count": 74,
     "metadata": {},
     "output_type": "execute_result"
    }
   ],
   "source": [
    "results_data = pd.DataFrame(results.cv_results_)\n",
    "results_data = results_data[['params','mean_test_score','std_test_score']]\n",
    "results_data['alpha'] = results_data['params'].apply(lambda x: x.get('clf__alpha'))\n",
    "results_data['k'] = results_data['params'].apply(lambda x: x.get('feature_select__percentile'))\n",
    "results_data.head()"
   ]
  },
  {
   "cell_type": "code",
   "execution_count": 75,
   "id": "cc205065-7286-4d0e-bd8d-0772bb28815b",
   "metadata": {},
   "outputs": [
    {
     "data": {
      "text/plain": [
       "Text(2    0.993819\n",
       "Name: std_test_score, dtype: float64, 2    0.227747\n",
       "Name: mean_test_score, dtype: float64, 'Best params: k=79, alpha=0.0001     ')"
      ]
     },
     "execution_count": 75,
     "metadata": {},
     "output_type": "execute_result"
    },
    {
     "data": {
      "image/png": "[encoded data removed]",
      "text/plain": [
       "<Figure size 640x480 with 1 Axes>"
      ]
     },
     "metadata": {},
     "output_type": "display_data"
    }
   ],
   "source": [
    "sns.scatterplot(data=results_data, x='std_test_score', y='mean_test_score')\n",
    "plt.xlabel('Standard deviation of test scores')\n",
    "plt.ylabel('Average test score')\n",
    "plt.title('Grid search results for k and alpha')\n",
    "\n",
    "best_params = grid_search.best_params_\n",
    "best_k = best_params['feature_select__percentile']\n",
    "best_alpha = best_params['clf__alpha']\n",
    "plt.scatter(x=results_data.loc[(results_data['k'] == best_k) \n",
    "                                       & (results_data['alpha'] == best_alpha),\n",
    "                                       'std_test_score'], \n",
    "            y=results_data.loc[(results_data['k'] == best_k) \n",
    "                                       & (results_data['alpha'] == best_alpha),\n",
    "                                       'mean_test_score'], color='red')\n",
    "plt.text(results_data.loc[(results_data['k'] == best_k) \n",
    "                                       & (results_data['alpha'] == best_alpha),\n",
    "                                       'std_test_score'],\n",
    "         results_data.loc[(results_data['k'] == best_k) \n",
    "                                & (results_data['alpha'] == best_alpha),\n",
    "                                'mean_test_score'], \n",
    "         f\"Best params: k={best_k}, alpha={best_alpha}     \", ha='right', va='center')"
   ]
  },
  {
   "cell_type": "code",
   "execution_count": 76,
   "id": "6081a4cf-5973-4990-90e5-2e0375e74721",
   "metadata": {},
   "outputs": [],
   "source": [
    "opt_pipe = make_pipeline(preproc_pipe, SelectPercentile(score_func=f_regression, percentile=best_k), Ridge(alpha=best_alpha))\n",
    "opt_pipe.fit(X_train, y_train)\n",
    "\n",
    "y_holdout_pred = opt_pipe.predict(holdout_X)\n",
    "\n",
    "# create a dataframe with the parcel ID and the predicted values\n",
    "df_out = pd.DataFrame({'signature_index': VarY['signature_index'], 'prediction': np.exp(y_holdout_pred) })\n",
    "# merged_df = pd.merge(VarY, df_out, on='signature_index')"
   ]
  },
  {
   "cell_type": "code",
   "execution_count": 77,
   "id": "2d616e03-ee0f-41c3-a384-8dcc8af4562b",
   "metadata": {},
   "outputs": [],
   "source": [
    "df_out.to_csv('./Saved/pred_large_bod_df.csv', index=False)"
   ]
  },
  {
   "cell_type": "code",
   "execution_count": null,
   "id": "244768d3-c1d3-4d00-a6f5-f85dd775d7a1",
   "metadata": {},
   "outputs": [],
   "source": []
  }
 ],
 "metadata": {
  "kernelspec": {
   "display_name": "Python 3 (ipykernel)",
   "language": "python",
   "name": "python3"
  },
  "language_info": {
   "codemirror_mode": {
    "name": "ipython",
    "version": 3
   },
   "file_extension": ".py",
   "mimetype": "text/x-python",
   "name": "python",
   "nbconvert_exporter": "python",
   "pygments_lexer": "ipython3",
   "version": "3.9.12"
  }
 },
 "nbformat": 4,
 "nbformat_minor": 5
}
