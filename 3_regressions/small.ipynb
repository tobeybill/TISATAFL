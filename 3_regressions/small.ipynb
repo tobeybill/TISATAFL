{
 "cells": [
  {
   "cell_type": "code",
   "execution_count": 1,
   "id": "cdeb9dd2-9d2a-4a20-aa9f-db6520721f07",
   "metadata": {},
   "outputs": [],
   "source": [
    "import pandas as pd\n",
    "import numpy as np\n",
    "from sklearn import set_config\n",
    "from sklearn.model_selection import train_test_split, KFold\n",
    "from sklearn.compose import ColumnTransformer, make_column_selector, make_column_transformer\n",
    "from sklearn.impute import SimpleImputer\n",
    "from df_after_transform import df_after_transform\n",
    "from sklearn.pipeline import make_pipeline, Pipeline\n",
    "from sklearn.preprocessing import OneHotEncoder, StandardScaler, LabelEncoder\n",
    "from sklearn.linear_model import Ridge\n",
    "from sklearn.feature_selection import SelectPercentile, f_regression\n",
    "set_config(display=\"diagram\")"
   ]
  },
  {
   "cell_type": "code",
   "execution_count": 2,
   "id": "8929684b-c08c-4b6b-b716-6902dc8295ed",
   "metadata": {},
   "outputs": [],
   "source": [
    "ceo_df = pd.read_csv('../outputs/CEO_DF.csv')\n",
    "bod_df = pd.read_csv('../outputs/BOD_DF.csv')\n",
    "\n",
    "small_ceo = ceo_df[ceo_df['size_category'] == 'Small']\n",
    "small_bod = bod_df[bod_df['size_category'] == 'Small']"
   ]
  },
  {
   "cell_type": "code",
   "execution_count": 3,
   "id": "06f9cd2c-06a9-47fd-9832-50b4e216bf64",
   "metadata": {},
   "outputs": [],
   "source": [
    "ceo_df = small_ceo\n",
    "ceo_df.drop(['GVKEY'], axis=1, inplace=True)\n",
    "ceo_df = ceo_df.rename(columns={'YEAR':'year', 'TDC1':'tdc1', 'GENDER':'gender'})"
   ]
  },
  {
   "cell_type": "code",
   "execution_count": 4,
   "id": "215b4ffa-93c6-4963-a93b-5e98dde9f648",
   "metadata": {},
   "outputs": [],
   "source": [
    "c_best_k = 96\n",
    "c_best_alpha = 0.01\n",
    "\n",
    "b_best_k = 79\n",
    "b_best_alpha = 202"
   ]
  },
  {
   "cell_type": "code",
   "execution_count": 5,
   "id": "c9459754-b31b-4381-bcbb-49afbc399f0b",
   "metadata": {},
   "outputs": [
    {
     "name": "stderr",
     "output_type": "stream",
     "text": [
      "/var/folders/h9/dl1xgx0x2jv7mqj5_8snyz600000gs/T/ipykernel_5845/3982057521.py:7: SettingWithCopyWarning: \n",
      "A value is trying to be set on a copy of a slice from a DataFrame.\n",
      "Try using .loc[row_indexer,col_indexer] = value instead\n",
      "\n",
      "See the caveats in the documentation: https://pandas.pydata.org/pandas-docs/stable/user_guide/indexing.html#returning-a-view-versus-a-copy\n",
      "  train_mask['year'] = train_mask['year'] - 1\n"
     ]
    }
   ],
   "source": [
    "# Small CEO regression\n",
    "# Create boolean masks for the train and holdout periods\n",
    "train_mask = ceo_df.loc[(ceo_df['year'] >= 2010) & (ceo_df['year'] <= 2016)]\n",
    "holdout_mask = ceo_df.loc[(ceo_df['year'] >= 2017) & (ceo_df['year'] <= 2019)]\n",
    "\n",
    "y = np.log(train_mask.tdc1)\n",
    "train_mask['year'] = train_mask['year'] - 1\n",
    "X = train_mask.drop('tdc1', axis=1)\n",
    "\n",
    "VarY = holdout_mask[['signature_index', 'tdc1']]\n",
    "VarY.to_csv('Saved_dfs/small_ceo_df.csv', index=False)\n",
    "\n",
    "holdout_set = holdout_mask\n",
    "holdout_X = holdout_set.drop(['signature_index', 'tdc1'], axis=1)\n",
    "holdout_X['year'] = holdout_X['year'] - 1\n",
    "\n",
    "rng = np.random.RandomState(0)\n",
    "X_train, X_test, y_train, y_test = train_test_split(X, y, random_state=rng)\n",
    "\n",
    "missing_cols = set(X_train.columns) - set(holdout_X.columns)\n",
    "for col in missing_cols:\n",
    "    holdout_X[col] = 0\n",
    "holdout_X = holdout_X[X_train.columns]"
   ]
  },
  {
   "cell_type": "code",
   "execution_count": 6,
   "id": "0140a302-526f-4e1a-ba1f-e0423020ea8e",
   "metadata": {},
   "outputs": [],
   "source": [
    "numer_pipe = make_pipeline(SimpleImputer(strategy=\"mean\"), StandardScaler())\n",
    "\n",
    "cat_pipe = make_pipeline(OneHotEncoder())\n",
    "\n",
    "preproc_pipe = make_column_transformer(\n",
    "    (numer_pipe, make_column_selector(dtype_include=np.number)),\n",
    "    (cat_pipe, ['gender']),\n",
    "    remainder=\"drop\",\n",
    ")"
   ]
  },
  {
   "cell_type": "code",
   "execution_count": 7,
   "id": "95629b4b-fbbc-42a0-b218-1ed4f51fabe6",
   "metadata": {},
   "outputs": [],
   "source": [
    "opt_pipe = make_pipeline(preproc_pipe, SelectPercentile(score_func=f_regression, percentile=c_best_k), Ridge(alpha=c_best_alpha))\n",
    "opt_pipe.fit(X_train, y_train)\n",
    "\n",
    "y_holdout_pred = opt_pipe.predict(holdout_X)\n",
    "\n",
    "df_out = pd.DataFrame({'signature_index': VarY['signature_index'], 'prediction': np.exp(y_holdout_pred) })\n",
    "df_out.to_csv('Saved_dfs/pred_small_ceo.csv', index=False)"
   ]
  },
  {
   "cell_type": "code",
   "execution_count": 8,
   "id": "3c0689cc-a07a-4af6-a6c3-fdaeccdd9c06",
   "metadata": {},
   "outputs": [],
   "source": [
    "bod_df = small_bod\n",
    "bod_df.drop(['GVKEY', 'TOTAL_SEC'], axis=1, inplace=True)\n",
    "bod_df = bod_df.rename(columns={'YEAR':'year'})"
   ]
  },
  {
   "cell_type": "code",
   "execution_count": 9,
   "id": "a961188a-36c8-4ada-a110-f2fcff4b0446",
   "metadata": {},
   "outputs": [],
   "source": [
    "# bod_df.columns"
   ]
  },
  {
   "cell_type": "code",
   "execution_count": 10,
   "id": "66dc4a85-d514-40fd-b148-995df7799b96",
   "metadata": {},
   "outputs": [
    {
     "name": "stderr",
     "output_type": "stream",
     "text": [
      "/Users/school/opt/anaconda3/lib/python3.9/site-packages/pandas/core/arraylike.py:397: RuntimeWarning: divide by zero encountered in log\n",
      "  result = getattr(ufunc, method)(*inputs, **kwargs)\n",
      "/var/folders/h9/dl1xgx0x2jv7mqj5_8snyz600000gs/T/ipykernel_5845/4233718774.py:7: SettingWithCopyWarning: \n",
      "A value is trying to be set on a copy of a slice from a DataFrame.\n",
      "Try using .loc[row_indexer,col_indexer] = value instead\n",
      "\n",
      "See the caveats in the documentation: https://pandas.pydata.org/pandas-docs/stable/user_guide/indexing.html#returning-a-view-versus-a-copy\n",
      "  train_mask['year'] = train_mask['year'] - 1\n"
     ]
    }
   ],
   "source": [
    "#small BOD regression\n",
    "# Create boolean masks for the train and holdout periods\n",
    "train_mask = bod_df.loc[(bod_df['year'] >= 2010) & (bod_df['year'] <= 2016)]\n",
    "holdout_mask = bod_df.loc[(bod_df['year'] >= 2017) & (bod_df['year'] <= 2019)]\n",
    "\n",
    "y = np.log(train_mask.total_director_comp)\n",
    "train_mask['year'] = train_mask['year'] - 1\n",
    "X = train_mask.drop('total_director_comp', axis=1)\n",
    "\n",
    "VarY = holdout_mask[['signature_index', 'total_director_comp']]\n",
    "VarY.to_csv('Saved_dfs/small_bod_df.csv', index=False)\n",
    "\n",
    "holdout_set = holdout_mask\n",
    "holdout_X = holdout_set.drop(['signature_index', 'total_director_comp'], axis=1)\n",
    "holdout_X['year'] = holdout_X['year'] - 1\n",
    "\n",
    "rng = np.random.RandomState(0)\n",
    "X_train, X_test, y_train, y_test = train_test_split(X, y, random_state=rng)\n",
    "\n",
    "missing_cols = set(X_train.columns) - set(holdout_X.columns)\n",
    "for col in missing_cols:\n",
    "    holdout_X[col] = 0\n",
    "holdout_X = holdout_X[X_train.columns]\n",
    "\n",
    "y_train = y_train.replace(-np.inf, 0)\n"
   ]
  },
  {
   "cell_type": "code",
   "execution_count": 11,
   "id": "6278baf0-7f14-4427-b394-2123c69c38a1",
   "metadata": {},
   "outputs": [],
   "source": [
    "numer_pipe = make_pipeline(SimpleImputer(strategy=\"mean\"), StandardScaler())\n",
    "\n",
    "cat_pipe = make_pipeline(OneHotEncoder())\n",
    "\n",
    "preproc_pipe = make_column_transformer(\n",
    "    (numer_pipe, make_column_selector(dtype_include=np.number)),\n",
    "    remainder=\"drop\",\n",
    ")\n"
   ]
  },
  {
   "cell_type": "code",
   "execution_count": 12,
   "id": "19e54bbe-4675-4c23-b83a-401d8131da40",
   "metadata": {},
   "outputs": [],
   "source": [
    "opt_pipe = make_pipeline(preproc_pipe, SelectPercentile(score_func=f_regression, percentile=b_best_k), Ridge(alpha=b_best_alpha))\n",
    "opt_pipe.fit(X_train, y_train)\n",
    "\n",
    "y_holdout_pred = opt_pipe.predict(holdout_X)\n",
    "\n",
    "# create a dataframe with the parcel ID and the predicted values\n",
    "df_out = pd.DataFrame({'signature_index': VarY['signature_index'], 'prediction': np.exp(y_holdout_pred) })\n",
    "# merged_df = pd.merge(VarY, df_out, on='signature_index')\n",
    "df_out.to_csv('Saved_dfs/pred_small_bod.csv', index=False)"
   ]
  }
 ],
 "metadata": {
  "kernelspec": {
   "display_name": "Python 3 (ipykernel)",
   "language": "python",
   "name": "python3"
  },
  "language_info": {
   "codemirror_mode": {
    "name": "ipython",
    "version": 3
   },
   "file_extension": ".py",
   "mimetype": "text/x-python",
   "name": "python",
   "nbconvert_exporter": "python",
   "pygments_lexer": "ipython3",
   "version": "3.9.15"
  }
 },
 "nbformat": 4,
 "nbformat_minor": 5
}
